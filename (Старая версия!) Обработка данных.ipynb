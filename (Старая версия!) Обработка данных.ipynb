{
  "cells": [
    {
      "cell_type": "code",
      "execution_count": 1,
      "id": "a4a37ce5-1882-44cb-b56f-91653976503a",
      "metadata": {
        "ExecuteTime": {
          "end_time": "2023-12-01T08:58:38.241966+00:00",
          "start_time": "2023-12-01T08:58:37.904631+00:00"
        },
        "jupyter": {
          "outputs_hidden": false,
          "source_hidden": false
        },
        "noteable": {
          "cell_type": "code",
          "output_collection_id": "b948e3f0-7965-46ed-a151-f4709f5c738f"
        }
      },
      "outputs": [],
      "source": [
        "import pandas as pd\n",
        "import matplotlib.pyplot as plt"
      ]
    },
    {
      "cell_type": "code",
      "execution_count": 2,
      "id": "f42b425f-76ef-4840-ae75-c4e28d67ce2a",
      "metadata": {
        "ExecuteTime": {
          "end_time": "2023-12-01T08:58:55.775546+00:00",
          "start_time": "2023-12-01T08:58:55.099840+00:00"
        },
        "datalink": {
          "71364403-40a7-478d-8a3a-4f7afbfbcd64": {
            "applied_filters": [],
            "dataframe_info": {
              "default_index_used": true,
              "orig_num_cols": 2,
              "orig_num_rows": 12,
              "orig_size_bytes": 288,
              "truncated_num_cols": 2,
              "truncated_num_rows": 12,
              "truncated_size_bytes": 288,
              "truncated_string_columns": []
            },
            "display_id": "71364403-40a7-478d-8a3a-4f7afbfbcd64",
            "dx_settings": {
              "ALLOW_NOTEABLE_ATTRS": true,
              "COLUMN_SAMPLING_METHOD": "outer",
              "DB_LOCATION": ":memory:",
              "DEV_MODE": false,
              "DISPLAY_MAX_COLUMNS": 100,
              "DISPLAY_MAX_ROWS": 50000,
              "DISPLAY_MODE": "simple",
              "ENABLE_ASSIGNMENT": true,
              "ENABLE_DATALINK": true,
              "FLATTEN_COLUMN_VALUES": true,
              "FLATTEN_INDEX_VALUES": false,
              "GENERATE_DEX_METADATA": false,
              "HTML_TABLE_SCHEMA": false,
              "LOG_LEVEL": 30,
              "MAX_RENDER_SIZE_BYTES": 104857600,
              "MAX_STRING_LENGTH": 250,
              "NUM_PAST_SAMPLES_TRACKED": 3,
              "RANDOM_STATE": 12648430,
              "RESET_INDEX_VALUES": false,
              "ROW_SAMPLING_METHOD": "random",
              "SAMPLING_FACTOR": 0.1,
              "SAMPLING_METHOD": "random",
              "STRINGIFY_COLUMN_VALUES": true,
              "STRINGIFY_INDEX_VALUES": false
            },
            "sample_history": [],
            "sampling_time": "2023-11-29T20:46:56.282592",
            "user_variable_name": null,
            "variable_name": "unk_dataframe_bbaabfb9baee4d19bcff8a9890c9e086"
          },
          "cb161be0-af40-4624-b767-e3e3c25b06ef": {
            "applied_filters": [],
            "dataframe_info": {
              "default_index_used": true,
              "orig_num_cols": 26,
              "orig_num_rows": 500000,
              "orig_size_bytes": 108000000,
              "truncated_num_cols": 26,
              "truncated_num_rows": 45000,
              "truncated_size_bytes": 9720000,
              "truncated_string_columns": [
                "topic_id",
                "resume_skills_list",
                "vacancy_skills_list"
              ]
            },
            "display_id": "cb161be0-af40-4624-b767-e3e3c25b06ef",
            "dx_settings": {
              "ALLOW_NOTEABLE_ATTRS": true,
              "COLUMN_SAMPLING_METHOD": "outer",
              "DB_LOCATION": ":memory:",
              "DEV_MODE": false,
              "DISPLAY_MAX_COLUMNS": 100,
              "DISPLAY_MAX_ROWS": 50000,
              "DISPLAY_MODE": "simple",
              "ENABLE_ASSIGNMENT": true,
              "ENABLE_DATALINK": true,
              "FLATTEN_COLUMN_VALUES": true,
              "FLATTEN_INDEX_VALUES": false,
              "GENERATE_DEX_METADATA": false,
              "HTML_TABLE_SCHEMA": false,
              "LOG_LEVEL": 30,
              "MAX_RENDER_SIZE_BYTES": 104857600,
              "MAX_STRING_LENGTH": 250,
              "NUM_PAST_SAMPLES_TRACKED": 3,
              "RANDOM_STATE": 12648430,
              "RESET_INDEX_VALUES": false,
              "ROW_SAMPLING_METHOD": "random",
              "SAMPLING_FACTOR": 0.1,
              "SAMPLING_METHOD": "random",
              "STRINGIFY_COLUMN_VALUES": true,
              "STRINGIFY_INDEX_VALUES": false
            },
            "sample_history": [],
            "sampling_time": "2023-11-29T21:06:02.985652",
            "user_variable_name": null,
            "variable_name": "unk_dataframe_1876b89a3e334f1e949eaff6145e8684"
          }
        },
        "jupyter": {
          "outputs_hidden": false,
          "source_hidden": false
        },
        "noteable": {
          "cell_type": "code",
          "output_collection_id": "55d3a3cd-f12d-47bc-a312-638be999c956"
        }
      },
      "outputs": [],
      "source": [
        "df = pd.read_csv(r'hh_ru_dataset.csv')"
      ]
    },
    {
      "cell_type": "code",
      "execution_count": 3,
      "id": "c6cb686d-9e17-43b8-beb1-816123728898",
      "metadata": {
        "ExecuteTime": {
          "end_time": "2023-11-30T18:23:18.799974+00:00",
          "start_time": "2023-11-30T18:23:18.446537+00:00"
        },
        "jupyter": {
          "outputs_hidden": false,
          "source_hidden": false
        },
        "noteable": {
          "cell_type": "code",
          "output_collection_id": "5cd1314d-4958-46bb-8d36-d5c35be8827a"
        }
      },
      "outputs": [],
      "source": [
        "df.info()"
      ]
    },
    {
      "cell_type": "code",
      "execution_count": 4,
      "id": "39673b25-2d8c-48a0-a383-dd330c74ff35",
      "metadata": {
        "ExecuteTime": {
          "end_time": "2023-11-30T17:00:13.783161+00:00",
          "start_time": "2023-11-30T17:00:13.563932+00:00"
        },
        "jupyter": {
          "outputs_hidden": false,
          "source_hidden": false
        },
        "noteable": {
          "cell_type": "code",
          "output_collection_id": "5444dbf7-2805-46f2-86bd-cc61c3e731e9"
        }
      },
      "outputs": [],
      "source": [
        "df_cleared = df.copy()"
      ]
    },
    {
      "cell_type": "code",
      "execution_count": 5,
      "id": "90e0dbb8-9680-4c64-912d-e571e88154c1",
      "metadata": {
        "ExecuteTime": {
          "end_time": "2023-11-30T17:00:15.055049+00:00",
          "start_time": "2023-11-30T17:00:14.775193+00:00"
        },
        "jupyter": {
          "outputs_hidden": false,
          "source_hidden": false
        },
        "noteable": {
          "cell_type": "code",
          "output_collection_id": "087c00cc-be5d-4238-99ed-60e43fd1e852"
        }
      },
      "outputs": [],
      "source": [
        "df_cleared = df_cleared[(df_cleared['year_of_birth'] >= 1953) &\n",
        "                        (df_cleared['year_of_birth'] <= 2005)]\n",
        "len(df_cleared)"
      ]
    },
    {
      "cell_type": "code",
      "execution_count": 6,
      "id": "a1b6bd48-b85d-40ed-b853-24bc1896345c",
      "metadata": {
        "ExecuteTime": {
          "end_time": "2023-11-30T17:00:17.628722+00:00",
          "start_time": "2023-11-30T17:00:17.016934+00:00"
        },
        "jupyter": {
          "outputs_hidden": false,
          "source_hidden": false
        },
        "noteable": {
          "cell_type": "code",
          "output_collection_id": "ff9ef7df-73ec-4fe6-8669-17bec594402f"
        }
      },
      "outputs": [],
      "source": [
        "df_cleared = df_cleared.drop_duplicates(['topic_id'])\n",
        "df_cleared = df_cleared[-((df.initial_state == 'discard') & (df.final_state == 'discard'))]\n",
        "df_cleared = df_cleared[df.compensation_from <= df.compensation_to]\n",
        "len(df_cleared)"
      ]
    },
    {
      "cell_type": "code",
      "execution_count": 7,
      "id": "bc1fe2de-6862-4f6b-b593-bc247643b944",
      "metadata": {
        "ExecuteTime": {
          "end_time": "2023-11-30T17:00:19.628110+00:00",
          "start_time": "2023-11-30T17:00:19.305031+00:00"
        },
        "jupyter": {
          "outputs_hidden": false,
          "source_hidden": false
        },
        "noteable": {
          "cell_type": "code",
          "output_collection_id": "302490bb-9688-46ce-99eb-240cd0941c65"
        }
      },
      "outputs": [],
      "source": [
        "df_cleared = df_cleared.dropna(axis=0, subset=['education_level', 'initial_state', 'final_state', 'work_schedule', 'compensation_from', 'compensation_to'])\n",
        "len(df_cleared)"
      ]
    },
    {
      "cell_type": "code",
      "execution_count": 8,
      "id": "f73ba2dd-3410-4eb4-bde9-bccdfe934da6",
      "metadata": {
        "ExecuteTime": {
          "end_time": "2023-11-30T17:00:21.816431+00:00",
          "start_time": "2023-11-30T17:00:21.585395+00:00"
        },
        "jupyter": {
          "outputs_hidden": false,
          "source_hidden": false
        },
        "noteable": {
          "cell_type": "code",
          "output_collection_id": "a6ce6bcf-25d4-4610-bd6b-df5a38319586"
        }
      },
      "outputs": [],
      "source": [
        "df_cleared = df_cleared[(2023 - df_cleared.work_experience_months / 12 - df_cleared.year_of_birth >= 18) & (df_cleared.work_experience_months <= 600)]\n",
        "len(df_cleared)"
      ]
    },
    {
      "cell_type": "code",
      "execution_count": 9,
      "id": "b05134a4-6173-43da-8855-a1ab845c4ed1",
      "metadata": {
        "ExecuteTime": {
          "end_time": "2023-11-30T17:00:26.433424+00:00",
          "start_time": "2023-11-30T17:00:24.592939+00:00"
        },
        "jupyter": {
          "outputs_hidden": false,
          "source_hidden": false
        },
        "noteable": {
          "cell_type": "code",
          "output_collection_id": "c8f9780d-bdd9-42ff-a3e8-d3594041a94d"
        }
      },
      "outputs": [],
      "source": [
        "quantile_param = 0.04\n",
        "quantiles = {}\n",
        "for prof in df['profession'].unique():\n",
        "    df_prof = df[df['profession'] == prof]\n",
        "    quantiles[prof] = (df_prof['expected_salary'].quantile(quantile_param),\n",
        "                       df_prof['expected_salary'].quantile(1 - quantile_param))"
      ]
    },
    {
      "cell_type": "code",
      "execution_count": 10,
      "id": "bd31e9de-170d-40b1-a2e9-74ac274bc313",
      "metadata": {
        "ExecuteTime": {
          "end_time": "2023-11-30T17:00:28.155827+00:00",
          "start_time": "2023-11-30T17:00:27.898567+00:00"
        },
        "jupyter": {
          "outputs_hidden": false,
          "source_hidden": false
        },
        "noteable": {
          "cell_type": "code",
          "output_collection_id": "1e7f204d-5186-45f5-8ff1-c6fbac502ae1"
        }
      },
      "outputs": [],
      "source": [
        "df_cleared.loc[:,'exp_salary_min_limit'] = [quantiles[i][0] for i in df_cleared['profession']]\n",
        "df_cleared.loc[:,'exp_salary_max_limit'] = [quantiles[i][1] for i in df_cleared['profession']]\n",
        "len(df_cleared)"
      ]
    },
    {
      "cell_type": "code",
      "execution_count": 11,
      "id": "f2db9eab-f803-4c9b-a22d-9584faf04661",
      "metadata": {
        "ExecuteTime": {
          "end_time": "2023-11-30T17:00:33.632352+00:00",
          "start_time": "2023-11-30T17:00:31.687238+00:00"
        },
        "jupyter": {
          "outputs_hidden": false,
          "source_hidden": false
        },
        "noteable": {
          "cell_type": "code",
          "output_collection_id": "7d7d568a-a23b-4de4-93ac-a11a00709e2b"
        }
      },
      "outputs": [],
      "source": [
        "quantile_param = 0.04\n",
        "quantiles = {}\n",
        "for prof in df['profession'].unique():\n",
        "    df_prof = df[df['profession'] == prof]\n",
        "    quantiles[prof] = (df_prof['compensation_from'].quantile(quantile_param),\n",
        "                       df_prof['compensation_from'].quantile(1 - quantile_param))\n",
        "df_cleared.loc[:,'compensation_from_min_limit'] = [quantiles[i][0] for i in df_cleared['profession']]\n",
        "df_cleared.loc[:,'compensation_from_max_limit'] = [quantiles[i][1] for i in df_cleared['profession']]\n",
        "len(df_cleared)"
      ]
    },
    {
      "cell_type": "code",
      "execution_count": 12,
      "id": "1cce7eb6-c8df-4355-935d-3e415b835e66",
      "metadata": {
        "ExecuteTime": {
          "end_time": "2023-11-30T17:00:38.237108+00:00",
          "start_time": "2023-11-30T17:00:36.303712+00:00"
        },
        "jupyter": {
          "outputs_hidden": false,
          "source_hidden": false
        },
        "noteable": {
          "cell_type": "code",
          "output_collection_id": "9671ec4a-8779-424a-817b-5fdad4f96b4e"
        }
      },
      "outputs": [],
      "source": [
        "quantile_param = 0.04\n",
        "quantiles = {}\n",
        "for prof in df['profession'].unique():\n",
        "    df_prof = df[df['profession'] == prof]\n",
        "    quantiles[prof] = (df_prof['compensation_to'].quantile(quantile_param),\n",
        "                       df_prof['compensation_to'].quantile(1 - quantile_param))\n",
        "df_cleared.loc[:,'compensation_to_min_limit'] = [quantiles[i][0] for i in df_cleared['profession']]\n",
        "df_cleared.loc[:,'compensation_to_max_limit'] = [quantiles[i][1] for i in df_cleared['profession']]\n",
        "len(df_cleared)"
      ]
    },
    {
      "cell_type": "code",
      "execution_count": 13,
      "id": "a27e2d6b-3901-42d2-a371-a2bc47ad371c",
      "metadata": {
        "ExecuteTime": {
          "end_time": "2023-11-30T17:00:40.403363+00:00",
          "start_time": "2023-11-30T17:00:40.172120+00:00"
        },
        "jupyter": {
          "outputs_hidden": false,
          "source_hidden": false
        },
        "noteable": {
          "cell_type": "code",
          "output_collection_id": "4b3412cc-06c2-4040-814c-66aedf887058"
        }
      },
      "outputs": [],
      "source": [
        "df_cleared = df_cleared[(df_cleared['expected_salary'] >= df_cleared['exp_salary_min_limit']) &\n",
        "                        (df_cleared['expected_salary'] <= df_cleared['exp_salary_max_limit'])]\n",
        "len(df_cleared)"
      ]
    },
    {
      "cell_type": "code",
      "execution_count": 14,
      "id": "e45c4c0c-ee27-4917-af66-9ed3fa433562",
      "metadata": {
        "ExecuteTime": {
          "end_time": "2023-11-30T17:00:42.860065+00:00",
          "start_time": "2023-11-30T17:00:42.638485+00:00"
        },
        "datalink": {
          "e8767945-12f4-48ee-a282-10c5cb2656e0": {
            "applied_filters": [],
            "dataframe_info": {
              "default_index_used": true,
              "orig_num_cols": 1,
              "orig_num_rows": 264435,
              "orig_size_bytes": 4230960,
              "truncated_num_cols": 1,
              "truncated_num_rows": 50000,
              "truncated_size_bytes": 800000,
              "truncated_string_columns": []
            },
            "display_id": "e8767945-12f4-48ee-a282-10c5cb2656e0",
            "dx_settings": {
              "ALLOW_NOTEABLE_ATTRS": true,
              "COLUMN_SAMPLING_METHOD": "outer",
              "DB_LOCATION": ":memory:",
              "DEV_MODE": false,
              "DISPLAY_MAX_COLUMNS": 100,
              "DISPLAY_MAX_ROWS": 50000,
              "DISPLAY_MODE": "simple",
              "ENABLE_ASSIGNMENT": true,
              "ENABLE_DATALINK": true,
              "FLATTEN_COLUMN_VALUES": true,
              "FLATTEN_INDEX_VALUES": false,
              "GENERATE_DEX_METADATA": false,
              "HTML_TABLE_SCHEMA": false,
              "LOG_LEVEL": 30,
              "MAX_RENDER_SIZE_BYTES": 104857600,
              "MAX_STRING_LENGTH": 250,
              "NUM_PAST_SAMPLES_TRACKED": 3,
              "RANDOM_STATE": 12648430,
              "RESET_INDEX_VALUES": false,
              "ROW_SAMPLING_METHOD": "random",
              "SAMPLING_FACTOR": 0.1,
              "SAMPLING_METHOD": "random",
              "STRINGIFY_COLUMN_VALUES": true,
              "STRINGIFY_INDEX_VALUES": false
            },
            "sample_history": [],
            "sampling_time": "2023-11-29T21:19:11.570744",
            "user_variable_name": null,
            "variable_name": "unk_dataframe_57b47dc664a04304b5a33dedba0d660f"
          }
        },
        "jupyter": {
          "outputs_hidden": false,
          "source_hidden": false
        },
        "noteable": {
          "cell_type": "code",
          "output_collection_id": "3a31dc61-5f7b-4ac6-8f21-b52c4f4f8a25"
        }
      },
      "outputs": [],
      "source": [
        "df_cleared = df_cleared[(df_cleared['compensation_from'] >= df_cleared['compensation_from_min_limit']) &\n",
        "                        (df_cleared['compensation_from'] <= df_cleared['compensation_from_max_limit'])]\n",
        "len(df_cleared)"
      ]
    },
    {
      "cell_type": "code",
      "execution_count": 15,
      "id": "05dc4182-3bae-418e-b6d1-9662248d2548",
      "metadata": {
        "ExecuteTime": {
          "end_time": "2023-11-30T17:00:45.155725+00:00",
          "start_time": "2023-11-30T17:00:44.933616+00:00"
        },
        "jupyter": {
          "outputs_hidden": false,
          "source_hidden": false
        },
        "noteable": {
          "cell_type": "code",
          "output_collection_id": "aaee1933-0a47-44a5-af9f-d372f17f051a"
        }
      },
      "outputs": [],
      "source": [
        "df_cleared = df_cleared[(df_cleared['compensation_to'] >= df_cleared['compensation_to_min_limit']) &\n",
        "                        (df_cleared['compensation_to'] <= df_cleared['compensation_to_max_limit'])]\n",
        "len(df_cleared)"
      ]
    },
    {
      "cell_type": "code",
      "execution_count": 16,
      "id": "318d911a-1be5-417e-96c5-08cc9b6bc262",
      "metadata": {
        "ExecuteTime": {
          "end_time": "2023-11-30T17:00:47.520537+00:00",
          "start_time": "2023-11-30T17:00:47.297456+00:00"
        },
        "datalink": {
          "57bca728-6902-43be-862b-a37332653a47": {
            "applied_filters": [],
            "dataframe_info": {
              "default_index_used": true,
              "orig_num_cols": 32,
              "orig_num_rows": 86703,
              "orig_size_bytes": 22889592,
              "truncated_num_cols": 32,
              "truncated_num_rows": 40500,
              "truncated_size_bytes": 10692000,
              "truncated_string_columns": [
                "resume_skills_list",
                "vacancy_skills_list"
              ]
            },
            "display_id": "57bca728-6902-43be-862b-a37332653a47",
            "dx_settings": {
              "ALLOW_NOTEABLE_ATTRS": true,
              "COLUMN_SAMPLING_METHOD": "outer",
              "DB_LOCATION": ":memory:",
              "DEV_MODE": false,
              "DISPLAY_MAX_COLUMNS": 100,
              "DISPLAY_MAX_ROWS": 50000,
              "DISPLAY_MODE": "simple",
              "ENABLE_ASSIGNMENT": true,
              "ENABLE_DATALINK": true,
              "FLATTEN_COLUMN_VALUES": true,
              "FLATTEN_INDEX_VALUES": false,
              "GENERATE_DEX_METADATA": false,
              "HTML_TABLE_SCHEMA": false,
              "LOG_LEVEL": 30,
              "MAX_RENDER_SIZE_BYTES": 104857600,
              "MAX_STRING_LENGTH": 250,
              "NUM_PAST_SAMPLES_TRACKED": 3,
              "RANDOM_STATE": 12648430,
              "RESET_INDEX_VALUES": false,
              "ROW_SAMPLING_METHOD": "random",
              "SAMPLING_FACTOR": 0.1,
              "SAMPLING_METHOD": "random",
              "STRINGIFY_COLUMN_VALUES": true,
              "STRINGIFY_INDEX_VALUES": false
            },
            "sample_history": [],
            "sampling_time": "2023-11-30T16:45:33.158306",
            "user_variable_name": null,
            "variable_name": "unk_dataframe_ab24b0bfc69c48509825febca2d3e194"
          }
        },
        "jupyter": {
          "outputs_hidden": false,
          "source_hidden": false
        },
        "noteable": {
          "cell_type": "code",
          "output_collection_id": "83231d2d-487c-45a5-ac90-ab149d17b8cf"
        }
      },
      "outputs": [],
      "source": [
        "df_cleared = df_cleared[df_cleared['compensation_from'] <= df_cleared['compensation_to']]"
      ]
    },
    {
      "cell_type": "code",
      "execution_count": 17,
      "id": "f2c83a32-d124-4b00-9e1e-78b46d16f591",
      "metadata": {
        "ExecuteTime": {
          "end_time": "2023-11-30T17:00:49.903419+00:00",
          "start_time": "2023-11-30T17:00:49.740371+00:00"
        },
        "jupyter": {
          "outputs_hidden": false,
          "source_hidden": false
        },
        "noteable": {
          "cell_type": "code",
          "output_collection_id": "ea9c46ff-cbb5-41c3-842d-e9b13d1de13d"
        }
      },
      "outputs": [],
      "source": [
        "df_cleared['education_level'].unique()"
      ]
    },
    {
      "cell_type": "code",
      "execution_count": 18,
      "id": "f0417239-caa1-471c-8768-f1d5280b0f46",
      "metadata": {
        "ExecuteTime": {
          "end_time": "2023-11-30T17:15:30.280518+00:00",
          "start_time": "2023-11-30T17:15:15.836384+00:00"
        },
        "datalink": {
          "412154dc-ad37-4c6e-841a-157909ca1cc3": {
            "applied_filters": [],
            "dataframe_info": {
              "default_index_used": true,
              "orig_num_cols": 32,
              "orig_num_rows": 197583,
              "orig_size_bytes": 52161912,
              "truncated_num_cols": 32,
              "truncated_num_rows": 45000,
              "truncated_size_bytes": 11880000,
              "truncated_string_columns": [
                "resume_skills_list",
                "vacancy_skills_list"
              ]
            },
            "display_id": "412154dc-ad37-4c6e-841a-157909ca1cc3",
            "dx_settings": {
              "ALLOW_NOTEABLE_ATTRS": true,
              "COLUMN_SAMPLING_METHOD": "outer",
              "DB_LOCATION": ":memory:",
              "DEV_MODE": false,
              "DISPLAY_MAX_COLUMNS": 100,
              "DISPLAY_MAX_ROWS": 50000,
              "DISPLAY_MODE": "simple",
              "ENABLE_ASSIGNMENT": true,
              "ENABLE_DATALINK": true,
              "FLATTEN_COLUMN_VALUES": true,
              "FLATTEN_INDEX_VALUES": false,
              "GENERATE_DEX_METADATA": false,
              "HTML_TABLE_SCHEMA": false,
              "LOG_LEVEL": 30,
              "MAX_RENDER_SIZE_BYTES": 104857600,
              "MAX_STRING_LENGTH": 250,
              "NUM_PAST_SAMPLES_TRACKED": 3,
              "RANDOM_STATE": 12648430,
              "RESET_INDEX_VALUES": false,
              "ROW_SAMPLING_METHOD": "random",
              "SAMPLING_FACTOR": 0.1,
              "SAMPLING_METHOD": "random",
              "STRINGIFY_COLUMN_VALUES": true,
              "STRINGIFY_INDEX_VALUES": false
            },
            "sample_history": [],
            "sampling_time": "2023-11-30T17:15:28.984219",
            "user_variable_name": "df_cleared",
            "variable_name": "df_cleared"
          }
        },
        "jupyter": {
          "outputs_hidden": false,
          "source_hidden": false
        },
        "noteable": {
          "cell_type": "code",
          "output_collection_id": "71491af1-a646-4660-8bd8-dbdd9f0837b8"
        }
      },
      "outputs": [],
      "source": [
        "gender_dict = {'female': 0, 'male': 1}\n",
        "education_dict = {'secondary': 0, 'unfinished_higher': 1, 'special_secondary': 2,\n",
        "                 'higher': 3, 'bachelor': 4, 'master': 5, 'candidate': 6, 'doctor': 7}\n",
        "df_cleared = df_cleared.replace({'gender': gender_dict, 'education_level': education_dict})\n",
        "df_cleared"
      ]
    },
    {
      "cell_type": "code",
      "execution_count": null,
      "id": "2afd7683",
      "metadata": {},
      "outputs": [],
      "source": ""
    }
  ],
  "metadata": {
    "kernel_info": {
      "name": "python3"
    },
    "kernelspec": {
      "display_name": "Python 3.9",
      "identifier": "legacy",
      "language": "python",
      "language_version": "3.9",
      "name": "python3"
    },
    "language_info": {
      "codemirror_mode": {
        "name": "ipython",
        "version": 3
      },
      "file_extension": ".py",
      "mimetype": "text/x-python",
      "name": "python",
      "nbconvert_exporter": "python",
      "pygments_lexer": "ipython3",
      "version": "3.11.5"
    },
    "selected_hardware_size": "small"
  },
  "nbformat": 4,
  "nbformat_minor": 5
}