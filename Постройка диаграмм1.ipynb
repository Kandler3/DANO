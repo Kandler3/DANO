{
  "cells": [
    {
      "cell_type": "code",
      "execution_count": 1,
      "metadata": {
        "noteable": {
          "output_collection_id": "17722e93-18eb-444b-b06d-2e56cacdd304"
        },
        "ExecuteTime": {
          "end_time": "2023-12-10T20:19:39.558481+00:00",
          "start_time": "2023-12-10T20:19:38.985875+00:00"
        }
      },
      "outputs": [],
      "source": [
        "import pandas as pd\n",
        "import matplotlib.pyplot as plt\n",
        "import seaborn as sns\n",
        "import numpy as np"
      ],
      "id": "be459cc6"
    },
    {
      "id": "adade23d-397a-490f-ab24-e9aad7927f71",
      "cell_type": "code",
      "metadata": {
        "jupyter": {
          "outputs_hidden": false,
          "source_hidden": false
        },
        "noteable": {
          "cell_type": "code",
          "output_collection_id": "6a6bc75e-f83b-4e4c-bac2-e59ec37fac01"
        },
        "ExecuteTime": {
          "end_time": "2023-12-10T20:19:50.260221+00:00",
          "start_time": "2023-12-10T20:19:49.462999+00:00"
        }
      },
      "execution_count": null,
      "source": "%ntbl pull datasets \"hh_ru/cleared3.xlsx\"",
      "outputs": []
    },
    {
      "id": "79a23e0b-e9f4-4949-8aef-5299ee468525",
      "cell_type": "code",
      "metadata": {
        "jupyter": {
          "outputs_hidden": false,
          "source_hidden": false
        },
        "noteable": {
          "cell_type": "code",
          "output_collection_id": "a50a3f6b-c4af-4acd-bd6f-ef1f49275208"
        },
        "ExecuteTime": {
          "end_time": "2023-12-10T20:20:18.998421+00:00",
          "start_time": "2023-12-10T20:19:57.416041+00:00"
        }
      },
      "execution_count": null,
      "source": "df = pd.read_excel(r\"../datasets/hh_ru/cleared3.xlsx\")\ndf.info()",
      "outputs": []
    },
    {
      "cell_type": "code",
      "execution_count": 3,
      "metadata": {
        "noteable": {
          "output_collection_id": "1a981265-5fe8-433b-be82-744441b6a5fc"
        },
        "ExecuteTime": {
          "end_time": "2023-11-30T18:38:03.593750+00:00",
          "start_time": "2023-11-30T18:38:03.041364+00:00"
        }
      },
      "outputs": [],
      "source": [
        "sns.set(font_scale=1.15)\n",
        "plt.figure(figsize=(8,4))\n",
        "cor = df[['year_of_birth', 'expected_salary', 'work_experience_months', 'compensation_from', 'compensation_to']].corr()\n",
        "df[['year_of_birth', 'work_experience_months']].corr()\n",
        "ax = sns.heatmap(cor, annot=True, vmin=-1, vmax=1, center=0, cmap='coolwarm')\n",
        "ax.set_xticklabels(ax.get_xticklabels(), rotation=90, ha='left')"
      ],
      "id": "29156d0e"
    },
    {
      "cell_type": "code",
      "execution_count": 4,
      "metadata": {
        "noteable": {
          "output_collection_id": "1d6a27c1-1b43-427b-b426-ca8a8a66f7ba"
        },
        "ExecuteTime": {
          "end_time": "2023-11-30T18:32:28.272462+00:00",
          "start_time": "2023-11-30T18:32:27.954646+00:00"
        }
      },
      "outputs": [],
      "source": [
        "df.expected_salary.plot(kind='box', figsize=(3, 5))"
      ],
      "id": "edf3142e"
    },
    {
      "cell_type": "code",
      "execution_count": null,
      "metadata": {
        "noteable": {
          "output_collection_id": "0d0f40c6-115a-42d6-9612-9ecf0c1f2235"
        },
        "ExecuteTime": {
          "end_time": "2023-11-30T18:32:31.747269+00:00",
          "start_time": "2023-11-30T18:32:31.091220+00:00"
        },
        "scrolled": true
      },
      "outputs": [],
      "source": "df.plot.scatter (x = 'compensation_from', y = 'compensation_to')",
      "id": "029b8466"
    },
    {
      "id": "9caa6dbb-8928-4d35-a477-815970d72572",
      "cell_type": "code",
      "metadata": {
        "jupyter": {
          "outputs_hidden": false,
          "source_hidden": false
        },
        "noteable": {
          "cell_type": "code",
          "output_collection_id": "204e5465-5fe2-471d-a52a-24330ce629e3"
        },
        "ExecuteTime": {
          "end_time": "2023-12-10T20:20:40.354840+00:00",
          "start_time": "2023-12-10T20:20:31.361605+00:00"
        }
      },
      "execution_count": null,
      "source": "sns.pairplot(df[['year_of_birth', 'expected_salary', 'work_experience_months', 'compensation_from', 'compensation_to']])",
      "outputs": []
    },
    {
      "id": "276834e0-f92d-4750-b551-9a706fbb5806",
      "cell_type": "code",
      "metadata": {
        "jupyter": {
          "outputs_hidden": false,
          "source_hidden": false
        },
        "noteable": {
          "cell_type": "code"
        }
      },
      "execution_count": null,
      "source": "",
      "outputs": []
    }
  ],
  "metadata": {
    "kernelspec": {
      "display_name": "Python 3.9",
      "identifier": "legacy",
      "language": "python",
      "language_version": "3.9",
      "name": "python3"
    },
    "language_info": {
      "codemirror_mode": {
        "name": "ipython",
        "version": 3
      },
      "file_extension": ".py",
      "mimetype": "text/x-python",
      "name": "python",
      "nbconvert_exporter": "python",
      "pygments_lexer": "ipython3",
      "version": "3.11.4"
    },
    "selected_hardware_size": "small",
    "kernel_info": {
      "name": "python3"
    }
  },
  "nbformat": 4,
  "nbformat_minor": 5
}