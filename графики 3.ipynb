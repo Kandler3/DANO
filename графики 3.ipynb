{
  "nbformat": 4,
  "nbformat_minor": 5,
  "metadata": {
    "kernel_info": {
      "name": "python3"
    },
    "kernelspec": {
      "display_name": "Python 3.9",
      "identifier": "legacy",
      "language": "python",
      "language_version": "3.9",
      "name": "python3"
    },
    "selected_hardware_size": "small"
  },
  "cells": [
    {
      "id": "a10462ae-eb4b-43f4-a92f-18db3f2e2be1",
      "cell_type": "code",
      "metadata": {
        "jupyter": {
          "outputs_hidden": false,
          "source_hidden": false
        },
        "noteable": {
          "cell_type": "code",
          "output_collection_id": "805b4c43-3962-452b-a08b-313167016be1"
        },
        "ExecuteTime": {
          "end_time": "2023-12-01T09:04:04.991243+00:00",
          "start_time": "2023-12-01T09:04:04.209528+00:00"
        }
      },
      "execution_count": null,
      "source": "%ntbl pull datasets \"hh_ru/cleared3.xlsx\"",
      "outputs": []
    },
    {
      "id": "b4edb61e-b3eb-47c7-ad7a-f20a72e7b161",
      "cell_type": "code",
      "metadata": {
        "jupyter": {
          "outputs_hidden": false,
          "source_hidden": false
        },
        "noteable": {
          "cell_type": "code",
          "output_collection_id": "c7d27082-ade3-4496-87be-5089f2addb36"
        },
        "ExecuteTime": {
          "end_time": "2023-12-01T09:05:54.077957+00:00",
          "start_time": "2023-12-01T09:05:53.772651+00:00"
        }
      },
      "execution_count": null,
      "source": "import pandas as pd\nimport matplotlib.pyplot as plt\nimport matplotlib.colors as mcolors\nimport seaborn as sns",
      "outputs": []
    },
    {
      "id": "607a1d17-27da-48fb-9ff4-2fb04966d96e",
      "cell_type": "code",
      "metadata": {
        "jupyter": {
          "outputs_hidden": false,
          "source_hidden": false
        },
        "noteable": {
          "cell_type": "code",
          "output_collection_id": "99fa2b4e-6598-4804-b51f-a139de8cb24f"
        },
        "ExecuteTime": {
          "end_time": "2023-12-01T09:04:38.304548+00:00",
          "start_time": "2023-12-01T09:04:17.069147+00:00"
        }
      },
      "execution_count": null,
      "source": "df = pd.read_excel('../datasets/hh_ru/cleared3.xlsx')",
      "outputs": []
    },
    {
      "id": "b19b09bf-22db-4186-a7c3-de8539de03d4",
      "cell_type": "code",
      "metadata": {
        "jupyter": {
          "outputs_hidden": false,
          "source_hidden": false
        },
        "noteable": {
          "cell_type": "code",
          "output_collection_id": "bd3f846d-49e2-4ee9-8b4b-a2601b6de768"
        },
        "ExecuteTime": {
          "end_time": "2023-12-01T09:04:45.869268+00:00",
          "start_time": "2023-12-01T09:04:45.088825+00:00"
        }
      },
      "execution_count": null,
      "source": "education_dict = {'secondary': 0, 'unfinished_higher': 1, 'special_secondary': 2,\n                 'higher': 3, 'bachelor': 4, 'master': 5, 'candidate': 6, 'doctor': 7}\ngender_dict = {'female': 0, 'male': 1}\n\nx = pd.Series(range(8))\nwidth = 1/6\nmult = 0\nfig, ax = plt.subplots(layout='constrained')\nfor gender in gender_dict:\n    offset = width * mult\n    rects = ax.bar(x + offset,\n                   [df[df['education_level'] == ed_level]['expected_salary'].median() \n                    for ed_level in education_dict.keys()],\n                   width,\n                   label=gender)\n    mult += 1\n\nax.set_ylabel('Медиана expected_salary')\nax.set_xlabel('Образование')\nplt.xticks(rotation=45)\nax.set_xticks(x + width, education_dict.keys())\nax.legend(loc='upper left', ncols=3)\nax.set_ylim(0, 170_000)",
      "outputs": []
    },
    {
      "id": "fcfd9c8a-ca10-4cec-b00f-0b91da5ffc37",
      "cell_type": "code",
      "metadata": {
        "jupyter": {
          "outputs_hidden": false,
          "source_hidden": false
        },
        "noteable": {
          "cell_type": "code",
          "output_collection_id": "a9ab4114-bb4f-432f-a1b5-c3ac9bfbf10f"
        },
        "ExecuteTime": {
          "end_time": "2023-11-30T20:33:01.067227+00:00",
          "start_time": "2023-11-30T20:33:00.387811+00:00"
        }
      },
      "execution_count": null,
      "source": "x = pd.Series(range(8))\nwidth = 1/6\nmult = 0\nfig, ax = plt.subplots(layout='constrained')\nfor resume_employment_type in ('full', 'part'):\n    offset = width * mult\n    rects = ax.bar(x + offset,\n                   [len(df[(df['education_level'] == ed_level) & \n                           (df['resume_employment_type'] == resume_employment_type)])\n                    for ed_level in education_dict.keys()],\n                   width,\n                   label=resume_employment_type)\n    mult += 1\n\nax.set_ylabel('Количество в категории')\nax.set_xlabel('Образование')\nplt.xticks(rotation=45)\nax.set_xticks(x + width, education_dict.keys())\nax.legend(loc='upper left', ncols=3)",
      "outputs": []
    },
    {
      "id": "b294aa47-e5fd-492b-9ebb-f3ba37d4ed92",
      "cell_type": "code",
      "metadata": {
        "jupyter": {
          "outputs_hidden": false,
          "source_hidden": false
        },
        "noteable": {
          "cell_type": "code",
          "output_collection_id": "b13c192d-6fd4-494a-aff1-c0dccb580a20"
        },
        "ExecuteTime": {
          "end_time": "2023-11-30T20:33:50.630754+00:00",
          "start_time": "2023-11-30T20:33:50.109719+00:00"
        }
      },
      "execution_count": null,
      "source": "fig, ax = plt.subplots()\ndata = []\nfor ed_level in education_dict.keys():\n    full_count = len(df[(df['education_level'] == ed_level) & \n                               (df['resume_employment_type'] == 'full')])\n    part_count = len(df[(df['education_level'] == ed_level) & \n                               (df['resume_employment_type'] == 'part')])\n    data.append(full_count / part_count if part_count != 0 else 0)\n\nax.bar(education_dict.keys(), data)\nplt.xticks(rotation=45)\nax.set_xlabel('Образование')\nax.set_ylabel('Отношение количества full к part')",
      "outputs": []
    },
    {
      "id": "d30eff97-3daf-4d24-afac-335c62768e84",
      "cell_type": "code",
      "metadata": {
        "jupyter": {
          "outputs_hidden": false,
          "source_hidden": false
        },
        "noteable": {
          "cell_type": "code",
          "output_collection_id": "d3e02f9c-16a3-4c58-be4d-9792adadbfb2"
        },
        "ExecuteTime": {
          "end_time": "2023-11-30T20:40:52.552315+00:00",
          "start_time": "2023-11-30T20:40:51.956890+00:00"
        },
        "datalink": {
          "0353f109-a384-4b3f-aa08-615fe7d304a4": {
            "applied_filters": [],
            "dataframe_info": {
              "default_index_used": true,
              "orig_num_cols": 31,
              "orig_num_rows": 9,
              "orig_size_bytes": 2304,
              "truncated_num_cols": 31,
              "truncated_num_rows": 9,
              "truncated_size_bytes": 2304,
              "truncated_string_columns": [
                "resume_skills_list"
              ]
            },
            "display_id": "0353f109-a384-4b3f-aa08-615fe7d304a4",
            "dx_settings": {
              "ALLOW_NOTEABLE_ATTRS": true,
              "COLUMN_SAMPLING_METHOD": "outer",
              "DB_LOCATION": ":memory:",
              "DEV_MODE": false,
              "DISPLAY_MAX_COLUMNS": 100,
              "DISPLAY_MAX_ROWS": 50000,
              "DISPLAY_MODE": "simple",
              "ENABLE_ASSIGNMENT": true,
              "ENABLE_DATALINK": true,
              "FLATTEN_COLUMN_VALUES": true,
              "FLATTEN_INDEX_VALUES": false,
              "GENERATE_DEX_METADATA": false,
              "HTML_TABLE_SCHEMA": false,
              "LOG_LEVEL": 30,
              "MAX_RENDER_SIZE_BYTES": 104857600,
              "MAX_STRING_LENGTH": 250,
              "NUM_PAST_SAMPLES_TRACKED": 3,
              "RANDOM_STATE": 12648430,
              "RESET_INDEX_VALUES": false,
              "ROW_SAMPLING_METHOD": "random",
              "SAMPLING_FACTOR": 0.1,
              "SAMPLING_METHOD": "random",
              "STRINGIFY_COLUMN_VALUES": true,
              "STRINGIFY_INDEX_VALUES": false
            },
            "sample_history": [],
            "sampling_time": "2023-11-30T20:40:52.378520",
            "user_variable_name": null,
            "variable_name": "unk_dataframe_e5a5cd03ab8747328689ec7bcb0059c4"
          }
        }
      },
      "execution_count": null,
      "source": "df[(df['expected_salary'] / df['compensation_to']) > 100]",
      "outputs": []
    },
    {
      "id": "8f096605-4956-4dca-b07f-3a63fd6d5301",
      "cell_type": "code",
      "metadata": {
        "jupyter": {
          "outputs_hidden": false,
          "source_hidden": false
        },
        "noteable": {
          "cell_type": "code",
          "output_collection_id": "672d8aea-9cdc-41f9-a85d-cbb0c4a9bcfb"
        },
        "ExecuteTime": {
          "end_time": "2023-12-01T09:06:09.433133+00:00",
          "start_time": "2023-12-01T09:06:00.543058+00:00"
        }
      },
      "execution_count": null,
      "source": "sns.pairplot(df[['year_of_birth', 'expected_salary', 'work_experience_months', 'compensation_from', 'compensation_to', 'education_level']])",
      "outputs": []
    }
  ]
}