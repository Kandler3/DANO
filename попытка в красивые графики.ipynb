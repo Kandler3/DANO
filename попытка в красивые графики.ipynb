{
  "nbformat": 4,
  "nbformat_minor": 5,
  "metadata": {
    "kernel_info": {
      "name": "python3.9-noteable"
    },
    "kernelspec": {
      "display_name": "Python 3.9 (Noteable)",
      "identifier": "noteable",
      "language": "python",
      "language_version": "3.9",
      "name": "python3.9-noteable"
    },
    "selected_hardware_size": "small"
  },
  "cells": [
    {
      "id": "8a8e4766-510d-4375-89c2-e38af1819d3e",
      "cell_type": "code",
      "metadata": {
        "jupyter": {
          "outputs_hidden": false,
          "source_hidden": false
        },
        "noteable": {
          "cell_type": "code",
          "output_collection_id": "6a1e4506-4038-4261-9242-d865b80d1fcd"
        },
        "ExecuteTime": {
          "end_time": "2023-12-09T19:07:08.156362+00:00",
          "start_time": "2023-12-09T19:07:06.639365+00:00"
        },
        "scrolled": false
      },
      "execution_count": null,
      "source": "%ntbl pull datasets \"hh_ru/hhru_skills_list_coef.xlsx\"",
      "outputs": []
    },
    {
      "id": "29640266-314b-46ac-8127-3bbf4c7a5483",
      "cell_type": "code",
      "metadata": {
        "jupyter": {
          "outputs_hidden": false,
          "source_hidden": false
        },
        "noteable": {
          "cell_type": "code",
          "output_collection_id": "e06ac03f-436e-4ad8-b279-c9e7da3fa443"
        },
        "ExecuteTime": {
          "end_time": "2023-12-09T19:59:35.453585+00:00",
          "start_time": "2023-12-09T19:59:35.297386+00:00"
        }
      },
      "execution_count": null,
      "source": "import seaborn as sns\nimport matplotlib.pyplot as plt\nfrom matplotlib.patches import FancyBboxPatch",
      "outputs": []
    },
    {
      "id": "537e0949-4e02-47e4-b51a-687cf47fa2b1",
      "cell_type": "code",
      "metadata": {
        "jupyter": {
          "outputs_hidden": false,
          "source_hidden": false
        },
        "noteable": {
          "cell_type": "code",
          "output_collection_id": "d976ed29-05f1-402d-ad71-95352a593b5f"
        },
        "ExecuteTime": null
      },
      "execution_count": null,
      "source": "df = pd.read_excel('../datasets/hh_ru/hhru_skills_list_coef.xlsx')",
      "outputs": []
    },
    {
      "id": "c82dbaad-e3e4-4a19-8d8b-f425e47bbccd",
      "cell_type": "code",
      "metadata": {
        "jupyter": {
          "outputs_hidden": false,
          "source_hidden": false
        },
        "noteable": {
          "cell_type": "code",
          "output_collection_id": "97050250-e049-4ead-8f33-9e71c6bd54c2"
        },
        "ExecuteTime": {
          "end_time": "2023-12-09T20:08:54.835946+00:00",
          "start_time": "2023-12-09T20:08:54.400906+00:00"
        }
      },
      "execution_count": null,
      "source": "sns.set(style=\"whitegrid\", rc={\"grid.color\": \"5A3D30\"})\nplt.figure(figsize=(10, 6))\n\nsns.countplot(y='education_level', data=df, color='#2E8B57', edgecolor='None')\n\nplt.xlabel('Количество')\nplt.ylabel('Уровень образования')\neducation_dict = {'secondary': 0, 'special_secondary': 1, 'unfinished_higher': 2,\n                'bachelor': 3, 'master': 4, 'higher': 5, 'candidate': 6, 'doctor': 7}\ned_levels = list(education_dict.keys())\nplt.yticks(ticks=range(len(df['education_level'].unique())), labels=ed_levels)\n#2E8B57\nplt.show()",
      "outputs": []
    },
    {
      "id": "2982e0fe-f5d1-48ba-a3f1-46643767cec2",
      "cell_type": "code",
      "metadata": {
        "jupyter": {
          "outputs_hidden": false,
          "source_hidden": false
        },
        "noteable": {
          "cell_type": "code",
          "output_collection_id": "691c0b6c-22ea-4a54-ac58-111da5e94d54"
        },
        "ExecuteTime": {
          "end_time": "2023-12-09T20:04:38.791448+00:00",
          "start_time": "2023-12-09T20:04:38.301757+00:00"
        }
      },
      "execution_count": null,
      "source": "plt.subplots(figsize=(5, 2))\nsns.set_color_codes(\"pastel\")\nax = sns.countplot(y='education_level', data=df, joinstyle='bevel')\n\nnew_patches = []\nfor patch in reversed(ax.patches):\n    # print(bb.xmin, bb.ymin,abs(bb.width), abs(bb.height))\n    bb = patch.get_bbox()\n    color = patch.get_facecolor()\n    p_bbox = FancyBboxPatch((bb.xmin, bb.ymin),\n                            abs(bb.width), abs(bb.height),\n                            boxstyle=\"round,pad=-0.0040,rounding_size=2\",\n                            ec=\"none\", fc=color,\n                            mutation_aspect=0.5\n                            )\n    patch.remove()\n    new_patches.append(p_bbox)\n\nfor patch in new_patches:\n    ax.add_patch(patch)\n\nsns.despine(left=True, bottom=True)\n\nax.tick_params(axis=u'both', which=u'both', length=0)\nplt.tight_layout()\nplt.show()",
      "outputs": []
    },
    {
      "id": "21f82f9f-a61e-4c6c-9742-4e6be692afbd",
      "cell_type": "code",
      "metadata": {
        "jupyter": {
          "outputs_hidden": false,
          "source_hidden": false
        },
        "noteable": {
          "cell_type": "code"
        }
      },
      "execution_count": null,
      "source": "",
      "outputs": []
    }
  ]
}