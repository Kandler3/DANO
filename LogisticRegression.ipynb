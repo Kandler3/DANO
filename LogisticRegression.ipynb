{
  "nbformat": 4,
  "nbformat_minor": 5,
  "metadata": {
    "kernel_info": {
      "name": "python3"
    },
    "kernelspec": {
      "display_name": "Python 3.9",
      "identifier": "legacy",
      "language": "python",
      "language_version": "3.9",
      "name": "python3"
    },
    "selected_hardware_size": "small"
  },
  "cells": [
    {
      "id": "06ec8be5-281c-40bb-981e-04565a0f58fb",
      "cell_type": "code",
      "metadata": {
        "jupyter": {
          "outputs_hidden": false,
          "source_hidden": false
        },
        "noteable": {
          "cell_type": "code",
          "output_collection_id": "0003fbfc-2b0d-418f-89a8-e532068bd74b"
        },
        "ExecuteTime": {
          "end_time": "2023-12-15T19:24:22.704701+00:00",
          "start_time": "2023-12-15T19:24:19.533554+00:00"
        }
      },
      "execution_count": null,
      "source": "%ntbl pull datasets \"hh_ru/clear_final.xlsx\"",
      "outputs": []
    },
    {
      "id": "8166ae5b-9e0f-49b4-b6f7-51a44725797c",
      "cell_type": "code",
      "metadata": {
        "jupyter": {
          "outputs_hidden": false,
          "source_hidden": false
        },
        "noteable": {
          "cell_type": "code",
          "output_collection_id": "e12a475b-6011-46c4-8b66-85b11d2567c6"
        },
        "ExecuteTime": {
          "end_time": "2023-12-15T19:23:34.986560+00:00",
          "start_time": "2023-12-15T19:23:30.555570+00:00"
        }
      },
      "execution_count": null,
      "source": "pip install scikit-learn==1.3.0",
      "outputs": []
    },
    {
      "id": "f742657a",
      "cell_type": "code",
      "metadata": {
        "noteable": {
          "output_collection_id": "3e24c7cd-42f6-4970-992c-c1560b000580"
        },
        "ExecuteTime": {
          "end_time": "2023-12-15T19:24:23.464810+00:00",
          "start_time": "2023-12-15T19:24:22.734354+00:00"
        }
      },
      "execution_count": null,
      "source": "from sklearn.linear_model import LogisticRegression\nfrom sklearn.metrics import RocCurveDisplay, roc_auc_score\nfrom sklearn.compose import ColumnTransformer\nfrom sklearn.preprocessing import TargetEncoder, StandardScaler",
      "outputs": []
    },
    {
      "id": "3c7c3d28-c84e-4fc0-bae0-ec6951358da2",
      "cell_type": "code",
      "metadata": {
        "jupyter": {
          "outputs_hidden": false,
          "source_hidden": false
        },
        "noteable": {
          "cell_type": "code",
          "output_collection_id": "26ff5724-66b9-4ae8-b080-cbd7207d104d"
        },
        "ExecuteTime": {
          "end_time": "2023-12-15T19:26:10.382177+00:00",
          "start_time": "2023-12-15T19:24:46.543962+00:00"
        }
      },
      "execution_count": null,
      "source": "import pandas as pd\nimport matplotlib.pyplot as plt\nimport seaborn as sns\nimport numpy as np\ndf = pd.read_excel(r'../datasets/hh_ru/clear_final.xlsx')",
      "outputs": []
    },
    {
      "id": "eb56986c-6ca5-4910-9cbc-e849dc00eb9b",
      "cell_type": "code",
      "metadata": {
        "jupyter": {
          "outputs_hidden": false,
          "source_hidden": false
        },
        "noteable": {
          "cell_type": "code",
          "output_collection_id": "a2ee081d-1132-4b04-bcd2-f83cc1ed015f"
        },
        "ExecuteTime": {
          "end_time": "2023-12-15T19:26:10.813832+00:00",
          "start_time": "2023-12-15T19:26:10.431492+00:00"
        }
      },
      "execution_count": null,
      "source": "data_numeric = df.select_dtypes(include='number')\n\ncolumn_transformer = ColumnTransformer([\n    (\"num_preprocess\", StandardScaler(), data_numeric.columns),\n    (\"categorial_preprocess\", TargetEncoder(target_type=\"continuous\", cv=5, smooth=0.2), data_object.columns)\n])\n\nmodel_lr = Pipeline(\n    [\n        (\"dataset_numerization\", column_transformer),\n        (\"clf\", GridSearchCV(\n                    LogisticRegression(),\n                    param_grid={\"C\": np.logspace(-3, 3, 20)},\n                    cv=5,\n                    scoring=\"roc_auc\"\n                )\n        )\n    ],\n    verbose=3\n)\n\nmodel_lr.fit(X_train, y_train)\n\n\nprint(\"LR alpha: \", model_lr.named_steps[\"clf\"].best_params_)\nprint(\"LR roc_auc: \", roc_auc_score(y_val, model_lr.predict_proba(X_val)[:, 1])) # Будьте внимательны, в roc_auc нужны predict_proba\nprint(\"LR best score: \", model_lr.named_steps[\"clf\"].best_score_)",
      "outputs": []
    },
    {
      "id": "78f34611-6b8c-4f4d-bf1d-a2959e480c8a",
      "cell_type": "code",
      "metadata": {
        "jupyter": {
          "outputs_hidden": false,
          "source_hidden": false
        },
        "noteable": {
          "cell_type": "code",
          "output_collection_id": "9e87216d-b53f-4640-be0d-99257f6dd821"
        },
        "ExecuteTime": {
          "end_time": "2023-12-15T18:48:34.610798+00:00",
          "start_time": "2023-12-15T18:48:34.224659+00:00"
        }
      },
      "execution_count": null,
      "source": "RocCurveDisplay.from_predictions(y_val, model_lr.predict_proba(X_val)[:, 1])",
      "outputs": []
    }
  ]
}