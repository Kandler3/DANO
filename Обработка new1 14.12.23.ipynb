{
  "nbformat": 4,
  "nbformat_minor": 5,
  "metadata": {
    "kernel_info": {
      "name": "python3"
    },
    "kernelspec": {
      "display_name": "Python 3.9",
      "identifier": "legacy",
      "language": "python",
      "language_version": "3.9",
      "name": "python3"
    },
    "selected_hardware_size": "small"
  },
  "cells": [
    {
      "id": "bf7b679c",
      "cell_type": "code",
      "metadata": {
        "noteable": {
          "output_collection_id": "c2411864-e230-4d02-beaf-020dfd88cb28"
        },
        "ExecuteTime": {
          "end_time": "2023-12-15T21:43:43.799014+00:00",
          "start_time": "2023-12-15T21:43:33.792209+00:00"
        }
      },
      "execution_count": null,
      "source": "%ntbl pull datasets \"hh_ru/hh_ru_dataset.csv\"\n%ntbl pull datasets \"hh_ru/profession_type.xlsx\"",
      "outputs": []
    },
    {
      "id": "075e8fcc-a844-4add-8ea2-3d027c366e81",
      "cell_type": "code",
      "metadata": {
        "jupyter": {
          "outputs_hidden": false,
          "source_hidden": false
        },
        "noteable": {
          "cell_type": "code",
          "output_collection_id": "38c96915-d30b-43c8-af02-53e64a5d5ead"
        },
        "ExecuteTime": {
          "end_time": "2023-12-15T21:43:47.599151+00:00",
          "start_time": "2023-12-15T21:43:47.444602+00:00"
        }
      },
      "execution_count": null,
      "source": "import pandas as pd\nimport matplotlib.pyplot as plt\nimport seaborn as sns\nimport statsmodels.api as sm\n\nfrom statsmodels.genmod.generalized_linear_model import GLM\nfrom statsmodels.genmod import families\n#import statsmodels.stats.tests.test_influence",
      "outputs": []
    },
    {
      "id": "ee77d9db-a4bc-49ce-bee0-63583a2b58a6",
      "cell_type": "code",
      "metadata": {
        "jupyter": {
          "outputs_hidden": false,
          "source_hidden": false
        },
        "noteable": {
          "cell_type": "code",
          "output_collection_id": "8336f621-5b07-4faa-9b7b-5e2ef672b0d8"
        },
        "ExecuteTime": null
      },
      "execution_count": null,
      "source": "df = pd.read_csv('../datasets/hh_ru/hh_ru_dataset.csv', sep=',')\ndf.info()",
      "outputs": []
    },
    {
      "id": "df168118-90f0-4331-87bd-ef58fa012945",
      "cell_type": "code",
      "metadata": {
        "jupyter": {
          "outputs_hidden": false,
          "source_hidden": false
        },
        "noteable": {
          "cell_type": "code",
          "output_collection_id": "a7056a18-d249-4dc9-9a32-22b12ca3caff"
        },
        "ExecuteTime": {
          "end_time": "2023-12-15T21:39:12.170554+00:00",
          "start_time": "2023-12-15T21:39:11.967279+00:00"
        }
      },
      "execution_count": null,
      "source": "df_cleared = df.copy()\nlen(df_cleared)\n#len(df_cleared[df_cleared.compensation_to.isna()])",
      "outputs": []
    },
    {
      "id": "44d884d5-c17d-48bb-ae97-3df0518ce556",
      "cell_type": "code",
      "metadata": {
        "jupyter": {
          "outputs_hidden": false,
          "source_hidden": false
        },
        "noteable": {
          "cell_type": "code",
          "output_collection_id": "5595d159-9505-47be-89d3-af32c6afead0"
        },
        "ExecuteTime": {
          "end_time": "2023-12-15T21:39:17.097071+00:00",
          "start_time": "2023-12-15T21:39:15.089389+00:00"
        }
      },
      "execution_count": null,
      "source": "# ожидаемые зарплаты без выбросов\nquantile_param = 0.03\nquantiles = {}\nfor prof in df['profession'].unique():\n    df_prof = df[df['profession'] == prof]\n    quantiles[prof] = (df_prof['expected_salary'].quantile(quantile_param),\n                       df_prof['expected_salary'].quantile(1 - quantile_param))\n\ndf_cleared.loc[:,'exp_salary_min_limit'] = [quantiles[i][0] for i in df_cleared['profession']]\ndf_cleared.loc[:,'exp_salary_max_limit'] = [quantiles[i][1] for i in df_cleared['profession']]\n\n# проверка по ожидаемой зарплате\ndf_cleared = df_cleared[(df_cleared['expected_salary'] >= df_cleared['exp_salary_min_limit']) & (df_cleared['expected_salary'] <= df_cleared['exp_salary_max_limit'])]\nlen(df_cleared)\n#print(500000 - len(df_cleared))",
      "outputs": []
    },
    {
      "id": "db289366-39b3-44a8-8e6e-780c4494b616",
      "cell_type": "code",
      "metadata": {
        "jupyter": {
          "outputs_hidden": false,
          "source_hidden": false
        },
        "noteable": {
          "cell_type": "code",
          "output_collection_id": "0724a09d-1a2c-442b-9c4e-7e636d91f3a7"
        },
        "ExecuteTime": {
          "end_time": "2023-12-15T21:39:20.213697+00:00",
          "start_time": "2023-12-15T21:39:19.823716+00:00"
        }
      },
      "execution_count": null,
      "source": "quantile_param = 0.01\n\nquantile_year = (df_cleared['year_of_birth'].quantile(quantile_param),\n                       df_cleared['year_of_birth'].quantile(1 - quantile_param))\n\nyear_min = quantile_year[0] \nyear_min = 1960\ndf_cleared = df_cleared[(df_cleared['expected_salary'] >= year_min)]\nlen(df_cleared)\n\n# стаж работы с 16 лет; работал не больше, чем до пенсии\ndf_cleared = df_cleared[(2023 - df_cleared['work_experience_months'] / 12 - df_cleared['year_of_birth'] >= 16) & (df_cleared['work_experience_months'] <= 63 * 12)]\nlen(df_cleared)\n# print(500000 - len(df_cleared))",
      "outputs": []
    },
    {
      "id": "4ca172da-f7b5-4f13-a961-d7e31a429c14",
      "cell_type": "code",
      "metadata": {
        "jupyter": {
          "outputs_hidden": false,
          "source_hidden": false
        },
        "noteable": {
          "cell_type": "code",
          "output_collection_id": "276ccd67-a762-4c49-b636-a42c670b2c60"
        },
        "ExecuteTime": {
          "end_time": "2023-12-15T21:39:22.842778+00:00",
          "start_time": "2023-12-15T21:39:22.570197+00:00"
        }
      },
      "execution_count": null,
      "source": "# финальный статус - invitation или discrard\ndf_cleared = df_cleared[-((df.final_state == 'response') | (df.final_state.isna()))]\nlen(df_cleared)\n#print(500000 - len(df_cleared))",
      "outputs": []
    },
    {
      "id": "90064990-c394-40ac-9f2c-3129c802433d",
      "cell_type": "code",
      "metadata": {
        "jupyter": {
          "outputs_hidden": false,
          "source_hidden": false
        },
        "noteable": {
          "cell_type": "code",
          "output_collection_id": "02900025-f7cd-4573-ac3d-46546fbe583f"
        },
        "ExecuteTime": {
          "end_time": "2023-12-15T21:39:25.002148+00:00",
          "start_time": "2023-12-15T21:39:24.760700+00:00"
        }
      },
      "execution_count": null,
      "source": "df_cleared = df_cleared[df.education_level != 'doctor']\nlen(df_cleared)",
      "outputs": []
    },
    {
      "id": "78dcbc91-5da9-4fd7-bc09-c903f596c4aa",
      "cell_type": "code",
      "metadata": {
        "jupyter": {
          "outputs_hidden": false,
          "source_hidden": false
        },
        "noteable": {
          "cell_type": "code",
          "output_collection_id": "5955d678-4ef7-4707-a3f6-9dfe5ccf9f6c"
        },
        "ExecuteTime": {
          "end_time": "2023-12-15T21:39:27.299302+00:00",
          "start_time": "2023-12-15T21:39:27.058973+00:00"
        }
      },
      "execution_count": null,
      "source": "# избавляемся от дубликатов уникального показателя\ndf_cleared = df_cleared.drop_duplicates(['topic_id'])\nlen(df_cleared)",
      "outputs": []
    },
    {
      "id": "cabee26f-0180-4ff6-88f8-24b3b890e5ec",
      "cell_type": "code",
      "metadata": {
        "jupyter": {
          "outputs_hidden": false,
          "source_hidden": false
        },
        "noteable": {
          "cell_type": "code",
          "output_collection_id": "8a4992a3-52db-4d3b-a6a1-2bb1ae5c76ca"
        },
        "ExecuteTime": {
          "end_time": "2023-12-15T21:39:29.905062+00:00",
          "start_time": "2023-12-15T21:39:29.690256+00:00"
        }
      },
      "execution_count": null,
      "source": "# проверка на логику между compensation_from и compensation_to\ndf_cleared = df_cleared[(df_cleared.compensation_to.isna()) | (df_cleared.compensation_to == 0.0) | (df_cleared['compensation_from'] <= df_cleared['compensation_to'])]\nlen(df_cleared)",
      "outputs": []
    },
    {
      "id": "841960cb-3053-46b1-9e30-dc88f02cc75c",
      "cell_type": "code",
      "metadata": {
        "jupyter": {
          "outputs_hidden": false,
          "source_hidden": false
        },
        "noteable": {
          "cell_type": "code",
          "output_collection_id": "d53c15b3-193f-4645-b560-477364f27150"
        },
        "ExecuteTime": {
          "end_time": "2023-12-15T21:39:32.145001+00:00",
          "start_time": "2023-12-15T21:39:31.875012+00:00"
        }
      },
      "execution_count": null,
      "source": "# избавляемся от незаполненных полей\n# df_cleared = df_cleared.dropna(axis=0, subset=['education_level', 'initial_state', 'work_schedule', 'compensation_from', 'compensation_to'])\ndf_cleared = df_cleared.dropna(axis=0, subset=['education_level', 'initial_state', 'work_schedule'])\nlen(df_cleared)\n#print(500000 - len(df_cleared))",
      "outputs": []
    },
    {
      "id": "cfb10750-ace0-42b2-87b4-3abf2ba1bab2",
      "cell_type": "code",
      "metadata": {
        "jupyter": {
          "outputs_hidden": false,
          "source_hidden": false
        },
        "noteable": {
          "cell_type": "code",
          "output_collection_id": "de71fa4d-4e67-4a81-8dbe-c9b56d30b73e"
        },
        "ExecuteTime": {
          "end_time": "2023-12-15T21:39:35.928861+00:00",
          "start_time": "2023-12-15T21:39:35.241369+00:00"
        }
      },
      "execution_count": null,
      "source": "# замена final_state, gender и education_level\nfs_dict = {'discard': 0, 'invitation': 1}\ngender_dict = {'female': 0, 'male': 1}\n# education_dict = {'secondary': 1, 'special_secondary': 2, 'unfinished_higher': 3,\n#                'bachelor': 4, 'master': 5, 'higher': 6, 'candidate': 7, 'doctor': 8}\ndf_cleared = df_cleared.replace({'final_state': fs_dict, 'gender': gender_dict})\ndf_cleared.info()",
      "outputs": []
    },
    {
      "id": "cb554682-aaa0-403e-9665-ceb5564496ef",
      "cell_type": "code",
      "metadata": {
        "jupyter": {
          "outputs_hidden": false,
          "source_hidden": false
        },
        "noteable": {
          "cell_type": "code",
          "output_collection_id": "1a078018-74ea-4638-921c-35c699fdd03c"
        },
        "ExecuteTime": {
          "end_time": "2023-12-15T21:39:42.850229+00:00",
          "start_time": "2023-12-15T21:39:39.820741+00:00"
        },
        "datalink": {
          "dbb4e22d-ee32-4002-b502-f3fb6bf005d4": {
            "applied_filters": [],
            "dataframe_info": {
              "default_index_used": true,
              "orig_num_cols": 1,
              "orig_num_rows": 218748,
              "orig_size_bytes": 3499968,
              "truncated_num_cols": 1,
              "truncated_num_rows": 50000,
              "truncated_size_bytes": 800000,
              "truncated_string_columns": []
            },
            "display_id": "dbb4e22d-ee32-4002-b502-f3fb6bf005d4",
            "dx_settings": {
              "ALLOW_NOTEABLE_ATTRS": true,
              "COLUMN_SAMPLING_METHOD": "outer",
              "DB_LOCATION": ":memory:",
              "DEV_MODE": false,
              "DISPLAY_MAX_COLUMNS": 100,
              "DISPLAY_MAX_ROWS": 50000,
              "DISPLAY_MODE": "simple",
              "ENABLE_ASSIGNMENT": true,
              "ENABLE_DATALINK": true,
              "FLATTEN_COLUMN_VALUES": true,
              "FLATTEN_INDEX_VALUES": false,
              "GENERATE_DEX_METADATA": false,
              "HTML_TABLE_SCHEMA": false,
              "LOG_LEVEL": 30,
              "MAX_RENDER_SIZE_BYTES": 104857600,
              "MAX_STRING_LENGTH": 250,
              "NUM_PAST_SAMPLES_TRACKED": 3,
              "RANDOM_STATE": 12648430,
              "RESET_INDEX_VALUES": false,
              "ROW_SAMPLING_METHOD": "random",
              "SAMPLING_FACTOR": 0.1,
              "SAMPLING_METHOD": "random",
              "STRINGIFY_COLUMN_VALUES": true,
              "STRINGIFY_INDEX_VALUES": false
            },
            "sample_history": [],
            "sampling_time": "2023-12-15T14:05:17.673054",
            "user_variable_name": null,
            "variable_name": "unk_dataframe_4fe3af9398494b348f6837e39047fe45"
          },
          "ecbf7187-ec48-4516-b2e3-4adf5f112a9f": {
            "applied_filters": [],
            "dataframe_info": {
              "default_index_used": true,
              "orig_num_cols": 2,
              "orig_num_rows": 218748,
              "orig_size_bytes": 5249952,
              "truncated_num_cols": 2,
              "truncated_num_rows": 50000,
              "truncated_size_bytes": 1200000,
              "truncated_string_columns": []
            },
            "display_id": "ecbf7187-ec48-4516-b2e3-4adf5f112a9f",
            "dx_settings": {
              "ALLOW_NOTEABLE_ATTRS": true,
              "COLUMN_SAMPLING_METHOD": "outer",
              "DB_LOCATION": ":memory:",
              "DEV_MODE": false,
              "DISPLAY_MAX_COLUMNS": 100,
              "DISPLAY_MAX_ROWS": 50000,
              "DISPLAY_MODE": "simple",
              "ENABLE_ASSIGNMENT": true,
              "ENABLE_DATALINK": true,
              "FLATTEN_COLUMN_VALUES": true,
              "FLATTEN_INDEX_VALUES": false,
              "GENERATE_DEX_METADATA": false,
              "HTML_TABLE_SCHEMA": false,
              "LOG_LEVEL": 30,
              "MAX_RENDER_SIZE_BYTES": 104857600,
              "MAX_STRING_LENGTH": 250,
              "NUM_PAST_SAMPLES_TRACKED": 3,
              "RANDOM_STATE": 12648430,
              "RESET_INDEX_VALUES": false,
              "ROW_SAMPLING_METHOD": "random",
              "SAMPLING_FACTOR": 0.1,
              "SAMPLING_METHOD": "random",
              "STRINGIFY_COLUMN_VALUES": true,
              "STRINGIFY_INDEX_VALUES": false
            },
            "sample_history": [],
            "sampling_time": "2023-12-15T14:05:54.251486",
            "user_variable_name": null,
            "variable_name": "unk_dataframe_4b2171f89465402db8b022ebcb78c34a"
          },
          "0ee14e33-4ad9-470c-a03d-1e863963a484": {
            "applied_filters": [],
            "dataframe_info": {
              "default_index_used": true,
              "orig_num_cols": 2,
              "orig_num_rows": 218748,
              "orig_size_bytes": 5249952,
              "truncated_num_cols": 2,
              "truncated_num_rows": 50000,
              "truncated_size_bytes": 1200000,
              "truncated_string_columns": []
            },
            "display_id": "0ee14e33-4ad9-470c-a03d-1e863963a484",
            "dx_settings": {
              "ALLOW_NOTEABLE_ATTRS": true,
              "COLUMN_SAMPLING_METHOD": "outer",
              "DB_LOCATION": ":memory:",
              "DEV_MODE": false,
              "DISPLAY_MAX_COLUMNS": 100,
              "DISPLAY_MAX_ROWS": 50000,
              "DISPLAY_MODE": "simple",
              "ENABLE_ASSIGNMENT": true,
              "ENABLE_DATALINK": true,
              "FLATTEN_COLUMN_VALUES": true,
              "FLATTEN_INDEX_VALUES": false,
              "GENERATE_DEX_METADATA": false,
              "HTML_TABLE_SCHEMA": false,
              "LOG_LEVEL": 30,
              "MAX_RENDER_SIZE_BYTES": 104857600,
              "MAX_STRING_LENGTH": 250,
              "NUM_PAST_SAMPLES_TRACKED": 3,
              "RANDOM_STATE": 12648430,
              "RESET_INDEX_VALUES": false,
              "ROW_SAMPLING_METHOD": "random",
              "SAMPLING_FACTOR": 0.1,
              "SAMPLING_METHOD": "random",
              "STRINGIFY_COLUMN_VALUES": true,
              "STRINGIFY_INDEX_VALUES": false
            },
            "sample_history": [],
            "sampling_time": "2023-12-15T14:09:52.307331",
            "user_variable_name": null,
            "variable_name": "unk_dataframe_54d1d57952d0429f8bb59ddfdbf47f06"
          },
          "85c16661-2bcd-4830-991b-7cef783ba84e": {
            "applied_filters": [],
            "dataframe_info": {
              "default_index_used": true,
              "orig_num_cols": 2,
              "orig_num_rows": 218748,
              "orig_size_bytes": 5249952,
              "truncated_num_cols": 2,
              "truncated_num_rows": 50000,
              "truncated_size_bytes": 1200000,
              "truncated_string_columns": []
            },
            "display_id": "85c16661-2bcd-4830-991b-7cef783ba84e",
            "dx_settings": {
              "ALLOW_NOTEABLE_ATTRS": true,
              "COLUMN_SAMPLING_METHOD": "outer",
              "DB_LOCATION": ":memory:",
              "DEV_MODE": false,
              "DISPLAY_MAX_COLUMNS": 100,
              "DISPLAY_MAX_ROWS": 50000,
              "DISPLAY_MODE": "simple",
              "ENABLE_ASSIGNMENT": true,
              "ENABLE_DATALINK": true,
              "FLATTEN_COLUMN_VALUES": true,
              "FLATTEN_INDEX_VALUES": false,
              "GENERATE_DEX_METADATA": false,
              "HTML_TABLE_SCHEMA": false,
              "LOG_LEVEL": 30,
              "MAX_RENDER_SIZE_BYTES": 104857600,
              "MAX_STRING_LENGTH": 250,
              "NUM_PAST_SAMPLES_TRACKED": 3,
              "RANDOM_STATE": 12648430,
              "RESET_INDEX_VALUES": false,
              "ROW_SAMPLING_METHOD": "random",
              "SAMPLING_FACTOR": 0.1,
              "SAMPLING_METHOD": "random",
              "STRINGIFY_COLUMN_VALUES": true,
              "STRINGIFY_INDEX_VALUES": false
            },
            "sample_history": [],
            "sampling_time": "2023-12-15T14:11:34.571904",
            "user_variable_name": null,
            "variable_name": "unk_dataframe_c422d275686e4873aaa89899889827b4"
          },
          "d8d7576b-92bf-4a31-bbdb-fb4056561b8d": {
            "applied_filters": [],
            "dataframe_info": {
              "default_index_used": true,
              "orig_num_cols": 2,
              "orig_num_rows": 218748,
              "orig_size_bytes": 5249952,
              "truncated_num_cols": 2,
              "truncated_num_rows": 50000,
              "truncated_size_bytes": 1200000,
              "truncated_string_columns": []
            },
            "display_id": "d8d7576b-92bf-4a31-bbdb-fb4056561b8d",
            "dx_settings": {
              "ALLOW_NOTEABLE_ATTRS": true,
              "COLUMN_SAMPLING_METHOD": "outer",
              "DB_LOCATION": ":memory:",
              "DEV_MODE": false,
              "DISPLAY_MAX_COLUMNS": 100,
              "DISPLAY_MAX_ROWS": 50000,
              "DISPLAY_MODE": "simple",
              "ENABLE_ASSIGNMENT": true,
              "ENABLE_DATALINK": true,
              "FLATTEN_COLUMN_VALUES": true,
              "FLATTEN_INDEX_VALUES": false,
              "GENERATE_DEX_METADATA": false,
              "HTML_TABLE_SCHEMA": false,
              "LOG_LEVEL": 30,
              "MAX_RENDER_SIZE_BYTES": 104857600,
              "MAX_STRING_LENGTH": 250,
              "NUM_PAST_SAMPLES_TRACKED": 3,
              "RANDOM_STATE": 12648430,
              "RESET_INDEX_VALUES": false,
              "ROW_SAMPLING_METHOD": "random",
              "SAMPLING_FACTOR": 0.1,
              "SAMPLING_METHOD": "random",
              "STRINGIFY_COLUMN_VALUES": true,
              "STRINGIFY_INDEX_VALUES": false
            },
            "sample_history": [],
            "sampling_time": "2023-12-15T14:12:07.657587",
            "user_variable_name": null,
            "variable_name": "unk_dataframe_85836d0423e046fab803df47ba7a536f"
          },
          "e22676d8-519f-45e8-8187-416d7a97b374": {
            "applied_filters": [],
            "dataframe_info": {
              "default_index_used": true,
              "orig_num_cols": 2,
              "orig_num_rows": 218748,
              "orig_size_bytes": 5249952,
              "truncated_num_cols": 2,
              "truncated_num_rows": 50000,
              "truncated_size_bytes": 1200000,
              "truncated_string_columns": []
            },
            "display_id": "e22676d8-519f-45e8-8187-416d7a97b374",
            "dx_settings": {
              "ALLOW_NOTEABLE_ATTRS": true,
              "COLUMN_SAMPLING_METHOD": "outer",
              "DB_LOCATION": ":memory:",
              "DEV_MODE": false,
              "DISPLAY_MAX_COLUMNS": 100,
              "DISPLAY_MAX_ROWS": 50000,
              "DISPLAY_MODE": "simple",
              "ENABLE_ASSIGNMENT": true,
              "ENABLE_DATALINK": true,
              "FLATTEN_COLUMN_VALUES": true,
              "FLATTEN_INDEX_VALUES": false,
              "GENERATE_DEX_METADATA": false,
              "HTML_TABLE_SCHEMA": false,
              "LOG_LEVEL": 30,
              "MAX_RENDER_SIZE_BYTES": 104857600,
              "MAX_STRING_LENGTH": 250,
              "NUM_PAST_SAMPLES_TRACKED": 3,
              "RANDOM_STATE": 12648430,
              "RESET_INDEX_VALUES": false,
              "ROW_SAMPLING_METHOD": "random",
              "SAMPLING_FACTOR": 0.1,
              "SAMPLING_METHOD": "random",
              "STRINGIFY_COLUMN_VALUES": true,
              "STRINGIFY_INDEX_VALUES": false
            },
            "sample_history": [],
            "sampling_time": "2023-12-15T14:12:47.671640",
            "user_variable_name": null,
            "variable_name": "unk_dataframe_3136881a862149c08d1adffd875fa9eb"
          },
          "caede86c-fd3f-49a1-a5fb-78912b4794bd": {
            "applied_filters": [],
            "dataframe_info": {
              "default_index_used": true,
              "orig_num_cols": 2,
              "orig_num_rows": 218748,
              "orig_size_bytes": 5249952,
              "truncated_num_cols": 2,
              "truncated_num_rows": 50000,
              "truncated_size_bytes": 1200000,
              "truncated_string_columns": []
            },
            "display_id": "caede86c-fd3f-49a1-a5fb-78912b4794bd",
            "dx_settings": {
              "ALLOW_NOTEABLE_ATTRS": true,
              "COLUMN_SAMPLING_METHOD": "outer",
              "DB_LOCATION": ":memory:",
              "DEV_MODE": false,
              "DISPLAY_MAX_COLUMNS": 100,
              "DISPLAY_MAX_ROWS": 50000,
              "DISPLAY_MODE": "simple",
              "ENABLE_ASSIGNMENT": true,
              "ENABLE_DATALINK": true,
              "FLATTEN_COLUMN_VALUES": true,
              "FLATTEN_INDEX_VALUES": false,
              "GENERATE_DEX_METADATA": false,
              "HTML_TABLE_SCHEMA": false,
              "LOG_LEVEL": 30,
              "MAX_RENDER_SIZE_BYTES": 104857600,
              "MAX_STRING_LENGTH": 250,
              "NUM_PAST_SAMPLES_TRACKED": 3,
              "RANDOM_STATE": 12648430,
              "RESET_INDEX_VALUES": false,
              "ROW_SAMPLING_METHOD": "random",
              "SAMPLING_FACTOR": 0.1,
              "SAMPLING_METHOD": "random",
              "STRINGIFY_COLUMN_VALUES": true,
              "STRINGIFY_INDEX_VALUES": false
            },
            "sample_history": [],
            "sampling_time": "2023-12-15T14:13:21.595788",
            "user_variable_name": null,
            "variable_name": "unk_dataframe_f73cb7eb534d433fba555420701bb29b"
          },
          "fd20a173-382e-4562-b0fa-071e16ec5858": {
            "applied_filters": [],
            "dataframe_info": {
              "default_index_used": true,
              "orig_num_cols": 2,
              "orig_num_rows": 218748,
              "orig_size_bytes": 5249952,
              "truncated_num_cols": 2,
              "truncated_num_rows": 50000,
              "truncated_size_bytes": 1200000,
              "truncated_string_columns": []
            },
            "display_id": "fd20a173-382e-4562-b0fa-071e16ec5858",
            "dx_settings": {
              "ALLOW_NOTEABLE_ATTRS": true,
              "COLUMN_SAMPLING_METHOD": "outer",
              "DB_LOCATION": ":memory:",
              "DEV_MODE": false,
              "DISPLAY_MAX_COLUMNS": 100,
              "DISPLAY_MAX_ROWS": 50000,
              "DISPLAY_MODE": "simple",
              "ENABLE_ASSIGNMENT": true,
              "ENABLE_DATALINK": true,
              "FLATTEN_COLUMN_VALUES": true,
              "FLATTEN_INDEX_VALUES": false,
              "GENERATE_DEX_METADATA": false,
              "HTML_TABLE_SCHEMA": false,
              "LOG_LEVEL": 30,
              "MAX_RENDER_SIZE_BYTES": 104857600,
              "MAX_STRING_LENGTH": 250,
              "NUM_PAST_SAMPLES_TRACKED": 3,
              "RANDOM_STATE": 12648430,
              "RESET_INDEX_VALUES": false,
              "ROW_SAMPLING_METHOD": "random",
              "SAMPLING_FACTOR": 0.1,
              "SAMPLING_METHOD": "random",
              "STRINGIFY_COLUMN_VALUES": true,
              "STRINGIFY_INDEX_VALUES": false
            },
            "sample_history": [],
            "sampling_time": "2023-12-15T14:14:16.292212",
            "user_variable_name": null,
            "variable_name": "unk_dataframe_11466f9fdd7b48f182ce7a5f6cb849cf"
          },
          "9176a753-c00e-4dcd-a917-ddbe648aff0e": {
            "applied_filters": [],
            "dataframe_info": {
              "default_index_used": true,
              "orig_num_cols": 2,
              "orig_num_rows": 218748,
              "orig_size_bytes": 5249952,
              "truncated_num_cols": 2,
              "truncated_num_rows": 50000,
              "truncated_size_bytes": 1200000,
              "truncated_string_columns": []
            },
            "display_id": "9176a753-c00e-4dcd-a917-ddbe648aff0e",
            "dx_settings": {
              "ALLOW_NOTEABLE_ATTRS": true,
              "COLUMN_SAMPLING_METHOD": "outer",
              "DB_LOCATION": ":memory:",
              "DEV_MODE": false,
              "DISPLAY_MAX_COLUMNS": 100,
              "DISPLAY_MAX_ROWS": 50000,
              "DISPLAY_MODE": "simple",
              "ENABLE_ASSIGNMENT": true,
              "ENABLE_DATALINK": true,
              "FLATTEN_COLUMN_VALUES": true,
              "FLATTEN_INDEX_VALUES": false,
              "GENERATE_DEX_METADATA": false,
              "HTML_TABLE_SCHEMA": false,
              "LOG_LEVEL": 30,
              "MAX_RENDER_SIZE_BYTES": 104857600,
              "MAX_STRING_LENGTH": 250,
              "NUM_PAST_SAMPLES_TRACKED": 3,
              "RANDOM_STATE": 12648430,
              "RESET_INDEX_VALUES": false,
              "ROW_SAMPLING_METHOD": "random",
              "SAMPLING_FACTOR": 0.1,
              "SAMPLING_METHOD": "random",
              "STRINGIFY_COLUMN_VALUES": true,
              "STRINGIFY_INDEX_VALUES": false
            },
            "sample_history": [],
            "sampling_time": "2023-12-15T14:15:19.377904",
            "user_variable_name": null,
            "variable_name": "unk_dataframe_a12307a6d5634c4eb8a5308c05edb17a"
          },
          "34f2e0d9-f468-4a1f-b3f4-cf47c88f85de": {
            "applied_filters": [],
            "dataframe_info": {
              "default_index_used": true,
              "orig_num_cols": 2,
              "orig_num_rows": 218748,
              "orig_size_bytes": 5249952,
              "truncated_num_cols": 2,
              "truncated_num_rows": 50000,
              "truncated_size_bytes": 1200000,
              "truncated_string_columns": []
            },
            "display_id": "34f2e0d9-f468-4a1f-b3f4-cf47c88f85de",
            "dx_settings": {
              "ALLOW_NOTEABLE_ATTRS": true,
              "COLUMN_SAMPLING_METHOD": "outer",
              "DB_LOCATION": ":memory:",
              "DEV_MODE": false,
              "DISPLAY_MAX_COLUMNS": 100,
              "DISPLAY_MAX_ROWS": 50000,
              "DISPLAY_MODE": "simple",
              "ENABLE_ASSIGNMENT": true,
              "ENABLE_DATALINK": true,
              "FLATTEN_COLUMN_VALUES": true,
              "FLATTEN_INDEX_VALUES": false,
              "GENERATE_DEX_METADATA": false,
              "HTML_TABLE_SCHEMA": false,
              "LOG_LEVEL": 30,
              "MAX_RENDER_SIZE_BYTES": 104857600,
              "MAX_STRING_LENGTH": 250,
              "NUM_PAST_SAMPLES_TRACKED": 3,
              "RANDOM_STATE": 12648430,
              "RESET_INDEX_VALUES": false,
              "ROW_SAMPLING_METHOD": "random",
              "SAMPLING_FACTOR": 0.1,
              "SAMPLING_METHOD": "random",
              "STRINGIFY_COLUMN_VALUES": true,
              "STRINGIFY_INDEX_VALUES": false
            },
            "sample_history": [],
            "sampling_time": "2023-12-15T14:27:21.925056",
            "user_variable_name": null,
            "variable_name": "unk_dataframe_89134846b06046ad9c64cbc1588739f1"
          },
          "ca409bcb-5499-45ba-a222-cabf76fe8753": {
            "applied_filters": [],
            "dataframe_info": {
              "default_index_used": true,
              "orig_num_cols": 2,
              "orig_num_rows": 218748,
              "orig_size_bytes": 3718716,
              "truncated_num_cols": 2,
              "truncated_num_rows": 50000,
              "truncated_size_bytes": 850000,
              "truncated_string_columns": []
            },
            "display_id": "ca409bcb-5499-45ba-a222-cabf76fe8753",
            "dx_settings": {
              "ALLOW_NOTEABLE_ATTRS": true,
              "COLUMN_SAMPLING_METHOD": "outer",
              "DB_LOCATION": ":memory:",
              "DEV_MODE": false,
              "DISPLAY_MAX_COLUMNS": 100,
              "DISPLAY_MAX_ROWS": 50000,
              "DISPLAY_MODE": "simple",
              "ENABLE_ASSIGNMENT": true,
              "ENABLE_DATALINK": true,
              "FLATTEN_COLUMN_VALUES": true,
              "FLATTEN_INDEX_VALUES": false,
              "GENERATE_DEX_METADATA": false,
              "HTML_TABLE_SCHEMA": false,
              "LOG_LEVEL": 30,
              "MAX_RENDER_SIZE_BYTES": 104857600,
              "MAX_STRING_LENGTH": 250,
              "NUM_PAST_SAMPLES_TRACKED": 3,
              "RANDOM_STATE": 12648430,
              "RESET_INDEX_VALUES": false,
              "ROW_SAMPLING_METHOD": "random",
              "SAMPLING_FACTOR": 0.1,
              "SAMPLING_METHOD": "random",
              "STRINGIFY_COLUMN_VALUES": true,
              "STRINGIFY_INDEX_VALUES": false
            },
            "sample_history": [],
            "sampling_time": "2023-12-15T14:44:35.285992",
            "user_variable_name": null,
            "variable_name": "unk_dataframe_14e5e415438a4bb99ed9b7dfb3952620"
          },
          "0ba7c5ed-3484-4a14-8ed2-95ff1c5b0a27": {
            "applied_filters": [],
            "dataframe_info": {
              "default_index_used": true,
              "orig_num_cols": 2,
              "orig_num_rows": 218748,
              "orig_size_bytes": 3718716,
              "truncated_num_cols": 2,
              "truncated_num_rows": 50000,
              "truncated_size_bytes": 850000,
              "truncated_string_columns": []
            },
            "display_id": "0ba7c5ed-3484-4a14-8ed2-95ff1c5b0a27",
            "dx_settings": {
              "ALLOW_NOTEABLE_ATTRS": true,
              "COLUMN_SAMPLING_METHOD": "outer",
              "DB_LOCATION": ":memory:",
              "DEV_MODE": false,
              "DISPLAY_MAX_COLUMNS": 100,
              "DISPLAY_MAX_ROWS": 50000,
              "DISPLAY_MODE": "simple",
              "ENABLE_ASSIGNMENT": true,
              "ENABLE_DATALINK": true,
              "FLATTEN_COLUMN_VALUES": true,
              "FLATTEN_INDEX_VALUES": false,
              "GENERATE_DEX_METADATA": false,
              "HTML_TABLE_SCHEMA": false,
              "LOG_LEVEL": 30,
              "MAX_RENDER_SIZE_BYTES": 104857600,
              "MAX_STRING_LENGTH": 250,
              "NUM_PAST_SAMPLES_TRACKED": 3,
              "RANDOM_STATE": 12648430,
              "RESET_INDEX_VALUES": false,
              "ROW_SAMPLING_METHOD": "random",
              "SAMPLING_FACTOR": 0.1,
              "SAMPLING_METHOD": "random",
              "STRINGIFY_COLUMN_VALUES": true,
              "STRINGIFY_INDEX_VALUES": false
            },
            "sample_history": [],
            "sampling_time": "2023-12-15T14:45:20.975535",
            "user_variable_name": null,
            "variable_name": "unk_dataframe_5fc9d087429a4db2acb836cb83f8e23b"
          },
          "f2c30655-53cf-4ce1-a7df-53b807bc3243": {
            "applied_filters": [],
            "dataframe_info": {
              "default_index_used": true,
              "orig_num_cols": 2,
              "orig_num_rows": 218748,
              "orig_size_bytes": 5249952,
              "truncated_num_cols": 2,
              "truncated_num_rows": 50000,
              "truncated_size_bytes": 1200000,
              "truncated_string_columns": []
            },
            "display_id": "f2c30655-53cf-4ce1-a7df-53b807bc3243",
            "dx_settings": {
              "ALLOW_NOTEABLE_ATTRS": true,
              "COLUMN_SAMPLING_METHOD": "outer",
              "DB_LOCATION": ":memory:",
              "DEV_MODE": false,
              "DISPLAY_MAX_COLUMNS": 100,
              "DISPLAY_MAX_ROWS": 50000,
              "DISPLAY_MODE": "simple",
              "ENABLE_ASSIGNMENT": true,
              "ENABLE_DATALINK": true,
              "FLATTEN_COLUMN_VALUES": true,
              "FLATTEN_INDEX_VALUES": false,
              "GENERATE_DEX_METADATA": false,
              "HTML_TABLE_SCHEMA": false,
              "LOG_LEVEL": 30,
              "MAX_RENDER_SIZE_BYTES": 104857600,
              "MAX_STRING_LENGTH": 250,
              "NUM_PAST_SAMPLES_TRACKED": 3,
              "RANDOM_STATE": 12648430,
              "RESET_INDEX_VALUES": false,
              "ROW_SAMPLING_METHOD": "random",
              "SAMPLING_FACTOR": 0.1,
              "SAMPLING_METHOD": "random",
              "STRINGIFY_COLUMN_VALUES": true,
              "STRINGIFY_INDEX_VALUES": false
            },
            "sample_history": [],
            "sampling_time": "2023-12-15T14:49:29.354205",
            "user_variable_name": null,
            "variable_name": "unk_dataframe_561aeb15ab814887b3f03c1596bceb33"
          },
          "0fc4af49-b614-4d1a-b0bd-25e129a61b41": {
            "applied_filters": [],
            "dataframe_info": {
              "default_index_used": true,
              "orig_num_cols": 2,
              "orig_num_rows": 218748,
              "orig_size_bytes": 5249952,
              "truncated_num_cols": 2,
              "truncated_num_rows": 50000,
              "truncated_size_bytes": 1200000,
              "truncated_string_columns": []
            },
            "display_id": "0fc4af49-b614-4d1a-b0bd-25e129a61b41",
            "dx_settings": {
              "ALLOW_NOTEABLE_ATTRS": true,
              "COLUMN_SAMPLING_METHOD": "outer",
              "DB_LOCATION": ":memory:",
              "DEV_MODE": false,
              "DISPLAY_MAX_COLUMNS": 100,
              "DISPLAY_MAX_ROWS": 50000,
              "DISPLAY_MODE": "simple",
              "ENABLE_ASSIGNMENT": true,
              "ENABLE_DATALINK": true,
              "FLATTEN_COLUMN_VALUES": true,
              "FLATTEN_INDEX_VALUES": false,
              "GENERATE_DEX_METADATA": false,
              "HTML_TABLE_SCHEMA": false,
              "LOG_LEVEL": 30,
              "MAX_RENDER_SIZE_BYTES": 104857600,
              "MAX_STRING_LENGTH": 250,
              "NUM_PAST_SAMPLES_TRACKED": 3,
              "RANDOM_STATE": 12648430,
              "RESET_INDEX_VALUES": false,
              "ROW_SAMPLING_METHOD": "random",
              "SAMPLING_FACTOR": 0.1,
              "SAMPLING_METHOD": "random",
              "STRINGIFY_COLUMN_VALUES": true,
              "STRINGIFY_INDEX_VALUES": false
            },
            "sample_history": [],
            "sampling_time": "2023-12-15T19:21:56.911971",
            "user_variable_name": null,
            "variable_name": "unk_dataframe_8d71eeb39a4d433e9b745cf9065f7f06"
          },
          "ef0959b6-b65b-4fcb-ad21-e480e0854a8a": {
            "applied_filters": [],
            "dataframe_info": {
              "default_index_used": true,
              "orig_num_cols": 2,
              "orig_num_rows": 220470,
              "orig_size_bytes": 5291280,
              "truncated_num_cols": 2,
              "truncated_num_rows": 50000,
              "truncated_size_bytes": 1200000,
              "truncated_string_columns": [
                "topic_id"
              ]
            },
            "display_id": "ef0959b6-b65b-4fcb-ad21-e480e0854a8a",
            "dx_settings": {
              "ALLOW_NOTEABLE_ATTRS": true,
              "COLUMN_SAMPLING_METHOD": "outer",
              "DB_LOCATION": ":memory:",
              "DEV_MODE": false,
              "DISPLAY_MAX_COLUMNS": 100,
              "DISPLAY_MAX_ROWS": 50000,
              "DISPLAY_MODE": "simple",
              "ENABLE_ASSIGNMENT": true,
              "ENABLE_DATALINK": true,
              "FLATTEN_COLUMN_VALUES": true,
              "FLATTEN_INDEX_VALUES": false,
              "GENERATE_DEX_METADATA": false,
              "HTML_TABLE_SCHEMA": false,
              "LOG_LEVEL": 30,
              "MAX_RENDER_SIZE_BYTES": 104857600,
              "MAX_STRING_LENGTH": 250,
              "NUM_PAST_SAMPLES_TRACKED": 3,
              "RANDOM_STATE": 12648430,
              "RESET_INDEX_VALUES": false,
              "ROW_SAMPLING_METHOD": "random",
              "SAMPLING_FACTOR": 0.1,
              "SAMPLING_METHOD": "random",
              "STRINGIFY_COLUMN_VALUES": true,
              "STRINGIFY_INDEX_VALUES": false
            },
            "sample_history": [],
            "sampling_time": "2023-12-15T20:44:26.738610",
            "user_variable_name": null,
            "variable_name": "unk_dataframe_45677bfbcc14486d9cc939fe8cef77e8"
          },
          "2b3501d4-235b-4777-8824-e399f9847127": {
            "applied_filters": [],
            "dataframe_info": {
              "default_index_used": true,
              "orig_num_cols": 2,
              "orig_num_rows": 220470,
              "orig_size_bytes": 5291280,
              "truncated_num_cols": 2,
              "truncated_num_rows": 50000,
              "truncated_size_bytes": 1200000,
              "truncated_string_columns": [
                "topic_id"
              ]
            },
            "display_id": "2b3501d4-235b-4777-8824-e399f9847127",
            "dx_settings": {
              "ALLOW_NOTEABLE_ATTRS": true,
              "COLUMN_SAMPLING_METHOD": "outer",
              "DB_LOCATION": ":memory:",
              "DEV_MODE": false,
              "DISPLAY_MAX_COLUMNS": 100,
              "DISPLAY_MAX_ROWS": 50000,
              "DISPLAY_MODE": "simple",
              "ENABLE_ASSIGNMENT": true,
              "ENABLE_DATALINK": true,
              "FLATTEN_COLUMN_VALUES": true,
              "FLATTEN_INDEX_VALUES": false,
              "GENERATE_DEX_METADATA": false,
              "HTML_TABLE_SCHEMA": false,
              "LOG_LEVEL": 30,
              "MAX_RENDER_SIZE_BYTES": 104857600,
              "MAX_STRING_LENGTH": 250,
              "NUM_PAST_SAMPLES_TRACKED": 3,
              "RANDOM_STATE": 12648430,
              "RESET_INDEX_VALUES": false,
              "ROW_SAMPLING_METHOD": "random",
              "SAMPLING_FACTOR": 0.1,
              "SAMPLING_METHOD": "random",
              "STRINGIFY_COLUMN_VALUES": true,
              "STRINGIFY_INDEX_VALUES": false
            },
            "sample_history": [],
            "sampling_time": "2023-12-15T21:39:42.625158",
            "user_variable_name": null,
            "variable_name": "unk_dataframe_e198d07c10904058bf06680ea4b198ac"
          }
        },
        "dx": {
          "dashboard": {
            "multiViews": []
          },
          "fieldMetadata": {},
          "updated": 1702649493387,
          "views": [
            {
              "annotationRules": [],
              "chart": {},
              "chartMode": "grid",
              "confoRules": [],
              "decoration": {
                "footer": "",
                "subtitle": "",
                "title": "Table"
              },
              "facets": [],
              "filterSettings": {
                "SHOW_FILTER_PANEL": true,
                "filters": []
              },
              "id": "first-view",
              "isDefault": true,
              "type": "public",
              "userID": ""
            },
            {
              "annotationRules": [],
              "chart": {
                "tableSparklines": true
              },
              "chartMode": "grid",
              "confoRules": [],
              "decoration": {
                "footer": "",
                "subtitle": "",
                "title": "Table"
              },
              "facets": [],
              "filterSettings": {
                "SHOW_FILTER_PANEL": true,
                "filters": []
              },
              "id": "first-view",
              "isDefault": true,
              "isTransitory": true,
              "type": "public",
              "userID": ""
            }
          ]
        }
      },
      "execution_count": null,
      "source": "# df_cleared = df_cleared.assign(work_experience_months_norm = df_cleared['work_experience_months'] / 600)\ndf_cleared = df_cleared.assign(education_level_is_high = ((df_cleared['education_level'] == 'bachelor') | (df_cleared['education_level'] == 'master') | (df_cleared['education_level'] == 'higher') | (df_cleared['education_level'] == 'bachelor')))\ndf_cleared.education_level_is_high = df_cleared.education_level_is_high.replace({ True : 1 , False : 0 })\ndf_cleared[['topic_id', 'education_level_is_high']]",
      "outputs": []
    },
    {
      "id": "2f49226e-38ca-4e0d-b34d-12f8c2de729a",
      "cell_type": "code",
      "metadata": {
        "jupyter": {
          "outputs_hidden": false,
          "source_hidden": false
        },
        "noteable": {
          "cell_type": "code",
          "output_collection_id": "772f94ba-1cdf-43c4-92b7-4ed840cc9ad4"
        },
        "ExecuteTime": {
          "end_time": "2023-12-15T21:39:53.389665+00:00",
          "start_time": "2023-12-15T21:39:50.624112+00:00"
        },
        "datalink": {
          "c56e1540-c166-4310-b205-68ff88151856": {
            "applied_filters": [],
            "dataframe_info": {
              "default_index_used": true,
              "orig_num_cols": 2,
              "orig_num_rows": 220470,
              "orig_size_bytes": 5291280,
              "truncated_num_cols": 2,
              "truncated_num_rows": 50000,
              "truncated_size_bytes": 1200000,
              "truncated_string_columns": []
            },
            "display_id": "c56e1540-c166-4310-b205-68ff88151856",
            "dx_settings": {
              "ALLOW_NOTEABLE_ATTRS": true,
              "COLUMN_SAMPLING_METHOD": "outer",
              "DB_LOCATION": ":memory:",
              "DEV_MODE": false,
              "DISPLAY_MAX_COLUMNS": 100,
              "DISPLAY_MAX_ROWS": 50000,
              "DISPLAY_MODE": "simple",
              "ENABLE_ASSIGNMENT": true,
              "ENABLE_DATALINK": true,
              "FLATTEN_COLUMN_VALUES": true,
              "FLATTEN_INDEX_VALUES": false,
              "GENERATE_DEX_METADATA": false,
              "HTML_TABLE_SCHEMA": false,
              "LOG_LEVEL": 30,
              "MAX_RENDER_SIZE_BYTES": 104857600,
              "MAX_STRING_LENGTH": 250,
              "NUM_PAST_SAMPLES_TRACKED": 3,
              "RANDOM_STATE": 12648430,
              "RESET_INDEX_VALUES": false,
              "ROW_SAMPLING_METHOD": "random",
              "SAMPLING_FACTOR": 0.1,
              "SAMPLING_METHOD": "random",
              "STRINGIFY_COLUMN_VALUES": true,
              "STRINGIFY_INDEX_VALUES": false
            },
            "sample_history": [],
            "sampling_time": "2023-12-15T21:03:06.735354",
            "user_variable_name": null,
            "variable_name": "unk_dataframe_2f9a16e1679e4e6ea242f4c859551a0d"
          },
          "1d416326-26ea-4f84-8a70-218ffcbf5258": {
            "applied_filters": [],
            "dataframe_info": {
              "default_index_used": true,
              "orig_num_cols": 3,
              "orig_num_rows": 68,
              "orig_size_bytes": 2176,
              "truncated_num_cols": 3,
              "truncated_num_rows": 68,
              "truncated_size_bytes": 2176,
              "truncated_string_columns": []
            },
            "display_id": "1d416326-26ea-4f84-8a70-218ffcbf5258",
            "dx_settings": {
              "ALLOW_NOTEABLE_ATTRS": true,
              "COLUMN_SAMPLING_METHOD": "outer",
              "DB_LOCATION": ":memory:",
              "DEV_MODE": false,
              "DISPLAY_MAX_COLUMNS": 100,
              "DISPLAY_MAX_ROWS": 50000,
              "DISPLAY_MODE": "simple",
              "ENABLE_ASSIGNMENT": true,
              "ENABLE_DATALINK": true,
              "FLATTEN_COLUMN_VALUES": true,
              "FLATTEN_INDEX_VALUES": false,
              "GENERATE_DEX_METADATA": false,
              "HTML_TABLE_SCHEMA": false,
              "LOG_LEVEL": 30,
              "MAX_RENDER_SIZE_BYTES": 104857600,
              "MAX_STRING_LENGTH": 250,
              "NUM_PAST_SAMPLES_TRACKED": 3,
              "RANDOM_STATE": 12648430,
              "RESET_INDEX_VALUES": false,
              "ROW_SAMPLING_METHOD": "random",
              "SAMPLING_FACTOR": 0.1,
              "SAMPLING_METHOD": "random",
              "STRINGIFY_COLUMN_VALUES": true,
              "STRINGIFY_INDEX_VALUES": false
            },
            "sample_history": [],
            "sampling_time": "2023-12-15T21:03:34.310618",
            "user_variable_name": "df_prof",
            "variable_name": "df_prof"
          },
          "e62d8184-bcea-4602-a5bc-c952d7532b3c": {
            "applied_filters": [],
            "dataframe_info": {
              "default_index_used": true,
              "orig_num_cols": 2,
              "orig_num_rows": 220470,
              "orig_size_bytes": 5291280,
              "truncated_num_cols": 2,
              "truncated_num_rows": 50000,
              "truncated_size_bytes": 1200000,
              "truncated_string_columns": []
            },
            "display_id": "e62d8184-bcea-4602-a5bc-c952d7532b3c",
            "dx_settings": {
              "ALLOW_NOTEABLE_ATTRS": true,
              "COLUMN_SAMPLING_METHOD": "outer",
              "DB_LOCATION": ":memory:",
              "DEV_MODE": false,
              "DISPLAY_MAX_COLUMNS": 100,
              "DISPLAY_MAX_ROWS": 50000,
              "DISPLAY_MODE": "simple",
              "ENABLE_ASSIGNMENT": true,
              "ENABLE_DATALINK": true,
              "FLATTEN_COLUMN_VALUES": true,
              "FLATTEN_INDEX_VALUES": false,
              "GENERATE_DEX_METADATA": false,
              "HTML_TABLE_SCHEMA": false,
              "LOG_LEVEL": 30,
              "MAX_RENDER_SIZE_BYTES": 104857600,
              "MAX_STRING_LENGTH": 250,
              "NUM_PAST_SAMPLES_TRACKED": 3,
              "RANDOM_STATE": 12648430,
              "RESET_INDEX_VALUES": false,
              "ROW_SAMPLING_METHOD": "random",
              "SAMPLING_FACTOR": 0.1,
              "SAMPLING_METHOD": "random",
              "STRINGIFY_COLUMN_VALUES": true,
              "STRINGIFY_INDEX_VALUES": false
            },
            "sample_history": [],
            "sampling_time": "2023-12-15T21:03:48.953114",
            "user_variable_name": null,
            "variable_name": "unk_dataframe_cf122ea420654f9da5623faecd29d4ad"
          },
          "5542783e-a945-4488-b527-c29293917816": {
            "applied_filters": [],
            "dataframe_info": {
              "default_index_used": true,
              "orig_num_cols": 2,
              "orig_num_rows": 220470,
              "orig_size_bytes": 5291280,
              "truncated_num_cols": 2,
              "truncated_num_rows": 50000,
              "truncated_size_bytes": 1200000,
              "truncated_string_columns": []
            },
            "display_id": "5542783e-a945-4488-b527-c29293917816",
            "dx_settings": {
              "ALLOW_NOTEABLE_ATTRS": true,
              "COLUMN_SAMPLING_METHOD": "outer",
              "DB_LOCATION": ":memory:",
              "DEV_MODE": false,
              "DISPLAY_MAX_COLUMNS": 100,
              "DISPLAY_MAX_ROWS": 50000,
              "DISPLAY_MODE": "simple",
              "ENABLE_ASSIGNMENT": true,
              "ENABLE_DATALINK": true,
              "FLATTEN_COLUMN_VALUES": true,
              "FLATTEN_INDEX_VALUES": false,
              "GENERATE_DEX_METADATA": false,
              "HTML_TABLE_SCHEMA": false,
              "LOG_LEVEL": 30,
              "MAX_RENDER_SIZE_BYTES": 104857600,
              "MAX_STRING_LENGTH": 250,
              "NUM_PAST_SAMPLES_TRACKED": 3,
              "RANDOM_STATE": 12648430,
              "RESET_INDEX_VALUES": false,
              "ROW_SAMPLING_METHOD": "random",
              "SAMPLING_FACTOR": 0.1,
              "SAMPLING_METHOD": "random",
              "STRINGIFY_COLUMN_VALUES": true,
              "STRINGIFY_INDEX_VALUES": false
            },
            "sample_history": [],
            "sampling_time": "2023-12-15T21:33:58.798773",
            "user_variable_name": null,
            "variable_name": "unk_dataframe_9bc3307a92ed40df8de236b9ed5e81e1"
          },
          "411f7fcf-0f5d-4947-b6f5-5e977526429e": {
            "applied_filters": [],
            "dataframe_info": {
              "default_index_used": true,
              "orig_num_cols": 2,
              "orig_num_rows": 220470,
              "orig_size_bytes": 5291280,
              "truncated_num_cols": 2,
              "truncated_num_rows": 50000,
              "truncated_size_bytes": 1200000,
              "truncated_string_columns": []
            },
            "display_id": "411f7fcf-0f5d-4947-b6f5-5e977526429e",
            "dx_settings": {
              "ALLOW_NOTEABLE_ATTRS": true,
              "COLUMN_SAMPLING_METHOD": "outer",
              "DB_LOCATION": ":memory:",
              "DEV_MODE": false,
              "DISPLAY_MAX_COLUMNS": 100,
              "DISPLAY_MAX_ROWS": 50000,
              "DISPLAY_MODE": "simple",
              "ENABLE_ASSIGNMENT": true,
              "ENABLE_DATALINK": true,
              "FLATTEN_COLUMN_VALUES": true,
              "FLATTEN_INDEX_VALUES": false,
              "GENERATE_DEX_METADATA": false,
              "HTML_TABLE_SCHEMA": false,
              "LOG_LEVEL": 30,
              "MAX_RENDER_SIZE_BYTES": 104857600,
              "MAX_STRING_LENGTH": 250,
              "NUM_PAST_SAMPLES_TRACKED": 3,
              "RANDOM_STATE": 12648430,
              "RESET_INDEX_VALUES": false,
              "ROW_SAMPLING_METHOD": "random",
              "SAMPLING_FACTOR": 0.1,
              "SAMPLING_METHOD": "random",
              "STRINGIFY_COLUMN_VALUES": true,
              "STRINGIFY_INDEX_VALUES": false
            },
            "sample_history": [],
            "sampling_time": "2023-12-15T21:39:53.159946",
            "user_variable_name": null,
            "variable_name": "unk_dataframe_866ba8e601da4e608d0f485b66c7a3ab"
          }
        }
      },
      "execution_count": null,
      "source": "# разделение на группы по профессиям\ndf_prof = pd.read_excel(\"../datasets/hh_ru/profession_type.xlsx\")\n\ndict_prof = {('Программист, разработчик', 'Бухгалтер', 'Менеджер по логистике, менеджер по ВЭД', 'Оператор ПК, оператор базы данных', 'Менеджер по закупкам', 'Директор магазина, директор сети магазинов', 'Делопроизводитель, архивариус', 'Системный администратор', 'Тестировщик', 'Руководитель проектов', 'Диспетчер', 'Мерчандайзер', 'Аналитик', 'Начальник производства', 'Генеральный директор, исполнительный директор (CEO)', 'Менеджер ресторана', 'Начальник склада', 'Товаровед', 'Менеджер/руководитель АХО', 'Экономист', 'Кладовщик', 'Начальник смены, мастер участка', 'Координатор отдела продаж', 'Технолог', 'Кредитный специалист'): 'symbol', \n            ('Менеджер по продажам, менеджер по работе с клиентами',\n'Официант, бармен, бариста', 'Менеджер по персоналу', 'Специалист по подбору персонала', \n'Юрисконсульт', 'Руководитель отдела продаж', \n'Учитель, преподаватель, педагог', 'Офис-менеджер', 'Охранник', 'Воспитатель, няня',\n'Психолог', 'Секретарь, помощник руководителя, ассистент', \n'Финансовый менеджер', 'Кассир-операционист', \n'Торговый представитель', 'Врач', 'Администратор', 'Юрист', \n'Продавец-консультант, продавец-кассир', 'Менеджер по туризму', 'Фитнес-тренер, инструктор тренажерного зала', 'Оператор call-центра, специалист контактного центра', \n'Специалист по кадрам', 'Супервайзер', 'Специалист технической поддержки', 'Курьер', 'Уборщица, уборщик'): 'human', \n            ('Инженер-энергетик, инженер-электрик', 'Водитель', 'Сварщик', \n'Инженер-конструктор, инженер-проектировщик', 'Слесарь, сантехник', \n'Упаковщик, комплектовщик', 'Оператор производственной линии', \n'Машинист', 'Механик', 'Сервисный инженер, инженер-механик', \n'Инженер по охране труда и технике безопасности, инженер-эколог', 'Разнорабочий'): 'machinery', \n            ('Дизайнер, художник', 'SMM-менеджер, контент-менеджер', \n'Повар, пекарь, кондитер', 'Менеджер по маркетингу, интернет-маркетолог'): 'art'}\n\n\ndf_cleared.loc[:,'profession_type'] = df_cleared['profession'].apply(lambda x: [value for key, value in dict_prof.items() if x in key][0])\ndf_cleared[['profession', 'profession_type']]",
      "outputs": []
    },
    {
      "id": "2c881ac9-97d4-4d74-855f-5a8b1566a71f",
      "cell_type": "code",
      "metadata": {
        "jupyter": {
          "outputs_hidden": false,
          "source_hidden": false
        },
        "noteable": {
          "cell_type": "code",
          "output_collection_id": "81bf7245-00b9-489a-bd65-5dee03dd5938"
        },
        "ExecuteTime": {
          "end_time": "2023-12-15T21:32:34.179067+00:00",
          "start_time": "2023-12-15T21:32:33.988618+00:00"
        },
        "datalink": {
          "14f9d721-fffb-47ec-bdd8-84071cd82d44": {
            "applied_filters": [],
            "dataframe_info": {
              "default_index_used": true,
              "orig_num_cols": 27,
              "orig_num_rows": 10,
              "orig_size_bytes": 2240,
              "truncated_num_cols": 27,
              "truncated_num_rows": 10,
              "truncated_size_bytes": 2240,
              "truncated_string_columns": [
                "resume_skills_list"
              ]
            },
            "display_id": "14f9d721-fffb-47ec-bdd8-84071cd82d44",
            "dx_settings": {
              "ALLOW_NOTEABLE_ATTRS": true,
              "COLUMN_SAMPLING_METHOD": "outer",
              "DB_LOCATION": ":memory:",
              "DEV_MODE": false,
              "DISPLAY_MAX_COLUMNS": 100,
              "DISPLAY_MAX_ROWS": 50000,
              "DISPLAY_MODE": "simple",
              "ENABLE_ASSIGNMENT": true,
              "ENABLE_DATALINK": true,
              "FLATTEN_COLUMN_VALUES": true,
              "FLATTEN_INDEX_VALUES": false,
              "GENERATE_DEX_METADATA": false,
              "HTML_TABLE_SCHEMA": false,
              "LOG_LEVEL": 30,
              "MAX_RENDER_SIZE_BYTES": 104857600,
              "MAX_STRING_LENGTH": 250,
              "NUM_PAST_SAMPLES_TRACKED": 3,
              "RANDOM_STATE": 12648430,
              "RESET_INDEX_VALUES": false,
              "ROW_SAMPLING_METHOD": "random",
              "SAMPLING_FACTOR": 0.1,
              "SAMPLING_METHOD": "random",
              "STRINGIFY_COLUMN_VALUES": true,
              "STRINGIFY_INDEX_VALUES": false
            },
            "sample_history": [],
            "sampling_time": "2023-12-15T21:30:39.148001",
            "user_variable_name": null,
            "variable_name": "unk_dataframe_828da03bbbd74b97b35f6452c3e44523"
          },
          "33806816-55b9-4680-80de-f51734572351": {
            "applied_filters": [],
            "dataframe_info": {
              "default_index_used": true,
              "orig_num_cols": 27,
              "orig_num_rows": 10,
              "orig_size_bytes": 2240,
              "truncated_num_cols": 27,
              "truncated_num_rows": 10,
              "truncated_size_bytes": 2240,
              "truncated_string_columns": [
                "resume_skills_list"
              ]
            },
            "display_id": "33806816-55b9-4680-80de-f51734572351",
            "dx_settings": {
              "ALLOW_NOTEABLE_ATTRS": true,
              "COLUMN_SAMPLING_METHOD": "outer",
              "DB_LOCATION": ":memory:",
              "DEV_MODE": false,
              "DISPLAY_MAX_COLUMNS": 100,
              "DISPLAY_MAX_ROWS": 50000,
              "DISPLAY_MODE": "simple",
              "ENABLE_ASSIGNMENT": true,
              "ENABLE_DATALINK": true,
              "FLATTEN_COLUMN_VALUES": true,
              "FLATTEN_INDEX_VALUES": false,
              "GENERATE_DEX_METADATA": false,
              "HTML_TABLE_SCHEMA": false,
              "LOG_LEVEL": 30,
              "MAX_RENDER_SIZE_BYTES": 104857600,
              "MAX_STRING_LENGTH": 250,
              "NUM_PAST_SAMPLES_TRACKED": 3,
              "RANDOM_STATE": 12648430,
              "RESET_INDEX_VALUES": false,
              "ROW_SAMPLING_METHOD": "random",
              "SAMPLING_FACTOR": 0.1,
              "SAMPLING_METHOD": "random",
              "STRINGIFY_COLUMN_VALUES": true,
              "STRINGIFY_INDEX_VALUES": false
            },
            "sample_history": [],
            "sampling_time": "2023-12-15T21:31:30.782617",
            "user_variable_name": null,
            "variable_name": "unk_dataframe_e779a8fbd230477d8df6b9d5185fb1bf"
          }
        }
      },
      "execution_count": null,
      "source": "len(df[df['profession_type'] == 'machinery'])",
      "outputs": []
    },
    {
      "id": "c8bfca98-9feb-4e52-85a5-4854c03fe6cc",
      "cell_type": "code",
      "metadata": {
        "jupyter": {
          "outputs_hidden": false,
          "source_hidden": false
        },
        "noteable": {
          "cell_type": "code",
          "output_collection_id": "06ba5233-3e53-4e19-a15b-7c06de521a51"
        },
        "ExecuteTime": {
          "end_time": "2023-12-15T21:41:58.534955+00:00",
          "start_time": "2023-12-15T21:40:02.524147+00:00"
        }
      },
      "execution_count": null,
      "source": "df_cleared.to_excel('clear_final1.xlsx')",
      "outputs": []
    },
    {
      "id": "267ef323-a178-42bb-b3f4-34d4454ccd4b",
      "cell_type": "code",
      "metadata": {
        "jupyter": {
          "outputs_hidden": false,
          "source_hidden": false
        },
        "noteable": {
          "cell_type": "code",
          "output_collection_id": "ebdb20e9-0064-4a9f-b483-216f23a10d1b"
        },
        "ExecuteTime": {
          "end_time": "2023-12-15T19:30:24.972373+00:00",
          "start_time": "2023-12-15T19:30:23.944529+00:00"
        }
      },
      "execution_count": null,
      "source": "symbol = ['Программист, разработчик', 'Бухгалтер', 'Менеджер по логистике, менеджер по ВЭД', 'Оператор ПК, оператор базы данных', 'Менеджер по закупкам', 'Директор магазина, директор сети магазинов', 'Делопроизводитель, архивариус', 'Системный администратор', 'Тестировщик', 'Руководитель проектов', 'Диспетчер', 'Мерчандайзер', 'Аналитик', 'Начальник производства', 'Генеральный директор, исполнительный директор (CEO)', 'Менеджер ресторана', 'Начальник склада', 'Товаровед', 'Менеджер/руководитель АХО', 'Экономист', 'Кладовщик', 'Начальник смены, мастер участка', 'Координатор отдела продаж', 'Технолог', 'Кредитный специалист']\n\ndf_symbol = df_cleared.loc[df_cleared['profession'].isin(symbol)]\n\n#define response variable\ny = df_symbol['final_state']\n\n#define explanatory variable\nx = df_symbol[['education_level_norm', 'work_experience_months_norm', 'gender']]\n\n#add constant to predictor variables\nx = sm.add_constant (x)\n\n#fit linear regression model\nmodel = sm. OLS (y, x). fit ()\n\n#view model summary\nprint(model. summary ())",
      "outputs": []
    },
    {
      "id": "6072149f-0239-4237-840a-e3a5c31edc92",
      "cell_type": "code",
      "metadata": {
        "jupyter": {
          "outputs_hidden": false,
          "source_hidden": false
        },
        "noteable": {
          "cell_type": "code",
          "output_collection_id": "372b1075-bbad-4798-94ec-5a20b1112c95"
        },
        "ExecuteTime": {
          "end_time": "2023-12-15T19:22:07.875687+00:00",
          "start_time": "2023-12-15T19:22:05.624625+00:00"
        }
      },
      "execution_count": null,
      "source": "symbol = ['Программист, разработчик', 'Бухгалтер', 'Менеджер по логистике, менеджер по ВЭД', 'Оператор ПК, оператор базы данных', 'Менеджер по закупкам', 'Директор магазина, директор сети магазинов', 'Делопроизводитель, архивариус', 'Системный администратор', 'Тестировщик', 'Руководитель проектов', 'Диспетчер', 'Мерчандайзер', 'Аналитик', 'Начальник производства', 'Генеральный директор, исполнительный директор (CEO)', 'Менеджер ресторана', 'Начальник склада', 'Товаровед', 'Менеджер/руководитель АХО', 'Экономист', 'Кладовщик', 'Начальник смены, мастер участка', 'Координатор отдела продаж', 'Технолог', 'Кредитный специалист']\n\ndf_symbol = df_cleared.loc[df_cleared['profession'].isin(symbol)]\n\n# #define response variable\n# y = df_symbol['final_state']\n\n# #define explanatory variable\n# x = df_symbol[['education_level_norm', 'work_experience_months_norm', 'gender']]\n\n# #add constant to predictor variables\n# x = sm.add_constant (x)\n\n# #fit linear regression model\n# model = sm. OLS (y, x). fit ()\n\n# #view model summary\n# print(model. summary ())\n\n\n\n\n\n# model_1 = sm.GLM(\n#     df_human[\"final_state\"],\n#     df_human[['education_level_norm', 'work_experience_months_norm', 'gender']],\n#     family=families.Binomial(),\n# ).fit()\n# print(model_1.summary())\n\n\nmodel_1 = sm.GLM(\n    df_symbol[\"final_state\"],\n    df_symbol[['education_level_is_high', 'gender']],\n    family=families.Binomial(),\n).fit()\nprint(model_1.summary())\n",
      "outputs": []
    },
    {
      "id": "4b672e1f-ca1a-4d9e-8e0c-397f098e01ce",
      "cell_type": "code",
      "metadata": {
        "jupyter": {
          "outputs_hidden": false,
          "source_hidden": false
        },
        "noteable": {
          "cell_type": "code",
          "output_collection_id": "c5b9a05e-7b06-47c3-b140-03257ddd2290"
        },
        "ExecuteTime": {
          "end_time": "2023-12-15T14:54:25.093625+00:00",
          "start_time": "2023-12-15T14:54:22.622833+00:00"
        }
      },
      "execution_count": null,
      "source": "human = ['Менеджер по продажам, менеджер по работе с клиентами',\n'Официант, бармен, бариста', 'Менеджер по персоналу', 'Специалист по подбору персонала', \n'Юрисконсульт', 'Руководитель отдела продаж', \n'Учитель, преподаватель, педагог', 'Офис-менеджер', 'Охранник', 'Воспитатель, няня',\n'Психолог', 'Секретарь, помощник руководителя, ассистент', \n'Финансовый менеджер', 'Кассир-операционист', \n'Торговый представитель', 'Врач', 'Администратор', 'Юрист', \n'Продавец-консультант, продавец-кассир', 'Менеджер по туризму', 'Фитнес-тренер, инструктор тренажерного зала', 'Оператор call-центра, специалист контактного центра', \n'Специалист по кадрам', 'Супервайзер', 'Специалист технической поддержки', 'Курьер', 'Уборщица, уборщик']\n\ndf_human = df_cleared.loc[df_cleared['profession'].isin(human)]\n\n# #define response variable\n# y = df_human['final_state']\n\n# #define explanatory variable\n# x = df_human[['education_level_norm', 'work_experience_months_norm', 'gender']]\n\n# #add constant to predictor variables\n# x = sm.add_constant (x)\n\n# #fit linear regression model\n# model = sm. OLS (y, x). fit ()\n\n# #view model summary\n# print(model. summary ())\n\nmodel_1 = sm.GLM(\n    df_human[\"final_state\"],\n    df_human[['education_level_is_high', 'gender']],\n    family=families.Binomial(),\n).fit()\nprint(model_1.summary())",
      "outputs": []
    },
    {
      "id": "442cc1fa-ae44-4e84-90f2-e94e0317c971",
      "cell_type": "code",
      "metadata": {
        "jupyter": {
          "outputs_hidden": false,
          "source_hidden": false
        },
        "noteable": {
          "cell_type": "code",
          "output_collection_id": "60eafc73-6323-41c7-89c5-8362faa36346"
        },
        "ExecuteTime": {
          "end_time": "2023-12-15T19:33:00.375093+00:00",
          "start_time": "2023-12-15T19:32:58.743969+00:00"
        }
      },
      "execution_count": null,
      "source": "machinery = ['Инженер-энергетик, инженер-электрик', 'Водитель', 'Сварщик', \n'Инженер-конструктор, инженер-проектировщик', 'Слесарь, сантехник', \n'Упаковщик, комплектовщик', 'Оператор производственной линии', \n'Машинист', 'Механик', 'Сервисный инженер, инженер-механик', \n'Инженер по охране труда и технике безопасности, инженер-эколог', 'Разнорабочий']\n\ndf_machinery = df_cleared.loc[df_cleared['profession'].isin(machinery)]\n\n# #define response variable\n# y = df_machinery['final_state']\n\n# #define explanatory variable\n# x = df_machinery[['education_level_norm', 'work_experience_months_norm', 'gender']]\n\n# #add constant to predictor variables\n# x = sm.add_constant (x)\n\n# #fit linear regression model\n# model = sm. OLS (y, x). fit ()\n\n# #view model summary\n# print(model. summary ())\n\nmodel_1 = sm.GLM(\n    df_machinery[\"final_state\"],\n    df_machinery[['education_level_norm', 'gender']],\n    family=families.Binomial(),\n).fit()\nprint(model_1.summary())",
      "outputs": []
    },
    {
      "id": "77074edd-6df7-4af6-bc83-25fdad082aa5",
      "cell_type": "code",
      "metadata": {
        "jupyter": {
          "outputs_hidden": false,
          "source_hidden": false
        },
        "noteable": {
          "cell_type": "code",
          "output_collection_id": "db2518c5-29ad-4eec-84a8-210177e2ca93"
        },
        "ExecuteTime": {
          "end_time": "2023-12-15T14:51:03.583509+00:00",
          "start_time": "2023-12-15T14:51:01.729845+00:00"
        }
      },
      "execution_count": null,
      "source": "art = ['Дизайнер, художник', 'SMM-менеджер, контент-менеджер', \n'Повар, пекарь, кондитер', 'Менеджер по маркетингу, интернет-маркетолог']\n\n\ndf_art = df_cleared.loc[df_cleared['profession'].isin(art)]\n\n# #define response variable\n# y = df_art['final_state']\n\n# #define explanatory variable\n# x = df_art[['education_level_norm', 'work_experience_months_norm', 'gender']]\n\n# #add constant to predictor variables\n# x = sm.add_constant (x)\n\n# #fit linear regression model\n# model = sm. OLS (y, x). fit ()\n\n# #view model summary\n# print(model. summary ())\n\nmodel_1 = sm.GLM(\n    df_art[\"final_state\"],\n    df_art[['education_level_is_high', 'gender']],\n    family=families.Binomial(),\n).fit()\nprint(model_1.summary())",
      "outputs": []
    },
    {
      "id": "19ea74e9-5dcf-404d-922c-9511ab70767d",
      "cell_type": "code",
      "metadata": {
        "jupyter": {
          "outputs_hidden": false,
          "source_hidden": false
        },
        "noteable": {
          "cell_type": "code",
          "output_collection_id": "a3361214-603a-46b3-a2d7-90c8f657878e"
        },
        "ExecuteTime": {
          "end_time": "2023-12-14T16:12:20.259063+00:00",
          "start_time": "2023-12-14T16:12:13.027519+00:00"
        },
        "datalink": {
          "b06b8186-80b8-4067-9702-0a9c61b7b8c9": {
            "applied_filters": [],
            "dataframe_info": {
              "default_index_used": true,
              "orig_num_cols": 1,
              "orig_num_rows": 500000,
              "orig_size_bytes": 4500000,
              "truncated_num_cols": 1,
              "truncated_num_rows": 50000,
              "truncated_size_bytes": 450000,
              "truncated_string_columns": []
            },
            "display_id": "b06b8186-80b8-4067-9702-0a9c61b7b8c9",
            "dx_settings": {
              "ALLOW_NOTEABLE_ATTRS": true,
              "COLUMN_SAMPLING_METHOD": "outer",
              "DB_LOCATION": ":memory:",
              "DEV_MODE": false,
              "DISPLAY_MAX_COLUMNS": 100,
              "DISPLAY_MAX_ROWS": 50000,
              "DISPLAY_MODE": "simple",
              "ENABLE_ASSIGNMENT": true,
              "ENABLE_DATALINK": true,
              "FLATTEN_COLUMN_VALUES": true,
              "FLATTEN_INDEX_VALUES": false,
              "GENERATE_DEX_METADATA": false,
              "HTML_TABLE_SCHEMA": false,
              "LOG_LEVEL": 30,
              "MAX_RENDER_SIZE_BYTES": 104857600,
              "MAX_STRING_LENGTH": 250,
              "NUM_PAST_SAMPLES_TRACKED": 3,
              "RANDOM_STATE": 12648430,
              "RESET_INDEX_VALUES": false,
              "ROW_SAMPLING_METHOD": "random",
              "SAMPLING_FACTOR": 0.1,
              "SAMPLING_METHOD": "random",
              "STRINGIFY_COLUMN_VALUES": true,
              "STRINGIFY_INDEX_VALUES": false
            },
            "sample_history": [],
            "sampling_time": "2023-12-14T16:07:50.759339",
            "user_variable_name": null,
            "variable_name": "unk_dataframe_5e36879396aa45bbbf378eae64a38646"
          },
          "cdb1388b-7fbb-4d04-94d2-cdb6337d2134": {
            "applied_filters": [],
            "dataframe_info": {
              "default_index_used": true,
              "orig_num_cols": 26,
              "orig_num_rows": 500000,
              "orig_size_bytes": 17000000,
              "truncated_num_cols": 26,
              "truncated_num_rows": 50000,
              "truncated_size_bytes": 1700000,
              "truncated_string_columns": []
            },
            "display_id": "cdb1388b-7fbb-4d04-94d2-cdb6337d2134",
            "dx_settings": {
              "ALLOW_NOTEABLE_ATTRS": true,
              "COLUMN_SAMPLING_METHOD": "outer",
              "DB_LOCATION": ":memory:",
              "DEV_MODE": false,
              "DISPLAY_MAX_COLUMNS": 100,
              "DISPLAY_MAX_ROWS": 50000,
              "DISPLAY_MODE": "simple",
              "ENABLE_ASSIGNMENT": true,
              "ENABLE_DATALINK": true,
              "FLATTEN_COLUMN_VALUES": true,
              "FLATTEN_INDEX_VALUES": false,
              "GENERATE_DEX_METADATA": false,
              "HTML_TABLE_SCHEMA": false,
              "LOG_LEVEL": 30,
              "MAX_RENDER_SIZE_BYTES": 104857600,
              "MAX_STRING_LENGTH": 250,
              "NUM_PAST_SAMPLES_TRACKED": 3,
              "RANDOM_STATE": 12648430,
              "RESET_INDEX_VALUES": false,
              "ROW_SAMPLING_METHOD": "random",
              "SAMPLING_FACTOR": 0.1,
              "SAMPLING_METHOD": "random",
              "STRINGIFY_COLUMN_VALUES": true,
              "STRINGIFY_INDEX_VALUES": false
            },
            "sample_history": [],
            "sampling_time": "2023-12-14T16:10:47.879599",
            "user_variable_name": null,
            "variable_name": "unk_dataframe_19f94b81935d4d8c93f8d6861650d8a0"
          },
          "7ea00f79-4130-466a-beb5-ee294ae2dbfa": {
            "applied_filters": [],
            "dataframe_info": {
              "default_index_used": false,
              "orig_num_cols": 1,
              "orig_num_rows": 26,
              "orig_size_bytes": 416,
              "truncated_num_cols": 1,
              "truncated_num_rows": 26,
              "truncated_size_bytes": 416,
              "truncated_string_columns": []
            },
            "display_id": "7ea00f79-4130-466a-beb5-ee294ae2dbfa",
            "dx_settings": {
              "ALLOW_NOTEABLE_ATTRS": true,
              "COLUMN_SAMPLING_METHOD": "outer",
              "DB_LOCATION": ":memory:",
              "DEV_MODE": false,
              "DISPLAY_MAX_COLUMNS": 100,
              "DISPLAY_MAX_ROWS": 50000,
              "DISPLAY_MODE": "simple",
              "ENABLE_ASSIGNMENT": true,
              "ENABLE_DATALINK": true,
              "FLATTEN_COLUMN_VALUES": true,
              "FLATTEN_INDEX_VALUES": false,
              "GENERATE_DEX_METADATA": false,
              "HTML_TABLE_SCHEMA": false,
              "LOG_LEVEL": 30,
              "MAX_RENDER_SIZE_BYTES": 104857600,
              "MAX_STRING_LENGTH": 250,
              "NUM_PAST_SAMPLES_TRACKED": 3,
              "RANDOM_STATE": 12648430,
              "RESET_INDEX_VALUES": false,
              "ROW_SAMPLING_METHOD": "random",
              "SAMPLING_FACTOR": 0.1,
              "SAMPLING_METHOD": "random",
              "STRINGIFY_COLUMN_VALUES": true,
              "STRINGIFY_INDEX_VALUES": false
            },
            "sample_history": [],
            "sampling_time": "2023-12-14T16:12:20.097712",
            "user_variable_name": null,
            "variable_name": "unk_dataframe_1ecdf0254ed44f77a35de9434a207294"
          }
        }
      },
      "execution_count": null,
      "source": "df.isnull().sum()",
      "outputs": []
    }
  ]
}