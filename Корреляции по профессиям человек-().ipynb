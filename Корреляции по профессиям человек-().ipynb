{
  "nbformat": 4,
  "nbformat_minor": 5,
  "metadata": {
    "kernel_info": {
      "name": "python3"
    },
    "kernelspec": {
      "display_name": "Python 3.9",
      "identifier": "legacy",
      "language": "python",
      "language_version": "3.9",
      "name": "python3"
    },
    "selected_hardware_size": "small"
  },
  "cells": [
    {
      "id": "f1b34800",
      "cell_type": "code",
      "metadata": {
        "noteable": {
          "output_collection_id": "c5d30780-c5e9-452a-a735-10761352cada"
        },
        "ExecuteTime": {
          "end_time": "2023-12-14T19:19:54.741056+00:00",
          "start_time": "2023-12-14T19:19:52.424303+00:00"
        }
      },
      "execution_count": null,
      "source": "%ntbl pull datasets \"hh_ru/clear_final.xlsx\"\n%ntbl pull datasets \"hh_ru/professions.xlsx\"\n%ntbl pull datasets \"hh_ru/professions2.xlsx\"\n",
      "outputs": []
    },
    {
      "id": "564345fb-bc94-4a29-85bc-ebd7e248c734",
      "cell_type": "code",
      "metadata": {
        "jupyter": {
          "outputs_hidden": false,
          "source_hidden": false
        },
        "noteable": {
          "cell_type": "code",
          "output_collection_id": "81c456b7-14c4-4a16-8cd7-dc5ae5847a22"
        },
        "ExecuteTime": {
          "end_time": "2023-12-14T19:19:18.926586+00:00",
          "start_time": "2023-12-14T19:19:18.351718+00:00"
        }
      },
      "execution_count": null,
      "source": "import seaborn as sns\nimport matplotlib.pyplot as plt\nfrom matplotlib.patches import FancyBboxPatch",
      "outputs": []
    },
    {
      "id": "e29ec851-e1dd-4e39-9698-eb0afb6a1e2f",
      "cell_type": "code",
      "metadata": {
        "jupyter": {
          "outputs_hidden": false,
          "source_hidden": false
        },
        "noteable": {
          "cell_type": "code",
          "output_collection_id": "aba68be3-fa7e-4469-b2a4-2d458abd962d"
        },
        "ExecuteTime": {
          "end_time": "2023-12-14T19:21:18.571398+00:00",
          "start_time": "2023-12-14T19:19:56.749280+00:00"
        }
      },
      "execution_count": null,
      "source": "df = pd.read_excel(\"../datasets/hh_ru/clear_final.xlsx\")\ndf.info()",
      "outputs": []
    },
    {
      "id": "33d36de6-7637-4051-b6a1-6a533c9fbc4e",
      "cell_type": "code",
      "metadata": {
        "jupyter": {
          "outputs_hidden": false,
          "source_hidden": false
        },
        "noteable": {
          "cell_type": "code",
          "output_collection_id": "c52db22d-6b6e-4390-b359-a119626ef2b7"
        },
        "ExecuteTime": {
          "end_time": "2023-12-14T19:21:22.027064+00:00",
          "start_time": "2023-12-14T19:21:21.836669+00:00"
        },
        "datalink": {
          "a0c111ae-39a3-4418-a0e3-dcdadd273830": {
            "applied_filters": [],
            "dataframe_info": {
              "default_index_used": true,
              "orig_num_cols": 36,
              "orig_num_rows": 46021,
              "orig_size_bytes": 13622216,
              "truncated_num_cols": 36,
              "truncated_num_rows": 30196,
              "truncated_size_bytes": 8938016,
              "truncated_string_columns": [
                "resume_skills_list",
                "vacancy_skills_list",
                "resume_skills_parsed",
                "vacancy_skills_parsed",
                "skills_list_intersect"
              ]
            },
            "display_id": "a0c111ae-39a3-4418-a0e3-dcdadd273830",
            "dx_settings": {
              "ALLOW_NOTEABLE_ATTRS": true,
              "COLUMN_SAMPLING_METHOD": "outer",
              "DB_LOCATION": ":memory:",
              "DEV_MODE": false,
              "DISPLAY_MAX_COLUMNS": 100,
              "DISPLAY_MAX_ROWS": 50000,
              "DISPLAY_MODE": "simple",
              "ENABLE_ASSIGNMENT": true,
              "ENABLE_DATALINK": true,
              "FLATTEN_COLUMN_VALUES": true,
              "FLATTEN_INDEX_VALUES": false,
              "GENERATE_DEX_METADATA": false,
              "HTML_TABLE_SCHEMA": false,
              "LOG_LEVEL": 30,
              "MAX_RENDER_SIZE_BYTES": 104857600,
              "MAX_STRING_LENGTH": 250,
              "NUM_PAST_SAMPLES_TRACKED": 3,
              "RANDOM_STATE": 12648430,
              "RESET_INDEX_VALUES": false,
              "ROW_SAMPLING_METHOD": "random",
              "SAMPLING_FACTOR": 0.1,
              "SAMPLING_METHOD": "random",
              "STRINGIFY_COLUMN_VALUES": true,
              "STRINGIFY_INDEX_VALUES": false
            },
            "sample_history": [],
            "sampling_time": "2023-12-13T06:45:45.482422",
            "user_variable_name": null,
            "variable_name": "unk_dataframe_4a6b176d30e941ffba177678b89de380"
          },
          "bde27a8d-69cf-4f88-8642-e5754ba512db": {
            "applied_filters": [],
            "dataframe_info": {
              "default_index_used": true,
              "orig_num_cols": 1,
              "orig_num_rows": 46021,
              "orig_size_bytes": 736336,
              "truncated_num_cols": 1,
              "truncated_num_rows": 46021,
              "truncated_size_bytes": 736336,
              "truncated_string_columns": []
            },
            "display_id": "bde27a8d-69cf-4f88-8642-e5754ba512db",
            "dx_settings": {
              "ALLOW_NOTEABLE_ATTRS": true,
              "COLUMN_SAMPLING_METHOD": "outer",
              "DB_LOCATION": ":memory:",
              "DEV_MODE": false,
              "DISPLAY_MAX_COLUMNS": 100,
              "DISPLAY_MAX_ROWS": 50000,
              "DISPLAY_MODE": "simple",
              "ENABLE_ASSIGNMENT": true,
              "ENABLE_DATALINK": true,
              "FLATTEN_COLUMN_VALUES": true,
              "FLATTEN_INDEX_VALUES": false,
              "GENERATE_DEX_METADATA": false,
              "HTML_TABLE_SCHEMA": false,
              "LOG_LEVEL": 30,
              "MAX_RENDER_SIZE_BYTES": 104857600,
              "MAX_STRING_LENGTH": 250,
              "NUM_PAST_SAMPLES_TRACKED": 3,
              "RANDOM_STATE": 12648430,
              "RESET_INDEX_VALUES": false,
              "ROW_SAMPLING_METHOD": "random",
              "SAMPLING_FACTOR": 0.1,
              "SAMPLING_METHOD": "random",
              "STRINGIFY_COLUMN_VALUES": true,
              "STRINGIFY_INDEX_VALUES": false
            },
            "sample_history": [],
            "sampling_time": "2023-12-13T06:54:28.161531",
            "user_variable_name": null,
            "variable_name": "unk_dataframe_4987246415de4c2886bd3bb9db31f36b"
          }
        }
      },
      "execution_count": null,
      "source": "symbol = ['Программист, разработчик', 'Бухгалтер', 'Менеджер по логистике, менеджер по ВЭД', 'Оператор ПК, оператор базы данных', 'Менеджер по закупкам', 'Директор магазина, директор сети магазинов', 'Делопроизводитель, архивариус', 'Системный администратор', 'Тестировщик', 'Руководитель проектов', 'Диспетчер', 'Мерчандайзер', 'Аналитик', 'Начальник производства', 'Генеральный директор, исполнительный директор (CEO)', 'Менеджер ресторана', 'Начальник склада', 'Товаровед', 'Менеджер/руководитель АХО', 'Экономист', 'Кладовщик', 'Начальник смены, мастер участка', 'Координатор отдела продаж', 'Технолог', 'Кредитный специалист']\n\ndf_symbol = df.loc[df['profession'].isin(symbol)]",
      "outputs": []
    },
    {
      "id": "a073e800-20e4-40e9-a22b-d0384281b7a9",
      "cell_type": "code",
      "metadata": {
        "jupyter": {
          "outputs_hidden": false,
          "source_hidden": false
        },
        "noteable": {
          "cell_type": "code",
          "output_collection_id": "7a279730-c8f0-4809-b591-3fa017fef68f"
        },
        "ExecuteTime": {
          "end_time": "2023-12-14T20:16:26.099599+00:00",
          "start_time": "2023-12-14T20:16:25.447227+00:00"
        }
      },
      "execution_count": null,
      "source": "sns.set(font_scale=1.15, style=\"whitegrid\")\n\nplt.figure(figsize=(15,8))\ncor = df_symbol[['year_of_birth', 'expected_salary', 'work_experience_months', 'compensation_from', 'compensation_to', 'education_level', 'gender', 'final_state']].corr().round(2)\nax = sns.heatmap(cor, annot=True, vmin=-1, vmax=1, center=0, cmap='BrBG_r', fmt='.2g', xticklabels=['Год \\nрождения', 'Ожидаемая \\nзарплата', 'Опыт \\nработы \\nв месяцах', 'Предла-\\nгаемая \\nзаплата \\nмин', 'Предла-\\nгаемая \\nзарплата \\nмакс', 'Уровень \\nобразования', 'Пол', 'Финальный \\nстатус'], yticklabels=['Год рождения', 'Ожидаемая зарплата', 'Опыт работы в месяцах', 'Предлагаемая заплата мин', 'Предлагаемая зарплата макс', 'Уровень образования', 'Пол', 'Финальный статус'])\nsns.color_palette(\"rocket\", as_cmap=True)\nax.set_xticklabels(ax.get_xticklabels(), rotation=0)\n\nax.set_title('Человек-символ')",
      "outputs": []
    },
    {
      "id": "d27364ca-055c-43eb-9fae-1218e4547691",
      "cell_type": "code",
      "metadata": {
        "jupyter": {
          "outputs_hidden": false,
          "source_hidden": false
        },
        "noteable": {
          "cell_type": "code",
          "output_collection_id": "6ca5f3b1-e5b3-49f9-ad58-e19efcfb4270"
        },
        "ExecuteTime": {
          "end_time": "2023-12-14T20:05:54.830871+00:00",
          "start_time": "2023-12-14T20:05:54.650490+00:00"
        }
      },
      "execution_count": null,
      "source": "human = ['Менеджер по продажам, менеджер по работе с клиентами',\n'Официант, бармен, бариста', 'Менеджер по персоналу', 'Специалист по подбору персонала', \n'Юрисконсульт', 'Руководитель отдела продаж', \n'Учитель, преподаватель, педагог', 'Офис-менеджер', 'Охранник', 'Воспитатель, няня',\n'Психолог', 'Секретарь, помощник руководителя, ассистент', \n'Финансовый менеджер', 'Кассир-операционист', \n'Торговый представитель', 'Врач', 'Администратор', 'Юрист', \n'Продавец-консультант, продавец-кассир', 'Менеджер по туризму', 'Фитнес-тренер, инструктор тренажерного зала', 'Оператор call-центра, специалист контактного центра', \n'Специалист по кадрам', 'Супервайзер', 'Специалист технической поддержки', 'Курьер', 'Уборщица, уборщик']\n\ndf_human = df.loc[df['profession'].isin(human)]\n#len(df_human)",
      "outputs": []
    },
    {
      "id": "2ee791c5-f002-43d4-aef4-a7a43999b4e4",
      "cell_type": "code",
      "metadata": {
        "jupyter": {
          "outputs_hidden": false,
          "source_hidden": false
        },
        "noteable": {
          "cell_type": "code",
          "output_collection_id": "b6cb1803-f2a8-48e3-b686-6b5cdcf6c13a"
        },
        "ExecuteTime": {
          "end_time": "2023-12-14T20:16:17.540881+00:00",
          "start_time": "2023-12-14T20:16:16.906467+00:00"
        }
      },
      "execution_count": null,
      "source": "sns.set(font_scale=1.15, style=\"whitegrid\")\n\nplt.figure(figsize=(15,8))\ncor = df_human[['year_of_birth', 'expected_salary', 'work_experience_months', 'compensation_from', 'compensation_to', 'education_level', 'gender', 'final_state']].corr().round(2)\nax = sns.heatmap(cor, annot=True, vmin=-1, vmax=1, center=0, cmap='BrBG_r', xticklabels=['Год \\nрождения', 'Ожидаемая \\nзарплата', 'Опыт \\nработы \\nв месяцах', 'Предла-\\nгаемая \\nзаплата \\nмин', 'Предла-\\nгаемая \\nзарплата \\nмакс', 'Уровень \\nобразования', 'Пол', 'Финальный \\nстатус'], yticklabels=['Год рождения', 'Ожидаемая зарплата', 'Опыт работы в месяцах', 'Предлагаемая заплата мин', 'Предлагаемая зарплата макс', 'Уровень образования', 'Пол', 'Финальный статус'])\nsns.color_palette(\"rocket\", as_cmap=True)\nax.set_xticklabels(ax.get_xticklabels(), rotation=0)\nax.set_title('Человек-человек')\n#  linecolor=(54/256, 22/256, 7/256), linewidth=1",
      "outputs": []
    },
    {
      "id": "461e4d63-d6a9-4f97-9e77-580b0d4dd89b",
      "cell_type": "code",
      "metadata": {
        "jupyter": {
          "outputs_hidden": false,
          "source_hidden": false
        },
        "noteable": {
          "cell_type": "code",
          "output_collection_id": "fb523e12-9d08-4fd2-95ab-213c59dba7a0"
        },
        "ExecuteTime": {
          "end_time": "2023-12-14T20:06:39.136745+00:00",
          "start_time": "2023-12-14T20:06:38.968586+00:00"
        }
      },
      "execution_count": null,
      "source": "machinery = ['Инженер-энергетик, инженер-электрик', 'Водитель', 'Сварщик', \n'Инженер-конструктор, инженер-проектировщик', 'Слесарь, сантехник', \n'Упаковщик, комплектовщик', 'Оператор производственной линии', \n'Машинист', 'Механик', 'Сервисный инженер, инженер-механик', \n'Инженер по охране труда и технике безопасности, инженер-эколог', 'Разнорабочий']\n\ndf_machinery = df.loc[df['profession'].isin(machinery)]",
      "outputs": []
    },
    {
      "id": "54532c94-9c94-4822-b16d-6b8bfe12ce8f",
      "cell_type": "code",
      "metadata": {
        "jupyter": {
          "outputs_hidden": false,
          "source_hidden": false
        },
        "noteable": {
          "cell_type": "code",
          "output_collection_id": "14bbbcbe-9f96-4395-b794-9d61e7a6ef66"
        },
        "ExecuteTime": {
          "end_time": "2023-12-14T20:15:57.479671+00:00",
          "start_time": "2023-12-14T20:15:56.791289+00:00"
        }
      },
      "execution_count": null,
      "source": "sns.set(font_scale=1.15, style=\"whitegrid\")\n\nplt.figure(figsize=(15,8))\ncor = df_machinery[['year_of_birth', 'expected_salary', 'work_experience_months', 'compensation_from', 'compensation_to', 'education_level', 'gender', 'final_state']].corr().round(2)\nax = sns.heatmap(cor, annot=True, vmin=-1, vmax=1, center=0, cmap='BrBG_r', xticklabels=['Год \\nрождения', 'Ожидаемая \\nзарплата', 'Опыт \\nработы \\nв месяцах', 'Предла-\\nгаемая \\nзаплата \\nмин', 'Предла-\\nгаемая \\nзарплата \\nмакс', 'Уровень \\nобразования', 'Пол', 'Финальный \\nстатус'], yticklabels=['Год рождения', 'Ожидаемая зарплата', 'Опыт работы в месяцах', 'Предлагаемая заплата мин', 'Предлагаемая зарплата макс', 'Уровень образования', 'Пол', 'Финальный статус'])\nsns.color_palette(\"rocket\", as_cmap=True)\nax.set_xticklabels(ax.get_xticklabels(), rotation=0)\nax.set_title('Человек-техника')",
      "outputs": []
    },
    {
      "id": "1174bc5a-2fd2-4c9a-ad91-1468eff09d90",
      "cell_type": "code",
      "metadata": {
        "jupyter": {
          "outputs_hidden": false,
          "source_hidden": false
        },
        "noteable": {
          "cell_type": "code",
          "output_collection_id": "b92f2b11-3319-4fe3-a028-adf4c0761f42"
        },
        "ExecuteTime": {
          "end_time": "2023-12-14T20:07:05.507428+00:00",
          "start_time": "2023-12-14T20:07:05.341947+00:00"
        }
      },
      "execution_count": null,
      "source": "art = ['Дизайнер, художник', 'SMM-менеджер, контент-менеджер', \n'Повар, пекарь, кондитер', 'Менеджер по маркетингу, интернет-маркетолог']\n\ndf_art = df.loc[df['profession'].isin(art)]",
      "outputs": []
    },
    {
      "id": "f9dc55f1-70ca-445b-ac2c-8a6fb7583f27",
      "cell_type": "code",
      "metadata": {
        "jupyter": {
          "outputs_hidden": false,
          "source_hidden": false
        },
        "noteable": {
          "cell_type": "code",
          "output_collection_id": "52c0167c-5969-439d-b668-9d27098c03bf"
        },
        "ExecuteTime": {
          "end_time": "2023-12-14T20:15:09.756941+00:00",
          "start_time": "2023-12-14T20:15:09.125306+00:00"
        }
      },
      "execution_count": null,
      "source": "sns.set(font_scale=1.15, style=\"whitegrid\")\n\nplt.figure(figsize=(15,8))\ncor = df_art[['year_of_birth', 'expected_salary', 'work_experience_months', 'compensation_from', 'compensation_to', 'education_level', 'gender', 'final_state']].corr().round(2)\nax = sns.heatmap(cor, annot=True, vmin=-1, vmax=1, center=0, cmap='BrBG_r', xticklabels=['Год \\nрождения', 'Ожидаемая \\nзарплата', 'Опыт \\nработы \\nв месяцах', 'Предла-\\nгаемая \\nзаплата \\nмин', 'Предла-\\nгаемая \\nзарплата \\nмакс', 'Уровень \\nобразования', 'Пол', 'Финальный \\nстатус'], yticklabels=['Год рождения', 'Ожидаемая зарплата', 'Опыт работы в месяцах', 'Предлагаемая заплата мин', 'Предлагаемая зарплата макс', 'Уровень образования', 'Пол', 'Финальный статус'])\nsns.color_palette(\"rocket\", as_cmap=True)\nax.set_xticklabels(ax.get_xticklabels(), rotation=0)\nax.set_title('Человек-искусство')",
      "outputs": []
    },
    {
      "id": "2d343db9-bce2-4891-9e7a-d0c701e1f3dd",
      "cell_type": "markdown",
      "source": "professions2",
      "metadata": {
        "noteable": {
          "cell_type": "markdown"
        }
      }
    },
    {
      "id": "185b5bfd-1c30-42ee-894a-d4e99a73e0e1",
      "cell_type": "code",
      "metadata": {
        "jupyter": {
          "outputs_hidden": false,
          "source_hidden": false
        },
        "noteable": {
          "cell_type": "code",
          "output_collection_id": "80d15e3a-b67e-485d-a345-f4ea080dcb6e"
        },
        "ExecuteTime": {
          "end_time": "2023-12-13T14:50:01.672033+00:00",
          "start_time": "2023-12-13T14:50:01.478844+00:00"
        },
        "datalink": {
          "e664727d-4ed6-4bd2-bfe6-31913d21fccb": {
            "applied_filters": [],
            "dataframe_info": {
              "default_index_used": true,
              "orig_num_cols": 4,
              "orig_num_rows": 27,
              "orig_size_bytes": 1080,
              "truncated_num_cols": 4,
              "truncated_num_rows": 27,
              "truncated_size_bytes": 1080,
              "truncated_string_columns": []
            },
            "display_id": "e664727d-4ed6-4bd2-bfe6-31913d21fccb",
            "dx_settings": {
              "ALLOW_NOTEABLE_ATTRS": true,
              "COLUMN_SAMPLING_METHOD": "outer",
              "DB_LOCATION": ":memory:",
              "DEV_MODE": false,
              "DISPLAY_MAX_COLUMNS": 100,
              "DISPLAY_MAX_ROWS": 50000,
              "DISPLAY_MODE": "simple",
              "ENABLE_ASSIGNMENT": true,
              "ENABLE_DATALINK": true,
              "FLATTEN_COLUMN_VALUES": true,
              "FLATTEN_INDEX_VALUES": false,
              "GENERATE_DEX_METADATA": false,
              "HTML_TABLE_SCHEMA": false,
              "LOG_LEVEL": 30,
              "MAX_RENDER_SIZE_BYTES": 104857600,
              "MAX_STRING_LENGTH": 250,
              "NUM_PAST_SAMPLES_TRACKED": 3,
              "RANDOM_STATE": 12648430,
              "RESET_INDEX_VALUES": false,
              "ROW_SAMPLING_METHOD": "random",
              "SAMPLING_FACTOR": 0.1,
              "SAMPLING_METHOD": "random",
              "STRINGIFY_COLUMN_VALUES": true,
              "STRINGIFY_INDEX_VALUES": false
            },
            "sample_history": [],
            "sampling_time": "2023-12-13T14:47:06.673162",
            "user_variable_name": "df_prof2",
            "variable_name": "df_prof2"
          },
          "979904aa-ef6f-45be-b584-13c62c872665": {
            "applied_filters": [],
            "dataframe_info": {
              "default_index_used": true,
              "orig_num_cols": 1,
              "orig_num_rows": 27,
              "orig_size_bytes": 432,
              "truncated_num_cols": 1,
              "truncated_num_rows": 27,
              "truncated_size_bytes": 432,
              "truncated_string_columns": []
            },
            "display_id": "979904aa-ef6f-45be-b584-13c62c872665",
            "dx_settings": {
              "ALLOW_NOTEABLE_ATTRS": true,
              "COLUMN_SAMPLING_METHOD": "outer",
              "DB_LOCATION": ":memory:",
              "DEV_MODE": false,
              "DISPLAY_MAX_COLUMNS": 100,
              "DISPLAY_MAX_ROWS": 50000,
              "DISPLAY_MODE": "simple",
              "ENABLE_ASSIGNMENT": true,
              "ENABLE_DATALINK": true,
              "FLATTEN_COLUMN_VALUES": true,
              "FLATTEN_INDEX_VALUES": false,
              "GENERATE_DEX_METADATA": false,
              "HTML_TABLE_SCHEMA": false,
              "LOG_LEVEL": 30,
              "MAX_RENDER_SIZE_BYTES": 104857600,
              "MAX_STRING_LENGTH": 250,
              "NUM_PAST_SAMPLES_TRACKED": 3,
              "RANDOM_STATE": 12648430,
              "RESET_INDEX_VALUES": false,
              "ROW_SAMPLING_METHOD": "random",
              "SAMPLING_FACTOR": 0.1,
              "SAMPLING_METHOD": "random",
              "STRINGIFY_COLUMN_VALUES": true,
              "STRINGIFY_INDEX_VALUES": false
            },
            "sample_history": [],
            "sampling_time": "2023-12-13T14:47:34.917411",
            "user_variable_name": "df_prof2",
            "variable_name": "df_prof2"
          },
          "0a502653-2522-4b20-93a1-8590905dea3f": {
            "applied_filters": [],
            "dataframe_info": {
              "default_index_used": true,
              "orig_num_cols": 36,
              "orig_num_rows": 47347,
              "orig_size_bytes": 14014712,
              "truncated_num_cols": 36,
              "truncated_num_rows": 31066,
              "truncated_size_bytes": 9195536,
              "truncated_string_columns": [
                "resume_skills_list",
                "vacancy_skills_list",
                "resume_skills_parsed",
                "vacancy_skills_parsed",
                "skills_list_intersect"
              ]
            },
            "display_id": "0a502653-2522-4b20-93a1-8590905dea3f",
            "dx_settings": {
              "ALLOW_NOTEABLE_ATTRS": true,
              "COLUMN_SAMPLING_METHOD": "outer",
              "DB_LOCATION": ":memory:",
              "DEV_MODE": false,
              "DISPLAY_MAX_COLUMNS": 100,
              "DISPLAY_MAX_ROWS": 50000,
              "DISPLAY_MODE": "simple",
              "ENABLE_ASSIGNMENT": true,
              "ENABLE_DATALINK": true,
              "FLATTEN_COLUMN_VALUES": true,
              "FLATTEN_INDEX_VALUES": false,
              "GENERATE_DEX_METADATA": false,
              "HTML_TABLE_SCHEMA": false,
              "LOG_LEVEL": 30,
              "MAX_RENDER_SIZE_BYTES": 104857600,
              "MAX_STRING_LENGTH": 250,
              "NUM_PAST_SAMPLES_TRACKED": 3,
              "RANDOM_STATE": 12648430,
              "RESET_INDEX_VALUES": false,
              "ROW_SAMPLING_METHOD": "random",
              "SAMPLING_FACTOR": 0.1,
              "SAMPLING_METHOD": "random",
              "STRINGIFY_COLUMN_VALUES": true,
              "STRINGIFY_INDEX_VALUES": false
            },
            "sample_history": [],
            "sampling_time": "2023-12-13T14:48:47.321351",
            "user_variable_name": "df_symbol2",
            "variable_name": "df_symbol2"
          }
        }
      },
      "execution_count": null,
      "source": "df_prof2_symbol = pd.read_excel('../datasets/hh_ru/professions2.xlsx', sheet_name='symbol')['profession']\ndf_symbol2 = df.loc[df['profession'].isin(df_prof2_symbol)]\n",
      "outputs": []
    },
    {
      "id": "a312d9c5-20a5-42d5-9d64-588719a01806",
      "cell_type": "code",
      "metadata": {
        "jupyter": {
          "outputs_hidden": false,
          "source_hidden": false
        },
        "noteable": {
          "cell_type": "code",
          "output_collection_id": "b5de72f0-3ea6-4cc8-9452-1de06ddbddd7"
        },
        "ExecuteTime": {
          "end_time": "2023-12-13T14:50:24.431388+00:00",
          "start_time": "2023-12-13T14:50:23.613745+00:00"
        }
      },
      "execution_count": null,
      "source": "sns.set(font_scale=1.15, style=\"whitegrid\")\n\nplt.figure(figsize=(10,5))\ncor = df_symbol2[['year_of_birth', 'expected_salary', 'work_experience_months', 'compensation_from', 'compensation_to', 'education_level', 'gender', 'final_state']].corr()\nax = sns.heatmap(cor, annot=True, vmin=-1, vmax=1, center=0, cmap='BrBG_r')\nsns.color_palette(\"rocket\", as_cmap=True)\nax.set_xticklabels(ax.get_xticklabels(), rotation=30, ha='right')\nax.set_title('Человек-символ2')",
      "outputs": []
    },
    {
      "id": "b77a29e0-39a1-4abc-b343-67f2bfa1cd07",
      "cell_type": "code",
      "metadata": {
        "jupyter": {
          "outputs_hidden": false,
          "source_hidden": false
        },
        "noteable": {
          "cell_type": "code",
          "output_collection_id": "9f7a5453-2d2d-457e-8893-bc35184327f6"
        },
        "ExecuteTime": {
          "end_time": "2023-12-13T14:51:57.100554+00:00",
          "start_time": "2023-12-13T14:51:56.913514+00:00"
        }
      },
      "execution_count": null,
      "source": "df_prof2_human = pd.read_excel('../datasets/hh_ru/professions2.xlsx', sheet_name='human')['profession']\ndf_human2 = df.loc[df['profession'].isin(df_prof2_human)]",
      "outputs": []
    },
    {
      "id": "1501ed9e-67ae-46ff-8d9a-3425807d3580",
      "cell_type": "code",
      "metadata": {
        "jupyter": {
          "outputs_hidden": false,
          "source_hidden": false
        },
        "noteable": {
          "cell_type": "code",
          "output_collection_id": "6a70dec2-ed04-4128-95c4-9db4dcc3d092"
        },
        "ExecuteTime": {
          "end_time": "2023-12-13T14:52:21.739573+00:00",
          "start_time": "2023-12-13T14:52:21.092478+00:00"
        }
      },
      "execution_count": null,
      "source": "sns.set(font_scale=1.15, style=\"whitegrid\")\n\nplt.figure(figsize=(10,5))\ncor = df_human2[['year_of_birth', 'expected_salary', 'work_experience_months', 'compensation_from', 'compensation_to', 'education_level', 'gender', 'final_state']].corr()\nax = sns.heatmap(cor, annot=True, vmin=-1, vmax=1, center=0, cmap='BrBG_r')\nsns.color_palette(\"rocket\", as_cmap=True)\nax.set_xticklabels(ax.get_xticklabels(), rotation=30, ha='right')\nax.set_title('Человек-человек2')",
      "outputs": []
    },
    {
      "id": "a7b61236-b6d2-4c43-8e37-ba565ce313a4",
      "cell_type": "code",
      "metadata": {
        "jupyter": {
          "outputs_hidden": false,
          "source_hidden": false
        },
        "noteable": {
          "cell_type": "code",
          "output_collection_id": "b8cf05b1-9792-4aec-b3b1-cd687f3ab5cb"
        },
        "ExecuteTime": {
          "end_time": "2023-12-13T14:53:04.679313+00:00",
          "start_time": "2023-12-13T14:53:04.504017+00:00"
        }
      },
      "execution_count": null,
      "source": "df_prof2_machinery = pd.read_excel('../datasets/hh_ru/professions2.xlsx', sheet_name='machinery')['profession']\ndf_machinery2 = df.loc[df['profession'].isin(df_prof2_machinery)]",
      "outputs": []
    },
    {
      "id": "ca6e3270-ae8c-413f-bc8f-dccf86536711",
      "cell_type": "code",
      "metadata": {
        "jupyter": {
          "outputs_hidden": false,
          "source_hidden": false
        },
        "noteable": {
          "cell_type": "code",
          "output_collection_id": "377dad70-8a5c-451b-8107-1097a45ff203"
        },
        "ExecuteTime": {
          "end_time": "2023-12-13T14:53:27.868840+00:00",
          "start_time": "2023-12-13T14:53:27.053276+00:00"
        }
      },
      "execution_count": null,
      "source": "sns.set(font_scale=1.15, style=\"whitegrid\")\n\nplt.figure(figsize=(10,5))\ncor = df_machinery2[['year_of_birth', 'expected_salary', 'work_experience_months', 'compensation_from', 'compensation_to', 'education_level', 'gender', 'final_state']].corr()\nax = sns.heatmap(cor, annot=True, vmin=-1, vmax=1, center=0, cmap='BrBG_r')\nsns.color_palette(\"rocket\", as_cmap=True)\nax.set_xticklabels(ax.get_xticklabels(), rotation=30, ha='right')\nax.set_title('Человек-техника2')",
      "outputs": []
    },
    {
      "id": "0f67cc58-ef6c-4f5a-9f14-743815fa8b44",
      "cell_type": "code",
      "metadata": {
        "jupyter": {
          "outputs_hidden": false,
          "source_hidden": false
        },
        "noteable": {
          "cell_type": "code",
          "output_collection_id": "02744c60-cd6c-469f-9e05-99f04d8b0157"
        },
        "ExecuteTime": {
          "end_time": "2023-12-13T14:54:25.187822+00:00",
          "start_time": "2023-12-13T14:54:25.013680+00:00"
        }
      },
      "execution_count": null,
      "source": "df_prof2_art = pd.read_excel('../datasets/hh_ru/professions2.xlsx', sheet_name='art')['profession']\ndf_art2 = df.loc[df['profession'].isin(df_prof2_art)]",
      "outputs": []
    },
    {
      "id": "488c65a4-2cdd-420b-8b9e-c3c97b088f75",
      "cell_type": "code",
      "metadata": {
        "jupyter": {
          "outputs_hidden": false,
          "source_hidden": false
        },
        "noteable": {
          "cell_type": "code",
          "output_collection_id": "bcd29f02-1736-40a1-acd0-61206ba441bb"
        },
        "ExecuteTime": {
          "end_time": "2023-12-13T14:54:42.441559+00:00",
          "start_time": "2023-12-13T14:54:41.856500+00:00"
        }
      },
      "execution_count": null,
      "source": "sns.set(font_scale=1.15, style=\"whitegrid\")\n\nplt.figure(figsize=(10,5))\ncor = df_art2[['year_of_birth', 'expected_salary', 'work_experience_months', 'compensation_from', 'compensation_to', 'education_level', 'gender', 'final_state']].corr()\nax = sns.heatmap(cor, annot=True, vmin=-1, vmax=1, center=0, cmap='BrBG_r')\nsns.color_palette(\"rocket\", as_cmap=True)\nax.set_xticklabels(ax.get_xticklabels(), rotation=30, ha='right')\nax.set_title('Человек-искусство2')",
      "outputs": []
    }
  ]
}