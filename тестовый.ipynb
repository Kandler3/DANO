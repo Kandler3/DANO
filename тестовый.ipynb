{
  "nbformat": 4,
  "nbformat_minor": 5,
  "metadata": {
    "kernel_info": {
      "name": "python3.9-noteable"
    },
    "kernelspec": {
      "display_name": "Python 3.9 (Noteable)",
      "identifier": "noteable",
      "language": "python",
      "language_version": "3.9",
      "name": "python3.9-noteable"
    },
    "selected_hardware_size": "small"
  },
  "cells": [
    {
      "id": "f19b2271-091a-4883-96b0-3524be06989a",
      "cell_type": "code",
      "metadata": {
        "jupyter": {
          "outputs_hidden": false,
          "source_hidden": false
        },
        "noteable": {
          "cell_type": "code",
          "output_collection_id": "44d8c048-57f3-42f7-b791-e3b5a9103521"
        },
        "ExecuteTime": null
      },
      "execution_count": null,
      "source": "%ntbl pull datasets \"hh_ru/hh_cleared.csv\"",
      "outputs": []
    },
    {
      "id": "2d16337c-8136-441d-832a-b26ba73d893b",
      "cell_type": "code",
      "metadata": {
        "jupyter": {
          "outputs_hidden": false,
          "source_hidden": false
        },
        "noteable": {
          "cell_type": "code",
          "output_collection_id": "87b0011a-7937-4f78-8467-ff09e6ce076f"
        },
        "ExecuteTime": null
      },
      "execution_count": null,
      "source": "%ntbl pull datasets \"hh_ru/hh_cleared.csv\"",
      "outputs": []
    },
    {
      "id": "d50e6ed2",
      "cell_type": "code",
      "metadata": {
        "noteable": {
          "output_collection_id": "4a84ac9e-4d35-4f01-96e9-a077e9c11031"
        },
        "ExecuteTime": null
      },
      "execution_count": null,
      "source": "import pandas as pd",
      "outputs": []
    },
    {
      "id": "b8c1031f-3d5d-4482-9db7-e261525ba55b",
      "cell_type": "code",
      "metadata": {
        "jupyter": {
          "outputs_hidden": false,
          "source_hidden": false
        },
        "noteable": {
          "cell_type": "code"
        }
      },
      "execution_count": null,
      "source": "df = pd.read_csv('hh_cleared.csv')",
      "outputs": []
    },
    {
      "id": "bebf710e-242a-4898-8042-4ac30309988f",
      "cell_type": "code",
      "metadata": {
        "jupyter": {
          "outputs_hidden": false,
          "source_hidden": false
        },
        "noteable": {
          "cell_type": "code"
        }
      },
      "execution_count": null,
      "source": "len(df['vacancy_id'].unique())",
      "outputs": []
    }
  ]
}