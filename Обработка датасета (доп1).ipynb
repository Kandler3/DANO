{
  "nbformat": 4,
  "nbformat_minor": 5,
  "metadata": {
    "kernel_info": {
      "name": "python3"
    },
    "kernelspec": {
      "display_name": "Python 3.9",
      "identifier": "legacy",
      "language": "python",
      "language_version": "3.9",
      "name": "python3"
    },
    "selected_hardware_size": "small"
  },
  "cells": [
    {
      "id": "b8b6a926",
      "cell_type": "code",
      "metadata": {
        "noteable": {
          "output_collection_id": "e5ad98b0-b79b-48b2-85d5-3718970f8ad9"
        },
        "ExecuteTime": {
          "end_time": "2023-12-01T19:57:40.424669+00:00",
          "start_time": "2023-12-01T19:57:25.677670+00:00"
        }
      },
      "execution_count": null,
      "source": "%ntbl pull datasets \"hh_ru\"",
      "outputs": []
    },
    {
      "id": "70cc5fad-7bec-4eef-b295-b72a6cc5d6d2",
      "cell_type": "code",
      "metadata": {
        "jupyter": {
          "outputs_hidden": false,
          "source_hidden": false
        },
        "noteable": {
          "cell_type": "code",
          "output_collection_id": "4c1c52cf-d964-4e5c-aea1-439cf469d1a2"
        },
        "ExecuteTime": {
          "end_time": "2023-12-01T19:57:44.895099+00:00",
          "start_time": "2023-12-01T19:57:44.321068+00:00"
        }
      },
      "execution_count": null,
      "source": "import pandas as pd\nimport matplotlib.pyplot as plt\nimport seaborn as sns\nimport numpy as np",
      "outputs": []
    },
    {
      "id": "73b62553-0c9b-40a9-ab59-c2f5967b7a54",
      "cell_type": "code",
      "metadata": {
        "jupyter": {
          "outputs_hidden": false,
          "source_hidden": false
        },
        "noteable": {
          "cell_type": "code",
          "output_collection_id": "ddc9c673-40dc-48eb-bae3-5eab467208c8"
        },
        "ExecuteTime": {
          "end_time": "2023-12-01T19:57:51.547084+00:00",
          "start_time": "2023-12-01T19:57:44.900238+00:00"
        }
      },
      "execution_count": null,
      "source": "df = pd.read_csv(r\"../datasets/hh_ru/hh_ru_dataset.csv\")\ndf.info()",
      "outputs": []
    },
    {
      "id": "adead76a-50c7-4021-b952-4935c25a6de3",
      "cell_type": "code",
      "metadata": {
        "jupyter": {
          "outputs_hidden": false,
          "source_hidden": false
        },
        "noteable": {
          "cell_type": "code",
          "output_collection_id": "d4dc594d-1ea8-4c48-b4d2-1894f8a315df"
        },
        "ExecuteTime": {
          "end_time": "2023-12-01T19:57:52.233151+00:00",
          "start_time": "2023-12-01T19:57:52.013620+00:00"
        }
      },
      "execution_count": null,
      "source": "df_cleared = df[::].copy()\nlen(df_cleared)",
      "outputs": []
    },
    {
      "id": "077cbd6a-dae0-45b8-b0b7-e0961cdd783b",
      "cell_type": "code",
      "metadata": {
        "jupyter": {
          "outputs_hidden": false,
          "source_hidden": false
        },
        "noteable": {
          "cell_type": "code",
          "output_collection_id": "75bf5590-b32f-4955-baa0-58543f040a8a"
        },
        "ExecuteTime": {
          "end_time": "2023-12-01T20:06:49.648750+00:00",
          "start_time": "2023-12-01T20:06:49.173179+00:00"
        }
      },
      "execution_count": null,
      "source": "df_cleared = df_cleared.drop_duplicates(['topic_id'])\ndf_cleared = df_cleared.dropna(axis=0, subset=['education_level', 'initial_state', 'final_state', 'work_schedule', 'compensation_from', 'compensation_to'])\ndf_cleared = df_cleared[(df.final_state != 'response')]\nlen(df_cleared)",
      "outputs": []
    },
    {
      "id": "13973fd0-654e-4406-94e6-00b5c88792b4",
      "cell_type": "code",
      "metadata": {
        "jupyter": {
          "outputs_hidden": false,
          "source_hidden": false
        },
        "noteable": {
          "cell_type": "code",
          "output_collection_id": "1dfce201-d24a-4262-a4af-6495870834b2"
        },
        "ExecuteTime": {
          "end_time": "2023-12-01T20:07:09.848305+00:00",
          "start_time": "2023-12-01T20:06:57.107657+00:00"
        },
        "datalink": {
          "3d449853-560e-4f67-bdb3-a49dbab22493": {
            "applied_filters": [],
            "dataframe_info": {
              "default_index_used": true,
              "orig_num_cols": 26,
              "orig_num_rows": 326982,
              "orig_size_bytes": 70628112,
              "truncated_num_cols": 26,
              "truncated_num_rows": 45000,
              "truncated_size_bytes": 9720000,
              "truncated_string_columns": [
                "topic_id",
                "resume_skills_list",
                "vacancy_skills_list"
              ]
            },
            "display_id": "3d449853-560e-4f67-bdb3-a49dbab22493",
            "dx_settings": {
              "ALLOW_NOTEABLE_ATTRS": true,
              "COLUMN_SAMPLING_METHOD": "outer",
              "DB_LOCATION": ":memory:",
              "DEV_MODE": false,
              "DISPLAY_MAX_COLUMNS": 100,
              "DISPLAY_MAX_ROWS": 50000,
              "DISPLAY_MODE": "simple",
              "ENABLE_ASSIGNMENT": true,
              "ENABLE_DATALINK": true,
              "FLATTEN_COLUMN_VALUES": true,
              "FLATTEN_INDEX_VALUES": false,
              "GENERATE_DEX_METADATA": false,
              "HTML_TABLE_SCHEMA": false,
              "LOG_LEVEL": 30,
              "MAX_RENDER_SIZE_BYTES": 104857600,
              "MAX_STRING_LENGTH": 250,
              "NUM_PAST_SAMPLES_TRACKED": 3,
              "RANDOM_STATE": 12648430,
              "RESET_INDEX_VALUES": false,
              "ROW_SAMPLING_METHOD": "random",
              "SAMPLING_FACTOR": 0.1,
              "SAMPLING_METHOD": "random",
              "STRINGIFY_COLUMN_VALUES": true,
              "STRINGIFY_INDEX_VALUES": false
            },
            "sample_history": [],
            "sampling_time": "2023-12-01T20:04:14.845361",
            "user_variable_name": "df_cleared",
            "variable_name": "df_cleared"
          },
          "72e46d39-194d-49a9-b50c-3428b293c7ee": {
            "applied_filters": [],
            "dataframe_info": {
              "default_index_used": true,
              "orig_num_cols": 26,
              "orig_num_rows": 326982,
              "orig_size_bytes": 70628112,
              "truncated_num_cols": 26,
              "truncated_num_rows": 45000,
              "truncated_size_bytes": 9720000,
              "truncated_string_columns": [
                "topic_id",
                "resume_skills_list",
                "vacancy_skills_list"
              ]
            },
            "display_id": "72e46d39-194d-49a9-b50c-3428b293c7ee",
            "dx_settings": {
              "ALLOW_NOTEABLE_ATTRS": true,
              "COLUMN_SAMPLING_METHOD": "outer",
              "DB_LOCATION": ":memory:",
              "DEV_MODE": false,
              "DISPLAY_MAX_COLUMNS": 100,
              "DISPLAY_MAX_ROWS": 50000,
              "DISPLAY_MODE": "simple",
              "ENABLE_ASSIGNMENT": true,
              "ENABLE_DATALINK": true,
              "FLATTEN_COLUMN_VALUES": true,
              "FLATTEN_INDEX_VALUES": false,
              "GENERATE_DEX_METADATA": false,
              "HTML_TABLE_SCHEMA": false,
              "LOG_LEVEL": 30,
              "MAX_RENDER_SIZE_BYTES": 104857600,
              "MAX_STRING_LENGTH": 250,
              "NUM_PAST_SAMPLES_TRACKED": 3,
              "RANDOM_STATE": 12648430,
              "RESET_INDEX_VALUES": false,
              "ROW_SAMPLING_METHOD": "random",
              "SAMPLING_FACTOR": 0.1,
              "SAMPLING_METHOD": "random",
              "STRINGIFY_COLUMN_VALUES": true,
              "STRINGIFY_INDEX_VALUES": false
            },
            "sample_history": [],
            "sampling_time": "2023-12-01T20:05:09.584109",
            "user_variable_name": "df_cleared",
            "variable_name": "df_cleared"
          },
          "76b7d764-dfeb-4520-a0a0-d07344a723be": {
            "applied_filters": [],
            "dataframe_info": {
              "default_index_used": true,
              "orig_num_cols": 26,
              "orig_num_rows": 164211,
              "orig_size_bytes": 35469576,
              "truncated_num_cols": 26,
              "truncated_num_rows": 45000,
              "truncated_size_bytes": 9720000,
              "truncated_string_columns": [
                "topic_id",
                "resume_skills_list",
                "vacancy_skills_list"
              ]
            },
            "display_id": "76b7d764-dfeb-4520-a0a0-d07344a723be",
            "dx_settings": {
              "ALLOW_NOTEABLE_ATTRS": true,
              "COLUMN_SAMPLING_METHOD": "outer",
              "DB_LOCATION": ":memory:",
              "DEV_MODE": false,
              "DISPLAY_MAX_COLUMNS": 100,
              "DISPLAY_MAX_ROWS": 50000,
              "DISPLAY_MODE": "simple",
              "ENABLE_ASSIGNMENT": true,
              "ENABLE_DATALINK": true,
              "FLATTEN_COLUMN_VALUES": true,
              "FLATTEN_INDEX_VALUES": false,
              "GENERATE_DEX_METADATA": false,
              "HTML_TABLE_SCHEMA": false,
              "LOG_LEVEL": 30,
              "MAX_RENDER_SIZE_BYTES": 104857600,
              "MAX_STRING_LENGTH": 250,
              "NUM_PAST_SAMPLES_TRACKED": 3,
              "RANDOM_STATE": 12648430,
              "RESET_INDEX_VALUES": false,
              "ROW_SAMPLING_METHOD": "random",
              "SAMPLING_FACTOR": 0.1,
              "SAMPLING_METHOD": "random",
              "STRINGIFY_COLUMN_VALUES": true,
              "STRINGIFY_INDEX_VALUES": false
            },
            "sample_history": [],
            "sampling_time": "2023-12-01T20:07:08.802925",
            "user_variable_name": "df_cleared",
            "variable_name": "df_cleared"
          }
        }
      },
      "execution_count": null,
      "source": "gender_dict = {'female': 0, 'male': 1}\nstate_dict = {'discard': 0, 'invitation': 1}\neducation_dict = {'secondary': 1, 'special_secondary': 2, 'unfinished_higher': 3,\n                 'bachelor': 4, 'master': 5, 'higher': 6, 'candidate': 7, 'doctor': 8}\ndf_cleared = df_cleared.replace({'gender': gender_dict, 'education_level': education_dict,\n                                'final_state': state_dict})\ndf_cleared",
      "outputs": []
    },
    {
      "id": "4294eb56-4a5c-4f05-a801-3e1cce382307",
      "cell_type": "code",
      "metadata": {
        "jupyter": {
          "outputs_hidden": false,
          "source_hidden": false
        },
        "noteable": {
          "cell_type": "code",
          "output_collection_id": "6f43d355-4c9b-4d66-ae06-86ac743eb1d2"
        },
        "ExecuteTime": {
          "end_time": "2023-12-01T20:08:03.605307+00:00",
          "start_time": "2023-12-01T20:08:02.865799+00:00"
        }
      },
      "execution_count": null,
      "source": "sns.set(font_scale=1.15)\nplt.figure(figsize=(8,4))\ncor = df_cleared[['year_of_birth', 'expected_salary', 'work_experience_months', 'compensation_from', 'compensation_to', 'education_level', 'final_state']].corr()\nax = sns.heatmap(cor, annot=True, vmin=-1, vmax=1, center=0, cmap='coolwarm')\nax.set_xticklabels(ax.get_xticklabels(), rotation=90, ha='left')",
      "outputs": []
    },
    {
      "id": "05ec0688-ff1f-4632-b616-b93e6c7e86bb",
      "cell_type": "code",
      "metadata": {
        "jupyter": {
          "outputs_hidden": false,
          "source_hidden": false
        },
        "noteable": {
          "cell_type": "code",
          "output_collection_id": "945b5801-08fb-4824-8391-15012208ef0d"
        },
        "ExecuteTime": {
          "end_time": "2023-12-01T20:24:29.193017+00:00",
          "start_time": "2023-12-01T20:24:29.026610+00:00"
        }
      },
      "execution_count": null,
      "source": "df_cleared['profession'].unique()\n# len(df_cleared[df_cleared.profession == 'Аналитик'])",
      "outputs": []
    },
    {
      "id": "f770c24d-a9a3-4f23-8d1e-1e50d5fbff37",
      "cell_type": "code",
      "metadata": {
        "jupyter": {
          "outputs_hidden": false,
          "source_hidden": false
        },
        "noteable": {
          "cell_type": "code",
          "output_collection_id": "05372503-3ff4-4cc8-9093-cac1eef24d47"
        },
        "ExecuteTime": {
          "end_time": "2023-12-01T20:35:00.327101+00:00",
          "start_time": "2023-12-01T20:34:59.717200+00:00"
        }
      },
      "execution_count": null,
      "source": "sns.set(font_scale=1.15)\nplt.figure(figsize=(8,4))\ncor = df_cleared[df_cleared.profession == 'Учитель, преподаватель, педагог'][['year_of_birth', 'expected_salary', 'work_experience_months', 'compensation_from', 'compensation_to', 'education_level', 'final_state']].corr()\nax = sns.heatmap(cor, annot=True, vmin=-1, vmax=1, center=0, cmap='coolwarm')\nax.set_xticklabels(ax.get_xticklabels(), rotation=90, ha='left')\nax.set_title('Учителя, преподаватели, педагоги')",
      "outputs": []
    }
  ]
}