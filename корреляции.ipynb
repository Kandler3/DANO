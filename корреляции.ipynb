{
  "nbformat": 4,
  "nbformat_minor": 5,
  "metadata": {
    "kernel_info": {
      "name": "python3"
    },
    "kernelspec": {
      "display_name": "Python 3.9",
      "identifier": "legacy",
      "language": "python",
      "language_version": "3.9",
      "name": "python3"
    },
    "selected_hardware_size": "small"
  },
  "cells": [
    {
      "id": "7efd2f4f-0bd5-4c57-aa87-690403fa015b",
      "cell_type": "code",
      "metadata": {
        "jupyter": {
          "outputs_hidden": false,
          "source_hidden": false
        },
        "noteable": {
          "cell_type": "code",
          "output_collection_id": "d7e82405-9845-4874-9429-1b9da41c2f8d"
        },
        "ExecuteTime": {
          "end_time": "2023-12-06T17:21:46.934572+00:00",
          "start_time": "2023-12-06T17:21:39.851625+00:00"
        }
      },
      "execution_count": null,
      "source": "%ntbl pull datasets \"hh_ru/hh_cleared.csv\"",
      "outputs": []
    },
    {
      "id": "8496ba08-7b78-43b7-b2e9-1a159ab37924",
      "cell_type": "code",
      "metadata": {
        "jupyter": {
          "outputs_hidden": false,
          "source_hidden": false
        },
        "noteable": {
          "cell_type": "code",
          "output_collection_id": "3703b88f-784e-4b2e-8001-3df906344701"
        },
        "ExecuteTime": {
          "end_time": "2023-12-06T17:22:49.158042+00:00",
          "start_time": "2023-12-06T17:22:46.876042+00:00"
        }
      },
      "execution_count": null,
      "source": "df = pd.read_csv('../datasets/hh_ru/hh_cleared.csv')",
      "outputs": []
    },
    {
      "id": "6a966a30-50c5-4443-aa5e-031eacc0a417",
      "cell_type": "code",
      "metadata": {
        "jupyter": {
          "outputs_hidden": false,
          "source_hidden": false
        },
        "noteable": {
          "cell_type": "code",
          "output_collection_id": "71463d8e-03d8-4a9c-9493-82d9a50ee7ff"
        },
        "ExecuteTime": {
          "end_time": "2023-12-06T17:22:51.054514+00:00",
          "start_time": "2023-12-06T17:22:50.708627+00:00"
        }
      },
      "execution_count": null,
      "source": "df.info()",
      "outputs": []
    },
    {
      "id": "63ab9337-c14d-4ef7-94de-bfea2c19061f",
      "cell_type": "code",
      "metadata": {
        "jupyter": {
          "outputs_hidden": false,
          "source_hidden": false
        },
        "noteable": {
          "cell_type": "code",
          "output_collection_id": "e5339dbc-baa5-4bf2-9140-dd2bb5cfbe03"
        },
        "ExecuteTime": {
          "end_time": "2023-12-06T17:25:27.968178+00:00",
          "start_time": "2023-12-06T17:25:27.812204+00:00"
        }
      },
      "execution_count": null,
      "source": "corrs = pd.DataFrame(columns=('profession', 'final_status-education_level', 'final_status-work_experience'))",
      "outputs": []
    },
    {
      "id": "c6a556ac-5389-456f-b5c2-e36c32b44a43",
      "cell_type": "code",
      "metadata": {
        "jupyter": {
          "outputs_hidden": false,
          "source_hidden": false
        },
        "noteable": {
          "cell_type": "code",
          "output_collection_id": "c46c320a-f905-4eec-ae9b-431c92ff1d7c"
        },
        "ExecuteTime": {
          "end_time": "2023-12-06T17:25:31.863685+00:00",
          "start_time": "2023-12-06T17:25:30.787332+00:00"
        },
        "datalink": {
          "50568175-b7ad-47ac-8f29-69be42c60b0e": {
            "applied_filters": [],
            "dataframe_info": {
              "default_index_used": false,
              "orig_num_cols": 3,
              "orig_num_rows": 0,
              "orig_size_bytes": 0,
              "truncated_num_cols": 3,
              "truncated_num_rows": 0,
              "truncated_size_bytes": 0,
              "truncated_string_columns": []
            },
            "display_id": "50568175-b7ad-47ac-8f29-69be42c60b0e",
            "dx_settings": {
              "ALLOW_NOTEABLE_ATTRS": true,
              "COLUMN_SAMPLING_METHOD": "outer",
              "DB_LOCATION": ":memory:",
              "DEV_MODE": false,
              "DISPLAY_MAX_COLUMNS": 100,
              "DISPLAY_MAX_ROWS": 50000,
              "DISPLAY_MODE": "simple",
              "ENABLE_ASSIGNMENT": true,
              "ENABLE_DATALINK": true,
              "FLATTEN_COLUMN_VALUES": true,
              "FLATTEN_INDEX_VALUES": false,
              "GENERATE_DEX_METADATA": false,
              "HTML_TABLE_SCHEMA": false,
              "LOG_LEVEL": 30,
              "MAX_RENDER_SIZE_BYTES": 104857600,
              "MAX_STRING_LENGTH": 250,
              "NUM_PAST_SAMPLES_TRACKED": 3,
              "RANDOM_STATE": 12648430,
              "RESET_INDEX_VALUES": false,
              "ROW_SAMPLING_METHOD": "random",
              "SAMPLING_FACTOR": 0.1,
              "SAMPLING_METHOD": "random",
              "STRINGIFY_COLUMN_VALUES": true,
              "STRINGIFY_INDEX_VALUES": false
            },
            "sample_history": [],
            "sampling_time": "2023-12-06T17:18:06.010029",
            "user_variable_name": "corrs",
            "variable_name": "corrs"
          },
          "a608a73f-fcd7-4db2-a85f-cfd4cc091327": {
            "applied_filters": [],
            "dataframe_info": {
              "default_index_used": true,
              "orig_num_cols": 3,
              "orig_num_rows": 1,
              "orig_size_bytes": 32,
              "truncated_num_cols": 3,
              "truncated_num_rows": 1,
              "truncated_size_bytes": 32,
              "truncated_string_columns": []
            },
            "display_id": "a608a73f-fcd7-4db2-a85f-cfd4cc091327",
            "dx_settings": {
              "ALLOW_NOTEABLE_ATTRS": true,
              "COLUMN_SAMPLING_METHOD": "outer",
              "DB_LOCATION": ":memory:",
              "DEV_MODE": false,
              "DISPLAY_MAX_COLUMNS": 100,
              "DISPLAY_MAX_ROWS": 50000,
              "DISPLAY_MODE": "simple",
              "ENABLE_ASSIGNMENT": true,
              "ENABLE_DATALINK": true,
              "FLATTEN_COLUMN_VALUES": true,
              "FLATTEN_INDEX_VALUES": false,
              "GENERATE_DEX_METADATA": false,
              "HTML_TABLE_SCHEMA": false,
              "LOG_LEVEL": 30,
              "MAX_RENDER_SIZE_BYTES": 104857600,
              "MAX_STRING_LENGTH": 250,
              "NUM_PAST_SAMPLES_TRACKED": 3,
              "RANDOM_STATE": 12648430,
              "RESET_INDEX_VALUES": false,
              "ROW_SAMPLING_METHOD": "random",
              "SAMPLING_FACTOR": 0.1,
              "SAMPLING_METHOD": "random",
              "STRINGIFY_COLUMN_VALUES": true,
              "STRINGIFY_INDEX_VALUES": false
            },
            "sample_history": [],
            "sampling_time": "2023-12-06T17:23:26.001713",
            "user_variable_name": "corrs",
            "variable_name": "corrs"
          },
          "3b67ec47-fb66-430e-8e46-e9d38f7bfc92": {
            "applied_filters": [],
            "dataframe_info": {
              "default_index_used": true,
              "orig_num_cols": 3,
              "orig_num_rows": 69,
              "orig_size_bytes": 2208,
              "truncated_num_cols": 3,
              "truncated_num_rows": 69,
              "truncated_size_bytes": 2208,
              "truncated_string_columns": []
            },
            "display_id": "3b67ec47-fb66-430e-8e46-e9d38f7bfc92",
            "dx_settings": {
              "ALLOW_NOTEABLE_ATTRS": true,
              "COLUMN_SAMPLING_METHOD": "outer",
              "DB_LOCATION": ":memory:",
              "DEV_MODE": false,
              "DISPLAY_MAX_COLUMNS": 100,
              "DISPLAY_MAX_ROWS": 50000,
              "DISPLAY_MODE": "simple",
              "ENABLE_ASSIGNMENT": true,
              "ENABLE_DATALINK": true,
              "FLATTEN_COLUMN_VALUES": true,
              "FLATTEN_INDEX_VALUES": false,
              "GENERATE_DEX_METADATA": false,
              "HTML_TABLE_SCHEMA": false,
              "LOG_LEVEL": 30,
              "MAX_RENDER_SIZE_BYTES": 104857600,
              "MAX_STRING_LENGTH": 250,
              "NUM_PAST_SAMPLES_TRACKED": 3,
              "RANDOM_STATE": 12648430,
              "RESET_INDEX_VALUES": false,
              "ROW_SAMPLING_METHOD": "random",
              "SAMPLING_FACTOR": 0.1,
              "SAMPLING_METHOD": "random",
              "STRINGIFY_COLUMN_VALUES": true,
              "STRINGIFY_INDEX_VALUES": false
            },
            "sample_history": [],
            "sampling_time": "2023-12-06T17:23:51.020023",
            "user_variable_name": "corrs",
            "variable_name": "corrs"
          },
          "9df830c0-1f8d-460d-8e20-7f086d954c36": {
            "applied_filters": [],
            "dataframe_info": {
              "default_index_used": true,
              "orig_num_cols": 3,
              "orig_num_rows": 68,
              "orig_size_bytes": 2176,
              "truncated_num_cols": 3,
              "truncated_num_rows": 68,
              "truncated_size_bytes": 2176,
              "truncated_string_columns": []
            },
            "display_id": "9df830c0-1f8d-460d-8e20-7f086d954c36",
            "dx_settings": {
              "ALLOW_NOTEABLE_ATTRS": true,
              "COLUMN_SAMPLING_METHOD": "outer",
              "DB_LOCATION": ":memory:",
              "DEV_MODE": false,
              "DISPLAY_MAX_COLUMNS": 100,
              "DISPLAY_MAX_ROWS": 50000,
              "DISPLAY_MODE": "simple",
              "ENABLE_ASSIGNMENT": true,
              "ENABLE_DATALINK": true,
              "FLATTEN_COLUMN_VALUES": true,
              "FLATTEN_INDEX_VALUES": false,
              "GENERATE_DEX_METADATA": false,
              "HTML_TABLE_SCHEMA": false,
              "LOG_LEVEL": 30,
              "MAX_RENDER_SIZE_BYTES": 104857600,
              "MAX_STRING_LENGTH": 250,
              "NUM_PAST_SAMPLES_TRACKED": 3,
              "RANDOM_STATE": 12648430,
              "RESET_INDEX_VALUES": false,
              "ROW_SAMPLING_METHOD": "random",
              "SAMPLING_FACTOR": 0.1,
              "SAMPLING_METHOD": "random",
              "STRINGIFY_COLUMN_VALUES": true,
              "STRINGIFY_INDEX_VALUES": false
            },
            "sample_history": [],
            "sampling_time": "2023-12-06T17:25:31.704813",
            "user_variable_name": "corrs",
            "variable_name": "corrs"
          }
        },
        "dx": {
          "dashboard": {
            "multiViews": []
          },
          "fieldMetadata": {
            "final_status-education_level": {
              "columnPosition": 3
            },
            "final_status-work_experience": {
              "columnPosition": 4
            },
            "index": {
              "columnPosition": 1
            },
            "profession": {
              "columnPosition": 2,
              "sort": "desc"
            }
          },
          "updated": 1701883520084,
          "views": [
            {
              "annotationRules": [],
              "chart": {},
              "chartMode": "grid",
              "confoRules": [],
              "decoration": {
                "footer": "",
                "subtitle": "",
                "title": "Table"
              },
              "facets": [],
              "filterSettings": {
                "SHOW_FILTER_PANEL": true,
                "filters": []
              },
              "id": "first-view",
              "isDefault": true,
              "type": "public",
              "userID": ""
            },
            {
              "annotationRules": [],
              "chart": {},
              "chartMode": "grid",
              "confoRules": [],
              "decoration": {
                "footer": "",
                "subtitle": "",
                "title": "Table"
              },
              "facets": [],
              "filterSettings": {
                "SHOW_FILTER_PANEL": true,
                "filters": []
              },
              "id": "first-view",
              "isDefault": true,
              "isTransitory": true,
              "type": "public",
              "userID": ""
            }
          ]
        }
      },
      "execution_count": null,
      "source": "for prof in df['profession'].unique():\n    df_prof = df[df['profession'] == prof]\n    final_status_education_level = df_prof['final_state'].corr(df_prof['education_level'])\n    final_status_work_experience = df_prof['final_state'].corr(df_prof['work_experience_months'])\n    corrs.loc[len(corrs.index)] = [prof, final_status_education_level, final_status_work_experience] \ncorrs",
      "outputs": []
    },
    {
      "id": "5825bd35-d786-45b0-912d-10c125f388c1",
      "cell_type": "code",
      "metadata": {
        "jupyter": {
          "outputs_hidden": false,
          "source_hidden": false
        },
        "noteable": {
          "cell_type": "code",
          "output_collection_id": "ef9d6c4b-c4bd-47ed-94cd-7af8927b44ee"
        },
        "ExecuteTime": {
          "end_time": "2023-12-06T17:25:33.575262+00:00",
          "start_time": "2023-12-06T17:25:33.407485+00:00"
        }
      },
      "execution_count": null,
      "source": "corrs.to_excel('correlations.xlsx')",
      "outputs": []
    },
    {
      "id": "e306ba11-d0f5-4dca-9c4c-a915fc9cfded",
      "cell_type": "code",
      "metadata": {
        "jupyter": {
          "outputs_hidden": false,
          "source_hidden": false
        },
        "noteable": {
          "cell_type": "code"
        }
      },
      "execution_count": null,
      "source": "",
      "outputs": []
    }
  ]
}