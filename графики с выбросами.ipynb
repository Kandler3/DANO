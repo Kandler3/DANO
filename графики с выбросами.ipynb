{
  "nbformat": 4,
  "nbformat_minor": 5,
  "metadata": {
    "kernel_info": {
      "name": "python3"
    },
    "kernelspec": {
      "display_name": "Python 3.9",
      "identifier": "legacy",
      "language": "python",
      "language_version": "3.9",
      "name": "python3"
    },
    "selected_hardware_size": "small"
  },
  "cells": [
    {
      "id": "b50e0ce8-5f66-444c-9be0-4da01e8dbffc",
      "cell_type": "code",
      "metadata": {
        "jupyter": {
          "outputs_hidden": false,
          "source_hidden": false
        },
        "noteable": {
          "cell_type": "code",
          "output_collection_id": "92b67cd0-2956-4497-bc84-c5942874295d"
        },
        "ExecuteTime": {
          "end_time": "2023-12-15T17:03:11.355116+00:00",
          "start_time": "2023-12-15T17:02:58.989759+00:00"
        }
      },
      "execution_count": null,
      "source": "%ntbl pull datasets \"hh_ru/hh_ru_dataset.csv\"",
      "outputs": []
    },
    {
      "id": "e6804171",
      "cell_type": "code",
      "metadata": {
        "noteable": {
          "output_collection_id": "f3720611-19c3-4ffb-9cc3-e5a817656d98"
        },
        "ExecuteTime": {
          "end_time": "2023-12-15T17:03:12.064884+00:00",
          "start_time": "2023-12-15T17:03:11.374920+00:00"
        }
      },
      "execution_count": null,
      "source": "import pandas as pd\nimport matplotlib.pyplot as plt\nimport matplotlib.colors as mcolors\nimport seaborn as sns",
      "outputs": []
    },
    {
      "id": "79b23255-b78b-4027-a417-917f81acc073",
      "cell_type": "code",
      "metadata": {
        "jupyter": {
          "outputs_hidden": false,
          "source_hidden": false
        },
        "noteable": {
          "cell_type": "code",
          "output_collection_id": "3af66924-02c6-4545-8305-572231182f3c"
        },
        "ExecuteTime": {
          "end_time": "2023-12-15T17:03:18.111892+00:00",
          "start_time": "2023-12-15T17:03:12.070261+00:00"
        }
      },
      "execution_count": null,
      "source": "df = pd.read_csv('../datasets/hh_ru/hh_ru_dataset.csv')",
      "outputs": []
    },
    {
      "id": "1d4c9e5a-a585-4942-9efd-a5a1491437a8",
      "cell_type": "code",
      "metadata": {
        "jupyter": {
          "outputs_hidden": false,
          "source_hidden": false
        },
        "noteable": {
          "cell_type": "code",
          "output_collection_id": "72df48a2-c821-4f40-a977-fa60e6df479f"
        },
        "ExecuteTime": {
          "end_time": "2023-12-15T11:22:08.692558+00:00",
          "start_time": "2023-12-15T11:22:07.683393+00:00"
        }
      },
      "execution_count": null,
      "source": "df.info()",
      "outputs": []
    },
    {
      "id": "e6d4a2fd-ab08-49e5-9453-4c136bbe1c09",
      "cell_type": "code",
      "metadata": {
        "jupyter": {
          "outputs_hidden": false,
          "source_hidden": false
        },
        "noteable": {
          "cell_type": "code",
          "output_collection_id": "f91afa23-f117-4a08-9d22-06cf34575967"
        },
        "ExecuteTime": {
          "end_time": "2023-12-10T20:44:03.979129+00:00",
          "start_time": "2023-12-10T20:44:00.999484+00:00"
        }
      },
      "execution_count": null,
      "source": "sns.pairplot(df[['year_of_birth', 'expected_salary', 'work_experience_months', 'compensation_from', 'compensation_to']])",
      "outputs": []
    },
    {
      "id": "191ceb53-aa12-43b8-bbca-085c840393f6",
      "cell_type": "code",
      "metadata": {
        "jupyter": {
          "outputs_hidden": false,
          "source_hidden": false
        },
        "noteable": {
          "cell_type": "code",
          "output_collection_id": "73ddc26e-66aa-4213-b17a-5ee6ae8bfba1"
        },
        "ExecuteTime": {
          "end_time": "2023-12-15T11:22:22.979090+00:00",
          "start_time": "2023-12-15T11:22:22.823222+00:00"
        }
      },
      "execution_count": null,
      "source": "b_color = '#543005'\ny_color = '#C89242'\neducation_dict = {'secondary': 0, 'special_secondary': 1, 'unfinished_higher': 2,\n                'bachelor': 3, 'master': 4, 'higher': 5, 'candidate': 6, 'doctor': 7}\ncolor_dict = {'full': y_color, 'part': b_color}",
      "outputs": []
    },
    {
      "id": "083cb6e7-adf9-4efe-8e17-06e261f33b99",
      "cell_type": "code",
      "metadata": {
        "jupyter": {
          "outputs_hidden": false,
          "source_hidden": false
        },
        "noteable": {
          "cell_type": "code",
          "output_collection_id": "e0bf9401-84b2-448c-835d-517ef3b2e57a"
        },
        "ExecuteTime": {
          "end_time": "2023-12-15T11:22:28.729913+00:00",
          "start_time": "2023-12-15T11:22:27.231528+00:00"
        }
      },
      "execution_count": null,
      "source": "with plt.matplotlib.rc_context({'legend.labelcolor': b_color, \n                                'axes.labelcolor': b_color,\n                                'axes.edgecolor': b_color,\n                                'xtick.labelcolor': b_color,\n                                'ytick.labelcolor': b_color}):\n    x = pd.Series(range(8))\n    width = 1/6\n    mult = 0\n    fig, ax = plt.subplots(layout='constrained')\n    for resume_employment_type in ('full', 'part'):\n        offset = width * mult\n        rects = ax.bar(x + offset,\n                       [len(df[(df['education_level'] == ed_level) & \n                               (df['resume_employment_type'] == resume_employment_type)])\n                        for ed_level in education_dict.keys()],\n                       width,\n                       label=resume_employment_type, color=color_dict[resume_employment_type])\n        mult += 1\n\n    ax.set_ylabel('Количество в категории')\n    ax.set_xlabel('Образование')\n    plt.xticks(rotation=45)\n    ax.set_xticks(x + width, education_dict.keys())\n    ax.legend(loc='upper left', ncols=3)\nplt.show()",
      "outputs": []
    },
    {
      "id": "7adcc95d-3f72-4cb4-9f6b-0b3ca4c736ec",
      "cell_type": "code",
      "metadata": {
        "jupyter": {
          "outputs_hidden": false,
          "source_hidden": false
        },
        "noteable": {
          "cell_type": "code",
          "output_collection_id": "bddb8afb-103d-4749-b36c-f8a5da72aa25"
        },
        "ExecuteTime": {
          "end_time": "2023-12-15T11:22:42.090015+00:00",
          "start_time": "2023-12-15T11:22:41.876088+00:00"
        }
      },
      "execution_count": null,
      "source": "symbol = ['Программист, разработчик', 'Бухгалтер', 'Менеджер по логистике, менеджер по ВЭД', 'Оператор ПК, оператор базы данных', 'Менеджер по закупкам', 'Директор магазина, директор сети магазинов', 'Делопроизводитель, архивариус', 'Системный администратор', 'Тестировщик', 'Руководитель проектов', 'Диспетчер', 'Мерчандайзер', 'Аналитик', 'Начальник производства', 'Генеральный директор, исполнительный директор (CEO)', 'Менеджер ресторана', 'Начальник склада', 'Товаровед', 'Менеджер/руководитель АХО', 'Экономист', 'Кладовщик', 'Начальник смены, мастер участка', 'Координатор отдела продаж', 'Технолог', 'Кредитный специалист']\n\ndf_symbol = df.loc[df['profession'].isin(symbol)]",
      "outputs": []
    },
    {
      "id": "8a7d720d-b299-4716-befa-7f92b7d33e82",
      "cell_type": "code",
      "metadata": {
        "jupyter": {
          "outputs_hidden": false,
          "source_hidden": false
        },
        "noteable": {
          "cell_type": "code",
          "output_collection_id": "87b9e6b4-945d-408d-8396-e4920de15307"
        },
        "ExecuteTime": {
          "end_time": "2023-12-15T11:22:46.273239+00:00",
          "start_time": "2023-12-15T11:22:46.071563+00:00"
        }
      },
      "execution_count": null,
      "source": "human = ['Менеджер по продажам, менеджер по работе с клиентами',\n'Официант, бармен, бариста', 'Менеджер по персоналу', 'Специалист по подбору персонала', \n'Юрисконсульт', 'Руководитель отдела продаж', \n'Учитель, преподаватель, педагог', 'Офис-менеджер', 'Охранник', 'Воспитатель, няня',\n'Психолог', 'Секретарь, помощник руководителя, ассистент', \n'Финансовый менеджер', 'Кассир-операционист', \n'Торговый представитель', 'Врач', 'Администратор', 'Юрист', \n'Продавец-консультант, продавец-кассир', 'Менеджер по туризму', 'Фитнес-тренер, инструктор тренажерного зала', 'Оператор call-центра, специалист контактного центра', \n'Специалист по кадрам', 'Супервайзер', 'Специалист технической поддержки', 'Курьер', 'Уборщица, уборщик']\n\ndf_human = df.loc[df['profession'].isin(human)]",
      "outputs": []
    },
    {
      "id": "5d6f0553-48de-42f7-884d-cde6ddb32a82",
      "cell_type": "code",
      "metadata": {
        "jupyter": {
          "outputs_hidden": false,
          "source_hidden": false
        },
        "noteable": {
          "cell_type": "code",
          "output_collection_id": "328f3008-915a-4261-ad91-f8e7a5dfa642"
        },
        "ExecuteTime": {
          "end_time": "2023-12-15T11:22:49.258854+00:00",
          "start_time": "2023-12-15T11:22:49.075446+00:00"
        }
      },
      "execution_count": null,
      "source": "machinery = ['Инженер-энергетик, инженер-электрик', 'Водитель', 'Сварщик', \n'Инженер-конструктор, инженер-проектировщик', 'Слесарь, сантехник', \n'Упаковщик, комплектовщик', 'Оператор производственной линии', \n'Машинист', 'Механик', 'Сервисный инженер, инженер-механик', \n'Инженер по охране труда и технике безопасности, инженер-эколог', 'Разнорабочий']\n\ndf_machinery = df.loc[df['profession'].isin(machinery)]",
      "outputs": []
    },
    {
      "id": "4599e424-fd80-4a75-bc1c-61ed1ec1aed3",
      "cell_type": "code",
      "metadata": {
        "jupyter": {
          "outputs_hidden": false,
          "source_hidden": false
        },
        "noteable": {
          "cell_type": "code",
          "output_collection_id": "5a2d0aa4-4658-49f5-bc83-fe13d342ac13"
        },
        "ExecuteTime": {
          "end_time": "2023-12-15T11:22:52.037181+00:00",
          "start_time": "2023-12-15T11:22:51.855768+00:00"
        }
      },
      "execution_count": null,
      "source": "art = ['Дизайнер, художник', 'SMM-менеджер, контент-менеджер', \n'Повар, пекарь, кондитер', 'Менеджер по маркетингу, интернет-маркетолог']\n\ndf_art = df.loc[df['profession'].isin(art)]",
      "outputs": []
    },
    {
      "id": "393192f7-d6da-4b50-a766-50a958dd67e7",
      "cell_type": "code",
      "metadata": {
        "jupyter": {
          "outputs_hidden": false,
          "source_hidden": false
        },
        "noteable": {
          "cell_type": "code",
          "output_collection_id": "79122e02-9e08-4ee2-9c30-160e8af9fb49"
        },
        "ExecuteTime": {
          "end_time": "2023-12-15T11:22:55.073031+00:00",
          "start_time": "2023-12-15T11:22:54.917987+00:00"
        }
      },
      "execution_count": null,
      "source": "dfs = [df_symbol, df_human, df_machinery, df_art]\ndf_names = ['человек - символ', 'человек - человек', 'человек - техника', 'человек - искусство']\ncolors = [b_color, y_color]\ngenders = ['женщины', 'мужчины']\ng = {'male': 1, 'female': 0}",
      "outputs": []
    },
    {
      "id": "b0f6510f-9390-45b5-92e9-bbaa79ac9b44",
      "cell_type": "code",
      "metadata": {
        "jupyter": {
          "outputs_hidden": false,
          "source_hidden": false
        },
        "noteable": {
          "cell_type": "code",
          "output_collection_id": "ca07a3a0-4e4c-4aad-b12a-5e79491b85a2"
        },
        "ExecuteTime": {
          "end_time": "2023-12-15T11:45:10.569043+00:00",
          "start_time": "2023-12-15T11:45:09.943062+00:00"
        }
      },
      "execution_count": null,
      "source": "b_color = '#543005'\ny_color = '#C89242'\nwith plt.matplotlib.rc_context({'legend.labelcolor': b_color, \n                                'axes.labelcolor': b_color,\n                                'axes.edgecolor': b_color,\n                                'xtick.labelcolor': b_color,\n                                'ytick.labelcolor': b_color}):\n    x = pd.Series(range(4))\n    width = 1/6\n    mult = 0\n    fig, ax = plt.subplots(layout='constrained', figsize=(8, 5))\n    plt.style='seaborn-darkgrid'\n    for gender_name in ('male', 'female'):\n        gender = g[gender_name]\n        offset = width * mult\n        rects = ax.bar(x + offset,\n                       [len(df_prof[df_prof['gender'] == gender_name])\n                        for df_prof in dfs],\n                       width,\n                       label=genders[gender], color=colors[gender])\n        mult += 1\n\n    ax.set_ylabel('Количество в категории')\n    ax.set_xlabel('Группа профессий')\n    plt.xticks(rotation=0)\n    ax.set_xticks(x + width, df_names)\n    ax.legend(loc='upper left', ncols=3)\n    ax.set_ylim(top=140000)\n    plt.style='seaborn-darkgrid'\n    plt.show()",
      "outputs": []
    },
    {
      "id": "d707c28f-8fca-46fa-9a57-10a2dbd0bdf9",
      "cell_type": "code",
      "metadata": {
        "jupyter": {
          "outputs_hidden": false,
          "source_hidden": false
        },
        "noteable": {
          "cell_type": "code",
          "output_collection_id": "071c27a0-60ab-4a58-a420-65f634ac4b61"
        },
        "ExecuteTime": {
          "end_time": "2023-12-15T11:25:29.187798+00:00",
          "start_time": "2023-12-15T11:25:29.010969+00:00"
        }
      },
      "execution_count": null,
      "source": "dfs = [df_symbol, df_human, df_machinery, df_art]\ndf_names = ['человек - символ', 'человек - человек', 'человек - техника', 'человек - искусство']\ncolors = [b_color, g_color]\nstates = ['отказ', 'приглашение']\ng = {'invitation': 1, 'discard': 0}\n\nwith plt.matplotlib.rc_context({'legend.labelcolor': b_color, \n                                'axes.labelcolor': b_color,\n                                'axes.edgecolor': b_color,\n                                'xtick.labelcolor': b_color,\n                                'ytick.labelcolor': b_color}):\n    x = pd.Series(range(4))\n    width = 1/6\n    mult = 0\n    fig, ax = plt.subplots(layout='constrained')\n    for state_name in ('invitation', 'discard'):\n        state = g[state_name]\n        offset = width * mult\n        rects = ax.bar(x + offset,\n                       [len(df_prof[df_prof['gender'] == gender_name])\n                        for df_prof in dfs],\n                       width,\n                       label=states[state], color=colors[state])\n        mult += 1\n\n    ax.set_ylabel('Количество в категории')\n    ax.set_xlabel('Группа профессий')\n    plt.xticks(rotation=0)\n    ax.set_xticks(x + width, df_names)\n    ax.legend(loc='upper left', ncols=3)\n    ax.set_ylim(top=140000)\nplt.show()",
      "outputs": []
    }
  ]
}