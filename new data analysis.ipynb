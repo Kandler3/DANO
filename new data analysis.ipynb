{
  "nbformat": 4,
  "nbformat_minor": 5,
  "metadata": {
    "kernel_info": {
      "name": "python3.9-noteable"
    },
    "kernelspec": {
      "display_name": "Python 3.9 (Noteable)",
      "identifier": "noteable",
      "language": "python",
      "language_version": "3.9",
      "name": "python3.9-noteable"
    },
    "selected_hardware_size": "small"
  },
  "cells": [
    {
      "id": "0b8fd808-4c99-44fd-8554-81eab97b0a7f",
      "cell_type": "code",
      "metadata": {
        "jupyter": {
          "outputs_hidden": false,
          "source_hidden": false
        },
        "noteable": {
          "cell_type": "code",
          "output_collection_id": "26c5e2c8-3c2a-4fc2-ad06-ff9c70defa2d"
        },
        "ExecuteTime": {
          "end_time": "2023-12-14T14:23:46.094532+00:00",
          "start_time": "2023-12-14T14:23:35.474076+00:00"
        }
      },
      "execution_count": null,
      "source": "%ntbl pull datasets \"hh_ru/hh_ru_dataset.csv\"",
      "outputs": []
    },
    {
      "id": "d075c960",
      "cell_type": "code",
      "metadata": {
        "noteable": {
          "output_collection_id": "c2407814-5ab7-4f1b-88d4-ce98bbdd529b"
        },
        "ExecuteTime": {
          "end_time": "2023-12-14T14:39:01.680710+00:00",
          "start_time": "2023-12-14T14:38:55.809644+00:00"
        }
      },
      "execution_count": null,
      "source": "import pandas as pd\nimport matplotlib.pyplot as plt\nimport seaborn as sns\ndf = pd.read_csv('../datasets/hh_ru/hh_ru_dataset.csv', sep=',')\ndf.info()",
      "outputs": []
    },
    {
      "id": "133218c8-1ade-489e-85c2-4be5717c7c18",
      "cell_type": "code",
      "metadata": {
        "jupyter": {
          "outputs_hidden": false,
          "source_hidden": false
        },
        "noteable": {
          "cell_type": "code",
          "output_collection_id": "34d9a3cd-fe54-481e-8a59-2f062d239f39"
        },
        "ExecuteTime": {
          "end_time": "2023-12-14T14:41:39.287707+00:00",
          "start_time": "2023-12-14T14:41:39.087844+00:00"
        }
      },
      "execution_count": null,
      "source": "# финальный статус - invitation или discrard\ndf_cleared = df.copy()\nlen(df_cleared)\n#len(df_cleared[df_cleared.compensation_to.isna()])",
      "outputs": []
    },
    {
      "id": "6ef9a01a-af84-43b5-a336-b295d357ae54",
      "cell_type": "code",
      "metadata": {
        "jupyter": {
          "outputs_hidden": false,
          "source_hidden": false
        },
        "noteable": {
          "cell_type": "code",
          "output_collection_id": "db7da956-ffc2-41cc-8c87-697e04d0d6e4"
        },
        "ExecuteTime": {
          "end_time": "2023-12-14T14:42:03.893211+00:00",
          "start_time": "2023-12-14T14:42:03.634208+00:00"
        }
      },
      "execution_count": null,
      "source": "df_cleared = df_cleared[-((df.final_state == 'response') | (df.final_state.isna()))]\nlen(df_cleared)\n#print(500000 - len(df_cleared))",
      "outputs": []
    },
    {
      "id": "c50f55d0-c3e1-47c2-9e9c-4fc86412445f",
      "cell_type": "code",
      "metadata": {
        "jupyter": {
          "outputs_hidden": false,
          "source_hidden": false
        },
        "noteable": {
          "cell_type": "code",
          "output_collection_id": "02761f61-2e02-4a98-86f9-e7ba28edb8a0"
        },
        "ExecuteTime": {
          "end_time": "2023-12-14T14:42:01.773362+00:00",
          "start_time": "2023-12-14T14:42:01.514277+00:00"
        }
      },
      "execution_count": null,
      "source": "# трудоспособный возраст\ndf_cleared = df_cleared[(df_cleared['year_of_birth'] >= 1953) & (df_cleared['year_of_birth'] <= 2007)]\nlen(df_cleared)\n#print(500000 - len(df_cleared))",
      "outputs": []
    },
    {
      "id": "b6d9901c-1fc8-44e9-98b6-390390ec3df0",
      "cell_type": "code",
      "metadata": {
        "jupyter": {
          "outputs_hidden": false,
          "source_hidden": false
        },
        "noteable": {
          "cell_type": "code",
          "output_collection_id": "34db27a8-bbac-4365-99ea-1f126d795e53"
        },
        "ExecuteTime": {
          "end_time": "2023-12-14T14:41:59.051319+00:00",
          "start_time": "2023-12-14T14:41:58.773835+00:00"
        }
      },
      "execution_count": null,
      "source": "# избавляемся от дубликатов уникального показателя\ndf_cleared = df_cleared.drop_duplicates(['topic_id'])\nlen(df_cleared)",
      "outputs": []
    },
    {
      "id": "69e800ed-00a5-40e7-8175-afd7094e00bc",
      "cell_type": "code",
      "metadata": {
        "jupyter": {
          "outputs_hidden": false,
          "source_hidden": false
        },
        "noteable": {
          "cell_type": "code",
          "output_collection_id": "bb268973-23b9-4a8a-aa71-ce0ada5913af"
        },
        "ExecuteTime": {
          "end_time": "2023-12-14T14:41:54.420389+00:00",
          "start_time": "2023-12-14T14:41:54.167662+00:00"
        }
      },
      "execution_count": null,
      "source": "# проверка на логику между compensation_from и compensation_to\ndf_cleared = df_cleared[(df_cleared.compensation_to.isna()) | (df_cleared.compensation_to == 0.0) | (df_cleared['compensation_from'] <= df_cleared['compensation_to'])]\nlen(df_cleared)",
      "outputs": []
    },
    {
      "id": "ceaa8a63-fd82-4221-8c22-9779419ed13a",
      "cell_type": "code",
      "metadata": {
        "jupyter": {
          "outputs_hidden": false,
          "source_hidden": false
        },
        "noteable": {
          "cell_type": "code",
          "output_collection_id": "bd8ffe9a-e451-4199-8799-5bd3b681f392"
        },
        "ExecuteTime": {
          "end_time": "2023-12-14T14:41:51.615100+00:00",
          "start_time": "2023-12-14T14:41:51.273721+00:00"
        }
      },
      "execution_count": null,
      "source": "# избавляемся от незаполненных полей\n# df_cleared = df_cleared.dropna(axis=0, subset=['education_level', 'initial_state', 'work_schedule', 'compensation_from', 'compensation_to'])\ndf_cleared = df_cleared.dropna(axis=0, subset=['education_level', 'initial_state'])\nlen(df_cleared)\n#print(500000 - len(df_cleared))",
      "outputs": []
    },
    {
      "id": "e86da496-3ad1-44e2-9907-27c29dcef8e1",
      "cell_type": "code",
      "metadata": {
        "jupyter": {
          "outputs_hidden": false,
          "source_hidden": false
        },
        "noteable": {
          "cell_type": "code",
          "output_collection_id": "6a0c8a51-6a84-42a3-af2f-d37a8c2ce7ea"
        },
        "ExecuteTime": {
          "end_time": "2023-12-14T14:41:48.744534+00:00",
          "start_time": "2023-12-14T14:41:48.482886+00:00"
        }
      },
      "execution_count": null,
      "source": "# стаж работы с 16 лет; работал не больше, чем до пенсии\ndf_cleared = df_cleared[(2023 - df_cleared['work_experience_months'] / 12 - df_cleared['year_of_birth'] >= 16) & (df_cleared['work_experience_months'] <= 600)]\nlen(df_cleared)\n# print(500000 - len(df_cleared))",
      "outputs": []
    },
    {
      "id": "4f2b2d06-7372-450e-9d38-5cfe7470909e",
      "cell_type": "code",
      "metadata": {
        "jupyter": {
          "outputs_hidden": false,
          "source_hidden": false
        },
        "noteable": {
          "cell_type": "code",
          "output_collection_id": "ab7d3003-9ba7-481e-ab09-211a80b8d512"
        },
        "ExecuteTime": {
          "end_time": "2023-12-14T14:41:44.647638+00:00",
          "start_time": "2023-12-14T14:41:42.728844+00:00"
        }
      },
      "execution_count": null,
      "source": "# ожидаемые зарплаты без выбросов\nquantile_param = 0.03\nquantiles = {}\nfor prof in df['profession'].unique():\n    df_prof = df[df['profession'] == prof]\n    quantiles[prof] = (df_prof['expected_salary'].quantile(quantile_param),\n                       df_prof['expected_salary'].quantile(1 - quantile_param))\n\ndf_cleared.loc[:,'exp_salary_min_limit'] = [quantiles[i][0] for i in df_cleared['profession']]\ndf_cleared.loc[:,'exp_salary_max_limit'] = [quantiles[i][1] for i in df_cleared['profession']]\n\n# проверка по ожидаемой зарплате\ndf_cleared = df_cleared[(df_cleared['expected_salary'] >= df_cleared['exp_salary_min_limit']) & \n                            (df_cleared['expected_salary'] <= df_cleared['exp_salary_max_limit'])]\nlen(df_cleared)\n#print(500000 - len(df_cleared))",
      "outputs": []
    },
    {
      "id": "50a2ba08-d514-4f46-a0ee-40e78fd67865",
      "cell_type": "code",
      "metadata": {
        "jupyter": {
          "outputs_hidden": false,
          "source_hidden": false
        },
        "noteable": {
          "cell_type": "code",
          "output_collection_id": "7286088f-132e-40c8-b525-770d810b78a3"
        },
        "ExecuteTime": {
          "end_time": "2023-12-14T11:43:56.991947+00:00",
          "start_time": "2023-12-14T11:43:55.332361+00:00"
        }
      },
      "execution_count": null,
      "source": "# compensation_to без выбросов\nquantiles_to = {}\nfor prof in df['profession'].unique():\n    df_prof = df[df['profession'] == prof]\n    quantiles_to[prof] = (df_prof['compensation_to'].quantile(quantile_param),\n                       df_prof['compensation_to'].quantile(1 - quantile_param))\n    \ndf_cleared.loc[:,'compensation_to_min_limit'] = [quantiles_to[i][0] for i in df_cleared['profession']]\ndf_cleared.loc[:,'compensation_to_max_limit'] = [quantiles_to[i][1] for i in df_cleared['profession']]\n\n# проверка по compensation_to\ndf_cleared = df_cleared[(df_cleared['compensation_to'] >= df_cleared['compensation_to_min_limit']) & \n                            (df_cleared['compensation_to'] <= df_cleared['compensation_to_max_limit'])]\n\nlen(df_cleared)\n#print(500000 - len(df_cleared))",
      "outputs": []
    },
    {
      "id": "fae5605e-77d1-440a-99bf-4495fc22cdde",
      "cell_type": "code",
      "metadata": {
        "jupyter": {
          "outputs_hidden": false,
          "source_hidden": false
        },
        "noteable": {
          "cell_type": "code",
          "output_collection_id": "59b84bba-4643-4cbf-bb46-f4d0b4ac7a9a"
        },
        "ExecuteTime": {
          "end_time": "2023-12-14T14:50:56.349522+00:00",
          "start_time": "2023-12-14T14:50:55.862555+00:00"
        },
        "datalink": {
          "7e2f1f59-441d-45dd-8446-7aaaa2e6654b": {
            "applied_filters": [],
            "dataframe_info": {
              "default_index_used": true,
              "orig_num_cols": 30,
              "orig_num_rows": 119488,
              "orig_size_bytes": 29633024,
              "truncated_num_cols": 30,
              "truncated_num_rows": 45000,
              "truncated_size_bytes": 11160000,
              "truncated_string_columns": [
                "resume_skills_list",
                "vacancy_skills_list"
              ]
            },
            "display_id": "7e2f1f59-441d-45dd-8446-7aaaa2e6654b",
            "dx_settings": {
              "ALLOW_NOTEABLE_ATTRS": true,
              "COLUMN_SAMPLING_METHOD": "outer",
              "DB_LOCATION": ":memory:",
              "DEV_MODE": false,
              "DISPLAY_MAX_COLUMNS": 100,
              "DISPLAY_MAX_ROWS": 50000,
              "DISPLAY_MODE": "simple",
              "ENABLE_ASSIGNMENT": true,
              "ENABLE_DATALINK": true,
              "FLATTEN_COLUMN_VALUES": true,
              "FLATTEN_INDEX_VALUES": false,
              "GENERATE_DEX_METADATA": false,
              "HTML_TABLE_SCHEMA": false,
              "LOG_LEVEL": 30,
              "MAX_RENDER_SIZE_BYTES": 104857600,
              "MAX_STRING_LENGTH": 250,
              "NUM_PAST_SAMPLES_TRACKED": 3,
              "RANDOM_STATE": 12648430,
              "RESET_INDEX_VALUES": false,
              "ROW_SAMPLING_METHOD": "random",
              "SAMPLING_FACTOR": 0.1,
              "SAMPLING_METHOD": "random",
              "STRINGIFY_COLUMN_VALUES": true,
              "STRINGIFY_INDEX_VALUES": false
            },
            "sample_history": [],
            "sampling_time": "2023-12-02T11:30:11.416001",
            "user_variable_name": "df_cleared",
            "variable_name": "df_cleared"
          }
        }
      },
      "execution_count": null,
      "source": "# замена final_state, gender и education_level\nfs_dict = {'discard': 0, 'invitation': 1}\ngender_dict = {'female': 0, 'male': 1}\neducation_dict = {'secondary': 0, 'special_secondary': 1, 'unfinished_higher': 2,\n                'bachelor': 3, 'master': 4, 'higher': 5, 'candidate': 6, 'doctor': 7}\ndf_cleared = df_cleared.replace({'final_state': fs_dict, 'gender': gender_dict, 'education_level': education_dict})",
      "outputs": []
    },
    {
      "id": "c2d773c2-3367-47dc-aa65-f05c9fddc582",
      "cell_type": "code",
      "metadata": {
        "jupyter": {
          "outputs_hidden": false,
          "source_hidden": false
        },
        "noteable": {
          "cell_type": "code",
          "output_collection_id": "1dd959ec-2b21-41a0-8861-dd3d9966fa23"
        },
        "ExecuteTime": {
          "end_time": "2023-12-14T15:01:19.152232+00:00",
          "start_time": "2023-12-14T15:01:16.602849+00:00"
        },
        "datalink": {
          "360098f0-751e-4424-85a2-2115d140bf7a": {
            "applied_filters": [],
            "dataframe_info": {
              "default_index_used": true,
              "orig_num_cols": 30,
              "orig_num_rows": 20,
              "orig_size_bytes": 4960,
              "truncated_num_cols": 30,
              "truncated_num_rows": 20,
              "truncated_size_bytes": 4960,
              "truncated_string_columns": [
                "resume_skills_list",
                "vacancy_skills_list"
              ]
            },
            "display_id": "360098f0-751e-4424-85a2-2115d140bf7a",
            "dx_settings": {
              "ALLOW_NOTEABLE_ATTRS": true,
              "COLUMN_SAMPLING_METHOD": "outer",
              "DB_LOCATION": ":memory:",
              "DEV_MODE": false,
              "DISPLAY_MAX_COLUMNS": 100,
              "DISPLAY_MAX_ROWS": 50000,
              "DISPLAY_MODE": "simple",
              "ENABLE_ASSIGNMENT": true,
              "ENABLE_DATALINK": true,
              "FLATTEN_COLUMN_VALUES": true,
              "FLATTEN_INDEX_VALUES": false,
              "GENERATE_DEX_METADATA": false,
              "HTML_TABLE_SCHEMA": false,
              "LOG_LEVEL": 30,
              "MAX_RENDER_SIZE_BYTES": 104857600,
              "MAX_STRING_LENGTH": 250,
              "NUM_PAST_SAMPLES_TRACKED": 3,
              "RANDOM_STATE": 12648430,
              "RESET_INDEX_VALUES": false,
              "ROW_SAMPLING_METHOD": "random",
              "SAMPLING_FACTOR": 0.1,
              "SAMPLING_METHOD": "random",
              "STRINGIFY_COLUMN_VALUES": true,
              "STRINGIFY_INDEX_VALUES": false
            },
            "sample_history": [],
            "sampling_time": "2023-12-02T11:37:38.511668",
            "user_variable_name": null,
            "variable_name": "unk_dataframe_8b56e9196cd7494aab0279b4fe32b4ed"
          },
          "294c72e0-9f0a-492b-9e89-2ee558561631": {
            "applied_filters": [],
            "dataframe_info": {
              "default_index_used": true,
              "orig_num_cols": 30,
              "orig_num_rows": 20,
              "orig_size_bytes": 4960,
              "truncated_num_cols": 30,
              "truncated_num_rows": 20,
              "truncated_size_bytes": 4960,
              "truncated_string_columns": [
                "resume_skills_list"
              ]
            },
            "display_id": "294c72e0-9f0a-492b-9e89-2ee558561631",
            "dx_settings": {
              "ALLOW_NOTEABLE_ATTRS": true,
              "COLUMN_SAMPLING_METHOD": "outer",
              "DB_LOCATION": ":memory:",
              "DEV_MODE": false,
              "DISPLAY_MAX_COLUMNS": 100,
              "DISPLAY_MAX_ROWS": 50000,
              "DISPLAY_MODE": "simple",
              "ENABLE_ASSIGNMENT": true,
              "ENABLE_DATALINK": true,
              "FLATTEN_COLUMN_VALUES": true,
              "FLATTEN_INDEX_VALUES": false,
              "GENERATE_DEX_METADATA": false,
              "HTML_TABLE_SCHEMA": false,
              "LOG_LEVEL": 30,
              "MAX_RENDER_SIZE_BYTES": 104857600,
              "MAX_STRING_LENGTH": 250,
              "NUM_PAST_SAMPLES_TRACKED": 3,
              "RANDOM_STATE": 12648430,
              "RESET_INDEX_VALUES": false,
              "ROW_SAMPLING_METHOD": "random",
              "SAMPLING_FACTOR": 0.1,
              "SAMPLING_METHOD": "random",
              "STRINGIFY_COLUMN_VALUES": true,
              "STRINGIFY_INDEX_VALUES": false
            },
            "sample_history": [],
            "sampling_time": "2023-12-02T11:38:17.331136",
            "user_variable_name": null,
            "variable_name": "unk_dataframe_435c6329278140e78da7604d5ce162d7"
          },
          "19b9fdae-eb45-4838-87af-ab490fc8b496": {
            "applied_filters": [],
            "dataframe_info": {
              "default_index_used": true,
              "orig_num_cols": 1,
              "orig_num_rows": 222798,
              "orig_size_bytes": 3564768,
              "truncated_num_cols": 1,
              "truncated_num_rows": 50000,
              "truncated_size_bytes": 800000,
              "truncated_string_columns": []
            },
            "display_id": "19b9fdae-eb45-4838-87af-ab490fc8b496",
            "dx_settings": {
              "ALLOW_NOTEABLE_ATTRS": true,
              "COLUMN_SAMPLING_METHOD": "outer",
              "DB_LOCATION": ":memory:",
              "DEV_MODE": false,
              "DISPLAY_MAX_COLUMNS": 100,
              "DISPLAY_MAX_ROWS": 50000,
              "DISPLAY_MODE": "simple",
              "ENABLE_ASSIGNMENT": true,
              "ENABLE_DATALINK": true,
              "FLATTEN_COLUMN_VALUES": true,
              "FLATTEN_INDEX_VALUES": false,
              "GENERATE_DEX_METADATA": false,
              "HTML_TABLE_SCHEMA": false,
              "LOG_LEVEL": 30,
              "MAX_RENDER_SIZE_BYTES": 104857600,
              "MAX_STRING_LENGTH": 250,
              "NUM_PAST_SAMPLES_TRACKED": 3,
              "RANDOM_STATE": 12648430,
              "RESET_INDEX_VALUES": false,
              "ROW_SAMPLING_METHOD": "random",
              "SAMPLING_FACTOR": 0.1,
              "SAMPLING_METHOD": "random",
              "STRINGIFY_COLUMN_VALUES": true,
              "STRINGIFY_INDEX_VALUES": false
            },
            "sample_history": [],
            "sampling_time": "2023-12-14T15:01:18.939244",
            "user_variable_name": null,
            "variable_name": "unk_dataframe_13b9f03aeb68451aad50c37b44022921"
          }
        }
      },
      "execution_count": null,
      "source": "df_cleared.sort_values('expected_salary')['expected_salary']\n#df_cleared.info()",
      "outputs": []
    },
    {
      "id": "f966b6bf-7867-4831-a3fb-f8a70e68a1ac",
      "cell_type": "code",
      "metadata": {
        "jupyter": {
          "outputs_hidden": false,
          "source_hidden": false
        },
        "noteable": {
          "cell_type": "code",
          "output_collection_id": "583638c7-6b6f-45c8-ae66-67c5cd440b30"
        },
        "ExecuteTime": {
          "end_time": "2023-12-14T14:53:47.748103+00:00",
          "start_time": "2023-12-14T14:51:34.911583+00:00"
        }
      },
      "execution_count": null,
      "source": "df_cleared.to_excel('clear_new1.xlsx')",
      "outputs": []
    },
    {
      "id": "3eab1c86-5c45-4db0-aa05-3ffec130f966",
      "cell_type": "code",
      "metadata": {
        "jupyter": {
          "outputs_hidden": false,
          "source_hidden": false
        },
        "noteable": {
          "cell_type": "code",
          "output_collection_id": "6a8e450a-eb0c-4dd7-a28a-3390990ce302"
        }
      },
      "execution_count": null,
      "source": "# графики по профессиям\ncolumns = ['final_state','gender', 'education_level', 'work_experience_months', 'expected_salary']\nsns.set(font_scale=1)\nplt.subplots(figsize=(10, 10))\nsns.heatmap(df_cleared[columns][df_cleared['profession'] == 'Аналитик'].corr( ), square=True,\n              annot=True, fmt=\".10f\", linewidths=0.1, cmap=\"RdBu\");\n\n\ncolumns = ['final_state', 'gender', 'education_level', 'work_experience_months', 'expected_salary']\nsns.set(font_scale=1)\nplt.subplots(figsize=(10, 10))\nsns.heatmap(df_cleared[columns][df_cleared['profession'] == 'Менеджер по персоналу'].corr( ), square=True,\n              annot=True, fmt=\".10f\", linewidths=0.1, cmap=\"RdBu\");\n\n\ncolumns = ['final_state', 'gender', 'education_level', 'work_experience_months', 'expected_salary']\nsns.set(font_scale=1)\nplt.subplots(figsize=(10, 10))\nsns.heatmap(df_cleared[columns][df_cleared['profession'] == 'Курьер'].corr( ), square=True,\n              annot=True, fmt=\".10f\", linewidths=0.1, cmap=\"RdBu\");\n\n\ncolumns = ['final_state', 'gender', 'education_level', 'work_experience_months', 'expected_salary']\nsns.set(font_scale=1)\nplt.subplots(figsize=(10, 10))\nsns.heatmap(df_cleared[columns][df_cleared['profession'] == 'Дизайнер, художник'].corr( ), square=True,\n              annot=True, fmt=\".10f\", linewidths=0.1, cmap=\"RdBu\");\n\n\ncolumns = ['final_state', 'gender', 'education_level', 'work_experience_months', 'expected_salary']\nsns.set(font_scale=1)\nplt.subplots(figsize=(10, 10))\nsns.heatmap(df_cleared[columns][df_cleared['profession'] == 'Машинист'].corr( ), square=True,\n              annot=True, fmt=\".10f\", linewidths=0.1, cmap=\"RdBu\");\n\n\ncolumns = ['final_state', 'gender', 'education_level', 'work_experience_months', 'expected_salary']\nsns.set(font_scale=1)\nplt.subplots(figsize=(10, 10))\nsns.heatmap(df_cleared[columns][df_cleared['profession'] == 'Тестировщик'].corr( ), square=True,\n              annot=True, fmt=\".10f\", linewidths=0.1, cmap=\"RdBu\");\n\n\ncolumns = ['final_state', 'gender', 'education_level', 'work_experience_months', 'expected_salary']\nsns.set(font_scale=1)\nplt.subplots(figsize=(10, 10))\nsns.heatmap(df_cleared[columns][df_cleared['profession'] == 'Учитель, преподаватель, педагог'].corr( ), square=True,\n              annot=True, fmt=\".10f\", linewidths=0.1, cmap=\"RdBu\");\n\n\ncolumns = ['final_state', 'gender', 'education_level', 'work_experience_months', 'expected_salary']\nsns.set(font_scale=1)\nplt.subplots(figsize=(10, 10))\nsns.heatmap(df_cleared[columns][df_cleared['profession'] == 'Юрист'].corr( ), square=True,\n              annot=True, fmt=\".10f\", linewidths=0.1, cmap=\"RdBu\");\n\n\ncolumns = ['final_state', 'gender', 'education_level', 'work_experience_months', 'expected_salary']\nsns.set(font_scale=1)\nplt.subplots(figsize=(10, 10))\nsns.heatmap(df_cleared[columns][df_cleared['profession'] == 'Психолог'].corr( ), square=True,\n              annot=True, fmt=\".10f\", linewidths=0.1, cmap=\"RdBu\");\n\n\ncolumns = ['final_state', 'gender', 'education_level', 'work_experience_months', 'expected_salary']\nsns.set(font_scale=1)\nplt.subplots(figsize=(10, 10))\nsns.heatmap(df_cleared[columns][df_cleared['profession'] == 'Врач'].corr( ), square=True,\n              annot=True, fmt=\".10f\", linewidths=0.1, cmap=\"RdBu\");",
      "outputs": []
    }
  ]
}