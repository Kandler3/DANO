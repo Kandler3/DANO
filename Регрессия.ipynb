{
  "nbformat": 4,
  "nbformat_minor": 5,
  "metadata": {
    "kernel_info": {
      "name": "python3"
    },
    "kernelspec": {
      "display_name": "Python 3.9",
      "identifier": "legacy",
      "language": "python",
      "language_version": "3.9",
      "name": "python3"
    },
    "selected_hardware_size": "small"
  },
  "cells": [
    {
      "id": "e889da21",
      "cell_type": "code",
      "metadata": {
        "noteable": {
          "output_collection_id": "1a9ba511-d778-4338-be28-7e41fc4b8e8b"
        },
        "ExecuteTime": {
          "end_time": "2023-12-15T14:54:05.169676+00:00",
          "start_time": "2023-12-15T14:54:03.222982+00:00"
        }
      },
      "execution_count": null,
      "source": "%ntbl pull datasets \"hh_ru/clear_final.xlsx\"",
      "outputs": []
    },
    {
      "id": "552377c8-6e65-4eca-9912-e6af25ad2ba4",
      "cell_type": "code",
      "metadata": {
        "jupyter": {
          "outputs_hidden": false,
          "source_hidden": false
        },
        "noteable": {
          "cell_type": "code",
          "output_collection_id": "6892e0d2-af0b-4cbf-b701-9ed5f1e59be6"
        },
        "ExecuteTime": {
          "end_time": "2023-12-15T14:54:05.895738+00:00",
          "start_time": "2023-12-15T14:54:05.174118+00:00"
        }
      },
      "execution_count": null,
      "source": "import seaborn as sns\nimport matplotlib.pyplot as plt\nimport numpy as np\nfrom sklearn.linear_model import LinearRegression",
      "outputs": []
    },
    {
      "id": "b7f747cb-9a35-4a3c-97d0-73c8154ffea9",
      "cell_type": "code",
      "metadata": {
        "jupyter": {
          "outputs_hidden": false,
          "source_hidden": false
        },
        "noteable": {
          "cell_type": "code",
          "output_collection_id": "d8824cd4-37fa-4370-ab13-8ab14728d439"
        },
        "ExecuteTime": {
          "end_time": "2023-12-15T14:55:25.950164+00:00",
          "start_time": "2023-12-15T14:54:05.903624+00:00"
        }
      },
      "execution_count": null,
      "source": "df = pd.read_excel(\"../datasets/hh_ru/clear_final.xlsx\")\ndf.info()",
      "outputs": []
    },
    {
      "id": "7ae52077-5fcf-4501-b143-1054773f2876",
      "cell_type": "code",
      "metadata": {
        "jupyter": {
          "outputs_hidden": false,
          "source_hidden": false
        },
        "noteable": {
          "cell_type": "code",
          "output_collection_id": "c06320ac-4015-43cb-b1b2-5e24b66f551b"
        },
        "ExecuteTime": {
          "end_time": "2023-12-15T14:17:51.820825+00:00",
          "start_time": "2023-12-15T14:17:51.665056+00:00"
        }
      },
      "execution_count": null,
      "source": "x = df[['education_level', 'work_experience_months', 'gender']]\ny = df['final_state']",
      "outputs": []
    },
    {
      "id": "adbbb666-6f85-4b2b-a3b6-dcfb2f15c9aa",
      "cell_type": "code",
      "metadata": {
        "jupyter": {
          "outputs_hidden": false,
          "source_hidden": false
        },
        "noteable": {
          "cell_type": "code",
          "output_collection_id": "e8b0337f-0e0d-4afd-ad83-44096593b59a"
        },
        "ExecuteTime": {
          "end_time": "2023-12-15T14:17:52.629184+00:00",
          "start_time": "2023-12-15T14:17:52.132399+00:00"
        }
      },
      "execution_count": null,
      "source": "model = LinearRegression(normalize=True).fit(x, y)",
      "outputs": []
    },
    {
      "id": "99064d9c-e1a0-4e4d-b613-7c99bd650548",
      "cell_type": "code",
      "metadata": {
        "jupyter": {
          "outputs_hidden": false,
          "source_hidden": false
        },
        "noteable": {
          "cell_type": "code",
          "output_collection_id": "c6a597bb-efa5-48b7-83ba-3f18048ff721"
        },
        "ExecuteTime": {
          "end_time": "2023-12-15T14:17:52.791657+00:00",
          "start_time": "2023-12-15T14:17:52.636462+00:00"
        }
      },
      "execution_count": null,
      "source": "model.coef_",
      "outputs": []
    },
    {
      "id": "91dfdcf6-f861-424c-b137-8cca0d320f5b",
      "cell_type": "code",
      "metadata": {
        "jupyter": {
          "outputs_hidden": false,
          "source_hidden": false
        },
        "noteable": {
          "cell_type": "code",
          "output_collection_id": "7728f4aa-c6b6-41b8-92d1-5e3acd676031"
        },
        "ExecuteTime": {
          "end_time": "2023-12-15T14:17:53.114101+00:00",
          "start_time": "2023-12-15T14:17:52.945804+00:00"
        }
      },
      "execution_count": null,
      "source": "model = LinearRegression(normalize=False).fit(x, y)",
      "outputs": []
    },
    {
      "id": "eeea2a2e-ce11-450b-9895-9430e9069080",
      "cell_type": "code",
      "metadata": {
        "jupyter": {
          "outputs_hidden": false,
          "source_hidden": false
        },
        "noteable": {
          "cell_type": "code",
          "output_collection_id": "c61bb078-5911-43c0-9c6d-20c4c731be9d"
        },
        "ExecuteTime": {
          "end_time": "2023-12-15T14:17:54.960621+00:00",
          "start_time": "2023-12-15T14:17:54.804621+00:00"
        }
      },
      "execution_count": null,
      "source": "model.coef_",
      "outputs": []
    },
    {
      "id": "1e03fb3c-5915-404d-a90a-7ad40d1b2e1d",
      "cell_type": "code",
      "metadata": {
        "jupyter": {
          "outputs_hidden": false,
          "source_hidden": false
        },
        "noteable": {
          "cell_type": "code",
          "output_collection_id": "8b9cf3c9-3879-40a1-955d-46e97c0c2ef8"
        },
        "ExecuteTime": {
          "end_time": "2023-12-15T14:17:55.827163+00:00",
          "start_time": "2023-12-15T14:17:55.671618+00:00"
        }
      },
      "execution_count": null,
      "source": "model.intercept_",
      "outputs": []
    },
    {
      "id": "b957f9ca-0c6e-4265-9c1a-3a6977963fa5",
      "cell_type": "code",
      "metadata": {
        "jupyter": {
          "outputs_hidden": false,
          "source_hidden": false
        },
        "noteable": {
          "cell_type": "code",
          "output_collection_id": "d29234ac-1391-47d1-b27a-f3f762f4762a"
        },
        "ExecuteTime": {
          "end_time": "2023-12-15T14:56:11.577561+00:00",
          "start_time": "2023-12-15T14:56:11.411000+00:00"
        }
      },
      "execution_count": null,
      "source": "len(df[df['work_experience_months'] == 0])",
      "outputs": []
    },
    {
      "id": "6ecf1bd0-ffed-47b9-9bd9-443adbd6ac06",
      "cell_type": "code",
      "metadata": {
        "jupyter": {
          "outputs_hidden": false,
          "source_hidden": false
        },
        "noteable": {
          "cell_type": "code"
        }
      },
      "execution_count": null,
      "source": "",
      "outputs": []
    }
  ]
}