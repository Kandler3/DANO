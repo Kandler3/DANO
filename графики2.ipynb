{
  "nbformat": 4,
  "nbformat_minor": 5,
  "metadata": {
    "kernel_info": {
      "name": "python3"
    },
    "kernelspec": {
      "display_name": "Python 3.9",
      "identifier": "legacy",
      "language": "python",
      "language_version": "3.9",
      "name": "python3"
    },
    "selected_hardware_size": "small"
  },
  "cells": [
    {
      "id": "66ecd2d0-15c3-4fa2-a071-72cc611f2779",
      "cell_type": "code",
      "metadata": {
        "jupyter": {
          "outputs_hidden": false,
          "source_hidden": false
        },
        "noteable": {
          "cell_type": "code",
          "output_collection_id": "a3dd9195-4f33-4688-883a-dd6ff8eb00c8"
        },
        "ExecuteTime": {
          "end_time": "2023-11-30T20:00:06.987756+00:00",
          "start_time": "2023-11-30T20:00:04.360748+00:00"
        }
      },
      "execution_count": null,
      "source": "%ntbl pull datasets \"hh_ru/cleared_without_states_condition.xlsx\"",
      "outputs": []
    },
    {
      "id": "4011d3d0",
      "cell_type": "code",
      "metadata": {
        "noteable": {
          "output_collection_id": "1e4fd1c6-8da9-4f4f-a3a0-feae6a319d57"
        },
        "ExecuteTime": {
          "end_time": "2023-11-30T20:00:07.231621+00:00",
          "start_time": "2023-11-30T20:00:07.077136+00:00"
        }
      },
      "execution_count": null,
      "source": "import pandas as pd\nimport matplotlib.pyplot as plt\nimport matplotlib.colors as mcolors",
      "outputs": []
    },
    {
      "id": "a01e718a-dcbc-40d7-af8f-090973396b9a",
      "cell_type": "code",
      "metadata": {
        "jupyter": {
          "outputs_hidden": false,
          "source_hidden": false
        },
        "noteable": {
          "cell_type": "code",
          "output_collection_id": "8bb296ac-86f7-4d2f-b340-a2ea88654e3f"
        },
        "ExecuteTime": {
          "end_time": "2023-11-30T20:01:38.201852+00:00",
          "start_time": "2023-11-30T20:00:07.236336+00:00"
        }
      },
      "execution_count": null,
      "source": "df = pd.read_excel('../datasets/hh_ru/cleared_without_states_condition.xlsx')",
      "outputs": []
    },
    {
      "id": "f7f0a06c-f586-4cd3-8588-1d0f97b98329",
      "cell_type": "code",
      "metadata": {
        "jupyter": {
          "outputs_hidden": false,
          "source_hidden": false
        },
        "noteable": {
          "cell_type": "code",
          "output_collection_id": "b124e8bf-35f2-4718-942b-4c4a7154005b"
        },
        "ExecuteTime": {
          "end_time": "2023-11-30T20:01:38.500856+00:00",
          "start_time": "2023-11-30T20:01:38.208009+00:00"
        }
      },
      "execution_count": null,
      "source": "df.loc[:,'final_state_invitation'] = df['final_state'].map(lambda x: {'discard': 0, 'response': 0, 'invitation': 1}[x], na_action='ignore')\ndf_by_vet_inv = df.groupby('vacancy_employment_type')['final_state_invitation'].mean()\ndf.loc[:,'final_state_discard'] = df['final_state'].map(lambda x: {'discard': -1, 'response': 0, 'invitation': 0}[x], na_action='ignore')\ndf_by_vet_disc = df.groupby('vacancy_employment_type')['final_state_discard'].mean()",
      "outputs": []
    },
    {
      "id": "63f81a8a-f8fa-437a-8a72-b95834d45abc",
      "cell_type": "code",
      "metadata": {
        "jupyter": {
          "outputs_hidden": false,
          "source_hidden": false
        },
        "noteable": {
          "cell_type": "code",
          "output_collection_id": "13220d01-a601-42e4-9d06-f75054fb4b1f"
        },
        "ExecuteTime": {
          "end_time": "2023-11-30T20:01:39.075101+00:00",
          "start_time": "2023-11-30T20:01:38.505638+00:00"
        }
      },
      "execution_count": null,
      "source": "fig, ax = plt.subplots()\nax.bar(df_by_vet_inv.iloc[:4].keys(), df_by_vet_inv.iloc[:4], color='#08415c')\nax.bar(df_by_vet_disc.iloc[:4].keys(), df_by_vet_disc.iloc[:4], color='#cc2636')\nax.set_xlabel('vacancy type')\nax.set_ylabel('discard, invitation')",
      "outputs": []
    },
    {
      "id": "9fae2e83-8047-4b36-b799-73f88e9f730f",
      "cell_type": "code",
      "metadata": {
        "jupyter": {
          "outputs_hidden": false,
          "source_hidden": false
        },
        "noteable": {
          "cell_type": "code",
          "output_collection_id": "14b6734c-cc6f-45b4-a4d7-8c4e5fc6eb16"
        },
        "ExecuteTime": {
          "end_time": "2023-11-30T20:11:34.567547+00:00",
          "start_time": "2023-11-30T20:11:33.756469+00:00"
        }
      },
      "execution_count": null,
      "source": "education_dict = {'secondary': 0, 'unfinished_higher': 1, 'special_secondary': 2,\n                 'higher': 3, 'bachelor': 4, 'master': 5, 'candidate': 6, 'doctor': 7}\ngender_dict = {'female': 0, 'male': 1}\n\nx = pd.Series(range(8))\nwidth = 1/6\nmult = 0\nfig, ax = plt.subplots(layout='constrained')\nfor gender in gender_dict:\n    offset = width * mult\n    rects = ax.bar(x + offset,\n                   [df[df['education_level'] == ed_level]['expected_salary'].median() \n                    for ed_level in education_dict.keys()],\n                   width,\n                   label=gender)\n    mult += 1\n\nax.set_ylabel('Медиана expected_salary')\nax.set_xlabel('Образование')\nplt.xticks(rotation=45)\nax.set_xticks(x + width, education_dict.keys())\nax.legend(loc='upper left', ncols=3)\nax.set_ylim(0, 170_000)",
      "outputs": []
    },
    {
      "id": "f61ea5ad-2ab2-431b-a744-bb2d34247486",
      "cell_type": "code",
      "metadata": {
        "jupyter": {
          "outputs_hidden": false,
          "source_hidden": false
        },
        "noteable": {
          "cell_type": "code",
          "output_collection_id": "aaa6fbad-4307-4444-932f-2b534e3f6940"
        },
        "ExecuteTime": {
          "end_time": "2023-11-30T20:17:28.833122+00:00",
          "start_time": "2023-11-30T20:17:27.956013+00:00"
        }
      },
      "execution_count": null,
      "source": "x = pd.Series(range(8))\nwidth = 1/6\nmult = 0\nfig, ax = plt.subplots(layout='constrained')\nfor resume_employment_type in ('full', 'part'):\n    offset = width * mult\n    rects = ax.bar(x + offset,\n                   [len(df[(df['education_level'] == ed_level) & \n                           (df['resume_employment_type'] == resume_employment_type)])\n                    for ed_level in education_dict.keys()],\n                   width,\n                   label=resume_employment_type)\n    mult += 1\n\nax.set_ylabel('Количество в категории')\nax.set_xlabel('Образование')\nplt.xticks(rotation=45)\nax.set_xticks(x + width, education_dict.keys())\nax.legend(loc='upper left', ncols=3)",
      "outputs": []
    },
    {
      "id": "55a0508c-3ce0-488d-a341-7da2150deace",
      "cell_type": "code",
      "metadata": {
        "jupyter": {
          "outputs_hidden": false,
          "source_hidden": false
        },
        "noteable": {
          "cell_type": "code",
          "output_collection_id": "9ae3e60e-0a46-48be-b84c-16e54c70f539"
        },
        "ExecuteTime": {
          "end_time": "2023-11-30T20:22:50.778358+00:00",
          "start_time": "2023-11-30T20:22:50.020398+00:00"
        }
      },
      "execution_count": null,
      "source": "fig, ax = plt.subplots()\ndata = []\nfor ed_level in education_dict.keys():\n    full_count = len(df[(df['education_level'] == ed_level) & \n                               (df['resume_employment_type'] == 'full')])\n    part_count = len(df[(df['education_level'] == ed_level) & \n                               (df['resume_employment_type'] == 'part')])\n    data.append(full_count / part_count)\n\nax.bar(education_dict.keys(), data)\nplt.xticks(rotation=45)\nax.set_xlabel('Образование')\nax.set_ylabel('Отношение количества full к part')",
      "outputs": []
    },
    {
      "id": "df17d997-05d8-4075-8b70-fcee3788a086",
      "cell_type": "code",
      "metadata": {
        "jupyter": {
          "outputs_hidden": false,
          "source_hidden": false
        },
        "noteable": {
          "cell_type": "code",
          "output_collection_id": "8eb727ca-c9aa-4905-ac5e-16896f7e7674"
        },
        "ExecuteTime": {
          "end_time": "2023-11-30T20:39:16.353272+00:00",
          "start_time": "2023-11-30T20:39:16.197319+00:00"
        }
      },
      "execution_count": null,
      "source": "",
      "outputs": []
    },
    {
      "id": "3641ca86-89c1-4f61-824e-9daa754a5d0e",
      "cell_type": "code",
      "metadata": {
        "jupyter": {
          "outputs_hidden": false,
          "source_hidden": false
        },
        "noteable": {
          "cell_type": "code"
        }
      },
      "execution_count": null,
      "source": "",
      "outputs": []
    }
  ]
}