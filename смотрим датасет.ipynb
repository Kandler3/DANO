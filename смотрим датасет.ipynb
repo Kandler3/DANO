{
 "cells": [
  {
   "cell_type": "code",
   "execution_count": 1,
   "id": "d55c7c75-7f3c-4a61-ac46-aadd7cae1869",
   "metadata": {
    "jupyter": {
     "outputs_hidden": false,
     "source_hidden": false
    },
    "noteable": {
     "cell_type": "code"
    }
   },
   "outputs": [],
   "source": [
    "import pandas as pd"
   ]
  },
  {
   "cell_type": "code",
   "execution_count": 2,
   "id": "30b1f16f-d1a5-4950-b014-c08a641928b2",
   "metadata": {
    "ExecuteTime": {
     "end_time": "2023-12-15T20:09:37.105231+00:00",
     "start_time": "2023-12-15T20:08:16.905116+00:00"
    },
    "jupyter": {
     "outputs_hidden": false,
     "source_hidden": false
    },
    "noteable": {
     "cell_type": "code",
     "output_collection_id": "92ada078-b378-4d79-aecd-e55348c86910"
    }
   },
   "outputs": [],
   "source": [
    "df = pd.read_excel('clear_final1.xlsx')"
   ]
  },
  {
   "cell_type": "code",
   "execution_count": 4,
   "id": "80195d09",
   "metadata": {
    "scrolled": true
   },
   "outputs": [
    {
     "name": "stdout",
     "output_type": "stream",
     "text": [
      "<class 'pandas.core.frame.DataFrame'>\n",
      "RangeIndex: 220470 entries, 0 to 220469\n",
      "Data columns (total 31 columns):\n",
      " #   Column                   Non-Null Count   Dtype  \n",
      "---  ------                   --------------   -----  \n",
      " 0   Unnamed: 0               220470 non-null  int64  \n",
      " 1   topic_id                 220470 non-null  object \n",
      " 2   topic_creation_date      220470 non-null  object \n",
      " 3   initial_state            220470 non-null  object \n",
      " 4   final_state              220470 non-null  int64  \n",
      " 5   resume_id                220470 non-null  object \n",
      " 6   resume_creation_date     220470 non-null  object \n",
      " 7   profession               220470 non-null  object \n",
      " 8   gender                   220470 non-null  int64  \n",
      " 9   year_of_birth            220470 non-null  int64  \n",
      " 10  resume_region            220470 non-null  object \n",
      " 11  education_level          220470 non-null  object \n",
      " 12  expected_salary          220470 non-null  int64  \n",
      " 13  relocation_status        220470 non-null  object \n",
      " 14  business_trip_readiness  220470 non-null  object \n",
      " 15  work_schedule            220470 non-null  object \n",
      " 16  resume_employment_type   220470 non-null  object \n",
      " 17  work_experience_months   220470 non-null  int64  \n",
      " 18  resume_skills_list       203757 non-null  object \n",
      " 19  vacancy_id               220470 non-null  object \n",
      " 20  vacancy_creation_date    220470 non-null  object \n",
      " 21  vacancy_region           220470 non-null  object \n",
      " 22  work_schedule.1          220470 non-null  object \n",
      " 23  vacancy_employment_type  220470 non-null  object \n",
      " 24  compensation_from        220470 non-null  int64  \n",
      " 25  compensation_to          152135 non-null  float64\n",
      " 26  vacancy_skills_list      220470 non-null  object \n",
      " 27  exp_salary_min_limit     220470 non-null  float64\n",
      " 28  exp_salary_max_limit     220470 non-null  float64\n",
      " 29  education_level_is_high  220470 non-null  int64  \n",
      " 30  profession_type          220470 non-null  object \n",
      "dtypes: float64(3), int64(8), object(20)\n",
      "memory usage: 52.1+ MB\n"
     ]
    }
   ],
   "source": [
    "df.info()"
   ]
  },
  {
   "cell_type": "code",
   "execution_count": 11,
   "id": "df39afd7-7ac7-485a-afbb-8f7efa2ca914",
   "metadata": {
    "ExecuteTime": {
     "end_time": "2023-12-15T20:48:56.562623+00:00",
     "start_time": "2023-12-15T20:48:55.425902+00:00"
    },
    "datalink": {
     "01a48c0c-25ba-479f-bef6-127e7ec293b3": {
      "applied_filters": [],
      "dataframe_info": {
       "default_index_used": true,
       "orig_num_cols": 3,
       "orig_num_rows": 6,
       "orig_size_bytes": 192,
       "truncated_num_cols": 3,
       "truncated_num_rows": 6,
       "truncated_size_bytes": 192,
       "truncated_string_columns": []
      },
      "display_id": "01a48c0c-25ba-479f-bef6-127e7ec293b3",
      "dx_settings": {
       "ALLOW_NOTEABLE_ATTRS": true,
       "COLUMN_SAMPLING_METHOD": "outer",
       "DB_LOCATION": ":memory:",
       "DEV_MODE": false,
       "DISPLAY_MAX_COLUMNS": 100,
       "DISPLAY_MAX_ROWS": 50000,
       "DISPLAY_MODE": "simple",
       "ENABLE_ASSIGNMENT": true,
       "ENABLE_DATALINK": true,
       "FLATTEN_COLUMN_VALUES": true,
       "FLATTEN_INDEX_VALUES": false,
       "GENERATE_DEX_METADATA": false,
       "HTML_TABLE_SCHEMA": false,
       "LOG_LEVEL": 30,
       "MAX_RENDER_SIZE_BYTES": 104857600,
       "MAX_STRING_LENGTH": 250,
       "NUM_PAST_SAMPLES_TRACKED": 3,
       "RANDOM_STATE": 12648430,
       "RESET_INDEX_VALUES": false,
       "ROW_SAMPLING_METHOD": "random",
       "SAMPLING_FACTOR": 0.1,
       "SAMPLING_METHOD": "random",
       "STRINGIFY_COLUMN_VALUES": true,
       "STRINGIFY_INDEX_VALUES": false
      },
      "sample_history": [],
      "sampling_time": "2023-12-15T20:48:45.712759",
      "user_variable_name": "res",
      "variable_name": "res"
     },
     "660178fb-7f88-443c-9b5a-3f7c24d376bd": {
      "applied_filters": [],
      "dataframe_info": {
       "default_index_used": true,
       "orig_num_cols": 3,
       "orig_num_rows": 6,
       "orig_size_bytes": 192,
       "truncated_num_cols": 3,
       "truncated_num_rows": 6,
       "truncated_size_bytes": 192,
       "truncated_string_columns": []
      },
      "display_id": "660178fb-7f88-443c-9b5a-3f7c24d376bd",
      "dx_settings": {
       "ALLOW_NOTEABLE_ATTRS": true,
       "COLUMN_SAMPLING_METHOD": "outer",
       "DB_LOCATION": ":memory:",
       "DEV_MODE": false,
       "DISPLAY_MAX_COLUMNS": 100,
       "DISPLAY_MAX_ROWS": 50000,
       "DISPLAY_MODE": "simple",
       "ENABLE_ASSIGNMENT": true,
       "ENABLE_DATALINK": true,
       "FLATTEN_COLUMN_VALUES": true,
       "FLATTEN_INDEX_VALUES": false,
       "GENERATE_DEX_METADATA": false,
       "HTML_TABLE_SCHEMA": false,
       "LOG_LEVEL": 30,
       "MAX_RENDER_SIZE_BYTES": 104857600,
       "MAX_STRING_LENGTH": 250,
       "NUM_PAST_SAMPLES_TRACKED": 3,
       "RANDOM_STATE": 12648430,
       "RESET_INDEX_VALUES": false,
       "ROW_SAMPLING_METHOD": "random",
       "SAMPLING_FACTOR": 0.1,
       "SAMPLING_METHOD": "random",
       "STRINGIFY_COLUMN_VALUES": true,
       "STRINGIFY_INDEX_VALUES": false
      },
      "sample_history": [],
      "sampling_time": "2023-12-15T20:48:56.404004",
      "user_variable_name": "res",
      "variable_name": "res"
     }
    },
    "jupyter": {
     "outputs_hidden": false,
     "source_hidden": false
    },
    "noteable": {
     "cell_type": "code",
     "output_collection_id": "cb996342-bac6-45e8-a8f5-b208f224ef7f"
    }
   },
   "outputs": [],
   "source": [
    "for pt in ('art', 'human', 'machinery', 'symbol'):\n",
    "    res = pd.DataFrame(columns=('work_experience', 'ed_level 0', 'ed_level 1'))\n",
    "    for we_bottom, we_top in (zip(range(1, 602, 60), range(60, 661, 60))):\n",
    "        if we_bottom == 1: we_bottom = 0\n",
    "        string = [f'[{we_bottom};{we_top}]']\n",
    "        for ed in range(2):\n",
    "            param_df = df[(df['profession_type'] == pt) & (df['education_level_is_high'] == ed) & (df['work_experience_months'] >= we_bottom) & (df['work_experience_months'] <= we_top)]\n",
    "            string.append(len(param_df))\n",
    "        res.loc[len(res.index)] = string\n",
    "    res.to_excel(f'{pt}_count.xlsx')"
   ]
  },
  {
   "cell_type": "code",
   "execution_count": null,
   "id": "03601685-f984-478c-b9a3-89019c9b4827",
   "metadata": {
    "jupyter": {
     "outputs_hidden": false,
     "source_hidden": false
    },
    "noteable": {
     "cell_type": "code"
    }
   },
   "outputs": [],
   "source": []
  }
 ],
 "metadata": {
  "kernel_info": {
   "name": "python3"
  },
  "kernelspec": {
   "display_name": "Python 3 (ipykernel)",
   "language": "python",
   "name": "python3"
  },
  "language_info": {
   "codemirror_mode": {
    "name": "ipython",
    "version": 3
   },
   "file_extension": ".py",
   "mimetype": "text/x-python",
   "name": "python",
   "nbconvert_exporter": "python",
   "pygments_lexer": "ipython3",
   "version": "3.11.5"
  },
  "selected_hardware_size": "small"
 },
 "nbformat": 4,
 "nbformat_minor": 5
}
