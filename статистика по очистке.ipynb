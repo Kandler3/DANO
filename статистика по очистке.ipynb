{
  "nbformat": 4,
  "nbformat_minor": 5,
  "metadata": {
    "kernel_info": {
      "name": "python3"
    },
    "kernelspec": {
      "display_name": "Python 3.9",
      "identifier": "legacy",
      "language": "python",
      "language_version": "3.9",
      "name": "python3"
    },
    "selected_hardware_size": "small"
  },
  "cells": [
    {
      "id": "901024a1-7394-4874-aa00-1e21d39b0bad",
      "cell_type": "code",
      "metadata": {
        "jupyter": {
          "outputs_hidden": false,
          "source_hidden": false
        },
        "noteable": {
          "cell_type": "code",
          "output_collection_id": "1a8e38a3-c164-4bf3-be74-970d397ee83c"
        },
        "ExecuteTime": {
          "end_time": "2023-12-13T19:30:46.340254+00:00",
          "start_time": "2023-12-13T19:30:46.186127+00:00"
        }
      },
      "execution_count": null,
      "source": "from itertools import product",
      "outputs": []
    },
    {
      "id": "c3092be3-9741-4cde-a17d-2bf17ff051c0",
      "cell_type": "code",
      "metadata": {
        "jupyter": {
          "outputs_hidden": false,
          "source_hidden": false
        },
        "noteable": {
          "cell_type": "code",
          "output_collection_id": "e07b865e-56d6-4107-a8d0-ea19be80157c"
        },
        "ExecuteTime": {
          "end_time": "2023-12-13T19:33:37.918813+00:00",
          "start_time": "2023-12-13T19:33:28.271209+00:00"
        }
      },
      "execution_count": null,
      "source": "%ntbl pull datasets \"hh_ru/hh_ru_dataset.csv\"",
      "outputs": []
    },
    {
      "id": "b9a65478-0b0c-4022-8deb-a05bf92ae418",
      "cell_type": "code",
      "metadata": {
        "jupyter": {
          "outputs_hidden": false,
          "source_hidden": false
        },
        "noteable": {
          "cell_type": "code",
          "output_collection_id": "b0311eaa-92c8-4ec3-9f0a-62be547a68eb"
        },
        "ExecuteTime": {
          "end_time": "2023-12-13T19:33:44.982198+00:00",
          "start_time": "2023-12-13T19:33:39.339022+00:00"
        }
      },
      "execution_count": null,
      "source": "df = pd.read_csv('../datasets/hh_ru/hh_ru_dataset.csv')",
      "outputs": []
    },
    {
      "id": "dbb445de-833d-43e9-8d95-fcf624546f78",
      "cell_type": "code",
      "metadata": {
        "jupyter": {
          "outputs_hidden": false,
          "source_hidden": false
        },
        "noteable": {
          "cell_type": "code",
          "output_collection_id": "f5649833-12ca-4a64-8e9b-7cceb71ab801"
        },
        "ExecuteTime": {
          "end_time": "2023-12-13T19:33:46.203969+00:00",
          "start_time": "2023-12-13T19:33:45.931854+00:00"
        }
      },
      "execution_count": null,
      "source": "df_cleared = df.copy()",
      "outputs": []
    },
    {
      "id": "acda8c6a-81d9-482b-b81a-b1c01c4f36bb",
      "cell_type": "markdown",
      "source": "Исследуемые фильтры:\n1. по final_state (удаление response) - fs\n2. по dropna (education_level, initial_state, final_state, work_schedule, compensation_from, compensation_to) - na\n3. нижний порог expected_salary - exp\n4. пороги compensation_to - comp",
      "metadata": {
        "noteable": {
          "cell_type": "markdown"
        }
      }
    },
    {
      "id": "b46ed793-434b-44b0-a67e-f83ca27db15b",
      "cell_type": "markdown",
      "source": "Сначала применяем все 100% нужные фильтры",
      "metadata": {
        "noteable": {
          "cell_type": "markdown"
        }
      }
    },
    {
      "id": "a452e8fc-e0f1-4260-a035-83d9e9b2d7d6",
      "cell_type": "code",
      "metadata": {
        "jupyter": {
          "outputs_hidden": false,
          "source_hidden": false
        },
        "noteable": {
          "cell_type": "code",
          "output_collection_id": "f3f5d84c-5298-497e-b11a-a245799b49e1"
        },
        "ExecuteTime": {
          "end_time": "2023-12-13T19:33:49.845199+00:00",
          "start_time": "2023-12-13T19:33:49.577841+00:00"
        }
      },
      "execution_count": null,
      "source": "before = len(df_cleared)\ndf_cleared = df_cleared[(df_cleared['year_of_birth'] >= 1953) & (df_cleared['year_of_birth'] <= 2007)]\nafter = len(df_cleared)\nbefore - after",
      "outputs": []
    },
    {
      "id": "4c0aa0eb-e363-45a7-a737-29e21cd9152b",
      "cell_type": "code",
      "metadata": {
        "jupyter": {
          "outputs_hidden": false,
          "source_hidden": false
        },
        "noteable": {
          "cell_type": "code",
          "output_collection_id": "a49847d7-bbb3-4e91-afa3-a3141f94aad3"
        },
        "ExecuteTime": {
          "end_time": "2023-12-13T19:33:51.447763+00:00",
          "start_time": "2023-12-13T19:33:51.116581+00:00"
        }
      },
      "execution_count": null,
      "source": "before = len(df_cleared)\ndf_cleared = df_cleared.drop_duplicates(['topic_id'])\nafter = len(df_cleared)\nbefore - after",
      "outputs": []
    },
    {
      "id": "ad0bd2f3-b90d-45f1-ac70-24fc7cd7fdad",
      "cell_type": "code",
      "metadata": {
        "jupyter": {
          "outputs_hidden": false,
          "source_hidden": false
        },
        "noteable": {
          "cell_type": "code",
          "output_collection_id": "667504bd-de3b-4bf3-8361-da04b5685c10"
        },
        "ExecuteTime": {
          "end_time": "2023-12-13T19:33:53.540008+00:00",
          "start_time": "2023-12-13T19:33:53.308465+00:00"
        }
      },
      "execution_count": null,
      "source": "before = len(df_cleared)\ndf_cleared = df_cleared[df_cleared['compensation_from'] <= df_cleared['compensation_to']]\nafter = len(df_cleared)\nbefore - after",
      "outputs": []
    },
    {
      "id": "a47a20af-f438-41f1-9062-87866a4ebfaa",
      "cell_type": "code",
      "metadata": {
        "jupyter": {
          "outputs_hidden": false,
          "source_hidden": false
        },
        "noteable": {
          "cell_type": "code",
          "output_collection_id": "8f04398e-95ef-4085-a077-63f10183c36c"
        },
        "ExecuteTime": {
          "end_time": "2023-12-13T19:33:55.161774+00:00",
          "start_time": "2023-12-13T19:33:54.933293+00:00"
        }
      },
      "execution_count": null,
      "source": "before = len(df_cleared)\ndf_cleared = df_cleared[(2023 - df_cleared['work_experience_months'] / 12 - df_cleared['year_of_birth'] >= 16) & (df_cleared['work_experience_months'] <= 600)]\nafter = len(df_cleared)\nbefore - after",
      "outputs": []
    },
    {
      "id": "72b1bb19-c292-44eb-9f40-f823bd5695d9",
      "cell_type": "code",
      "metadata": {
        "jupyter": {
          "outputs_hidden": false,
          "source_hidden": false
        },
        "noteable": {
          "cell_type": "code",
          "output_collection_id": "ba6b5731-e2d1-4fd0-b73e-b4d96798225d"
        },
        "ExecuteTime": {
          "end_time": "2023-12-13T19:33:58.531941+00:00",
          "start_time": "2023-12-13T19:33:56.630292+00:00"
        }
      },
      "execution_count": null,
      "source": "quantile_param = 0.03\nquantiles = {}\nfor prof in df['profession'].unique():\n    df_prof = df[df['profession'] == prof]\n    quantiles[prof] = (df_prof['expected_salary'].quantile(quantile_param),\n                       df_prof['expected_salary'].quantile(1 - quantile_param))\n\ndf_cleared.loc[:,'exp_salary_min_limit'] = [quantiles[i][0] for i in df_cleared['profession']]\ndf_cleared.loc[:,'exp_salary_max_limit'] = [quantiles[i][1] for i in df_cleared['profession']]\n\n# проверка по ожидаемой зарплате\nbefore = len(df_cleared)\ndf_cleared = df_cleared[df_cleared['expected_salary'] <= df_cleared['exp_salary_max_limit']]\nafter = len(df_cleared)\nbefore - after",
      "outputs": []
    },
    {
      "id": "171b5abc-06a8-4d85-bf5f-fe687ba0e70b",
      "cell_type": "markdown",
      "source": "Приступаем к необязательным",
      "metadata": {
        "noteable": {
          "cell_type": "markdown"
        }
      }
    },
    {
      "id": "f18702c6-094c-4a4f-8891-3f5048407842",
      "cell_type": "code",
      "metadata": {
        "jupyter": {
          "outputs_hidden": false,
          "source_hidden": false
        },
        "noteable": {
          "cell_type": "code",
          "output_collection_id": "91389dd1-72df-4915-9551-ae1cecb26ec7"
        },
        "ExecuteTime": {
          "end_time": "2023-12-13T19:06:30.888727+00:00",
          "start_time": "2023-12-13T19:06:30.732225+00:00"
        }
      },
      "execution_count": null,
      "source": "results = pd.DataFrame(columns=('fs', 'na', 'exp', 'comp', 'final_count'))",
      "outputs": []
    },
    {
      "id": "45262954-d0f7-4ef2-996c-752c24b7b4bd",
      "cell_type": "code",
      "metadata": {
        "noteable": {
          "cell_type": "python",
          "output_collection_id": "ef55c29e-36b7-4fad-9c99-3760a413cebb"
        },
        "ExecuteTime": {
          "end_time": "2023-12-13T19:06:34.266669+00:00",
          "start_time": "2023-12-13T19:06:32.388133+00:00"
        }
      },
      "execution_count": null,
      "source": "quantiles_exp = {}\nfor prof in df['profession'].unique():\n    df_prof = df[df['profession'] == prof]\n    quantiles_exp[prof] = (df_prof['compensation_to'].quantile(quantile_param),\n                       df_prof['compensation_to'].quantile(1 - quantile_param))\n    \ndf_cleared.loc[:,'compensation_to_min_limit'] = [quantiles_exp[i][0] for i in df_cleared['profession']]\ndf_cleared.loc[:,'compensation_to_max_limit'] = [quantiles_exp[i][1] for i in df_cleared['profession']]\n\n# проверка по compensation_to\ndf_cleared = df_cleared[(df_cleared['compensation_to'] >= df_cleared['compensation_to_min_limit']) & \n                            (df_cleared['compensation_to'] <= df_cleared['compensation_to_max_limit'])]\n",
      "outputs": []
    },
    {
      "id": "b96b79f5-de23-44c9-a17f-c6caf53d9aea",
      "cell_type": "code",
      "metadata": {
        "noteable": {
          "cell_type": "python",
          "output_collection_id": "1617f733-8cea-4f64-a49e-79e5f1d0a5cc"
        },
        "ExecuteTime": {
          "end_time": "2023-12-13T19:06:35.855706+00:00",
          "start_time": "2023-12-13T19:06:35.697306+00:00"
        }
      },
      "execution_count": null,
      "source": "def fs(df):\n    local_df = df.copy()\n    before = len(local_df)\n    local_df = local_df[-((local_df.final_state == 'response') | (local_df.final_state.isna()))]\n    after = len(local_df)\n    return local_df, before - after\n\n\ndef na(df):\n    local_df = df.copy()\n    before = len(local_df)\n    local_df = local_df.dropna(axis=0, subset=['education_level', 'initial_state', 'work_schedule', 'compensation_from', 'compensation_to', 'final_state'])\n    after = len(local_df)\n    return local_df, before - after\n\n\ndef exp(df):\n    global quantiles\n    local_df = df.copy()\n    before = len(local_df)\n    local_df = local_df[local_df['expected_salary'] >= local_df['exp_salary_min_limit']]\n    after = len(local_df)\n    return local_df, before - after\n\n\ndef comp(df):\n    global quantiles\n    local_df = df.copy()\n    before = len(local_df)\n    local_df = local_df[(local_df['compensation_to'] >= local_df['compensation_to_min_limit'])& (local_df['compensation_to'] <= local_df['compensation_to_max_limit'])]\n    after = len(local_df)\n    return local_df, before - after",
      "outputs": []
    },
    {
      "id": "b34c4437-c4eb-4cc9-bb34-4caa56b75c03",
      "cell_type": "code",
      "metadata": {
        "jupyter": {
          "outputs_hidden": false,
          "source_hidden": false
        },
        "noteable": {
          "cell_type": "code",
          "output_collection_id": "d94e9609-1ccb-43d9-baf3-8257b69dddd0"
        },
        "ExecuteTime": {
          "end_time": "2023-12-13T19:06:37.456200+00:00",
          "start_time": "2023-12-13T19:06:37.301821+00:00"
        }
      },
      "execution_count": null,
      "source": "funcs = (fs, na, exp, comp)",
      "outputs": []
    },
    {
      "id": "fe050cb1-d9f8-4cd7-a31e-1bbace4e9985",
      "cell_type": "code",
      "metadata": {
        "noteable": {
          "cell_type": "python",
          "output_collection_id": "b9494872-3062-4b7a-994a-db3b7f70bfce"
        },
        "ExecuteTime": {
          "end_time": "2023-12-13T19:06:59.276286+00:00",
          "start_time": "2023-12-13T19:06:55.296406+00:00"
        }
      },
      "execution_count": null,
      "source": "for flags in product((False, True), repeat=4):\n    temp_df = df_cleared.copy()\n    row = []\n    for flag, func in zip(flags, funcs):\n        deleted_rows = -1\n        if flag:\n            temp_df, deleted_rows = func(temp_df)\n        row.append(deleted_rows)\n    row.append(len(temp_df))\n    results.loc[len(results.index)] = row\n            \n    \n    ",
      "outputs": []
    },
    {
      "id": "3076a053-4370-4de2-8725-0cca686b15cb",
      "cell_type": "code",
      "metadata": {
        "jupyter": {
          "outputs_hidden": false,
          "source_hidden": false
        },
        "noteable": {
          "cell_type": "code",
          "output_collection_id": "4b457d5c-1c54-42fb-bf3e-e4cc35312aff"
        },
        "ExecuteTime": {
          "end_time": "2023-12-13T19:07:04.094293+00:00",
          "start_time": "2023-12-13T19:07:01.926845+00:00"
        },
        "datalink": {
          "c55cfbe1-a814-4a1d-aaf5-776965b1e3ab": {
            "applied_filters": [],
            "dataframe_info": {
              "default_index_used": true,
              "orig_num_cols": 5,
              "orig_num_rows": 16,
              "orig_size_bytes": 768,
              "truncated_num_cols": 5,
              "truncated_num_rows": 16,
              "truncated_size_bytes": 768,
              "truncated_string_columns": []
            },
            "display_id": "c55cfbe1-a814-4a1d-aaf5-776965b1e3ab",
            "dx_settings": {
              "ALLOW_NOTEABLE_ATTRS": true,
              "COLUMN_SAMPLING_METHOD": "outer",
              "DB_LOCATION": ":memory:",
              "DEV_MODE": false,
              "DISPLAY_MAX_COLUMNS": 100,
              "DISPLAY_MAX_ROWS": 50000,
              "DISPLAY_MODE": "simple",
              "ENABLE_ASSIGNMENT": true,
              "ENABLE_DATALINK": true,
              "FLATTEN_COLUMN_VALUES": true,
              "FLATTEN_INDEX_VALUES": false,
              "GENERATE_DEX_METADATA": false,
              "HTML_TABLE_SCHEMA": false,
              "LOG_LEVEL": 30,
              "MAX_RENDER_SIZE_BYTES": 104857600,
              "MAX_STRING_LENGTH": 250,
              "NUM_PAST_SAMPLES_TRACKED": 3,
              "RANDOM_STATE": 12648430,
              "RESET_INDEX_VALUES": false,
              "ROW_SAMPLING_METHOD": "random",
              "SAMPLING_FACTOR": 0.1,
              "SAMPLING_METHOD": "random",
              "STRINGIFY_COLUMN_VALUES": true,
              "STRINGIFY_INDEX_VALUES": false
            },
            "sample_history": [],
            "sampling_time": "2023-12-13T19:07:03.932014",
            "user_variable_name": "results",
            "variable_name": "results"
          }
        }
      },
      "execution_count": null,
      "source": "results",
      "outputs": []
    },
    {
      "id": "1a62ec13-cc5c-4f8a-831b-3915942196d2",
      "cell_type": "code",
      "metadata": {
        "jupyter": {
          "outputs_hidden": false,
          "source_hidden": false
        },
        "noteable": {
          "cell_type": "code",
          "output_collection_id": "1b660014-3ebf-429a-b9ae-74a6172291ca"
        },
        "ExecuteTime": {
          "end_time": "2023-12-13T19:09:38.107914+00:00",
          "start_time": "2023-12-13T19:09:37.740379+00:00"
        }
      },
      "execution_count": null,
      "source": "results.to_excel('исследование_спорных_фильтров.xlsx')",
      "outputs": []
    },
    {
      "id": "c4f234cf-acbe-4ffa-8fbe-6388ba361954",
      "cell_type": "code",
      "metadata": {
        "jupyter": {
          "outputs_hidden": false,
          "source_hidden": false
        },
        "noteable": {
          "cell_type": "code"
        }
      },
      "execution_count": null,
      "source": "",
      "outputs": []
    }
  ]
}