{
  "cells": [
    {
      "id": "4533096d-c0d8-4eac-b91b-4adaa8401f69",
      "cell_type": "code",
      "metadata": {
        "jupyter": {
          "outputs_hidden": false,
          "source_hidden": false
        },
        "noteable": {
          "cell_type": "code",
          "output_collection_id": "0ae1baa9-218b-41ab-acbd-f2c6a6062914"
        },
        "ExecuteTime": null
      },
      "execution_count": null,
      "source": "%ntbl pull datasets \"hh_ru\"",
      "outputs": []
    },
    {
      "cell_type": "code",
      "execution_count": 1,
      "metadata": {
        "noteable": {
          "output_collection_id": "3759853e-984c-4b6c-aa6d-97ed3bb5ca85"
        },
        "ExecuteTime": null
      },
      "outputs": [],
      "source": [
        "import pandas as pd\n",
        "import matplotlib.pyplot as plt\n",
        "import seaborn as sns\n",
        "import numpy as np"
      ],
      "id": "486c7e03"
    },
    {
      "cell_type": "code",
      "execution_count": 2,
      "metadata": {
        "noteable": {
          "output_collection_id": "041f59df-67de-4ae6-a8b7-7f1b2d5ff36f"
        },
        "ExecuteTime": null
      },
      "outputs": [],
      "source": "df = pd.read_csv(r\"../datasets/hh_ru/hh_ru_dataset.csv\")\ndf.info()",
      "id": "34a36aad"
    },
    {
      "cell_type": "code",
      "execution_count": 105,
      "metadata": {
        "noteable": {
          "output_collection_id": "c40e35a2-4398-4a05-aa9d-f85b281a17fc"
        },
        "ExecuteTime": {
          "end_time": "2023-12-14T11:49:07.337158+00:00",
          "start_time": "2023-12-14T11:49:06.983793+00:00"
        }
      },
      "outputs": [],
      "source": "df_cleared = df[::].copy()\nlen(df_cleared)\n",
      "id": "74f76fb7"
    },
    {
      "id": "8202600b-d412-4a00-aa94-00902f75367c",
      "cell_type": "code",
      "metadata": {
        "jupyter": {
          "outputs_hidden": false,
          "source_hidden": false
        },
        "noteable": {
          "cell_type": "code",
          "output_collection_id": "22ecce33-5464-499e-a0ad-0f212784916c"
        },
        "ExecuteTime": {
          "end_time": "2023-12-01T16:02:58.484393+00:00",
          "start_time": "2023-12-01T16:02:58.300983+00:00"
        }
      },
      "execution_count": null,
      "source": "len(df_cleared[df_cleared['compensation_to'] == 0])",
      "outputs": []
    },
    {
      "cell_type": "code",
      "execution_count": 106,
      "metadata": {
        "noteable": {
          "output_collection_id": "ec28ac75-c839-4cc9-a9ee-7c29d8b2143e"
        },
        "ExecuteTime": null
      },
      "outputs": [],
      "source": "quantile_param = 0.04\nquantiles = {}\nfor prof in df['profession'].unique():\n    df_prof = df_cleared[df_cleared['profession'] == prof]\n    quantiles[prof] = (df_prof['expected_salary'].quantile(quantile_param),\n                       df_prof['expected_salary'].quantile(1 - quantile_param))\n\ndf_cleared.loc[:,'exp_salary_min_limit'] = [quantiles[i][0] for i in df_cleared['profession']]\ndf_cleared.loc[:,'exp_salary_max_limit'] = [quantiles[i][1] for i in df_cleared['profession']]\n",
      "id": "714c47a4"
    },
    {
      "id": "0d75f866-3d83-4fe9-9041-d4e3c50e74d3",
      "cell_type": "code",
      "metadata": {
        "jupyter": {
          "outputs_hidden": false,
          "source_hidden": false
        },
        "noteable": {
          "cell_type": "code",
          "output_collection_id": "57caa359-e47e-4198-b2a0-97ac15f4389a"
        },
        "ExecuteTime": null
      },
      "execution_count": null,
      "source": "df_cleared = df_cleared[df_cleared['compensation_to'] != 0]\nlen(df_cleared)",
      "outputs": []
    },
    {
      "cell_type": "code",
      "execution_count": 113,
      "metadata": {
        "noteable": {
          "output_collection_id": "2f06bda5-fd52-4a2c-9df3-8fb2a260e91d"
        },
        "ExecuteTime": null,
        "datalink": {
          "518f8fef-ee87-4b4a-b0cd-9a6281e5b72b": {
            "applied_filters": [],
            "dataframe_info": {
              "default_index_used": true,
              "orig_num_cols": 1,
              "orig_num_rows": 10,
              "orig_size_bytes": 160,
              "truncated_num_cols": 1,
              "truncated_num_rows": 10,
              "truncated_size_bytes": 160,
              "truncated_string_columns": []
            },
            "display_id": "518f8fef-ee87-4b4a-b0cd-9a6281e5b72b",
            "dx_settings": {
              "ALLOW_NOTEABLE_ATTRS": true,
              "COLUMN_SAMPLING_METHOD": "outer",
              "DB_LOCATION": ":memory:",
              "DEV_MODE": false,
              "DISPLAY_MAX_COLUMNS": 100,
              "DISPLAY_MAX_ROWS": 50000,
              "DISPLAY_MODE": "simple",
              "ENABLE_ASSIGNMENT": true,
              "ENABLE_DATALINK": true,
              "FLATTEN_COLUMN_VALUES": true,
              "FLATTEN_INDEX_VALUES": false,
              "GENERATE_DEX_METADATA": false,
              "HTML_TABLE_SCHEMA": false,
              "LOG_LEVEL": 30,
              "MAX_RENDER_SIZE_BYTES": 104857600,
              "MAX_STRING_LENGTH": 250,
              "NUM_PAST_SAMPLES_TRACKED": 3,
              "RANDOM_STATE": 12648430,
              "RESET_INDEX_VALUES": false,
              "ROW_SAMPLING_METHOD": "random",
              "SAMPLING_FACTOR": 0.1,
              "SAMPLING_METHOD": "random",
              "STRINGIFY_COLUMN_VALUES": true,
              "STRINGIFY_INDEX_VALUES": false
            },
            "sample_history": [],
            "sampling_time": "2023-12-01T09:01:14.547243",
            "user_variable_name": null,
            "variable_name": "unk_dataframe_f2d9af1504e145d8a665469f26a8680a"
          },
          "b7ac8a79-5d30-47ab-8f6f-0f70fd1988d8": {
            "applied_filters": [],
            "dataframe_info": {
              "default_index_used": true,
              "orig_num_cols": 1,
              "orig_num_rows": 10,
              "orig_size_bytes": 160,
              "truncated_num_cols": 1,
              "truncated_num_rows": 10,
              "truncated_size_bytes": 160,
              "truncated_string_columns": []
            },
            "display_id": "b7ac8a79-5d30-47ab-8f6f-0f70fd1988d8",
            "dx_settings": {
              "ALLOW_NOTEABLE_ATTRS": true,
              "COLUMN_SAMPLING_METHOD": "outer",
              "DB_LOCATION": ":memory:",
              "DEV_MODE": false,
              "DISPLAY_MAX_COLUMNS": 100,
              "DISPLAY_MAX_ROWS": 50000,
              "DISPLAY_MODE": "simple",
              "ENABLE_ASSIGNMENT": true,
              "ENABLE_DATALINK": true,
              "FLATTEN_COLUMN_VALUES": true,
              "FLATTEN_INDEX_VALUES": false,
              "GENERATE_DEX_METADATA": false,
              "HTML_TABLE_SCHEMA": false,
              "LOG_LEVEL": 30,
              "MAX_RENDER_SIZE_BYTES": 104857600,
              "MAX_STRING_LENGTH": 250,
              "NUM_PAST_SAMPLES_TRACKED": 3,
              "RANDOM_STATE": 12648430,
              "RESET_INDEX_VALUES": false,
              "ROW_SAMPLING_METHOD": "random",
              "SAMPLING_FACTOR": 0.1,
              "SAMPLING_METHOD": "random",
              "STRINGIFY_COLUMN_VALUES": true,
              "STRINGIFY_INDEX_VALUES": false
            },
            "sample_history": [],
            "sampling_time": "2023-12-01T09:01:41.980157",
            "user_variable_name": null,
            "variable_name": "unk_dataframe_0002d6f34f5e43e9a8dd5ee102120259"
          }
        }
      },
      "outputs": [],
      "source": "quantile_param = 0.01\nquantiles = {}\nfor prof in df['profession'].unique():\n    df_prof = df_cleared[df_cleared['profession'] == prof]\n    quantiles[prof] = (df_prof['compensation_to'].quantile(quantile_param),\n                       df_prof['compensation_to'].quantile(1 - quantile_param))\ndf_cleared.loc[:,'compensation_to_min_limit'] = [quantiles[i][0] for i in df_cleared['profession']]\ndf_cleared.loc[:,'compensation_to_max_limit'] = [quantiles[i][1] for i in df_cleared['profession']]\n\ndf_cleared = df_cleared[(df_cleared['compensation_to'] <=\n                         df_cleared['compensation_to_max_limit']) &\n                       (df_cleared['compensation_to'] >=\n                        df_cleared['compensation_to_min_limit'])]\n\nlen(df_cleared)\n#df_cleared['compensation_to'].sort_values().head(10)",
      "id": "7a314a2a"
    },
    {
      "cell_type": "code",
      "execution_count": 107,
      "metadata": {
        "noteable": {
          "output_collection_id": "7b9e9b25-ebb9-4e21-b68f-7c5e9249df9f"
        },
        "ExecuteTime": null
      },
      "outputs": [],
      "source": [
        "df_cleared = df_cleared[(df_cleared['expected_salary'] >= df_cleared['exp_salary_min_limit']) &\n",
        "                        (df_cleared['expected_salary'] <= df_cleared['exp_salary_max_limit'])]\n",
        "len(df_cleared)"
      ],
      "id": "9f6d68d6"
    },
    {
      "cell_type": "code",
      "execution_count": 108,
      "metadata": {
        "noteable": {
          "output_collection_id": "d767110f-2cff-4f12-81a5-7df1ca646b1e"
        },
        "ExecuteTime": null
      },
      "outputs": [],
      "source": "df_cleared = df_cleared[(df.initial_state != 'discard') & ((df.final_state == 'invitation') | (df.final_state == 'discard'))]\n# df_cleared = df_cleared[df.compensation_from <= df.compensation_to]\nlen(df_cleared)",
      "id": "566ac6cd"
    },
    {
      "cell_type": "code",
      "execution_count": 109,
      "metadata": {
        "noteable": {
          "output_collection_id": "d64522f5-ca67-45e4-ad1d-07d16308ce0f"
        },
        "ExecuteTime": null
      },
      "outputs": [],
      "source": [
        "df_cleared = df_cleared.drop_duplicates(['topic_id'])\n",
        "df_cleared = df_cleared.dropna(axis=0, subset=['education_level', 'initial_state', 'final_state', 'work_schedule', 'compensation_from', 'compensation_to'])\n",
        "len(df_cleared)"
      ],
      "id": "848c4678"
    },
    {
      "cell_type": "code",
      "execution_count": 111,
      "metadata": {
        "noteable": {
          "output_collection_id": "0a29171a-4b7d-4ae7-ac50-f1f44da86599"
        },
        "ExecuteTime": null
      },
      "outputs": [],
      "source": [
        "# df_cleared = df_cleared[(df_cleared['compensation_to'] <= df_cleared['compensation_to_max_limit'])]\n",
        "df_cleared = df_cleared[(2023 - df_cleared.work_experience_months / 12 - df_cleared.year_of_birth >= 18) & (df_cleared.work_experience_months <= 600)]\n",
        "df_cleared = df_cleared[(df_cleared['year_of_birth'] >= 1953) &\n",
        "                        (df_cleared['year_of_birth'] <= 2005)]\n",
        "len(df_cleared)\n",
        "# df_cleared['compensation_to'].sort_values()"
      ],
      "id": "89c3be3f"
    },
    {
      "cell_type": "code",
      "execution_count": 112,
      "metadata": {
        "noteable": {
          "output_collection_id": "c55e4111-2993-4dfe-a52a-d5dd43f6704d"
        },
        "ExecuteTime": null,
        "scrolled": false
      },
      "outputs": [],
      "source": "df_cleared = df_cleared[df_cleared.compensation_from <= df_cleared.compensation_to]\nlen(df_cleared)",
      "id": "2ff17db0"
    },
    {
      "id": "3cf79e54-fddb-49e6-9ee5-de5455880b53",
      "cell_type": "code",
      "metadata": {
        "jupyter": {
          "outputs_hidden": false,
          "source_hidden": false
        },
        "noteable": {
          "cell_type": "code",
          "output_collection_id": "7874dfc9-ebbe-45eb-ae42-5b8221c0634b"
        },
        "ExecuteTime": null
      },
      "execution_count": null,
      "source": "gender_dict = {'female': 0, 'male': 1}\nstate_dict = {'discard': 0, 'invitation': 1}\neducation_dict = {'secondary': 1, 'special_secondary': 2, 'unfinished_higher': 3,\n                 'bachelor': 4, 'master': 5, 'higher': 6, 'candidate': 7, 'doctor': 8}\ndf_cleared = df_cleared.replace({'gender': gender_dict, 'education_level': education_dict,\n                                'final_state': state_dict})",
      "outputs": []
    },
    {
      "id": "0855645b-670a-4a98-bbcb-485f5fef2b61",
      "cell_type": "code",
      "metadata": {
        "jupyter": {
          "outputs_hidden": false,
          "source_hidden": false
        },
        "noteable": {
          "cell_type": "code",
          "output_collection_id": "56b57f73-8748-425a-b777-838c4ec1eaf6"
        },
        "ExecuteTime": null,
        "datalink": {
          "197eb63c-144d-426a-b79d-37a3422b8f56": {
            "applied_filters": [],
            "dataframe_info": {
              "default_index_used": true,
              "orig_num_cols": 30,
              "orig_num_rows": 20,
              "orig_size_bytes": 4960,
              "truncated_num_cols": 30,
              "truncated_num_rows": 20,
              "truncated_size_bytes": 4960,
              "truncated_string_columns": [
                "resume_skills_list"
              ]
            },
            "display_id": "197eb63c-144d-426a-b79d-37a3422b8f56",
            "dx_settings": {
              "ALLOW_NOTEABLE_ATTRS": true,
              "COLUMN_SAMPLING_METHOD": "outer",
              "DB_LOCATION": ":memory:",
              "DEV_MODE": false,
              "DISPLAY_MAX_COLUMNS": 100,
              "DISPLAY_MAX_ROWS": 50000,
              "DISPLAY_MODE": "simple",
              "ENABLE_ASSIGNMENT": true,
              "ENABLE_DATALINK": true,
              "FLATTEN_COLUMN_VALUES": true,
              "FLATTEN_INDEX_VALUES": false,
              "GENERATE_DEX_METADATA": false,
              "HTML_TABLE_SCHEMA": false,
              "LOG_LEVEL": 30,
              "MAX_RENDER_SIZE_BYTES": 104857600,
              "MAX_STRING_LENGTH": 250,
              "NUM_PAST_SAMPLES_TRACKED": 3,
              "RANDOM_STATE": 12648430,
              "RESET_INDEX_VALUES": false,
              "ROW_SAMPLING_METHOD": "random",
              "SAMPLING_FACTOR": 0.1,
              "SAMPLING_METHOD": "random",
              "STRINGIFY_COLUMN_VALUES": true,
              "STRINGIFY_INDEX_VALUES": false
            },
            "sample_history": [],
            "sampling_time": "2023-12-01T08:39:32.407212",
            "user_variable_name": null,
            "variable_name": "unk_dataframe_e1475d977e5d4a258e1fabf254a95f02"
          },
          "ea254b61-d87c-41f8-b06b-c2ea14533a49": {
            "applied_filters": [],
            "dataframe_info": {
              "default_index_used": true,
              "orig_num_cols": 30,
              "orig_num_rows": 20,
              "orig_size_bytes": 4960,
              "truncated_num_cols": 30,
              "truncated_num_rows": 20,
              "truncated_size_bytes": 4960,
              "truncated_string_columns": [
                "resume_skills_list"
              ]
            },
            "display_id": "ea254b61-d87c-41f8-b06b-c2ea14533a49",
            "dx_settings": {
              "ALLOW_NOTEABLE_ATTRS": true,
              "COLUMN_SAMPLING_METHOD": "outer",
              "DB_LOCATION": ":memory:",
              "DEV_MODE": false,
              "DISPLAY_MAX_COLUMNS": 100,
              "DISPLAY_MAX_ROWS": 50000,
              "DISPLAY_MODE": "simple",
              "ENABLE_ASSIGNMENT": true,
              "ENABLE_DATALINK": true,
              "FLATTEN_COLUMN_VALUES": true,
              "FLATTEN_INDEX_VALUES": false,
              "GENERATE_DEX_METADATA": false,
              "HTML_TABLE_SCHEMA": false,
              "LOG_LEVEL": 30,
              "MAX_RENDER_SIZE_BYTES": 104857600,
              "MAX_STRING_LENGTH": 250,
              "NUM_PAST_SAMPLES_TRACKED": 3,
              "RANDOM_STATE": 12648430,
              "RESET_INDEX_VALUES": false,
              "ROW_SAMPLING_METHOD": "random",
              "SAMPLING_FACTOR": 0.1,
              "SAMPLING_METHOD": "random",
              "STRINGIFY_COLUMN_VALUES": true,
              "STRINGIFY_INDEX_VALUES": false
            },
            "sample_history": [],
            "sampling_time": "2023-12-01T08:41:15.238641",
            "user_variable_name": null,
            "variable_name": "unk_dataframe_d6cefa4d8d1d4a16b46dbebe75f90f6b"
          },
          "bbe15a29-9110-41d5-9bef-606013f2b881": {
            "applied_filters": [],
            "dataframe_info": {
              "default_index_used": true,
              "orig_num_cols": 30,
              "orig_num_rows": 20,
              "orig_size_bytes": 4960,
              "truncated_num_cols": 30,
              "truncated_num_rows": 20,
              "truncated_size_bytes": 4960,
              "truncated_string_columns": [
                "resume_skills_list"
              ]
            },
            "display_id": "bbe15a29-9110-41d5-9bef-606013f2b881",
            "dx_settings": {
              "ALLOW_NOTEABLE_ATTRS": true,
              "COLUMN_SAMPLING_METHOD": "outer",
              "DB_LOCATION": ":memory:",
              "DEV_MODE": false,
              "DISPLAY_MAX_COLUMNS": 100,
              "DISPLAY_MAX_ROWS": 50000,
              "DISPLAY_MODE": "simple",
              "ENABLE_ASSIGNMENT": true,
              "ENABLE_DATALINK": true,
              "FLATTEN_COLUMN_VALUES": true,
              "FLATTEN_INDEX_VALUES": false,
              "GENERATE_DEX_METADATA": false,
              "HTML_TABLE_SCHEMA": false,
              "LOG_LEVEL": 30,
              "MAX_RENDER_SIZE_BYTES": 104857600,
              "MAX_STRING_LENGTH": 250,
              "NUM_PAST_SAMPLES_TRACKED": 3,
              "RANDOM_STATE": 12648430,
              "RESET_INDEX_VALUES": false,
              "ROW_SAMPLING_METHOD": "random",
              "SAMPLING_FACTOR": 0.1,
              "SAMPLING_METHOD": "random",
              "STRINGIFY_COLUMN_VALUES": true,
              "STRINGIFY_INDEX_VALUES": false
            },
            "sample_history": [],
            "sampling_time": "2023-12-01T08:43:06.791070",
            "user_variable_name": null,
            "variable_name": "unk_dataframe_396a58f6b77e4fbd9f3aac9b471b6239"
          },
          "cce57bbd-8005-49bf-bcb7-82d858d7a580": {
            "applied_filters": [],
            "dataframe_info": {
              "default_index_used": true,
              "orig_num_cols": 30,
              "orig_num_rows": 20,
              "orig_size_bytes": 4960,
              "truncated_num_cols": 30,
              "truncated_num_rows": 20,
              "truncated_size_bytes": 4960,
              "truncated_string_columns": [
                "resume_skills_list"
              ]
            },
            "display_id": "cce57bbd-8005-49bf-bcb7-82d858d7a580",
            "dx_settings": {
              "ALLOW_NOTEABLE_ATTRS": true,
              "COLUMN_SAMPLING_METHOD": "outer",
              "DB_LOCATION": ":memory:",
              "DEV_MODE": false,
              "DISPLAY_MAX_COLUMNS": 100,
              "DISPLAY_MAX_ROWS": 50000,
              "DISPLAY_MODE": "simple",
              "ENABLE_ASSIGNMENT": true,
              "ENABLE_DATALINK": true,
              "FLATTEN_COLUMN_VALUES": true,
              "FLATTEN_INDEX_VALUES": false,
              "GENERATE_DEX_METADATA": false,
              "HTML_TABLE_SCHEMA": false,
              "LOG_LEVEL": 30,
              "MAX_RENDER_SIZE_BYTES": 104857600,
              "MAX_STRING_LENGTH": 250,
              "NUM_PAST_SAMPLES_TRACKED": 3,
              "RANDOM_STATE": 12648430,
              "RESET_INDEX_VALUES": false,
              "ROW_SAMPLING_METHOD": "random",
              "SAMPLING_FACTOR": 0.1,
              "SAMPLING_METHOD": "random",
              "STRINGIFY_COLUMN_VALUES": true,
              "STRINGIFY_INDEX_VALUES": false
            },
            "sample_history": [],
            "sampling_time": "2023-12-01T08:52:39.971744",
            "user_variable_name": null,
            "variable_name": "unk_dataframe_5ed3416ef1f34313a349e33132559cc1"
          },
          "3b51856c-d5a3-434b-8c44-ee2394d43e53": {
            "applied_filters": [],
            "dataframe_info": {
              "default_index_used": true,
              "orig_num_cols": 30,
              "orig_num_rows": 20,
              "orig_size_bytes": 4960,
              "truncated_num_cols": 30,
              "truncated_num_rows": 20,
              "truncated_size_bytes": 4960,
              "truncated_string_columns": [
                "resume_skills_list"
              ]
            },
            "display_id": "3b51856c-d5a3-434b-8c44-ee2394d43e53",
            "dx_settings": {
              "ALLOW_NOTEABLE_ATTRS": true,
              "COLUMN_SAMPLING_METHOD": "outer",
              "DB_LOCATION": ":memory:",
              "DEV_MODE": false,
              "DISPLAY_MAX_COLUMNS": 100,
              "DISPLAY_MAX_ROWS": 50000,
              "DISPLAY_MODE": "simple",
              "ENABLE_ASSIGNMENT": true,
              "ENABLE_DATALINK": true,
              "FLATTEN_COLUMN_VALUES": true,
              "FLATTEN_INDEX_VALUES": false,
              "GENERATE_DEX_METADATA": false,
              "HTML_TABLE_SCHEMA": false,
              "LOG_LEVEL": 30,
              "MAX_RENDER_SIZE_BYTES": 104857600,
              "MAX_STRING_LENGTH": 250,
              "NUM_PAST_SAMPLES_TRACKED": 3,
              "RANDOM_STATE": 12648430,
              "RESET_INDEX_VALUES": false,
              "ROW_SAMPLING_METHOD": "random",
              "SAMPLING_FACTOR": 0.1,
              "SAMPLING_METHOD": "random",
              "STRINGIFY_COLUMN_VALUES": true,
              "STRINGIFY_INDEX_VALUES": false
            },
            "sample_history": [],
            "sampling_time": "2023-12-01T08:58:01.236712",
            "user_variable_name": null,
            "variable_name": "unk_dataframe_e8e54786a4764c3b8581d97f6a0574bc"
          },
          "389f5ac2-a9b0-42ab-a90f-70e7c62a03a0": {
            "applied_filters": [],
            "dataframe_info": {
              "default_index_used": true,
              "orig_num_cols": 28,
              "orig_num_rows": 20,
              "orig_size_bytes": 4640,
              "truncated_num_cols": 28,
              "truncated_num_rows": 20,
              "truncated_size_bytes": 4640,
              "truncated_string_columns": [
                "resume_skills_list"
              ]
            },
            "display_id": "389f5ac2-a9b0-42ab-a90f-70e7c62a03a0",
            "dx_settings": {
              "ALLOW_NOTEABLE_ATTRS": true,
              "COLUMN_SAMPLING_METHOD": "outer",
              "DB_LOCATION": ":memory:",
              "DEV_MODE": false,
              "DISPLAY_MAX_COLUMNS": 100,
              "DISPLAY_MAX_ROWS": 50000,
              "DISPLAY_MODE": "simple",
              "ENABLE_ASSIGNMENT": true,
              "ENABLE_DATALINK": true,
              "FLATTEN_COLUMN_VALUES": true,
              "FLATTEN_INDEX_VALUES": false,
              "GENERATE_DEX_METADATA": false,
              "HTML_TABLE_SCHEMA": false,
              "LOG_LEVEL": 30,
              "MAX_RENDER_SIZE_BYTES": 104857600,
              "MAX_STRING_LENGTH": 250,
              "NUM_PAST_SAMPLES_TRACKED": 3,
              "RANDOM_STATE": 12648430,
              "RESET_INDEX_VALUES": false,
              "ROW_SAMPLING_METHOD": "random",
              "SAMPLING_FACTOR": 0.1,
              "SAMPLING_METHOD": "random",
              "STRINGIFY_COLUMN_VALUES": true,
              "STRINGIFY_INDEX_VALUES": false
            },
            "sample_history": [],
            "sampling_time": "2023-12-01T09:02:59.892367",
            "user_variable_name": null,
            "variable_name": "unk_dataframe_c9bd7d27f49c4399bbfd97d74475555f"
          },
          "3e86a1e6-8daa-45c0-92c2-d79afd880ead": {
            "applied_filters": [],
            "dataframe_info": {
              "default_index_used": true,
              "orig_num_cols": 30,
              "orig_num_rows": 20,
              "orig_size_bytes": 4960,
              "truncated_num_cols": 30,
              "truncated_num_rows": 20,
              "truncated_size_bytes": 4960,
              "truncated_string_columns": [
                "resume_skills_list"
              ]
            },
            "display_id": "3e86a1e6-8daa-45c0-92c2-d79afd880ead",
            "dx_settings": {
              "ALLOW_NOTEABLE_ATTRS": true,
              "COLUMN_SAMPLING_METHOD": "outer",
              "DB_LOCATION": ":memory:",
              "DEV_MODE": false,
              "DISPLAY_MAX_COLUMNS": 100,
              "DISPLAY_MAX_ROWS": 50000,
              "DISPLAY_MODE": "simple",
              "ENABLE_ASSIGNMENT": true,
              "ENABLE_DATALINK": true,
              "FLATTEN_COLUMN_VALUES": true,
              "FLATTEN_INDEX_VALUES": false,
              "GENERATE_DEX_METADATA": false,
              "HTML_TABLE_SCHEMA": false,
              "LOG_LEVEL": 30,
              "MAX_RENDER_SIZE_BYTES": 104857600,
              "MAX_STRING_LENGTH": 250,
              "NUM_PAST_SAMPLES_TRACKED": 3,
              "RANDOM_STATE": 12648430,
              "RESET_INDEX_VALUES": false,
              "ROW_SAMPLING_METHOD": "random",
              "SAMPLING_FACTOR": 0.1,
              "SAMPLING_METHOD": "random",
              "STRINGIFY_COLUMN_VALUES": true,
              "STRINGIFY_INDEX_VALUES": false
            },
            "sample_history": [],
            "sampling_time": "2023-12-01T16:03:32.708518",
            "user_variable_name": null,
            "variable_name": "unk_dataframe_7fea1dacf24c4f9da6dd2f0c22346409"
          },
          "ca191302-0304-46de-930e-835cafdc41c8": {
            "applied_filters": [],
            "dataframe_info": {
              "default_index_used": true,
              "orig_num_cols": 30,
              "orig_num_rows": 20,
              "orig_size_bytes": 4960,
              "truncated_num_cols": 30,
              "truncated_num_rows": 20,
              "truncated_size_bytes": 4960,
              "truncated_string_columns": [
                "resume_skills_list"
              ]
            },
            "display_id": "ca191302-0304-46de-930e-835cafdc41c8",
            "dx_settings": {
              "ALLOW_NOTEABLE_ATTRS": true,
              "COLUMN_SAMPLING_METHOD": "outer",
              "DB_LOCATION": ":memory:",
              "DEV_MODE": false,
              "DISPLAY_MAX_COLUMNS": 100,
              "DISPLAY_MAX_ROWS": 50000,
              "DISPLAY_MODE": "simple",
              "ENABLE_ASSIGNMENT": true,
              "ENABLE_DATALINK": true,
              "FLATTEN_COLUMN_VALUES": true,
              "FLATTEN_INDEX_VALUES": false,
              "GENERATE_DEX_METADATA": false,
              "HTML_TABLE_SCHEMA": false,
              "LOG_LEVEL": 30,
              "MAX_RENDER_SIZE_BYTES": 104857600,
              "MAX_STRING_LENGTH": 250,
              "NUM_PAST_SAMPLES_TRACKED": 3,
              "RANDOM_STATE": 12648430,
              "RESET_INDEX_VALUES": false,
              "ROW_SAMPLING_METHOD": "random",
              "SAMPLING_FACTOR": 0.1,
              "SAMPLING_METHOD": "random",
              "STRINGIFY_COLUMN_VALUES": true,
              "STRINGIFY_INDEX_VALUES": false
            },
            "sample_history": [],
            "sampling_time": "2023-12-01T18:35:11.529788",
            "user_variable_name": null,
            "variable_name": "unk_dataframe_a1dfa313a4ab4b8091c544214b32708b"
          },
          "de9c5ad8-4ede-441b-bd6f-cfe5b443650b": {
            "applied_filters": [],
            "dataframe_info": {
              "default_index_used": true,
              "orig_num_cols": 30,
              "orig_num_rows": 20,
              "orig_size_bytes": 4960,
              "truncated_num_cols": 30,
              "truncated_num_rows": 20,
              "truncated_size_bytes": 4960,
              "truncated_string_columns": [
                "resume_skills_list"
              ]
            },
            "display_id": "de9c5ad8-4ede-441b-bd6f-cfe5b443650b",
            "dx_settings": {
              "ALLOW_NOTEABLE_ATTRS": true,
              "COLUMN_SAMPLING_METHOD": "outer",
              "DB_LOCATION": ":memory:",
              "DEV_MODE": false,
              "DISPLAY_MAX_COLUMNS": 100,
              "DISPLAY_MAX_ROWS": 50000,
              "DISPLAY_MODE": "simple",
              "ENABLE_ASSIGNMENT": true,
              "ENABLE_DATALINK": true,
              "FLATTEN_COLUMN_VALUES": true,
              "FLATTEN_INDEX_VALUES": false,
              "GENERATE_DEX_METADATA": false,
              "HTML_TABLE_SCHEMA": false,
              "LOG_LEVEL": 30,
              "MAX_RENDER_SIZE_BYTES": 104857600,
              "MAX_STRING_LENGTH": 250,
              "NUM_PAST_SAMPLES_TRACKED": 3,
              "RANDOM_STATE": 12648430,
              "RESET_INDEX_VALUES": false,
              "ROW_SAMPLING_METHOD": "random",
              "SAMPLING_FACTOR": 0.1,
              "SAMPLING_METHOD": "random",
              "STRINGIFY_COLUMN_VALUES": true,
              "STRINGIFY_INDEX_VALUES": false
            },
            "sample_history": [],
            "sampling_time": "2023-12-01T18:46:07.929619",
            "user_variable_name": null,
            "variable_name": "unk_dataframe_8d65eddf16134e5c83b3eeec2cf86e5c"
          }
        }
      },
      "execution_count": null,
      "source": "df_cleared.sort_values('compensation_to').head(20)",
      "outputs": []
    },
    {
      "cell_type": "code",
      "execution_count": 95,
      "metadata": {
        "noteable": {
          "output_collection_id": "3d841cad-d980-4cec-8a21-35e23d1791a9"
        },
        "ExecuteTime": null
      },
      "outputs": [],
      "source": "df_cleared.to_excel(r'clear5.xlsx')",
      "id": "2f46785b"
    },
    {
      "id": "2ffd7a97-01eb-40d0-b913-fe6b853a85d2",
      "cell_type": "code",
      "metadata": {
        "jupyter": {
          "outputs_hidden": false,
          "source_hidden": false
        },
        "noteable": {
          "cell_type": "code",
          "output_collection_id": "369f2c00-8848-4bff-b46b-9053c257d37e"
        },
        "ExecuteTime": null,
        "datalink": {
          "e1eb06e9-05f0-4359-b6cb-f831d94b7e84": {
            "applied_filters": [],
            "dataframe_info": {
              "default_index_used": true,
              "orig_num_cols": 26,
              "orig_num_rows": 0,
              "orig_size_bytes": 0,
              "truncated_num_cols": 26,
              "truncated_num_rows": 0,
              "truncated_size_bytes": 0,
              "truncated_string_columns": []
            },
            "display_id": "e1eb06e9-05f0-4359-b6cb-f831d94b7e84",
            "dx_settings": {
              "ALLOW_NOTEABLE_ATTRS": true,
              "COLUMN_SAMPLING_METHOD": "outer",
              "DB_LOCATION": ":memory:",
              "DEV_MODE": false,
              "DISPLAY_MAX_COLUMNS": 100,
              "DISPLAY_MAX_ROWS": 50000,
              "DISPLAY_MODE": "simple",
              "ENABLE_ASSIGNMENT": true,
              "ENABLE_DATALINK": true,
              "FLATTEN_COLUMN_VALUES": true,
              "FLATTEN_INDEX_VALUES": false,
              "GENERATE_DEX_METADATA": false,
              "HTML_TABLE_SCHEMA": false,
              "LOG_LEVEL": 30,
              "MAX_RENDER_SIZE_BYTES": 104857600,
              "MAX_STRING_LENGTH": 250,
              "NUM_PAST_SAMPLES_TRACKED": 3,
              "RANDOM_STATE": 12648430,
              "RESET_INDEX_VALUES": false,
              "ROW_SAMPLING_METHOD": "random",
              "SAMPLING_FACTOR": 0.1,
              "SAMPLING_METHOD": "random",
              "STRINGIFY_COLUMN_VALUES": true,
              "STRINGIFY_INDEX_VALUES": false
            },
            "sample_history": [],
            "sampling_time": "2023-12-01T19:25:33.396122",
            "user_variable_name": null,
            "variable_name": "unk_dataframe_8ebe41234671431c839e3c6e21d4afe8"
          },
          "d3c9f008-385b-4607-980d-016daaa86428": {
            "applied_filters": [],
            "dataframe_info": {
              "default_index_used": true,
              "orig_num_cols": 26,
              "orig_num_rows": 0,
              "orig_size_bytes": 0,
              "truncated_num_cols": 26,
              "truncated_num_rows": 0,
              "truncated_size_bytes": 0,
              "truncated_string_columns": []
            },
            "display_id": "d3c9f008-385b-4607-980d-016daaa86428",
            "dx_settings": {
              "ALLOW_NOTEABLE_ATTRS": true,
              "COLUMN_SAMPLING_METHOD": "outer",
              "DB_LOCATION": ":memory:",
              "DEV_MODE": false,
              "DISPLAY_MAX_COLUMNS": 100,
              "DISPLAY_MAX_ROWS": 50000,
              "DISPLAY_MODE": "simple",
              "ENABLE_ASSIGNMENT": true,
              "ENABLE_DATALINK": true,
              "FLATTEN_COLUMN_VALUES": true,
              "FLATTEN_INDEX_VALUES": false,
              "GENERATE_DEX_METADATA": false,
              "HTML_TABLE_SCHEMA": false,
              "LOG_LEVEL": 30,
              "MAX_RENDER_SIZE_BYTES": 104857600,
              "MAX_STRING_LENGTH": 250,
              "NUM_PAST_SAMPLES_TRACKED": 3,
              "RANDOM_STATE": 12648430,
              "RESET_INDEX_VALUES": false,
              "ROW_SAMPLING_METHOD": "random",
              "SAMPLING_FACTOR": 0.1,
              "SAMPLING_METHOD": "random",
              "STRINGIFY_COLUMN_VALUES": true,
              "STRINGIFY_INDEX_VALUES": false
            },
            "sample_history": [],
            "sampling_time": "2023-12-01T19:25:40.582198",
            "user_variable_name": null,
            "variable_name": "unk_dataframe_479f0d9cdfe24b7c805308cd3f55ef25"
          },
          "61b80639-b557-46bd-988f-7d10c512206d": {
            "applied_filters": [],
            "dataframe_info": {
              "default_index_used": true,
              "orig_num_cols": 26,
              "orig_num_rows": 0,
              "orig_size_bytes": 0,
              "truncated_num_cols": 26,
              "truncated_num_rows": 0,
              "truncated_size_bytes": 0,
              "truncated_string_columns": []
            },
            "display_id": "61b80639-b557-46bd-988f-7d10c512206d",
            "dx_settings": {
              "ALLOW_NOTEABLE_ATTRS": true,
              "COLUMN_SAMPLING_METHOD": "outer",
              "DB_LOCATION": ":memory:",
              "DEV_MODE": false,
              "DISPLAY_MAX_COLUMNS": 100,
              "DISPLAY_MAX_ROWS": 50000,
              "DISPLAY_MODE": "simple",
              "ENABLE_ASSIGNMENT": true,
              "ENABLE_DATALINK": true,
              "FLATTEN_COLUMN_VALUES": true,
              "FLATTEN_INDEX_VALUES": false,
              "GENERATE_DEX_METADATA": false,
              "HTML_TABLE_SCHEMA": false,
              "LOG_LEVEL": 30,
              "MAX_RENDER_SIZE_BYTES": 104857600,
              "MAX_STRING_LENGTH": 250,
              "NUM_PAST_SAMPLES_TRACKED": 3,
              "RANDOM_STATE": 12648430,
              "RESET_INDEX_VALUES": false,
              "ROW_SAMPLING_METHOD": "random",
              "SAMPLING_FACTOR": 0.1,
              "SAMPLING_METHOD": "random",
              "STRINGIFY_COLUMN_VALUES": true,
              "STRINGIFY_INDEX_VALUES": false
            },
            "sample_history": [],
            "sampling_time": "2023-12-01T19:25:51.860562",
            "user_variable_name": null,
            "variable_name": "unk_dataframe_bccbffc6e555484b8e36c638a770c5b9"
          },
          "3e04425f-7785-4c14-ae59-98e26d6964f0": {
            "applied_filters": [],
            "dataframe_info": {
              "default_index_used": true,
              "orig_num_cols": 30,
              "orig_num_rows": 8,
              "orig_size_bytes": 1984,
              "truncated_num_cols": 30,
              "truncated_num_rows": 8,
              "truncated_size_bytes": 1984,
              "truncated_string_columns": [
                "resume_skills_list"
              ]
            },
            "display_id": "3e04425f-7785-4c14-ae59-98e26d6964f0",
            "dx_settings": {
              "ALLOW_NOTEABLE_ATTRS": true,
              "COLUMN_SAMPLING_METHOD": "outer",
              "DB_LOCATION": ":memory:",
              "DEV_MODE": false,
              "DISPLAY_MAX_COLUMNS": 100,
              "DISPLAY_MAX_ROWS": 50000,
              "DISPLAY_MODE": "simple",
              "ENABLE_ASSIGNMENT": true,
              "ENABLE_DATALINK": true,
              "FLATTEN_COLUMN_VALUES": true,
              "FLATTEN_INDEX_VALUES": false,
              "GENERATE_DEX_METADATA": false,
              "HTML_TABLE_SCHEMA": false,
              "LOG_LEVEL": 30,
              "MAX_RENDER_SIZE_BYTES": 104857600,
              "MAX_STRING_LENGTH": 250,
              "NUM_PAST_SAMPLES_TRACKED": 3,
              "RANDOM_STATE": 12648430,
              "RESET_INDEX_VALUES": false,
              "ROW_SAMPLING_METHOD": "random",
              "SAMPLING_FACTOR": 0.1,
              "SAMPLING_METHOD": "random",
              "STRINGIFY_COLUMN_VALUES": true,
              "STRINGIFY_INDEX_VALUES": false
            },
            "sample_history": [],
            "sampling_time": "2023-12-01T19:33:30.330992",
            "user_variable_name": null,
            "variable_name": "unk_dataframe_c32bcb5d5eb748d68a066493a68a9d46"
          },
          "9c748233-43f0-4757-9f92-089cb3949a2e": {
            "applied_filters": [],
            "dataframe_info": {
              "default_index_used": true,
              "orig_num_cols": 26,
              "orig_num_rows": 60,
              "orig_size_bytes": 12960,
              "truncated_num_cols": 26,
              "truncated_num_rows": 60,
              "truncated_size_bytes": 12960,
              "truncated_string_columns": [
                "resume_skills_list",
                "vacancy_skills_list"
              ]
            },
            "display_id": "9c748233-43f0-4757-9f92-089cb3949a2e",
            "dx_settings": {
              "ALLOW_NOTEABLE_ATTRS": true,
              "COLUMN_SAMPLING_METHOD": "outer",
              "DB_LOCATION": ":memory:",
              "DEV_MODE": false,
              "DISPLAY_MAX_COLUMNS": 100,
              "DISPLAY_MAX_ROWS": 50000,
              "DISPLAY_MODE": "simple",
              "ENABLE_ASSIGNMENT": true,
              "ENABLE_DATALINK": true,
              "FLATTEN_COLUMN_VALUES": true,
              "FLATTEN_INDEX_VALUES": false,
              "GENERATE_DEX_METADATA": false,
              "HTML_TABLE_SCHEMA": false,
              "LOG_LEVEL": 30,
              "MAX_RENDER_SIZE_BYTES": 104857600,
              "MAX_STRING_LENGTH": 250,
              "NUM_PAST_SAMPLES_TRACKED": 3,
              "RANDOM_STATE": 12648430,
              "RESET_INDEX_VALUES": false,
              "ROW_SAMPLING_METHOD": "random",
              "SAMPLING_FACTOR": 0.1,
              "SAMPLING_METHOD": "random",
              "STRINGIFY_COLUMN_VALUES": true,
              "STRINGIFY_INDEX_VALUES": false
            },
            "sample_history": [],
            "sampling_time": "2023-12-01T19:33:51.088040",
            "user_variable_name": null,
            "variable_name": "unk_dataframe_6775ea2ef4594073b3d1802053108186"
          },
          "e1bdd5f3-4d7b-43bc-a974-9aa4c065c90e": {
            "applied_filters": [],
            "dataframe_info": {
              "default_index_used": true,
              "orig_num_cols": 26,
              "orig_num_rows": 108860,
              "orig_size_bytes": 23513760,
              "truncated_num_cols": 26,
              "truncated_num_rows": 45000,
              "truncated_size_bytes": 9720000,
              "truncated_string_columns": [
                "resume_skills_list",
                "vacancy_skills_list"
              ]
            },
            "display_id": "e1bdd5f3-4d7b-43bc-a974-9aa4c065c90e",
            "dx_settings": {
              "ALLOW_NOTEABLE_ATTRS": true,
              "COLUMN_SAMPLING_METHOD": "outer",
              "DB_LOCATION": ":memory:",
              "DEV_MODE": false,
              "DISPLAY_MAX_COLUMNS": 100,
              "DISPLAY_MAX_ROWS": 50000,
              "DISPLAY_MODE": "simple",
              "ENABLE_ASSIGNMENT": true,
              "ENABLE_DATALINK": true,
              "FLATTEN_COLUMN_VALUES": true,
              "FLATTEN_INDEX_VALUES": false,
              "GENERATE_DEX_METADATA": false,
              "HTML_TABLE_SCHEMA": false,
              "LOG_LEVEL": 30,
              "MAX_RENDER_SIZE_BYTES": 104857600,
              "MAX_STRING_LENGTH": 250,
              "NUM_PAST_SAMPLES_TRACKED": 3,
              "RANDOM_STATE": 12648430,
              "RESET_INDEX_VALUES": false,
              "ROW_SAMPLING_METHOD": "random",
              "SAMPLING_FACTOR": 0.1,
              "SAMPLING_METHOD": "random",
              "STRINGIFY_COLUMN_VALUES": true,
              "STRINGIFY_INDEX_VALUES": false
            },
            "sample_history": [],
            "sampling_time": "2023-12-01T19:42:09.485383",
            "user_variable_name": null,
            "variable_name": "unk_dataframe_f492af872dbf4d399f7d7b321ff341ef"
          },
          "177ad11f-2cf4-4019-a092-1051effab74f": {
            "applied_filters": [],
            "dataframe_info": {
              "default_index_used": true,
              "orig_num_cols": 26,
              "orig_num_rows": 30585,
              "orig_size_bytes": 6606360,
              "truncated_num_cols": 26,
              "truncated_num_rows": 30585,
              "truncated_size_bytes": 6606360,
              "truncated_string_columns": [
                "resume_skills_list",
                "vacancy_skills_list"
              ]
            },
            "display_id": "177ad11f-2cf4-4019-a092-1051effab74f",
            "dx_settings": {
              "ALLOW_NOTEABLE_ATTRS": true,
              "COLUMN_SAMPLING_METHOD": "outer",
              "DB_LOCATION": ":memory:",
              "DEV_MODE": false,
              "DISPLAY_MAX_COLUMNS": 100,
              "DISPLAY_MAX_ROWS": 50000,
              "DISPLAY_MODE": "simple",
              "ENABLE_ASSIGNMENT": true,
              "ENABLE_DATALINK": true,
              "FLATTEN_COLUMN_VALUES": true,
              "FLATTEN_INDEX_VALUES": false,
              "GENERATE_DEX_METADATA": false,
              "HTML_TABLE_SCHEMA": false,
              "LOG_LEVEL": 30,
              "MAX_RENDER_SIZE_BYTES": 104857600,
              "MAX_STRING_LENGTH": 250,
              "NUM_PAST_SAMPLES_TRACKED": 3,
              "RANDOM_STATE": 12648430,
              "RESET_INDEX_VALUES": false,
              "ROW_SAMPLING_METHOD": "random",
              "SAMPLING_FACTOR": 0.1,
              "SAMPLING_METHOD": "random",
              "STRINGIFY_COLUMN_VALUES": true,
              "STRINGIFY_INDEX_VALUES": false
            },
            "sample_history": [],
            "sampling_time": "2023-12-01T19:47:45.683342",
            "user_variable_name": null,
            "variable_name": "unk_dataframe_b69f344913f94a4dac79f8f254e303b3"
          }
        }
      },
      "execution_count": null,
      "source": "len(df[(df.education_level == 'special_secondary') & \n   (df.compensation_from <= df.compensation_to) & \n   ((df.year_of_birth >= 1953) & (df.year_of_birth <= 2005)) & \n  ((2023 - df.work_experience_months / 12 - df.year_of_birth >= 18) & (df.work_experience_months <= 600)) &\n  (df.initial_state != 'discard') & ((df.final_state == 'invitation') | (df.final_state == 'discard')) & \n      (df_cleared.compensation_to == 0)])",
      "outputs": []
    },
    {
      "id": "0cc45dd9-6734-474b-b7f4-0debd9c7c4bd",
      "cell_type": "code",
      "metadata": {
        "jupyter": {
          "outputs_hidden": false,
          "source_hidden": false
        },
        "noteable": {
          "cell_type": "code",
          "output_collection_id": "97055e71-554b-499a-a098-5238e6cf32bd"
        },
        "ExecuteTime": null
      },
      "execution_count": null,
      "source": "len(df[(df.education_level == 'special_secondary') & (2023 - df.work_experience_months / 12 - df.year_of_birth < 18) & (df.work_experience_months > 600)])",
      "outputs": []
    },
    {
      "id": "828b62bc-dace-42c2-bec7-5e1396ec80f6",
      "cell_type": "code",
      "metadata": {
        "jupyter": {
          "outputs_hidden": false,
          "source_hidden": false
        },
        "noteable": {
          "cell_type": "code",
          "output_collection_id": "fffe8493-bd42-454a-b28a-cbcfba38ecb8"
        },
        "ExecuteTime": {
          "end_time": "2023-11-30T19:53:54.163163+00:00",
          "start_time": "2023-11-30T19:53:53.630768+00:00"
        }
      },
      "execution_count": null,
      "source": "df_cleared.info()",
      "outputs": []
    }
  ],
  "metadata": {
    "kernelspec": {
      "display_name": "Python 3.9",
      "identifier": "legacy",
      "language": "python",
      "language_version": "3.9",
      "name": "python3"
    },
    "selected_hardware_size": "small",
    "kernel_info": {
      "name": "python3"
    }
  },
  "nbformat": 4,
  "nbformat_minor": 5
}