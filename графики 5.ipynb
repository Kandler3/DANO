{
  "nbformat": 4,
  "nbformat_minor": 5,
  "metadata": {
    "kernel_info": {
      "name": "python3"
    },
    "kernelspec": {
      "display_name": "Python 3.9",
      "identifier": "legacy",
      "language": "python",
      "language_version": "3.9",
      "name": "python3"
    },
    "selected_hardware_size": "small"
  },
  "cells": [
    {
      "id": "e5999eae",
      "cell_type": "code",
      "metadata": {
        "noteable": {
          "output_collection_id": "bde6de36-7310-43df-ba86-bd9bc73d5ef4"
        },
        "ExecuteTime": {
          "end_time": "2023-12-01T19:10:30.061675+00:00",
          "start_time": "2023-12-01T19:10:29.823809+00:00"
        }
      },
      "execution_count": null,
      "source": "%ntbl pull datasets \"hh.ru/clear5.xlsx\"",
      "outputs": []
    },
    {
      "id": "4a2cad0d-57ce-4451-a503-c6a516ae7373",
      "cell_type": "code",
      "metadata": {
        "jupyter": {
          "outputs_hidden": false,
          "source_hidden": false
        },
        "noteable": {
          "cell_type": "code",
          "output_collection_id": "083cc91a-3502-468b-8c12-4303628331bb"
        },
        "ExecuteTime": {
          "end_time": "2023-12-13T06:48:08.643853+00:00",
          "start_time": "2023-12-13T06:48:08.074303+00:00"
        }
      },
      "execution_count": null,
      "source": "import pandas as pd\nimport matplotlib.pyplot as plt\nimport matplotlib.colors as mcolors\nimport seaborn as sns",
      "outputs": []
    },
    {
      "id": "9ee0bc37-2ba4-46c8-9404-79c415d55895",
      "cell_type": "code",
      "metadata": {
        "jupyter": {
          "outputs_hidden": false,
          "source_hidden": false
        },
        "noteable": {
          "cell_type": "code",
          "output_collection_id": "0d5bd8e2-96ea-421d-8f90-a5d7fd976dba"
        },
        "ExecuteTime": {
          "end_time": "2023-12-13T06:48:57.961717+00:00",
          "start_time": "2023-12-13T06:48:14.001204+00:00"
        }
      },
      "execution_count": null,
      "source": "df = pd.read_excel('clear5.xlsx')",
      "outputs": []
    },
    {
      "id": "6c75609e-44fd-4951-bc76-99e41ff276f0",
      "cell_type": "code",
      "metadata": {
        "jupyter": {
          "outputs_hidden": false,
          "source_hidden": false
        },
        "noteable": {
          "cell_type": "code",
          "output_collection_id": "06eefe8a-7913-42a8-9fb9-edfcc2629c55"
        },
        "ExecuteTime": {
          "end_time": "2023-12-01T19:22:35.893459+00:00",
          "start_time": "2023-12-01T19:22:07.420562+00:00"
        },
        "scrolled": false
      },
      "execution_count": null,
      "source": "sns.pairplot(df[['year_of_birth', 'expected_salary', 'work_experience_months', 'compensation_from', 'compensation_to', 'education_level', 'gender', 'final_state']])",
      "outputs": []
    },
    {
      "id": "0f31db3f-9259-4c58-a591-d563069d74ed",
      "cell_type": "code",
      "metadata": {
        "jupyter": {
          "outputs_hidden": false,
          "source_hidden": false
        },
        "noteable": {
          "cell_type": "code",
          "output_collection_id": "e08c3ad7-6b9b-454c-b7cc-587cac5d56e8"
        },
        "ExecuteTime": {
          "end_time": "2023-12-13T06:50:32.043710+00:00",
          "start_time": "2023-12-13T06:50:31.460149+00:00"
        }
      },
      "execution_count": null,
      "source": "sns.set(font_scale=1.15)\nplt.figure(figsize=(8,4))\ncor = df[['year_of_birth', 'expected_salary', 'work_experience_months', 'compensation_from', 'compensation_to', 'education_level', 'gender', 'final_state']].corr()\nax = sns.heatmap(cor, annot=True, vmin=-1, vmax=1, center=0, cmap='coolwarm')\nax.set_xticklabels(ax.get_xticklabels(), ha='right', rotation=45)",
      "outputs": []
    }
  ]
}