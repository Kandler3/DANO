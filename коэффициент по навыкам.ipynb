{
  "cells": [
    {
      "id": "7c8140d9-2428-43ba-91bd-df8f1a7d9690",
      "cell_type": "code",
      "metadata": {
        "jupyter": {
          "outputs_hidden": false,
          "source_hidden": false
        },
        "noteable": {
          "cell_type": "code"
        }
      },
      "execution_count": null,
      "source": "%ntbl pull datasets \"hh_ru/hh_cleared.csv\"",
      "outputs": []
    },
    {
      "cell_type": "code",
      "execution_count": 13,
      "id": "21edb681-8c50-4366-9825-f17abf790688",
      "metadata": {
        "ExecuteTime": {
          "end_time": "2023-12-09T13:17:26.899714+00:00",
          "start_time": "2023-12-09T13:17:25.536653+00:00"
        },
        "jupyter": {
          "outputs_hidden": false,
          "source_hidden": false
        },
        "noteable": {
          "cell_type": "code",
          "output_collection_id": "4c921816-6e07-4c96-924c-f5814086490c"
        }
      },
      "outputs": [],
      "source": "df = pd.read_csv('../datasets/hh_ru/hh_cleared.csv')"
    },
    {
      "cell_type": "code",
      "execution_count": 14,
      "id": "42a21ed5-5aa7-46ec-af26-d651716ed22b",
      "metadata": {
        "ExecuteTime": {
          "end_time": "2023-12-09T13:17:30.960076+00:00",
          "start_time": "2023-12-09T13:17:30.585325+00:00"
        },
        "jupyter": {
          "outputs_hidden": false,
          "source_hidden": false
        },
        "noteable": {
          "cell_type": "code",
          "output_collection_id": "e0e7e3ce-7686-4092-a193-60c45f101477"
        }
      },
      "outputs": [],
      "source": [
        "df.info()"
      ]
    },
    {
      "cell_type": "code",
      "execution_count": 15,
      "id": "bbbf7aa1-fee5-4e6b-923e-8a97724d45a3",
      "metadata": {
        "ExecuteTime": {
          "end_time": "2023-12-09T13:17:33.128517+00:00",
          "start_time": "2023-12-09T13:17:32.971757+00:00"
        },
        "jupyter": {
          "outputs_hidden": false,
          "source_hidden": false
        },
        "noteable": {
          "cell_type": "code",
          "output_collection_id": "4961c641-c9ee-4ae2-b9ec-62e6cf896e67"
        }
      },
      "outputs": [],
      "source": [
        "def parse_list(a):\n",
        "    if not isinstance(a, str):\n",
        "        return set([None])\n",
        "    res = eval(a)\n",
        "    res = set(res)\n",
        "    res = set(filter(lambda x: x != None, res))\n",
        "    res = set(map(lambda x: x.lower().strip('.,-• \\t*\\\"\\'—#'), res))\n",
        "    res = set(filter(lambda x: x != '', res))\n",
        "    if len(res) == 0:\n",
        "        return set([None])\n",
        "    return res"
      ]
    },
    {
      "cell_type": "code",
      "execution_count": 16,
      "id": "0e33e980-df14-403c-b043-e207a930c740",
      "metadata": {
        "ExecuteTime": {
          "end_time": "2023-12-09T13:17:38.868703+00:00",
          "start_time": "2023-12-09T13:17:35.250470+00:00"
        },
        "jupyter": {
          "outputs_hidden": false,
          "source_hidden": false
        },
        "noteable": {
          "cell_type": "code",
          "output_collection_id": "07d853e3-c622-4037-a6ca-e492b4f717cc"
        }
      },
      "outputs": [],
      "source": [
        "df.loc[:,'resume_skills_parsed'] = df['resume_skills_list'].apply(parse_list)"
      ]
    },
    {
      "cell_type": "code",
      "execution_count": 17,
      "id": "91202001-a468-4b7a-ab9b-a9d4d22476ba",
      "metadata": {
        "ExecuteTime": {
          "end_time": "2023-12-09T13:17:43.091256+00:00",
          "start_time": "2023-12-09T13:17:39.747651+00:00"
        },
        "jupyter": {
          "outputs_hidden": false,
          "source_hidden": false
        },
        "noteable": {
          "cell_type": "code",
          "output_collection_id": "cb4be09a-7382-40ef-9298-1700eaf19350"
        }
      },
      "outputs": [],
      "source": [
        "df.loc[:,'vacancy_skills_parsed'] = df['vacancy_skills_list'].apply(parse_list)"
      ]
    },
    {
      "cell_type": "code",
      "execution_count": 18,
      "id": "0b7c645d-7e47-48bd-a8da-16568c7f7ced",
      "metadata": {
        "ExecuteTime": {
          "end_time": "2023-12-09T13:17:45.646284+00:00",
          "start_time": "2023-12-09T13:17:44.434067+00:00"
        },
        "datalink": {
          "1364bad2-4ca6-4744-aa1a-58ef99d11474": {
            "applied_filters": [],
            "dataframe_info": {
              "default_index_used": true,
              "orig_num_cols": 1,
              "orig_num_rows": 30,
              "orig_size_bytes": 480,
              "truncated_num_cols": 1,
              "truncated_num_rows": 30,
              "truncated_size_bytes": 480,
              "truncated_string_columns": []
            },
            "display_id": "1364bad2-4ca6-4744-aa1a-58ef99d11474",
            "dx_settings": {
              "ALLOW_NOTEABLE_ATTRS": true,
              "COLUMN_SAMPLING_METHOD": "outer",
              "DB_LOCATION": ":memory:",
              "DEV_MODE": false,
              "DISPLAY_MAX_COLUMNS": 100,
              "DISPLAY_MAX_ROWS": 50000,
              "DISPLAY_MODE": "simple",
              "ENABLE_ASSIGNMENT": true,
              "ENABLE_DATALINK": true,
              "FLATTEN_COLUMN_VALUES": true,
              "FLATTEN_INDEX_VALUES": false,
              "GENERATE_DEX_METADATA": false,
              "HTML_TABLE_SCHEMA": false,
              "LOG_LEVEL": 30,
              "MAX_RENDER_SIZE_BYTES": 104857600,
              "MAX_STRING_LENGTH": 250,
              "NUM_PAST_SAMPLES_TRACKED": 3,
              "RANDOM_STATE": 12648430,
              "RESET_INDEX_VALUES": false,
              "ROW_SAMPLING_METHOD": "random",
              "SAMPLING_FACTOR": 0.1,
              "SAMPLING_METHOD": "random",
              "STRINGIFY_COLUMN_VALUES": true,
              "STRINGIFY_INDEX_VALUES": false
            },
            "sample_history": [],
            "sampling_time": "2023-12-09T13:11:25.088925",
            "user_variable_name": null,
            "variable_name": "unk_dataframe_5bbe4f4e52774fa19925f89d55eedc3d"
          },
          "148630cb-cc39-4815-b255-1445e928c162": {
            "applied_filters": [],
            "dataframe_info": {
              "default_index_used": true,
              "orig_num_cols": 32,
              "orig_num_rows": 30,
              "orig_size_bytes": 7920,
              "truncated_num_cols": 32,
              "truncated_num_rows": 30,
              "truncated_size_bytes": 7920,
              "truncated_string_columns": [
                "resume_skills_list",
                "vacancy_skills_list",
                "resume_skills_parsed"
              ]
            },
            "display_id": "148630cb-cc39-4815-b255-1445e928c162",
            "dx_settings": {
              "ALLOW_NOTEABLE_ATTRS": true,
              "COLUMN_SAMPLING_METHOD": "outer",
              "DB_LOCATION": ":memory:",
              "DEV_MODE": false,
              "DISPLAY_MAX_COLUMNS": 100,
              "DISPLAY_MAX_ROWS": 50000,
              "DISPLAY_MODE": "simple",
              "ENABLE_ASSIGNMENT": true,
              "ENABLE_DATALINK": true,
              "FLATTEN_COLUMN_VALUES": true,
              "FLATTEN_INDEX_VALUES": false,
              "GENERATE_DEX_METADATA": false,
              "HTML_TABLE_SCHEMA": false,
              "LOG_LEVEL": 30,
              "MAX_RENDER_SIZE_BYTES": 104857600,
              "MAX_STRING_LENGTH": 250,
              "NUM_PAST_SAMPLES_TRACKED": 3,
              "RANDOM_STATE": 12648430,
              "RESET_INDEX_VALUES": false,
              "ROW_SAMPLING_METHOD": "random",
              "SAMPLING_FACTOR": 0.1,
              "SAMPLING_METHOD": "random",
              "STRINGIFY_COLUMN_VALUES": true,
              "STRINGIFY_INDEX_VALUES": false
            },
            "sample_history": [],
            "sampling_time": "2023-12-09T12:26:38.023879",
            "user_variable_name": null,
            "variable_name": "unk_dataframe_b0de0b0d3f7c4b2daabf9d379e6cb085"
          },
          "195d1256-0470-4150-80b3-3fab897135a1": {
            "applied_filters": [],
            "dataframe_info": {
              "default_index_used": true,
              "orig_num_cols": 32,
              "orig_num_rows": 30,
              "orig_size_bytes": 7920,
              "truncated_num_cols": 32,
              "truncated_num_rows": 30,
              "truncated_size_bytes": 7920,
              "truncated_string_columns": [
                "resume_skills_list",
                "vacancy_skills_list"
              ]
            },
            "display_id": "195d1256-0470-4150-80b3-3fab897135a1",
            "dx_settings": {
              "ALLOW_NOTEABLE_ATTRS": true,
              "COLUMN_SAMPLING_METHOD": "outer",
              "DB_LOCATION": ":memory:",
              "DEV_MODE": false,
              "DISPLAY_MAX_COLUMNS": 100,
              "DISPLAY_MAX_ROWS": 50000,
              "DISPLAY_MODE": "simple",
              "ENABLE_ASSIGNMENT": true,
              "ENABLE_DATALINK": true,
              "FLATTEN_COLUMN_VALUES": true,
              "FLATTEN_INDEX_VALUES": false,
              "GENERATE_DEX_METADATA": false,
              "HTML_TABLE_SCHEMA": false,
              "LOG_LEVEL": 30,
              "MAX_RENDER_SIZE_BYTES": 104857600,
              "MAX_STRING_LENGTH": 250,
              "NUM_PAST_SAMPLES_TRACKED": 3,
              "RANDOM_STATE": 12648430,
              "RESET_INDEX_VALUES": false,
              "ROW_SAMPLING_METHOD": "random",
              "SAMPLING_FACTOR": 0.1,
              "SAMPLING_METHOD": "random",
              "STRINGIFY_COLUMN_VALUES": true,
              "STRINGIFY_INDEX_VALUES": false
            },
            "sample_history": [],
            "sampling_time": "2023-12-09T12:26:05.031356",
            "user_variable_name": null,
            "variable_name": "unk_dataframe_c354dd1fe452415b86c2650e5384a0af"
          },
          "1c4bd29e-33d0-470a-b028-1f121dd54f12": {
            "applied_filters": [],
            "dataframe_info": {
              "default_index_used": true,
              "orig_num_cols": 33,
              "orig_num_rows": 30,
              "orig_size_bytes": 8160,
              "truncated_num_cols": 33,
              "truncated_num_rows": 30,
              "truncated_size_bytes": 8160,
              "truncated_string_columns": [
                "vacancy_skills_list"
              ]
            },
            "display_id": "1c4bd29e-33d0-470a-b028-1f121dd54f12",
            "dx_settings": {
              "ALLOW_NOTEABLE_ATTRS": true,
              "COLUMN_SAMPLING_METHOD": "outer",
              "DB_LOCATION": ":memory:",
              "DEV_MODE": false,
              "DISPLAY_MAX_COLUMNS": 100,
              "DISPLAY_MAX_ROWS": 50000,
              "DISPLAY_MODE": "simple",
              "ENABLE_ASSIGNMENT": true,
              "ENABLE_DATALINK": true,
              "FLATTEN_COLUMN_VALUES": true,
              "FLATTEN_INDEX_VALUES": false,
              "GENERATE_DEX_METADATA": false,
              "HTML_TABLE_SCHEMA": false,
              "LOG_LEVEL": 30,
              "MAX_RENDER_SIZE_BYTES": 104857600,
              "MAX_STRING_LENGTH": 250,
              "NUM_PAST_SAMPLES_TRACKED": 3,
              "RANDOM_STATE": 12648430,
              "RESET_INDEX_VALUES": false,
              "ROW_SAMPLING_METHOD": "random",
              "SAMPLING_FACTOR": 0.1,
              "SAMPLING_METHOD": "random",
              "STRINGIFY_COLUMN_VALUES": true,
              "STRINGIFY_INDEX_VALUES": false
            },
            "sample_history": [],
            "sampling_time": "2023-12-09T12:42:59.277314",
            "user_variable_name": null,
            "variable_name": "unk_dataframe_e71d9b9471d14db08ee122ec3077e328"
          },
          "29b17e76-51db-4feb-8b0d-1d2271d0e636": {
            "applied_filters": [],
            "dataframe_info": {
              "default_index_used": true,
              "orig_num_cols": 32,
              "orig_num_rows": 30,
              "orig_size_bytes": 7920,
              "truncated_num_cols": 32,
              "truncated_num_rows": 30,
              "truncated_size_bytes": 7920,
              "truncated_string_columns": [
                "resume_skills_list",
                "vacancy_skills_list",
                "resume_skills_parsed"
              ]
            },
            "display_id": "29b17e76-51db-4feb-8b0d-1d2271d0e636",
            "dx_settings": {
              "ALLOW_NOTEABLE_ATTRS": true,
              "COLUMN_SAMPLING_METHOD": "outer",
              "DB_LOCATION": ":memory:",
              "DEV_MODE": false,
              "DISPLAY_MAX_COLUMNS": 100,
              "DISPLAY_MAX_ROWS": 50000,
              "DISPLAY_MODE": "simple",
              "ENABLE_ASSIGNMENT": true,
              "ENABLE_DATALINK": true,
              "FLATTEN_COLUMN_VALUES": true,
              "FLATTEN_INDEX_VALUES": false,
              "GENERATE_DEX_METADATA": false,
              "HTML_TABLE_SCHEMA": false,
              "LOG_LEVEL": 30,
              "MAX_RENDER_SIZE_BYTES": 104857600,
              "MAX_STRING_LENGTH": 250,
              "NUM_PAST_SAMPLES_TRACKED": 3,
              "RANDOM_STATE": 12648430,
              "RESET_INDEX_VALUES": false,
              "ROW_SAMPLING_METHOD": "random",
              "SAMPLING_FACTOR": 0.1,
              "SAMPLING_METHOD": "random",
              "STRINGIFY_COLUMN_VALUES": true,
              "STRINGIFY_INDEX_VALUES": false
            },
            "sample_history": [],
            "sampling_time": "2023-12-09T12:32:53.744009",
            "user_variable_name": null,
            "variable_name": "unk_dataframe_1df4bce6d9464e508fbb48096252692f"
          },
          "4b5b1980-dd12-4472-8c86-bb58a96501a6": {
            "applied_filters": [],
            "dataframe_info": {
              "default_index_used": true,
              "orig_num_cols": 32,
              "orig_num_rows": 30,
              "orig_size_bytes": 7920,
              "truncated_num_cols": 32,
              "truncated_num_rows": 30,
              "truncated_size_bytes": 7920,
              "truncated_string_columns": [
                "resume_skills_list",
                "vacancy_skills_list",
                "resume_skills_parsed"
              ]
            },
            "display_id": "4b5b1980-dd12-4472-8c86-bb58a96501a6",
            "dx_settings": {
              "ALLOW_NOTEABLE_ATTRS": true,
              "COLUMN_SAMPLING_METHOD": "outer",
              "DB_LOCATION": ":memory:",
              "DEV_MODE": false,
              "DISPLAY_MAX_COLUMNS": 100,
              "DISPLAY_MAX_ROWS": 50000,
              "DISPLAY_MODE": "simple",
              "ENABLE_ASSIGNMENT": true,
              "ENABLE_DATALINK": true,
              "FLATTEN_COLUMN_VALUES": true,
              "FLATTEN_INDEX_VALUES": false,
              "GENERATE_DEX_METADATA": false,
              "HTML_TABLE_SCHEMA": false,
              "LOG_LEVEL": 30,
              "MAX_RENDER_SIZE_BYTES": 104857600,
              "MAX_STRING_LENGTH": 250,
              "NUM_PAST_SAMPLES_TRACKED": 3,
              "RANDOM_STATE": 12648430,
              "RESET_INDEX_VALUES": false,
              "ROW_SAMPLING_METHOD": "random",
              "SAMPLING_FACTOR": 0.1,
              "SAMPLING_METHOD": "random",
              "STRINGIFY_COLUMN_VALUES": true,
              "STRINGIFY_INDEX_VALUES": false
            },
            "sample_history": [],
            "sampling_time": "2023-12-09T12:27:34.052694",
            "user_variable_name": null,
            "variable_name": "unk_dataframe_02879092a2c04d9183d04ee540f98fa4"
          },
          "5295243f-6ec0-4b41-bb5d-2baf2cced60a": {
            "applied_filters": [],
            "dataframe_info": {
              "default_index_used": true,
              "orig_num_cols": 33,
              "orig_num_rows": 30,
              "orig_size_bytes": 8160,
              "truncated_num_cols": 33,
              "truncated_num_rows": 30,
              "truncated_size_bytes": 8160,
              "truncated_string_columns": [
                "resume_skills_list",
                "vacancy_skills_list",
                "resume_skills_parsed",
                "vacancy_skills_parsed"
              ]
            },
            "display_id": "5295243f-6ec0-4b41-bb5d-2baf2cced60a",
            "dx_settings": {
              "ALLOW_NOTEABLE_ATTRS": true,
              "COLUMN_SAMPLING_METHOD": "outer",
              "DB_LOCATION": ":memory:",
              "DEV_MODE": false,
              "DISPLAY_MAX_COLUMNS": 100,
              "DISPLAY_MAX_ROWS": 50000,
              "DISPLAY_MODE": "simple",
              "ENABLE_ASSIGNMENT": true,
              "ENABLE_DATALINK": true,
              "FLATTEN_COLUMN_VALUES": true,
              "FLATTEN_INDEX_VALUES": false,
              "GENERATE_DEX_METADATA": false,
              "HTML_TABLE_SCHEMA": false,
              "LOG_LEVEL": 30,
              "MAX_RENDER_SIZE_BYTES": 104857600,
              "MAX_STRING_LENGTH": 250,
              "NUM_PAST_SAMPLES_TRACKED": 3,
              "RANDOM_STATE": 12648430,
              "RESET_INDEX_VALUES": false,
              "ROW_SAMPLING_METHOD": "random",
              "SAMPLING_FACTOR": 0.1,
              "SAMPLING_METHOD": "random",
              "STRINGIFY_COLUMN_VALUES": true,
              "STRINGIFY_INDEX_VALUES": false
            },
            "sample_history": [],
            "sampling_time": "2023-12-09T12:56:35.424526",
            "user_variable_name": null,
            "variable_name": "unk_dataframe_857cbd3a6cae4adc95dd50a42854aba4"
          },
          "588988d1-b0b1-4b18-a868-cac70f51a06c": {
            "applied_filters": [],
            "dataframe_info": {
              "default_index_used": true,
              "orig_num_cols": 33,
              "orig_num_rows": 30,
              "orig_size_bytes": 8160,
              "truncated_num_cols": 33,
              "truncated_num_rows": 30,
              "truncated_size_bytes": 8160,
              "truncated_string_columns": [
                "resume_skills_list",
                "vacancy_skills_list",
                "resume_skills_parsed"
              ]
            },
            "display_id": "588988d1-b0b1-4b18-a868-cac70f51a06c",
            "dx_settings": {
              "ALLOW_NOTEABLE_ATTRS": true,
              "COLUMN_SAMPLING_METHOD": "outer",
              "DB_LOCATION": ":memory:",
              "DEV_MODE": false,
              "DISPLAY_MAX_COLUMNS": 100,
              "DISPLAY_MAX_ROWS": 50000,
              "DISPLAY_MODE": "simple",
              "ENABLE_ASSIGNMENT": true,
              "ENABLE_DATALINK": true,
              "FLATTEN_COLUMN_VALUES": true,
              "FLATTEN_INDEX_VALUES": false,
              "GENERATE_DEX_METADATA": false,
              "HTML_TABLE_SCHEMA": false,
              "LOG_LEVEL": 30,
              "MAX_RENDER_SIZE_BYTES": 104857600,
              "MAX_STRING_LENGTH": 250,
              "NUM_PAST_SAMPLES_TRACKED": 3,
              "RANDOM_STATE": 12648430,
              "RESET_INDEX_VALUES": false,
              "ROW_SAMPLING_METHOD": "random",
              "SAMPLING_FACTOR": 0.1,
              "SAMPLING_METHOD": "random",
              "STRINGIFY_COLUMN_VALUES": true,
              "STRINGIFY_INDEX_VALUES": false
            },
            "sample_history": [],
            "sampling_time": "2023-12-09T12:43:17.723295",
            "user_variable_name": null,
            "variable_name": "unk_dataframe_79bfaf056f2b41aa8c9372087d35e4e6"
          },
          "7746580b-c59a-42ec-9281-e5b6f28341aa": {
            "applied_filters": [],
            "dataframe_info": {
              "default_index_used": true,
              "orig_num_cols": 33,
              "orig_num_rows": 30,
              "orig_size_bytes": 8160,
              "truncated_num_cols": 33,
              "truncated_num_rows": 30,
              "truncated_size_bytes": 8160,
              "truncated_string_columns": [
                "resume_skills_list",
                "vacancy_skills_list",
                "resume_skills_parsed"
              ]
            },
            "display_id": "7746580b-c59a-42ec-9281-e5b6f28341aa",
            "dx_settings": {
              "ALLOW_NOTEABLE_ATTRS": true,
              "COLUMN_SAMPLING_METHOD": "outer",
              "DB_LOCATION": ":memory:",
              "DEV_MODE": false,
              "DISPLAY_MAX_COLUMNS": 100,
              "DISPLAY_MAX_ROWS": 50000,
              "DISPLAY_MODE": "simple",
              "ENABLE_ASSIGNMENT": true,
              "ENABLE_DATALINK": true,
              "FLATTEN_COLUMN_VALUES": true,
              "FLATTEN_INDEX_VALUES": false,
              "GENERATE_DEX_METADATA": false,
              "HTML_TABLE_SCHEMA": false,
              "LOG_LEVEL": 30,
              "MAX_RENDER_SIZE_BYTES": 104857600,
              "MAX_STRING_LENGTH": 250,
              "NUM_PAST_SAMPLES_TRACKED": 3,
              "RANDOM_STATE": 12648430,
              "RESET_INDEX_VALUES": false,
              "ROW_SAMPLING_METHOD": "random",
              "SAMPLING_FACTOR": 0.1,
              "SAMPLING_METHOD": "random",
              "STRINGIFY_COLUMN_VALUES": true,
              "STRINGIFY_INDEX_VALUES": false
            },
            "sample_history": [],
            "sampling_time": "2023-12-09T12:29:42.462872",
            "user_variable_name": null,
            "variable_name": "unk_dataframe_d6d96bbbc99d4539afd4f70c735fdaf1"
          },
          "905c09bd-b51c-4146-b124-11e27139ea35": {
            "applied_filters": [],
            "dataframe_info": {
              "default_index_used": true,
              "orig_num_cols": 33,
              "orig_num_rows": 30,
              "orig_size_bytes": 8160,
              "truncated_num_cols": 33,
              "truncated_num_rows": 30,
              "truncated_size_bytes": 8160,
              "truncated_string_columns": [
                "resume_skills_list",
                "vacancy_skills_list",
                "resume_skills_parsed"
              ]
            },
            "display_id": "905c09bd-b51c-4146-b124-11e27139ea35",
            "dx_settings": {
              "ALLOW_NOTEABLE_ATTRS": true,
              "COLUMN_SAMPLING_METHOD": "outer",
              "DB_LOCATION": ":memory:",
              "DEV_MODE": false,
              "DISPLAY_MAX_COLUMNS": 100,
              "DISPLAY_MAX_ROWS": 50000,
              "DISPLAY_MODE": "simple",
              "ENABLE_ASSIGNMENT": true,
              "ENABLE_DATALINK": true,
              "FLATTEN_COLUMN_VALUES": true,
              "FLATTEN_INDEX_VALUES": false,
              "GENERATE_DEX_METADATA": false,
              "HTML_TABLE_SCHEMA": false,
              "LOG_LEVEL": 30,
              "MAX_RENDER_SIZE_BYTES": 104857600,
              "MAX_STRING_LENGTH": 250,
              "NUM_PAST_SAMPLES_TRACKED": 3,
              "RANDOM_STATE": 12648430,
              "RESET_INDEX_VALUES": false,
              "ROW_SAMPLING_METHOD": "random",
              "SAMPLING_FACTOR": 0.1,
              "SAMPLING_METHOD": "random",
              "STRINGIFY_COLUMN_VALUES": true,
              "STRINGIFY_INDEX_VALUES": false
            },
            "sample_history": [],
            "sampling_time": "2023-12-09T12:36:15.208582",
            "user_variable_name": null,
            "variable_name": "unk_dataframe_e3a8d27f884e4c0d8f532fbecb03c062"
          },
          "bbfe9f52-e3ff-405d-a962-dbfd35489c0a": {
            "applied_filters": [],
            "dataframe_info": {
              "default_index_used": true,
              "orig_num_cols": 33,
              "orig_num_rows": 30,
              "orig_size_bytes": 8160,
              "truncated_num_cols": 33,
              "truncated_num_rows": 30,
              "truncated_size_bytes": 8160,
              "truncated_string_columns": [
                "resume_skills_list",
                "vacancy_skills_list",
                "resume_skills_parsed",
                "vacancy_skills_parsed"
              ]
            },
            "display_id": "bbfe9f52-e3ff-405d-a962-dbfd35489c0a",
            "dx_settings": {
              "ALLOW_NOTEABLE_ATTRS": true,
              "COLUMN_SAMPLING_METHOD": "outer",
              "DB_LOCATION": ":memory:",
              "DEV_MODE": false,
              "DISPLAY_MAX_COLUMNS": 100,
              "DISPLAY_MAX_ROWS": 50000,
              "DISPLAY_MODE": "simple",
              "ENABLE_ASSIGNMENT": true,
              "ENABLE_DATALINK": true,
              "FLATTEN_COLUMN_VALUES": true,
              "FLATTEN_INDEX_VALUES": false,
              "GENERATE_DEX_METADATA": false,
              "HTML_TABLE_SCHEMA": false,
              "LOG_LEVEL": 30,
              "MAX_RENDER_SIZE_BYTES": 104857600,
              "MAX_STRING_LENGTH": 250,
              "NUM_PAST_SAMPLES_TRACKED": 3,
              "RANDOM_STATE": 12648430,
              "RESET_INDEX_VALUES": false,
              "ROW_SAMPLING_METHOD": "random",
              "SAMPLING_FACTOR": 0.1,
              "SAMPLING_METHOD": "random",
              "STRINGIFY_COLUMN_VALUES": true,
              "STRINGIFY_INDEX_VALUES": false
            },
            "sample_history": [],
            "sampling_time": "2023-12-09T12:33:32.341807",
            "user_variable_name": null,
            "variable_name": "unk_dataframe_f7a87b3425514bed842305309410db6f"
          },
          "be244a67-f86e-4518-8e30-a458eae9dbb3": {
            "applied_filters": [],
            "dataframe_info": {
              "default_index_used": true,
              "orig_num_cols": 1,
              "orig_num_rows": 30,
              "orig_size_bytes": 270,
              "truncated_num_cols": 1,
              "truncated_num_rows": 30,
              "truncated_size_bytes": 270,
              "truncated_string_columns": []
            },
            "display_id": "be244a67-f86e-4518-8e30-a458eae9dbb3",
            "dx_settings": {
              "ALLOW_NOTEABLE_ATTRS": true,
              "COLUMN_SAMPLING_METHOD": "outer",
              "DB_LOCATION": ":memory:",
              "DEV_MODE": false,
              "DISPLAY_MAX_COLUMNS": 100,
              "DISPLAY_MAX_ROWS": 50000,
              "DISPLAY_MODE": "simple",
              "ENABLE_ASSIGNMENT": true,
              "ENABLE_DATALINK": true,
              "FLATTEN_COLUMN_VALUES": true,
              "FLATTEN_INDEX_VALUES": false,
              "GENERATE_DEX_METADATA": false,
              "HTML_TABLE_SCHEMA": false,
              "LOG_LEVEL": 30,
              "MAX_RENDER_SIZE_BYTES": 104857600,
              "MAX_STRING_LENGTH": 250,
              "NUM_PAST_SAMPLES_TRACKED": 3,
              "RANDOM_STATE": 12648430,
              "RESET_INDEX_VALUES": false,
              "ROW_SAMPLING_METHOD": "random",
              "SAMPLING_FACTOR": 0.1,
              "SAMPLING_METHOD": "random",
              "STRINGIFY_COLUMN_VALUES": true,
              "STRINGIFY_INDEX_VALUES": false
            },
            "sample_history": [],
            "sampling_time": "2023-12-09T13:05:16.580796",
            "user_variable_name": null,
            "variable_name": "unk_dataframe_1918e97d70f84ea5bde3d9a7b76e93d0"
          },
          "c24042b6-e66f-4f11-9b27-2ccfe0986632": {
            "applied_filters": [],
            "dataframe_info": {
              "default_index_used": true,
              "orig_num_cols": 33,
              "orig_num_rows": 30,
              "orig_size_bytes": 8160,
              "truncated_num_cols": 33,
              "truncated_num_rows": 30,
              "truncated_size_bytes": 8160,
              "truncated_string_columns": [
                "vacancy_skills_list"
              ]
            },
            "display_id": "c24042b6-e66f-4f11-9b27-2ccfe0986632",
            "dx_settings": {
              "ALLOW_NOTEABLE_ATTRS": true,
              "COLUMN_SAMPLING_METHOD": "outer",
              "DB_LOCATION": ":memory:",
              "DEV_MODE": false,
              "DISPLAY_MAX_COLUMNS": 100,
              "DISPLAY_MAX_ROWS": 50000,
              "DISPLAY_MODE": "simple",
              "ENABLE_ASSIGNMENT": true,
              "ENABLE_DATALINK": true,
              "FLATTEN_COLUMN_VALUES": true,
              "FLATTEN_INDEX_VALUES": false,
              "GENERATE_DEX_METADATA": false,
              "HTML_TABLE_SCHEMA": false,
              "LOG_LEVEL": 30,
              "MAX_RENDER_SIZE_BYTES": 104857600,
              "MAX_STRING_LENGTH": 250,
              "NUM_PAST_SAMPLES_TRACKED": 3,
              "RANDOM_STATE": 12648430,
              "RESET_INDEX_VALUES": false,
              "ROW_SAMPLING_METHOD": "random",
              "SAMPLING_FACTOR": 0.1,
              "SAMPLING_METHOD": "random",
              "STRINGIFY_COLUMN_VALUES": true,
              "STRINGIFY_INDEX_VALUES": false
            },
            "sample_history": [],
            "sampling_time": "2023-12-09T12:37:23.135411",
            "user_variable_name": null,
            "variable_name": "unk_dataframe_e51d8e5ceeb24c74a21c47f37d8d6742"
          },
          "ce39622b-1416-4426-ac81-15f6b3777601": {
            "applied_filters": [],
            "dataframe_info": {
              "default_index_used": true,
              "orig_num_cols": 33,
              "orig_num_rows": 30,
              "orig_size_bytes": 8160,
              "truncated_num_cols": 33,
              "truncated_num_rows": 30,
              "truncated_size_bytes": 8160,
              "truncated_string_columns": [
                "resume_skills_list",
                "vacancy_skills_list",
                "resume_skills_parsed"
              ]
            },
            "display_id": "ce39622b-1416-4426-ac81-15f6b3777601",
            "dx_settings": {
              "ALLOW_NOTEABLE_ATTRS": true,
              "COLUMN_SAMPLING_METHOD": "outer",
              "DB_LOCATION": ":memory:",
              "DEV_MODE": false,
              "DISPLAY_MAX_COLUMNS": 100,
              "DISPLAY_MAX_ROWS": 50000,
              "DISPLAY_MODE": "simple",
              "ENABLE_ASSIGNMENT": true,
              "ENABLE_DATALINK": true,
              "FLATTEN_COLUMN_VALUES": true,
              "FLATTEN_INDEX_VALUES": false,
              "GENERATE_DEX_METADATA": false,
              "HTML_TABLE_SCHEMA": false,
              "LOG_LEVEL": 30,
              "MAX_RENDER_SIZE_BYTES": 104857600,
              "MAX_STRING_LENGTH": 250,
              "NUM_PAST_SAMPLES_TRACKED": 3,
              "RANDOM_STATE": 12648430,
              "RESET_INDEX_VALUES": false,
              "ROW_SAMPLING_METHOD": "random",
              "SAMPLING_FACTOR": 0.1,
              "SAMPLING_METHOD": "random",
              "STRINGIFY_COLUMN_VALUES": true,
              "STRINGIFY_INDEX_VALUES": false
            },
            "sample_history": [],
            "sampling_time": "2023-12-09T12:30:07.983761",
            "user_variable_name": null,
            "variable_name": "unk_dataframe_c344215cb1284bf5b0669c7aba58053d"
          },
          "f6eb54dc-e71f-45bc-9ba4-29028a692fbc": {
            "applied_filters": [],
            "dataframe_info": {
              "default_index_used": true,
              "orig_num_cols": 33,
              "orig_num_rows": 30,
              "orig_size_bytes": 8160,
              "truncated_num_cols": 33,
              "truncated_num_rows": 30,
              "truncated_size_bytes": 8160,
              "truncated_string_columns": [
                "vacancy_skills_list"
              ]
            },
            "display_id": "f6eb54dc-e71f-45bc-9ba4-29028a692fbc",
            "dx_settings": {
              "ALLOW_NOTEABLE_ATTRS": true,
              "COLUMN_SAMPLING_METHOD": "outer",
              "DB_LOCATION": ":memory:",
              "DEV_MODE": false,
              "DISPLAY_MAX_COLUMNS": 100,
              "DISPLAY_MAX_ROWS": 50000,
              "DISPLAY_MODE": "simple",
              "ENABLE_ASSIGNMENT": true,
              "ENABLE_DATALINK": true,
              "FLATTEN_COLUMN_VALUES": true,
              "FLATTEN_INDEX_VALUES": false,
              "GENERATE_DEX_METADATA": false,
              "HTML_TABLE_SCHEMA": false,
              "LOG_LEVEL": 30,
              "MAX_RENDER_SIZE_BYTES": 104857600,
              "MAX_STRING_LENGTH": 250,
              "NUM_PAST_SAMPLES_TRACKED": 3,
              "RANDOM_STATE": 12648430,
              "RESET_INDEX_VALUES": false,
              "ROW_SAMPLING_METHOD": "random",
              "SAMPLING_FACTOR": 0.1,
              "SAMPLING_METHOD": "random",
              "STRINGIFY_COLUMN_VALUES": true,
              "STRINGIFY_INDEX_VALUES": false
            },
            "sample_history": [],
            "sampling_time": "2023-12-09T12:42:36.507860",
            "user_variable_name": null,
            "variable_name": "unk_dataframe_8960ab848ec24f20abcde84b9bcf02b8"
          }
        },
        "jupyter": {
          "outputs_hidden": false,
          "source_hidden": false
        },
        "noteable": {
          "cell_type": "code",
          "output_collection_id": "a79274b5-67ec-48aa-b807-bfbf114551b0"
        }
      },
      "outputs": [],
      "source": [
        "df.loc[:, 'skills_list_intersect'] = df.apply(lambda x: x['resume_skills_parsed'] & x['vacancy_skills_parsed'], axis=1)"
      ]
    },
    {
      "cell_type": "code",
      "execution_count": 19,
      "id": "744b2ff7",
      "metadata": {},
      "outputs": [],
      "source": [
        "def coef(x):\n",
        "    if x['vacancy_skills_parsed'] == set([None]):\n",
        "        return 0\n",
        "    return len(x['skills_list_intersect']) / len(x['vacancy_skills_parsed'])"
      ]
    },
    {
      "cell_type": "code",
      "execution_count": 20,
      "id": "a098b958-41e9-4543-b5fb-ec17fd3fad6f",
      "metadata": {
        "ExecuteTime": {
          "end_time": "2023-12-09T13:18:59.209342+00:00",
          "start_time": "2023-12-09T13:18:58.125412+00:00"
        },
        "jupyter": {
          "outputs_hidden": false,
          "source_hidden": false
        },
        "noteable": {
          "cell_type": "code",
          "output_collection_id": "6182885c-6726-4ef1-82ec-487a947b2436"
        }
      },
      "outputs": [],
      "source": [
        "df.loc[:, 'skills_list_coef'] = df.apply(coef, axis=1)"
      ]
    },
    {
      "cell_type": "code",
      "execution_count": 25,
      "id": "8d50f620-8aac-43df-83f2-b7d30fdfdafb",
      "metadata": {
        "ExecuteTime": null,
        "jupyter": {
          "outputs_hidden": false,
          "source_hidden": false
        },
        "noteable": {
          "cell_type": "code",
          "output_collection_id": "73d06bed-dfb5-4a6d-9db2-619fea21ad51"
        }
      },
      "outputs": [],
      "source": [
        "df.to_excel('hhru_skills_list_coef.xlsx')"
      ]
    },
    {
      "cell_type": "code",
      "execution_count": null,
      "id": "c78be04b-63e1-4b70-b0fb-26173645aba3",
      "metadata": {
        "jupyter": {
          "outputs_hidden": false,
          "source_hidden": false
        },
        "noteable": {
          "cell_type": "code"
        }
      },
      "outputs": [],
      "source": []
    }
  ],
  "metadata": {
    "kernel_info": {
      "name": "python3.9-noteable"
    },
    "kernelspec": {
      "display_name": "Python 3 (ipykernel)",
      "language": "python",
      "name": "python3"
    },
    "language_info": {
      "codemirror_mode": {
        "name": "ipython",
        "version": 3
      },
      "file_extension": ".py",
      "mimetype": "text/x-python",
      "name": "python",
      "nbconvert_exporter": "python",
      "pygments_lexer": "ipython3",
      "version": "3.11.5"
    },
    "selected_hardware_size": "small"
  },
  "nbformat": 4,
  "nbformat_minor": 5
}