{
 "cells": [
  {
   "cell_type": "code",
   "execution_count": 1,
   "id": "7b074f8b-ddab-44bd-a379-6f38fa0c1a97",
   "metadata": {
    "ExecuteTime": {
     "end_time": "2023-12-15T16:27:59.634195+00:00",
     "start_time": "2023-12-15T16:27:59.148607+00:00"
    },
    "jupyter": {
     "outputs_hidden": false,
     "source_hidden": false
    },
    "noteable": {
     "cell_type": "code",
     "output_collection_id": "ddfaa29c-903a-4e3d-b8ea-7fdc07609569"
    }
   },
   "outputs": [],
   "source": [
    "import seaborn as sns\n",
    "import matplotlib.pyplot as plt\n",
    "from matplotlib.patches import FancyBboxPatch\n",
    "import pandas as pd"
   ]
  },
  {
   "cell_type": "code",
   "execution_count": 4,
   "id": "f4b3efc6-148f-46d2-b8fd-6f4efb4ec40a",
   "metadata": {
    "ExecuteTime": {
     "end_time": "2023-12-15T16:25:43.175768+00:00",
     "start_time": "2023-12-15T16:25:34.005869+00:00"
    },
    "jupyter": {
     "outputs_hidden": false,
     "source_hidden": false
    },
    "noteable": {
     "cell_type": "code",
     "output_collection_id": "855e0593-6525-4bfc-9b1e-a593d58a74c7"
    }
   },
   "outputs": [
    {
     "name": "stdout",
     "output_type": "stream",
     "text": [
      "<class 'pandas.core.frame.DataFrame'>\n",
      "RangeIndex: 500000 entries, 0 to 499999\n",
      "Data columns (total 26 columns):\n",
      " #   Column                   Non-Null Count   Dtype  \n",
      "---  ------                   --------------   -----  \n",
      " 0   topic_id                 500000 non-null  object \n",
      " 1   topic_creation_date      500000 non-null  object \n",
      " 2   initial_state            499166 non-null  object \n",
      " 3   final_state              499166 non-null  object \n",
      " 4   resume_id                500000 non-null  object \n",
      " 5   resume_creation_date     500000 non-null  object \n",
      " 6   profession               500000 non-null  object \n",
      " 7   gender                   500000 non-null  object \n",
      " 8   year_of_birth            500000 non-null  int64  \n",
      " 9   resume_region            500000 non-null  object \n",
      " 10  education_level          499898 non-null  object \n",
      " 11  expected_salary          489214 non-null  float64\n",
      " 12  relocation_status        500000 non-null  object \n",
      " 13  business_trip_readiness  500000 non-null  object \n",
      " 14  work_schedule            493089 non-null  object \n",
      " 15  resume_employment_type   500000 non-null  object \n",
      " 16  work_experience_months   500000 non-null  int64  \n",
      " 17  resume_skills_list       462552 non-null  object \n",
      " 18  vacancy_id               500000 non-null  object \n",
      " 19  vacancy_creation_date    500000 non-null  object \n",
      " 20  vacancy_region           500000 non-null  object \n",
      " 21  work_schedule.1          500000 non-null  object \n",
      " 22  vacancy_employment_type  500000 non-null  object \n",
      " 23  compensation_from        470618 non-null  float64\n",
      " 24  compensation_to          361775 non-null  float64\n",
      " 25  vacancy_skills_list      500000 non-null  object \n",
      "dtypes: float64(3), int64(2), object(21)\n",
      "memory usage: 99.2+ MB\n"
     ]
    }
   ],
   "source": [
    "df1 = pd.read_csv(\"hh_ru_dataset.csv\")\n",
    "df1.info()"
   ]
  },
  {
   "cell_type": "code",
   "execution_count": null,
   "id": "db54f9b2-1212-4282-b7d5-f56faee8a38c",
   "metadata": {
    "ExecuteTime": {
     "end_time": "2023-12-15T16:27:10.985985+00:00",
     "start_time": "2023-12-15T16:25:43.389562+00:00"
    },
    "jupyter": {
     "outputs_hidden": false,
     "source_hidden": false
    },
    "noteable": {
     "cell_type": "code",
     "output_collection_id": "3fd6270b-ac36-43b8-a414-f497e35a79e1"
    }
   },
   "outputs": [],
   "source": [
    "df2 = pd.read_excel(\"clear_final1.xlsx\")\n",
    "df2.info()"
   ]
  },
  {
   "cell_type": "code",
   "execution_count": 3,
   "id": "6bda5701-1a24-4462-b207-a56f91ac0381",
   "metadata": {
    "ExecuteTime": {
     "end_time": "2023-12-12T17:17:23.810992+00:00",
     "start_time": "2023-12-12T17:17:23.320487+00:00"
    },
    "jupyter": {
     "outputs_hidden": false,
     "source_hidden": false
    },
    "noteable": {
     "cell_type": "code",
     "output_collection_id": "2ac422bd-762a-48fa-bc82-0504283abf2e"
    }
   },
   "outputs": [
    {
     "ename": "NameError",
     "evalue": "name 'df2' is not defined",
     "output_type": "error",
     "traceback": [
      "\u001b[1;31m---------------------------------------------------------------------------\u001b[0m",
      "\u001b[1;31mNameError\u001b[0m                                 Traceback (most recent call last)",
      "Cell \u001b[1;32mIn[3], line 1\u001b[0m\n\u001b[1;32m----> 1\u001b[0m sns\u001b[38;5;241m.\u001b[39mboxplot(y\u001b[38;5;241m=\u001b[39m\u001b[38;5;124m'\u001b[39m\u001b[38;5;124mexpected_salary\u001b[39m\u001b[38;5;124m'\u001b[39m, data\u001b[38;5;241m=\u001b[39mdf2, color\u001b[38;5;241m=\u001b[39m\u001b[38;5;124m'\u001b[39m\u001b[38;5;124mgreen\u001b[39m\u001b[38;5;124m'\u001b[39m, width\u001b[38;5;241m=\u001b[39m\u001b[38;5;241m0.8\u001b[39m)\n",
      "\u001b[1;31mNameError\u001b[0m: name 'df2' is not defined"
     ]
    }
   ],
   "source": [
    "sns.boxplot(y='expected_salary', data=df2, color='green', width=0.8)\n"
   ]
  },
  {
   "cell_type": "code",
   "execution_count": null,
   "id": "66cea40b-ea52-41f1-9e9a-c1e6449982ad",
   "metadata": {
    "ExecuteTime": {
     "end_time": "2023-12-15T08:46:01.538249+00:00",
     "start_time": "2023-12-15T08:46:00.895146+00:00"
    },
    "jupyter": {
     "outputs_hidden": false,
     "source_hidden": false
    },
    "noteable": {
     "cell_type": "code",
     "output_collection_id": "6aeae86d-0196-4929-bc13-a9bca2eabbe0"
    }
   },
   "outputs": [],
   "source": [
    "# sns.catplot(y='expected_salary', data=df1, color='green')\n",
    "# fig, ax = plt.subplots(figsize=(6, 50))\n",
    "# sns.set(style=\"whitegrid\")\n",
    "sns.boxplot(y='expected_salary', data=df1, color='green', width=0.8)"
   ]
  },
  {
   "cell_type": "code",
   "execution_count": null,
   "id": "94366863-2068-4cb3-b23a-a9dc34e60672",
   "metadata": {
    "ExecuteTime": {
     "end_time": "2023-12-11T19:51:08.485678+00:00",
     "start_time": "2023-12-11T19:51:05.759336+00:00"
    },
    "datalink": {
     "233ad832-8b9f-43c1-aa25-339de19914ed": {
      "applied_filters": [],
      "dataframe_info": {
       "default_index_used": true,
       "orig_num_cols": 1,
       "orig_num_rows": 500000,
       "orig_size_bytes": 8000000,
       "truncated_num_cols": 1,
       "truncated_num_rows": 50000,
       "truncated_size_bytes": 800000,
       "truncated_string_columns": []
      },
      "display_id": "233ad832-8b9f-43c1-aa25-339de19914ed",
      "dx_settings": {
       "ALLOW_NOTEABLE_ATTRS": true,
       "COLUMN_SAMPLING_METHOD": "outer",
       "DB_LOCATION": ":memory:",
       "DEV_MODE": false,
       "DISPLAY_MAX_COLUMNS": 100,
       "DISPLAY_MAX_ROWS": 50000,
       "DISPLAY_MODE": "simple",
       "ENABLE_ASSIGNMENT": true,
       "ENABLE_DATALINK": true,
       "FLATTEN_COLUMN_VALUES": true,
       "FLATTEN_INDEX_VALUES": false,
       "GENERATE_DEX_METADATA": false,
       "HTML_TABLE_SCHEMA": false,
       "LOG_LEVEL": 30,
       "MAX_RENDER_SIZE_BYTES": 104857600,
       "MAX_STRING_LENGTH": 250,
       "NUM_PAST_SAMPLES_TRACKED": 3,
       "RANDOM_STATE": 12648430,
       "RESET_INDEX_VALUES": false,
       "ROW_SAMPLING_METHOD": "random",
       "SAMPLING_FACTOR": 0.1,
       "SAMPLING_METHOD": "random",
       "STRINGIFY_COLUMN_VALUES": true,
       "STRINGIFY_INDEX_VALUES": false
      },
      "sample_history": [],
      "sampling_time": "2023-12-11T19:51:08.289758",
      "user_variable_name": null,
      "variable_name": "unk_dataframe_206b1c79c9de4c2fbd14d11fed3277e4"
     },
     "4448396d-3c78-408a-b3f8-3a93ad38338b": {
      "applied_filters": [],
      "dataframe_info": {
       "default_index_used": true,
       "orig_num_cols": 1,
       "orig_num_rows": 500000,
       "orig_size_bytes": 8000000,
       "truncated_num_cols": 1,
       "truncated_num_rows": 50000,
       "truncated_size_bytes": 800000,
       "truncated_string_columns": []
      },
      "display_id": "4448396d-3c78-408a-b3f8-3a93ad38338b",
      "dx_settings": {
       "ALLOW_NOTEABLE_ATTRS": true,
       "COLUMN_SAMPLING_METHOD": "outer",
       "DB_LOCATION": ":memory:",
       "DEV_MODE": false,
       "DISPLAY_MAX_COLUMNS": 100,
       "DISPLAY_MAX_ROWS": 50000,
       "DISPLAY_MODE": "simple",
       "ENABLE_ASSIGNMENT": true,
       "ENABLE_DATALINK": true,
       "FLATTEN_COLUMN_VALUES": true,
       "FLATTEN_INDEX_VALUES": false,
       "GENERATE_DEX_METADATA": false,
       "HTML_TABLE_SCHEMA": false,
       "LOG_LEVEL": 30,
       "MAX_RENDER_SIZE_BYTES": 104857600,
       "MAX_STRING_LENGTH": 250,
       "NUM_PAST_SAMPLES_TRACKED": 3,
       "RANDOM_STATE": 12648430,
       "RESET_INDEX_VALUES": false,
       "ROW_SAMPLING_METHOD": "random",
       "SAMPLING_FACTOR": 0.1,
       "SAMPLING_METHOD": "random",
       "STRINGIFY_COLUMN_VALUES": true,
       "STRINGIFY_INDEX_VALUES": false
      },
      "sample_history": [],
      "sampling_time": "2023-12-11T19:39:26.836727",
      "user_variable_name": null,
      "variable_name": "unk_dataframe_83e499bbaff84de8af9287af84adb86b"
     }
    },
    "jupyter": {
     "outputs_hidden": false,
     "source_hidden": false
    },
    "noteable": {
     "cell_type": "code",
     "output_collection_id": "cc8f2861-8d55-47cb-a2d5-741f5dab5c98"
    }
   },
   "outputs": [],
   "source": [
    "df1['expected_salary'] = df1['expected_salary'] // 1000 * 1000\n",
    "df1['expected_salary']"
   ]
  },
  {
   "cell_type": "code",
   "execution_count": 6,
   "id": "7dbe0652-394d-46d8-b58f-e28ed71d9cc0",
   "metadata": {
    "ExecuteTime": {
     "end_time": "2023-12-15T17:23:40.842697+00:00",
     "start_time": "2023-12-15T17:23:40.405890+00:00"
    },
    "jupyter": {
     "outputs_hidden": false,
     "source_hidden": false
    },
    "noteable": {
     "cell_type": "code",
     "output_collection_id": "d546ba07-30bc-4f79-96c6-f431faa8fdf1"
    },
    "scrolled": false
   },
   "outputs": [
    {
     "data": {
      "image/png": "[encoded data removed]",
      "text/plain": [
       "<Figure size 640x480 with 1 Axes>"
      ]
     },
     "metadata": {},
     "output_type": "display_data"
    }
   ],
   "source": [
    "plt.hist(x=df2['expected_salary'], bins=50, color='#02A99D')\n",
    "#plt.xscale('log')\n",
    "#plt.yscale('log')\n",
    "plt.ylabel('expected_salary')\n",
    "plt.title('Гистограмма распределения ожидаемых зарплат')\n",
    "plt.show()"
   ]
  },
  {
   "cell_type": "code",
   "execution_count": 11,
   "id": "8e143c6c",
   "metadata": {},
   "outputs": [
    {
     "data": {
      "text/plain": [
       "220470"
      ]
     },
     "execution_count": 11,
     "metadata": {},
     "output_type": "execute_result"
    }
   ],
   "source": [
    "len(df2)"
   ]
  },
  {
   "cell_type": "code",
   "execution_count": null,
   "id": "c1c432dc-e565-45aa-82fb-0b2fd8ca52b6",
   "metadata": {
    "ExecuteTime": {
     "end_time": "2023-12-15T17:24:21.516984+00:00",
     "start_time": "2023-12-15T17:24:20.831027+00:00"
    },
    "datalink": {
     "6b15f48a-089d-486e-8c38-3559154dc2bc": {
      "applied_filters": [],
      "dataframe_info": {
       "default_index_used": false,
       "orig_num_cols": 2,
       "orig_num_rows": 619488,
       "orig_size_bytes": 14867712,
       "truncated_num_cols": 2,
       "truncated_num_rows": 50000,
       "truncated_size_bytes": 1200000,
       "truncated_string_columns": []
      },
      "display_id": "6b15f48a-089d-486e-8c38-3559154dc2bc",
      "dx_settings": {
       "ALLOW_NOTEABLE_ATTRS": true,
       "COLUMN_SAMPLING_METHOD": "outer",
       "DB_LOCATION": ":memory:",
       "DEV_MODE": false,
       "DISPLAY_MAX_COLUMNS": 100,
       "DISPLAY_MAX_ROWS": 50000,
       "DISPLAY_MODE": "simple",
       "ENABLE_ASSIGNMENT": true,
       "ENABLE_DATALINK": true,
       "FLATTEN_COLUMN_VALUES": true,
       "FLATTEN_INDEX_VALUES": false,
       "GENERATE_DEX_METADATA": false,
       "HTML_TABLE_SCHEMA": false,
       "LOG_LEVEL": 30,
       "MAX_RENDER_SIZE_BYTES": 104857600,
       "MAX_STRING_LENGTH": 250,
       "NUM_PAST_SAMPLES_TRACKED": 3,
       "RANDOM_STATE": 12648430,
       "RESET_INDEX_VALUES": false,
       "ROW_SAMPLING_METHOD": "random",
       "SAMPLING_FACTOR": 0.1,
       "SAMPLING_METHOD": "random",
       "STRINGIFY_COLUMN_VALUES": true,
       "STRINGIFY_INDEX_VALUES": false
      },
      "sample_history": [],
      "sampling_time": "2023-12-11T20:14:59.538486",
      "user_variable_name": "df3",
      "variable_name": "df3"
     },
     "ef9b5233-ff9b-4fbb-a550-56fa35e37053": {
      "applied_filters": [],
      "dataframe_info": {
       "default_index_used": false,
       "orig_num_cols": 2,
       "orig_num_rows": 619488,
       "orig_size_bytes": 14867712,
       "truncated_num_cols": 2,
       "truncated_num_rows": 50000,
       "truncated_size_bytes": 1200000,
       "truncated_string_columns": []
      },
      "display_id": "ef9b5233-ff9b-4fbb-a550-56fa35e37053",
      "dx_settings": {
       "ALLOW_NOTEABLE_ATTRS": true,
       "COLUMN_SAMPLING_METHOD": "outer",
       "DB_LOCATION": ":memory:",
       "DEV_MODE": false,
       "DISPLAY_MAX_COLUMNS": 100,
       "DISPLAY_MAX_ROWS": 50000,
       "DISPLAY_MODE": "simple",
       "ENABLE_ASSIGNMENT": true,
       "ENABLE_DATALINK": true,
       "FLATTEN_COLUMN_VALUES": true,
       "FLATTEN_INDEX_VALUES": false,
       "GENERATE_DEX_METADATA": false,
       "HTML_TABLE_SCHEMA": false,
       "LOG_LEVEL": 30,
       "MAX_RENDER_SIZE_BYTES": 104857600,
       "MAX_STRING_LENGTH": 250,
       "NUM_PAST_SAMPLES_TRACKED": 3,
       "RANDOM_STATE": 12648430,
       "RESET_INDEX_VALUES": false,
       "ROW_SAMPLING_METHOD": "random",
       "SAMPLING_FACTOR": 0.1,
       "SAMPLING_METHOD": "random",
       "STRINGIFY_COLUMN_VALUES": true,
       "STRINGIFY_INDEX_VALUES": false
      },
      "sample_history": [],
      "sampling_time": "2023-12-11T20:15:32.787178",
      "user_variable_name": "df3",
      "variable_name": "df3"
     }
    },
    "jupyter": {
     "outputs_hidden": false,
     "source_hidden": false
    },
    "noteable": {
     "cell_type": "code",
     "output_collection_id": "8da278d6-3284-4c18-9478-f17c6dd2ce8b"
    }
   },
   "outputs": [],
   "source": [
    "df1['flag'] = ['До обработки' for i in range(len(df1['year_of_birth']))]\n",
    "df2['flag'] = ['После обработки' for i in range(len(df2['year_of_birth']))]\n",
    "df3 = pd.concat([df1[['flag', 'year_of_birth']], df2[['flag', 'year_of_birth']]])\n",
    "df3\n",
    "fig, ax = plt.subplots()\n",
    "sns.set(style=\"whitegrid\")\n",
    "sns.boxplot(x = 'flag', y='year_of_birth', data=df3, width=0.8, color='#02A99F', ax=ax)\n",
    "ax.set_title('Распределение годов рождения')\n",
    "ax.set_ylabel('Год рождения')\n",
    "ax.set_xlabel('')\n"
   ]
  },
  {
   "cell_type": "code",
   "execution_count": null,
   "id": "237f0112-eec3-4147-a80c-d2046a888e0a",
   "metadata": {
    "ExecuteTime": {
     "end_time": "2023-12-15T17:25:14.651507+00:00",
     "start_time": "2023-12-15T17:25:13.691254+00:00"
    },
    "jupyter": {
     "outputs_hidden": false,
     "source_hidden": false
    },
    "noteable": {
     "cell_type": "code",
     "output_collection_id": "76d6ff95-afee-458e-add7-c7a2036bf36a"
    }
   },
   "outputs": [],
   "source": [
    "df3 = pd.concat([df1[['flag', 'work_experience_months']], df2[['flag', 'work_experience_months']]])\n",
    "df3\n",
    "fig, ax = plt.subplots(figsize=(6, 5))\n",
    "sns.set(style=\"whitegrid\")\n",
    "#plt.figure(figsize=(4, 10))\n",
    "sns.boxplot(x = 'flag', y='work_experience_months', data=df3, width=0.8, color='#02A99F', ax=ax)\n",
    "ax.set_title('Распределение опыта работы')\n",
    "ax.set_ylabel('Опыт работы в месяцах')\n",
    "ax.set_xlabel('')\n",
    "background_color = ''\n",
    "plt.show()\n",
    "# ax.set(facecolor = background_color)\n",
    "# fig.set(facecolor = background_color)"
   ]
  },
  {
   "cell_type": "code",
   "execution_count": 9,
   "id": "737e6b09-2572-4126-ae58-978c85261331",
   "metadata": {
    "ExecuteTime": {
     "end_time": "2023-12-15T17:25:53.450792+00:00",
     "start_time": "2023-12-15T17:25:52.633676+00:00"
    },
    "jupyter": {
     "outputs_hidden": false,
     "source_hidden": false
    },
    "noteable": {
     "cell_type": "code",
     "output_collection_id": "a1342c8d-2890-4988-85d9-3111c7926c0f"
    }
   },
   "outputs": [
    {
     "name": "stderr",
     "output_type": "stream",
     "text": [
      "C:\\Users\\artyo\\anaconda3\\Lib\\site-packages\\seaborn\\axisgrid.py:118: UserWarning: The figure layout has changed to tight\n",
      "  self._figure.tight_layout(*args, **kwargs)\n"
     ]
    },
    {
     "data": {
      "image/png": "[encoded data removed]",
      "text/plain": [
       "<Figure size 800x500 with 1 Axes>"
      ]
     },
     "metadata": {},
     "output_type": "display_data"
    }
   ],
   "source": [
    "# sns.distplot(df1['year_of_birth'], kde=True, \n",
    "#              bins=int(180/5), color = '#2E8B57', \n",
    "#              hist_kws={'edgecolor':'#5A3D30'},\n",
    "#              kde_kws={'linewidth': 3})\n",
    "# fig, ax = plt.subplots(figsize=(10, 4))\n",
    "sns.set(style=\"whitegrid\")\n",
    "hst = sns.displot(x=df1[df1.year_of_birth >= 1940]['year_of_birth'], bins=69, color='#02A99F', edgecolor='black', linewidth=0.5)\n",
    "#sns.displot(x=df1['year_of_birth'], kind='kde', bw_adjust=2)\n",
    "hst.fig.set_size_inches(8,5)\n",
    "hst.set(title='Распределение годов рождения', xlabel='Год рождения', ylabel='Количество ответов')\n",
    "plt.show()"
   ]
  },
  {
   "cell_type": "code",
   "execution_count": null,
   "id": "23ad9662-0a63-4403-8b3c-bf7b1b2927ef",
   "metadata": {
    "ExecuteTime": {
     "end_time": "2023-12-13T16:37:44.098136+00:00",
     "start_time": "2023-12-13T16:37:41.162553+00:00"
    },
    "datalink": {
     "4b629c39-973c-4221-b0a9-66e8df5afe54": {
      "applied_filters": [],
      "dataframe_info": {
       "default_index_used": false,
       "orig_num_cols": 1,
       "orig_num_rows": 36,
       "orig_size_bytes": 576,
       "truncated_num_cols": 1,
       "truncated_num_rows": 36,
       "truncated_size_bytes": 576,
       "truncated_string_columns": []
      },
      "display_id": "4b629c39-973c-4221-b0a9-66e8df5afe54",
      "dx_settings": {
       "ALLOW_NOTEABLE_ATTRS": true,
       "COLUMN_SAMPLING_METHOD": "outer",
       "DB_LOCATION": ":memory:",
       "DEV_MODE": false,
       "DISPLAY_MAX_COLUMNS": 100,
       "DISPLAY_MAX_ROWS": 50000,
       "DISPLAY_MODE": "simple",
       "ENABLE_ASSIGNMENT": true,
       "ENABLE_DATALINK": true,
       "FLATTEN_COLUMN_VALUES": true,
       "FLATTEN_INDEX_VALUES": false,
       "GENERATE_DEX_METADATA": false,
       "HTML_TABLE_SCHEMA": false,
       "LOG_LEVEL": 30,
       "MAX_RENDER_SIZE_BYTES": 104857600,
       "MAX_STRING_LENGTH": 250,
       "NUM_PAST_SAMPLES_TRACKED": 3,
       "RANDOM_STATE": 12648430,
       "RESET_INDEX_VALUES": false,
       "ROW_SAMPLING_METHOD": "random",
       "SAMPLING_FACTOR": 0.1,
       "SAMPLING_METHOD": "random",
       "STRINGIFY_COLUMN_VALUES": true,
       "STRINGIFY_INDEX_VALUES": false
      },
      "sample_history": [],
      "sampling_time": "2023-12-13T16:37:43.940323",
      "user_variable_name": null,
      "variable_name": "unk_dataframe_abce6fb9aeed438d994b29d7914da44f"
     },
     "9dfe48df-09a1-49fa-8d1e-aa4ef0f6fe59": {
      "applied_filters": [],
      "dataframe_info": {
       "default_index_used": false,
       "orig_num_cols": 1,
       "orig_num_rows": 26,
       "orig_size_bytes": 416,
       "truncated_num_cols": 1,
       "truncated_num_rows": 26,
       "truncated_size_bytes": 416,
       "truncated_string_columns": []
      },
      "display_id": "9dfe48df-09a1-49fa-8d1e-aa4ef0f6fe59",
      "dx_settings": {
       "ALLOW_NOTEABLE_ATTRS": true,
       "COLUMN_SAMPLING_METHOD": "outer",
       "DB_LOCATION": ":memory:",
       "DEV_MODE": false,
       "DISPLAY_MAX_COLUMNS": 100,
       "DISPLAY_MAX_ROWS": 50000,
       "DISPLAY_MODE": "simple",
       "ENABLE_ASSIGNMENT": true,
       "ENABLE_DATALINK": true,
       "FLATTEN_COLUMN_VALUES": true,
       "FLATTEN_INDEX_VALUES": false,
       "GENERATE_DEX_METADATA": false,
       "HTML_TABLE_SCHEMA": false,
       "LOG_LEVEL": 30,
       "MAX_RENDER_SIZE_BYTES": 104857600,
       "MAX_STRING_LENGTH": 250,
       "NUM_PAST_SAMPLES_TRACKED": 3,
       "RANDOM_STATE": 12648430,
       "RESET_INDEX_VALUES": false,
       "ROW_SAMPLING_METHOD": "random",
       "SAMPLING_FACTOR": 0.1,
       "SAMPLING_METHOD": "random",
       "STRINGIFY_COLUMN_VALUES": true,
       "STRINGIFY_INDEX_VALUES": false
      },
      "sample_history": [],
      "sampling_time": "2023-12-13T16:36:35.641681",
      "user_variable_name": null,
      "variable_name": "unk_dataframe_6108a5f4b0e6453e94e5becb837e1faa"
     },
     "fc0d1691-887a-4f08-87a5-549afff954e1": {
      "applied_filters": [],
      "dataframe_info": {
       "default_index_used": true,
       "orig_num_cols": 1,
       "orig_num_rows": 500000,
       "orig_size_bytes": 8000000,
       "truncated_num_cols": 1,
       "truncated_num_rows": 50000,
       "truncated_size_bytes": 800000,
       "truncated_string_columns": []
      },
      "display_id": "fc0d1691-887a-4f08-87a5-549afff954e1",
      "dx_settings": {
       "ALLOW_NOTEABLE_ATTRS": true,
       "COLUMN_SAMPLING_METHOD": "outer",
       "DB_LOCATION": ":memory:",
       "DEV_MODE": false,
       "DISPLAY_MAX_COLUMNS": 100,
       "DISPLAY_MAX_ROWS": 50000,
       "DISPLAY_MODE": "simple",
       "ENABLE_ASSIGNMENT": true,
       "ENABLE_DATALINK": true,
       "FLATTEN_COLUMN_VALUES": true,
       "FLATTEN_INDEX_VALUES": false,
       "GENERATE_DEX_METADATA": false,
       "HTML_TABLE_SCHEMA": false,
       "LOG_LEVEL": 30,
       "MAX_RENDER_SIZE_BYTES": 104857600,
       "MAX_STRING_LENGTH": 250,
       "NUM_PAST_SAMPLES_TRACKED": 3,
       "RANDOM_STATE": 12648430,
       "RESET_INDEX_VALUES": false,
       "ROW_SAMPLING_METHOD": "random",
       "SAMPLING_FACTOR": 0.1,
       "SAMPLING_METHOD": "random",
       "STRINGIFY_COLUMN_VALUES": true,
       "STRINGIFY_INDEX_VALUES": false
      },
      "sample_history": [],
      "sampling_time": "2023-12-13T16:34:57.114531",
      "user_variable_name": null,
      "variable_name": "unk_dataframe_9df9f942ed97488ab9847970b592b470"
     }
    },
    "jupyter": {
     "outputs_hidden": false,
     "source_hidden": false
    },
    "noteable": {
     "cell_type": "code",
     "output_collection_id": "f394e482-d1fb-4945-bd95-a876bc2c60bd"
    }
   },
   "outputs": [],
   "source": [
    "df2.nunique()"
   ]
  },
  {
   "cell_type": "code",
   "execution_count": null,
   "id": "aebb5504-5117-4186-9cbe-254129401128",
   "metadata": {
    "ExecuteTime": {
     "end_time": "2023-12-15T16:27:31.058217+00:00",
     "start_time": "2023-12-15T16:27:24.337368+00:00"
    },
    "datalink": {
     "73a5cbf1-0d50-4286-b962-7e70569801bb": {
      "applied_filters": [],
      "dataframe_info": {
       "default_index_used": true,
       "orig_num_cols": 4,
       "orig_num_rows": 25,
       "orig_size_bytes": 1000,
       "truncated_num_cols": 4,
       "truncated_num_rows": 25,
       "truncated_size_bytes": 1000,
       "truncated_string_columns": []
      },
      "display_id": "73a5cbf1-0d50-4286-b962-7e70569801bb",
      "dx_settings": {
       "ALLOW_NOTEABLE_ATTRS": true,
       "COLUMN_SAMPLING_METHOD": "outer",
       "DB_LOCATION": ":memory:",
       "DEV_MODE": false,
       "DISPLAY_MAX_COLUMNS": 100,
       "DISPLAY_MAX_ROWS": 50000,
       "DISPLAY_MODE": "simple",
       "ENABLE_ASSIGNMENT": true,
       "ENABLE_DATALINK": true,
       "FLATTEN_COLUMN_VALUES": true,
       "FLATTEN_INDEX_VALUES": false,
       "GENERATE_DEX_METADATA": false,
       "HTML_TABLE_SCHEMA": false,
       "LOG_LEVEL": 30,
       "MAX_RENDER_SIZE_BYTES": 104857600,
       "MAX_STRING_LENGTH": 250,
       "NUM_PAST_SAMPLES_TRACKED": 3,
       "RANDOM_STATE": 12648430,
       "RESET_INDEX_VALUES": false,
       "ROW_SAMPLING_METHOD": "random",
       "SAMPLING_FACTOR": 0.1,
       "SAMPLING_METHOD": "random",
       "STRINGIFY_COLUMN_VALUES": true,
       "STRINGIFY_INDEX_VALUES": false
      },
      "sample_history": [],
      "sampling_time": "2023-12-13T15:35:31.545459",
      "user_variable_name": "df_prof",
      "variable_name": "df_prof"
     }
    },
    "jupyter": {
     "outputs_hidden": false,
     "source_hidden": false
    },
    "noteable": {
     "cell_type": "code",
     "output_collection_id": "3d7e6848-bd95-4d1a-922b-5b2788ab9e84"
    }
   },
   "outputs": [],
   "source": [
    "df_prof_symbol = pd.read_excel('../datasets/hh_ru/professions.xlsx', sheet_name='symbol')['profession']\n",
    "df_symbol = df1.loc[df1['profession'].isin(df_prof_symbol)]\n",
    "\n",
    "df_prof_human = pd.read_excel('../datasets/hh_ru/professions.xlsx', sheet_name='human')['profession']\n",
    "df_human = df1.loc[df1['profession'].isin(df_prof_human)]\n",
    "\n",
    "df_prof_machinery = pd.read_excel('../datasets/hh_ru/professions.xlsx', sheet_name='machinery')['profession']\n",
    "df_machinery = df1.loc[df1['profession'].isin(df_prof_machinery)]\n",
    "\n",
    "df_prof_art = pd.read_excel('../datasets/hh_ru/professions.xlsx', sheet_name='art')['profession']\n",
    "df_art = df1.loc[df1['profession'].isin(df_prof_art)]"
   ]
  },
  {
   "cell_type": "code",
   "execution_count": null,
   "id": "cb63440e-ae66-4d3a-8ee3-d64c3924eaab",
   "metadata": {
    "ExecuteTime": {
     "end_time": "2023-12-15T16:28:06.835302+00:00",
     "start_time": "2023-12-15T16:28:06.028511+00:00"
    },
    "jupyter": {
     "outputs_hidden": false,
     "source_hidden": false
    },
    "noteable": {
     "cell_type": "code",
     "output_collection_id": "dd36ba75-826a-46e0-9301-a44c6ecbb5f1"
    }
   },
   "outputs": [],
   "source": [
    "b_color = '#543005'\n",
    "y_color = '#C89242'\n",
    "dfs = [df_symbol, df_human, df_machinery, df_art]\n",
    "df_names = ['человек - символ', 'человек - человек', 'человек - техника', 'человек - искусство']\n",
    "colors = [b_color, y_color]\n",
    "genders = ['женщины', 'мужчины']\n",
    "g = {'male': 1, 'female': 0}\n",
    "\n",
    "with plt.matplotlib.rc_context({'legend.labelcolor': b_color, \n",
    "                                'axes.labelcolor': b_color,\n",
    "                                'axes.edgecolor': b_color,\n",
    "                                'xtick.labelcolor': b_color,\n",
    "                                'ytick.labelcolor': b_color}):\n",
    "    x = pd.Series(range(4))\n",
    "    width = 1/6\n",
    "    mult = 0\n",
    "    fig, ax = plt.subplots(layout='constrained', figsize=(8, 5))\n",
    "    plt.style='seaborn-darkgrid'\n",
    "    for gender_name in ('male', 'female'):\n",
    "        gender = g[gender_name]\n",
    "        offset = width * mult\n",
    "        rects = ax.bar(x + offset,\n",
    "                       [len(df_prof[df_prof['gender'] == gender_name])\n",
    "                        for df_prof in dfs],\n",
    "                       width,\n",
    "                       label=genders[gender], color=colors[gender])\n",
    "        mult += 1\n",
    "\n",
    "    ax.set_ylabel('Количество в категории')\n",
    "    ax.set_xlabel('Группа профессий')\n",
    "    plt.xticks(rotation=0)\n",
    "    ax.set_xticks(x + width, df_names)\n",
    "    ax.legend(loc='upper left', ncols=3)\n",
    "    ax.set_ylim(top=140000)\n",
    "    plt.style='seaborn-darkgrid'\n",
    "    plt.show()"
   ]
  },
  {
   "cell_type": "code",
   "execution_count": null,
   "id": "b7f6e456-6ad1-408a-8cad-f6c0b52d8330",
   "metadata": {
    "ExecuteTime": {
     "end_time": "2023-12-15T17:08:12.231430+00:00",
     "start_time": "2023-12-15T17:08:11.676581+00:00"
    },
    "jupyter": {
     "outputs_hidden": false,
     "source_hidden": false
    },
    "noteable": {
     "cell_type": "code",
     "output_collection_id": "416123c5-bc34-491b-9bdb-8295f431cc6a"
    }
   },
   "outputs": [],
   "source": [
    "b_color = '#543005'\n",
    "y_color = '#C89242'\n",
    "dfs = [df_symbol, df_human, df_machinery, df_art]\n",
    "df_names = ['человек - символ', 'человек - человек', 'человек - техника', 'человек - искусство']\n",
    "colors = [b_color, y_color]\n",
    "final_states = ['Отказ', 'Приглашение', ]\n",
    "g = {'discard': 0, 'invitation': 1}\n",
    "\n",
    "with plt.matplotlib.rc_context({'legend.labelcolor': b_color, \n",
    "                                'axes.labelcolor': b_color,\n",
    "                                'axes.edgecolor': b_color,\n",
    "                                'xtick.labelcolor': b_color,\n",
    "                                'ytick.labelcolor': b_color}):\n",
    "    x = pd.Series(range(4))\n",
    "    width = 1/6\n",
    "    mult = 0\n",
    "    fig, ax = plt.subplots(layout='constrained', figsize=(8, 5))\n",
    "    plt.style='seaborn-darkgrid'\n",
    "    for state_name in ('discard', 'invitation', ):\n",
    "        state = g[state_name]\n",
    "        offset = width * mult\n",
    "        rects = ax.bar(x + offset,\n",
    "                       [len(df_prof[df_prof['final_state'] == state_name])\n",
    "                        for df_prof in dfs],\n",
    "                       width,\n",
    "                       label=final_states[state], color=colors[state])\n",
    "        mult += 1\n",
    "\n",
    "    ax.set_ylabel('Количество в категории')\n",
    "    ax.set_xlabel('Группа профессий')\n",
    "    plt.xticks(rotation=0)\n",
    "    ax.set_xticks(x+width, df_names)\n",
    "    ax.legend(loc='upper left', ncols=3)\n",
    "    ax.set_ylim(top=90000)\n",
    "    plt.style='seaborn-darkgrid'\n",
    "    plt.show()"
   ]
  },
  {
   "cell_type": "code",
   "execution_count": null,
   "id": "ccb7735a-8595-4bbd-9e14-86e615067cfe",
   "metadata": {
    "ExecuteTime": {
     "end_time": "2023-12-15T17:28:44.681519+00:00",
     "start_time": "2023-12-15T17:28:42.899691+00:00"
    },
    "jupyter": {
     "outputs_hidden": false,
     "source_hidden": false
    },
    "noteable": {
     "cell_type": "code",
     "output_collection_id": "6946407a-1763-4e1a-81bc-f4b1c7fe44be"
    }
   },
   "outputs": [],
   "source": [
    "x = df1[(df1.initial_state == 'invitation') & (df1.final_state == 'invitation')]['topic_creation_date']\n",
    "\n",
    "sns.set(style=\"whitegrid\")\n",
    "hst = sns.displot(x=x, bins=30, color='#02A99F', edgecolor='black', linewidth=0.5)\n",
    "hst.fig.set_size_inches(8,5)\n",
    "hst.set(title='Распределение invitation-invitation', xlabel='Год рождения', ylabel='Количество ответов')\n",
    "plt.show()"
   ]
  },
  {
   "cell_type": "code",
   "execution_count": null,
   "id": "3f503bc3-4738-419b-9aa7-1b114ec87eb3",
   "metadata": {
    "ExecuteTime": {
     "end_time": "2023-12-14T18:00:54.469093+00:00",
     "start_time": "2023-12-14T18:00:54.188439+00:00"
    },
    "jupyter": {
     "outputs_hidden": false,
     "source_hidden": false
    },
    "noteable": {
     "cell_type": "code",
     "output_collection_id": "724fe132-74a2-4df4-823f-7302c500574f"
    }
   },
   "outputs": [],
   "source": [
    "len(df1[(df1.initial_state == 'response') & (df1.final_state == 'response')])"
   ]
  },
  {
   "cell_type": "code",
   "execution_count": null,
   "id": "0eb7e7b0-eaf5-49de-b6b5-18bbd35cccea",
   "metadata": {
    "ExecuteTime": {
     "end_time": "2023-12-14T18:01:22.373715+00:00",
     "start_time": "2023-12-14T18:01:22.135369+00:00"
    },
    "jupyter": {
     "outputs_hidden": false,
     "source_hidden": false
    },
    "noteable": {
     "cell_type": "code",
     "output_collection_id": "60f5a4de-a1dc-42a0-a53a-75050ca3842c"
    }
   },
   "outputs": [],
   "source": [
    "len(df1[(df1.initial_state == 'response') & (df1.final_state == 'invitation')])"
   ]
  },
  {
   "cell_type": "code",
   "execution_count": null,
   "id": "9804aac6-57d9-4fcf-bd30-80a277b6cff8",
   "metadata": {
    "ExecuteTime": {
     "end_time": "2023-12-14T18:01:44.083568+00:00",
     "start_time": "2023-12-14T18:01:43.853685+00:00"
    },
    "jupyter": {
     "outputs_hidden": false,
     "source_hidden": false
    },
    "noteable": {
     "cell_type": "code",
     "output_collection_id": "aa4b9a13-9119-40ac-a10c-969f769804d6"
    }
   },
   "outputs": [],
   "source": [
    "len(df1[(df1.initial_state == 'response') & (df1.final_state == 'discard')])"
   ]
  },
  {
   "cell_type": "code",
   "execution_count": null,
   "id": "19936e45-f043-4727-ba5e-f14be530e9a0",
   "metadata": {
    "ExecuteTime": {
     "end_time": "2023-12-14T18:02:15.828309+00:00",
     "start_time": "2023-12-14T18:02:15.625686+00:00"
    },
    "jupyter": {
     "outputs_hidden": false,
     "source_hidden": false
    },
    "noteable": {
     "cell_type": "code",
     "output_collection_id": "51ae7024-d706-46bf-804e-404b602745f6"
    }
   },
   "outputs": [],
   "source": [
    "len(df1[(df1.initial_state == 'invitation') & (df1.final_state == 'response')])"
   ]
  },
  {
   "cell_type": "code",
   "execution_count": null,
   "id": "6f8d2900-a527-426f-a699-2d883f61b4d9",
   "metadata": {
    "ExecuteTime": {
     "end_time": "2023-12-14T18:02:41.534653+00:00",
     "start_time": "2023-12-14T18:02:41.306157+00:00"
    },
    "jupyter": {
     "outputs_hidden": false,
     "source_hidden": false
    },
    "noteable": {
     "cell_type": "code",
     "output_collection_id": "bb0217d2-31cf-460c-86ce-7821e150c30d"
    }
   },
   "outputs": [],
   "source": [
    "len(df1[(df1.initial_state == 'invitation') & (df1.final_state == 'invitation')])"
   ]
  },
  {
   "cell_type": "code",
   "execution_count": null,
   "id": "fb9d3fda-1a30-4a51-a48b-721476aa004f",
   "metadata": {
    "ExecuteTime": {
     "end_time": "2023-12-14T18:04:01.820344+00:00",
     "start_time": "2023-12-14T18:04:01.611498+00:00"
    },
    "datalink": {
     "2ffaa2fe-d1f3-4166-a9b3-fb8861d8dc7a": {
      "applied_filters": [],
      "dataframe_info": {
       "default_index_used": true,
       "orig_num_cols": 2,
       "orig_num_rows": 846,
       "orig_size_bytes": 20304,
       "truncated_num_cols": 2,
       "truncated_num_rows": 846,
       "truncated_size_bytes": 20304,
       "truncated_string_columns": []
      },
      "display_id": "2ffaa2fe-d1f3-4166-a9b3-fb8861d8dc7a",
      "dx_settings": {
       "ALLOW_NOTEABLE_ATTRS": true,
       "COLUMN_SAMPLING_METHOD": "outer",
       "DB_LOCATION": ":memory:",
       "DEV_MODE": false,
       "DISPLAY_MAX_COLUMNS": 100,
       "DISPLAY_MAX_ROWS": 50000,
       "DISPLAY_MODE": "simple",
       "ENABLE_ASSIGNMENT": true,
       "ENABLE_DATALINK": true,
       "FLATTEN_COLUMN_VALUES": true,
       "FLATTEN_INDEX_VALUES": false,
       "GENERATE_DEX_METADATA": false,
       "HTML_TABLE_SCHEMA": false,
       "LOG_LEVEL": 30,
       "MAX_RENDER_SIZE_BYTES": 104857600,
       "MAX_STRING_LENGTH": 250,
       "NUM_PAST_SAMPLES_TRACKED": 3,
       "RANDOM_STATE": 12648430,
       "RESET_INDEX_VALUES": false,
       "ROW_SAMPLING_METHOD": "random",
       "SAMPLING_FACTOR": 0.1,
       "SAMPLING_METHOD": "random",
       "STRINGIFY_COLUMN_VALUES": true,
       "STRINGIFY_INDEX_VALUES": false
      },
      "sample_history": [],
      "sampling_time": "2023-12-14T18:03:47.481820",
      "user_variable_name": null,
      "variable_name": "unk_dataframe_72db222c3c2549e291363b9f6ace2e4f"
     }
    },
    "jupyter": {
     "outputs_hidden": false,
     "source_hidden": false
    },
    "noteable": {
     "cell_type": "code",
     "output_collection_id": "b5cb4b0b-6178-4729-b46a-118bc50d0c41"
    }
   },
   "outputs": [],
   "source": [
    "len(df1[(df1.initial_state == 'invitation') & (df1.final_state == 'discard')])"
   ]
  },
  {
   "cell_type": "code",
   "execution_count": null,
   "id": "ade98099-6532-4f82-bf17-713cb785a021",
   "metadata": {
    "ExecuteTime": {
     "end_time": "2023-12-14T18:05:25.213283+00:00",
     "start_time": "2023-12-14T18:05:25.011711+00:00"
    },
    "jupyter": {
     "outputs_hidden": false,
     "source_hidden": false
    },
    "noteable": {
     "cell_type": "code",
     "output_collection_id": "84a477eb-00ec-4c4b-851c-11412a301d1e"
    }
   },
   "outputs": [],
   "source": [
    "len(df1[(df1.initial_state == 'discard') & (df1.final_state == 'response')])"
   ]
  },
  {
   "cell_type": "code",
   "execution_count": null,
   "id": "41ae7d9d-2152-4547-adcc-5885cb75e54d",
   "metadata": {
    "ExecuteTime": {
     "end_time": "2023-12-14T18:05:43.685135+00:00",
     "start_time": "2023-12-14T18:05:43.485022+00:00"
    },
    "jupyter": {
     "outputs_hidden": false,
     "source_hidden": false
    },
    "noteable": {
     "cell_type": "code",
     "output_collection_id": "a57b664e-9456-4518-b9a6-db36a36ce23e"
    }
   },
   "outputs": [],
   "source": [
    "len(df1[(df1.initial_state == 'discard') & (df1.final_state == 'invitation')])"
   ]
  },
  {
   "cell_type": "code",
   "execution_count": null,
   "id": "5e9e746a-8ce0-4be6-9eff-11f09404382e",
   "metadata": {
    "ExecuteTime": {
     "end_time": "2023-12-14T18:05:58.081275+00:00",
     "start_time": "2023-12-14T18:05:57.881891+00:00"
    },
    "jupyter": {
     "outputs_hidden": false,
     "source_hidden": false
    },
    "noteable": {
     "cell_type": "code",
     "output_collection_id": "2da9e5c2-6077-482b-83c6-1e537ba4aea3"
    }
   },
   "outputs": [],
   "source": [
    "len(df1[(df1.initial_state == 'discard') & (df1.final_state == 'discard')])"
   ]
  },
  {
   "cell_type": "code",
   "execution_count": null,
   "id": "7eded396-e304-4949-bcc1-568056f6a8e9",
   "metadata": {
    "ExecuteTime": {
     "end_time": "2023-12-14T18:06:57.736494+00:00",
     "start_time": "2023-12-14T18:06:57.543388+00:00"
    },
    "jupyter": {
     "outputs_hidden": false,
     "source_hidden": false
    },
    "noteable": {
     "cell_type": "code",
     "output_collection_id": "c1589859-71c9-4bbb-b829-d917a81d9b50"
    }
   },
   "outputs": [],
   "source": [
    "len(df1[(df1.initial_state.isna()) & (df1.final_state == 'discard')])"
   ]
  },
  {
   "cell_type": "code",
   "execution_count": null,
   "id": "d77301cf-25b1-4cb4-9b9a-9647fb4e5b6f",
   "metadata": {
    "ExecuteTime": {
     "end_time": "2023-12-14T18:07:52.540036+00:00",
     "start_time": "2023-12-14T18:07:52.347111+00:00"
    },
    "jupyter": {
     "outputs_hidden": false,
     "source_hidden": false
    },
    "noteable": {
     "cell_type": "code",
     "output_collection_id": "186a259f-0816-434e-8515-2b85aca28ed3"
    }
   },
   "outputs": [],
   "source": [
    "len(df1[(df1.initial_state == 'response') & (df1.final_state.isna())])"
   ]
  },
  {
   "cell_type": "code",
   "execution_count": null,
   "id": "feeef10f-93ef-4076-8378-5d6de2aef8ec",
   "metadata": {
    "ExecuteTime": {
     "end_time": "2023-12-14T18:08:09.846744+00:00",
     "start_time": "2023-12-14T18:08:09.645924+00:00"
    },
    "jupyter": {
     "outputs_hidden": false,
     "source_hidden": false
    },
    "noteable": {
     "cell_type": "code",
     "output_collection_id": "a2ed0eb4-dfb1-4202-a431-6ca902d03038"
    }
   },
   "outputs": [],
   "source": [
    "len(df1[(df1.initial_state == 'invitation') & (df1.final_state.isna())])"
   ]
  },
  {
   "cell_type": "code",
   "execution_count": null,
   "id": "6bceb048-1792-4988-9302-0c6ec8198810",
   "metadata": {
    "ExecuteTime": {
     "end_time": "2023-12-14T18:08:24.309835+00:00",
     "start_time": "2023-12-14T18:08:24.111479+00:00"
    },
    "jupyter": {
     "outputs_hidden": false,
     "source_hidden": false
    },
    "noteable": {
     "cell_type": "code",
     "output_collection_id": "68ad76ef-c1a7-404b-a824-4510db339549"
    }
   },
   "outputs": [],
   "source": [
    "len(df1[(df1.initial_state == 'discard') & (df1.final_state.isna())])"
   ]
  },
  {
   "cell_type": "code",
   "execution_count": null,
   "id": "750f1d86-883c-4e0f-b1d4-6adf5bbcf0a0",
   "metadata": {
    "ExecuteTime": {
     "end_time": "2023-12-14T18:08:41.438418+00:00",
     "start_time": "2023-12-14T18:08:41.249138+00:00"
    },
    "jupyter": {
     "outputs_hidden": false,
     "source_hidden": false
    },
    "noteable": {
     "cell_type": "code",
     "output_collection_id": "5ba3875e-760c-4cf4-8102-6d6a4e2d11dc"
    }
   },
   "outputs": [],
   "source": [
    "len(df1[(df1.initial_state.isna()) & (df1.final_state.isna())])"
   ]
  }
 ],
 "metadata": {
  "kernel_info": {
   "name": "python3"
  },
  "kernelspec": {
   "display_name": "Python 3 (ipykernel)",
   "language": "python",
   "name": "python3"
  },
  "language_info": {
   "codemirror_mode": {
    "name": "ipython",
    "version": 3
   },
   "file_extension": ".py",
   "mimetype": "text/x-python",
   "name": "python",
   "nbconvert_exporter": "python",
   "pygments_lexer": "ipython3",
   "version": "3.11.5"
  },
  "selected_hardware_size": "small"
 },
 "nbformat": 4,
 "nbformat_minor": 5
}
