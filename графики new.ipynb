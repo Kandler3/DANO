{
  "nbformat": 4,
  "nbformat_minor": 5,
  "metadata": {
    "kernel_info": {
      "name": "python3"
    },
    "kernelspec": {
      "display_name": "Python 3.9",
      "identifier": "legacy",
      "language": "python",
      "language_version": "3.9",
      "name": "python3"
    },
    "selected_hardware_size": "small"
  },
  "cells": [
    {
      "id": "66c6de7b-043d-4f16-9c90-5069e9301ed6",
      "cell_type": "code",
      "metadata": {
        "jupyter": {
          "outputs_hidden": false,
          "source_hidden": false
        },
        "noteable": {
          "cell_type": "code",
          "output_collection_id": "b299c76a-aa55-4f14-8777-0ade250574af"
        },
        "ExecuteTime": {
          "end_time": "2023-12-12T17:13:13.654191+00:00",
          "start_time": "2023-12-12T17:13:12.040598+00:00"
        }
      },
      "execution_count": null,
      "source": "%ntbl pull datasets \"hh_ru/hhru_skills_list_coef.xlsx\"",
      "outputs": []
    },
    {
      "id": "4a2cad0d-57ce-4451-a503-c6a516ae7373",
      "cell_type": "code",
      "metadata": {
        "jupyter": {
          "outputs_hidden": false,
          "source_hidden": false
        },
        "noteable": {
          "cell_type": "code",
          "output_collection_id": "17416e48-34ee-4c1e-9575-e9eeb559aecd"
        },
        "ExecuteTime": {
          "end_time": "2023-12-12T17:13:15.859224+00:00",
          "start_time": "2023-12-12T17:13:15.237886+00:00"
        }
      },
      "execution_count": null,
      "source": "import pandas as pd\nimport matplotlib.pyplot as plt\nimport matplotlib.colors as mcolors\nimport seaborn as sns",
      "outputs": []
    },
    {
      "id": "9ee0bc37-2ba4-46c8-9404-79c415d55895",
      "cell_type": "code",
      "metadata": {
        "jupyter": {
          "outputs_hidden": false,
          "source_hidden": false
        },
        "noteable": {
          "cell_type": "code",
          "output_collection_id": "b369a62f-251e-4515-88da-d0e9af260ab1"
        },
        "ExecuteTime": {
          "end_time": "2023-12-12T17:14:12.921558+00:00",
          "start_time": "2023-12-12T17:13:17.162384+00:00"
        }
      },
      "execution_count": null,
      "source": "df = pd.read_excel('../datasets/hh_ru/hhru_skills_list_coef.xlsx')",
      "outputs": []
    },
    {
      "id": "6c75609e-44fd-4951-bc76-99e41ff276f0",
      "cell_type": "code",
      "metadata": {
        "jupyter": {
          "outputs_hidden": false,
          "source_hidden": false
        },
        "noteable": {
          "cell_type": "code",
          "output_collection_id": "98cb61db-17c1-4861-82f8-f7bca4629608"
        },
        "ExecuteTime": {
          "end_time": "2023-12-10T19:47:11.687033+00:00",
          "start_time": "2023-12-10T19:46:40.183109+00:00"
        },
        "scrolled": false
      },
      "execution_count": null,
      "source": "b_color = '#5A3D30'\ng_color = '#2E8B57'\nwith plt.matplotlib.rc_context({'legend.labelcolor': b_color, \n                                'axes.labelcolor': b_color,\n                                'axes.edgecolor': b_color,\n                                'xtick.labelcolor': b_color,\n                                'ytick.labelcolor': b_color}):\n    sns.pairplot(df[['year_of_birth', 'expected_salary', 'work_experience_months',\n                     'compensation_from', 'compensation_to', 'education_level', 'gender',\n                     'final_state']],\n                 plot_kws={'c': g_color}, diag_kws={'color': g_color})\n",
      "outputs": []
    },
    {
      "id": "b46de7c5-0f39-4c4b-9feb-494e63890ee3",
      "cell_type": "code",
      "metadata": {
        "jupyter": {
          "outputs_hidden": false,
          "source_hidden": false
        },
        "noteable": {
          "cell_type": "code",
          "output_collection_id": "8ab7c378-3ec3-4af0-b616-d9aaa6ac55be"
        },
        "ExecuteTime": {
          "end_time": "2023-12-12T17:14:20.129636+00:00",
          "start_time": "2023-12-12T17:14:19.605970+00:00"
        }
      },
      "execution_count": null,
      "source": "df.info()",
      "outputs": []
    },
    {
      "id": "0f31db3f-9259-4c58-a591-d563069d74ed",
      "cell_type": "code",
      "metadata": {
        "jupyter": {
          "outputs_hidden": false,
          "source_hidden": false
        },
        "noteable": {
          "cell_type": "code",
          "output_collection_id": "96ae45f3-294c-4fd9-a4b3-5d125ff8750d"
        },
        "ExecuteTime": {
          "end_time": "2023-12-12T17:14:34.592397+00:00",
          "start_time": "2023-12-12T17:14:33.878442+00:00"
        }
      },
      "execution_count": null,
      "source": "b_color = '#5A3D30'\ng_color = '#2E8B57'\nwith plt.matplotlib.rc_context({'legend.labelcolor': b_color, \n                                'axes.labelcolor': b_color,\n                                'axes.edgecolor': b_color,\n                                'xtick.labelcolor': b_color,\n                                'ytick.labelcolor': b_color}):\n    sns.set(font_scale=1.15)\n    plt.figure(figsize=(8,4))\n    cor = df[['year_of_birth', 'expected_salary', 'work_experience_months', 'compensation_from', 'compensation_to', 'education_level', 'gender', 'final_state', 'skills_list_coef']].corr()\n    ax = sns.heatmap(cor, annot=True, vmin=-1, vmax=1, center=0, cmap='coolwarm')\n    ax.set_xticklabels(ax.get_xticklabels(), rotation=90, ha='left')",
      "outputs": []
    },
    {
      "id": "49a03857-6767-4e1f-9e65-31216ca5356c",
      "cell_type": "code",
      "metadata": {
        "jupyter": {
          "outputs_hidden": false,
          "source_hidden": false
        },
        "noteable": {
          "cell_type": "code",
          "output_collection_id": "3ddbf87d-180a-4061-8389-2d9dbed82c00"
        },
        "ExecuteTime": {
          "end_time": "2023-12-10T20:41:28.445155+00:00",
          "start_time": "2023-12-10T20:41:28.290507+00:00"
        }
      },
      "execution_count": null,
      "source": "b_color = '#5A3D30'\ng_color = '#2E8B57'\neducation_dict = {'secondary': 0, 'special_secondary': 1, 'unfinished_higher': 2,\n                'bachelor': 3, 'master': 4, 'higher': 5, 'candidate': 6, 'doctor': 7}\ncolor_dict = {'full': g_color, 'part': b_color}",
      "outputs": []
    },
    {
      "id": "8042c3f3-9da2-4495-ae8d-1e5542b450a0",
      "cell_type": "code",
      "metadata": {
        "jupyter": {
          "outputs_hidden": false,
          "source_hidden": false
        },
        "noteable": {
          "cell_type": "code",
          "output_collection_id": "b0670b0b-f916-4a53-87db-e397c70a0866"
        },
        "ExecuteTime": {
          "end_time": "2023-12-10T20:41:30.974076+00:00",
          "start_time": "2023-12-10T20:41:30.373555+00:00"
        }
      },
      "execution_count": null,
      "source": "with plt.matplotlib.rc_context({'legend.labelcolor': b_color, \n                                'axes.labelcolor': b_color,\n                                'axes.edgecolor': b_color,\n                                'xtick.labelcolor': b_color,\n                                'ytick.labelcolor': b_color}):\n    x = pd.Series(range(8))\n    width = 1/6\n    mult = 0\n    fig, ax = plt.subplots(layout='constrained')\n    for resume_employment_type in ('full', 'part'):\n        offset = width * mult\n        rects = ax.bar(x + offset,\n                       [len(df[(df['education_level'] == ed_level) & \n                               (df['resume_employment_type'] == resume_employment_type)])\n                        for ed_level in range(8)],\n                       width,\n                       label=resume_employment_type, color=color_dict[resume_employment_type])\n        mult += 1\n\n    ax.set_ylabel('Количество в категории')\n    ax.set_xlabel('Образование')\n    plt.xticks(rotation=45)\n    ax.set_xticks(x + width, education_dict.keys())\n    ax.legend(loc='upper left', ncols=3)\nplt.show()",
      "outputs": []
    },
    {
      "id": "975f8df6-f871-4aa8-8669-0a0b74a32af6",
      "cell_type": "code",
      "metadata": {
        "jupyter": {
          "outputs_hidden": false,
          "source_hidden": false
        },
        "noteable": {
          "cell_type": "code",
          "output_collection_id": "e6ebe7cc-b793-4c8d-97e9-efc68a3c5a1b"
        },
        "ExecuteTime": {
          "end_time": "2023-12-10T19:26:31.257461+00:00",
          "start_time": "2023-12-10T19:26:31.099514+00:00"
        }
      },
      "execution_count": null,
      "source": "rcParams.keys()",
      "outputs": []
    }
  ]
}